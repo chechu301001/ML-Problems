{
  "cells": [
    {
      "cell_type": "code",
      "execution_count": null,
      "metadata": {
        "id": "HRbWjJxHQVau"
      },
      "outputs": [],
      "source": [
        "import tensorflow.compat.v2.feature_column as fc\n",
        "import tensorflow as tf"
      ]
    },
    {
      "cell_type": "code",
      "execution_count": null,
      "metadata": {
        "id": "5GzSDfbpRUqH",
        "colab": {
          "base_uri": "https://localhost:8080/"
        },
        "outputId": "4a5fcc4e-4d01-4f7e-aac3-705dec37f7a5"
      },
      "outputs": [
        {
          "output_type": "execute_result",
          "data": {
            "text/plain": [
              "<tf.Variable 'Variable:0' shape=() dtype=int32, numpy=355>"
            ]
          },
          "metadata": {},
          "execution_count": 2
        }
      ],
      "source": [
        "tensor1 = tf.Variable(355, tf.int16)\n",
        "tensor1"
      ]
    },
    {
      "cell_type": "code",
      "execution_count": null,
      "metadata": {
        "id": "hatALxWtY57Z",
        "colab": {
          "base_uri": "https://localhost:8080/"
        },
        "outputId": "48b73c9d-4c2b-4dad-db7d-907c41efb0bd"
      },
      "outputs": [
        {
          "output_type": "execute_result",
          "data": {
            "text/plain": [
              "<tf.Variable 'Variable:0' shape=(2, 2) dtype=int32, numpy=\n",
              "array([[1, 1],\n",
              "       [2, 2]], dtype=int32)>"
            ]
          },
          "metadata": {},
          "execution_count": 3
        }
      ],
      "source": [
        "rankt1 = tf.Variable([[1, 1], [2, 2]], tf.int16)\n",
        "rankt1"
      ]
    },
    {
      "cell_type": "code",
      "execution_count": null,
      "metadata": {
        "id": "AcpUiVSsZSCC",
        "colab": {
          "base_uri": "https://localhost:8080/"
        },
        "outputId": "196b7961-57bd-4966-8ea7-673f01256f6e"
      },
      "outputs": [
        {
          "output_type": "execute_result",
          "data": {
            "text/plain": [
              "TensorShape([2, 2])"
            ]
          },
          "metadata": {},
          "execution_count": 4
        }
      ],
      "source": [
        "rankt1.shape"
      ]
    },
    {
      "cell_type": "code",
      "execution_count": null,
      "metadata": {
        "id": "yDbgljUoZncC",
        "colab": {
          "base_uri": "https://localhost:8080/"
        },
        "outputId": "1ee314e4-74bf-4b44-f7e4-66d687d556b9"
      },
      "outputs": [
        {
          "output_type": "execute_result",
          "data": {
            "text/plain": [
              "<tf.Tensor: shape=(1, 2, 3), dtype=float32, numpy=\n",
              "array([[[1., 1., 1.],\n",
              "        [1., 1., 1.]]], dtype=float32)>"
            ]
          },
          "metadata": {},
          "execution_count": 5
        }
      ],
      "source": [
        "tensor2 = tf.ones([1, 2, 3])\n",
        "tensor2"
      ]
    },
    {
      "cell_type": "code",
      "execution_count": null,
      "metadata": {
        "id": "PBdcVe94Z8MJ",
        "colab": {
          "base_uri": "https://localhost:8080/"
        },
        "outputId": "3c4cf08e-feb1-46a6-d39c-17dc33895cb6"
      },
      "outputs": [
        {
          "output_type": "execute_result",
          "data": {
            "text/plain": [
              "<tf.Tensor: shape=(3, 2), dtype=float32, numpy=\n",
              "array([[1., 1.],\n",
              "       [1., 1.],\n",
              "       [1., 1.]], dtype=float32)>"
            ]
          },
          "metadata": {},
          "execution_count": 6
        }
      ],
      "source": [
        "tensor3 = tf.reshape(tensor2, [3, -1])\n",
        "tensor3"
      ]
    },
    {
      "cell_type": "markdown",
      "metadata": {
        "id": "_MaUPEPpaUpf"
      },
      "source": [
        "Tensor is like a vector. Shape and reshape done"
      ]
    },
    {
      "cell_type": "code",
      "execution_count": null,
      "metadata": {
        "id": "yE9_F7o9aME7",
        "colab": {
          "base_uri": "https://localhost:8080/"
        },
        "outputId": "9a5949e9-da60-4aac-9295-64cfb21b23b7"
      },
      "outputs": [
        {
          "output_type": "stream",
          "name": "stdout",
          "text": [
            "  Preparing metadata (setup.py) ... \u001b[?25l\u001b[?25hdone\n",
            "  Building wheel for sklearn (setup.py) ... \u001b[?25l\u001b[?25hdone\n"
          ]
        }
      ],
      "source": [
        "!pip install -q sklearn"
      ]
    },
    {
      "cell_type": "code",
      "execution_count": null,
      "metadata": {
        "id": "bjdLIJEwdL5B"
      },
      "outputs": [],
      "source": [
        "from __future__ import absolute_import, division, print_function, unicode_literals\n",
        "\n",
        "import numpy as np\n",
        "import pandas as pd\n",
        "import matplotlib.pyplot as plt\n",
        "from IPython.display import clear_output\n",
        "from six.moves import urllib"
      ]
    },
    {
      "cell_type": "markdown",
      "metadata": {
        "id": "KJiIZvw_jl3C"
      },
      "source": [
        "DataFrames"
      ]
    },
    {
      "cell_type": "code",
      "execution_count": null,
      "metadata": {
        "id": "GSz2F1RJdVpb",
        "colab": {
          "base_uri": "https://localhost:8080/",
          "height": 206
        },
        "outputId": "dc69a1e3-e6fc-4efd-b6fc-657c2661b599"
      },
      "outputs": [
        {
          "output_type": "execute_result",
          "data": {
            "text/plain": [
              "   survived     sex   age  n_siblings_spouses  parch     fare  class     deck  \\\n",
              "0         0    male  22.0                   1      0   7.2500  Third  unknown   \n",
              "1         1  female  38.0                   1      0  71.2833  First        C   \n",
              "2         1  female  26.0                   0      0   7.9250  Third  unknown   \n",
              "3         1  female  35.0                   1      0  53.1000  First        C   \n",
              "4         0    male  28.0                   0      0   8.4583  Third  unknown   \n",
              "\n",
              "   embark_town alone  \n",
              "0  Southampton     n  \n",
              "1    Cherbourg     n  \n",
              "2  Southampton     y  \n",
              "3  Southampton     n  \n",
              "4   Queenstown     y  "
            ],
            "text/html": [
              "\n",
              "  <div id=\"df-4aaf2508-5391-41cd-9f63-e50466bf3b8f\">\n",
              "    <div class=\"colab-df-container\">\n",
              "      <div>\n",
              "<style scoped>\n",
              "    .dataframe tbody tr th:only-of-type {\n",
              "        vertical-align: middle;\n",
              "    }\n",
              "\n",
              "    .dataframe tbody tr th {\n",
              "        vertical-align: top;\n",
              "    }\n",
              "\n",
              "    .dataframe thead th {\n",
              "        text-align: right;\n",
              "    }\n",
              "</style>\n",
              "<table border=\"1\" class=\"dataframe\">\n",
              "  <thead>\n",
              "    <tr style=\"text-align: right;\">\n",
              "      <th></th>\n",
              "      <th>survived</th>\n",
              "      <th>sex</th>\n",
              "      <th>age</th>\n",
              "      <th>n_siblings_spouses</th>\n",
              "      <th>parch</th>\n",
              "      <th>fare</th>\n",
              "      <th>class</th>\n",
              "      <th>deck</th>\n",
              "      <th>embark_town</th>\n",
              "      <th>alone</th>\n",
              "    </tr>\n",
              "  </thead>\n",
              "  <tbody>\n",
              "    <tr>\n",
              "      <th>0</th>\n",
              "      <td>0</td>\n",
              "      <td>male</td>\n",
              "      <td>22.0</td>\n",
              "      <td>1</td>\n",
              "      <td>0</td>\n",
              "      <td>7.2500</td>\n",
              "      <td>Third</td>\n",
              "      <td>unknown</td>\n",
              "      <td>Southampton</td>\n",
              "      <td>n</td>\n",
              "    </tr>\n",
              "    <tr>\n",
              "      <th>1</th>\n",
              "      <td>1</td>\n",
              "      <td>female</td>\n",
              "      <td>38.0</td>\n",
              "      <td>1</td>\n",
              "      <td>0</td>\n",
              "      <td>71.2833</td>\n",
              "      <td>First</td>\n",
              "      <td>C</td>\n",
              "      <td>Cherbourg</td>\n",
              "      <td>n</td>\n",
              "    </tr>\n",
              "    <tr>\n",
              "      <th>2</th>\n",
              "      <td>1</td>\n",
              "      <td>female</td>\n",
              "      <td>26.0</td>\n",
              "      <td>0</td>\n",
              "      <td>0</td>\n",
              "      <td>7.9250</td>\n",
              "      <td>Third</td>\n",
              "      <td>unknown</td>\n",
              "      <td>Southampton</td>\n",
              "      <td>y</td>\n",
              "    </tr>\n",
              "    <tr>\n",
              "      <th>3</th>\n",
              "      <td>1</td>\n",
              "      <td>female</td>\n",
              "      <td>35.0</td>\n",
              "      <td>1</td>\n",
              "      <td>0</td>\n",
              "      <td>53.1000</td>\n",
              "      <td>First</td>\n",
              "      <td>C</td>\n",
              "      <td>Southampton</td>\n",
              "      <td>n</td>\n",
              "    </tr>\n",
              "    <tr>\n",
              "      <th>4</th>\n",
              "      <td>0</td>\n",
              "      <td>male</td>\n",
              "      <td>28.0</td>\n",
              "      <td>0</td>\n",
              "      <td>0</td>\n",
              "      <td>8.4583</td>\n",
              "      <td>Third</td>\n",
              "      <td>unknown</td>\n",
              "      <td>Queenstown</td>\n",
              "      <td>y</td>\n",
              "    </tr>\n",
              "  </tbody>\n",
              "</table>\n",
              "</div>\n",
              "      <button class=\"colab-df-convert\" onclick=\"convertToInteractive('df-4aaf2508-5391-41cd-9f63-e50466bf3b8f')\"\n",
              "              title=\"Convert this dataframe to an interactive table.\"\n",
              "              style=\"display:none;\">\n",
              "        \n",
              "  <svg xmlns=\"http://www.w3.org/2000/svg\" height=\"24px\"viewBox=\"0 0 24 24\"\n",
              "       width=\"24px\">\n",
              "    <path d=\"M0 0h24v24H0V0z\" fill=\"none\"/>\n",
              "    <path d=\"M18.56 5.44l.94 2.06.94-2.06 2.06-.94-2.06-.94-.94-2.06-.94 2.06-2.06.94zm-11 1L8.5 8.5l.94-2.06 2.06-.94-2.06-.94L8.5 2.5l-.94 2.06-2.06.94zm10 10l.94 2.06.94-2.06 2.06-.94-2.06-.94-.94-2.06-.94 2.06-2.06.94z\"/><path d=\"M17.41 7.96l-1.37-1.37c-.4-.4-.92-.59-1.43-.59-.52 0-1.04.2-1.43.59L10.3 9.45l-7.72 7.72c-.78.78-.78 2.05 0 2.83L4 21.41c.39.39.9.59 1.41.59.51 0 1.02-.2 1.41-.59l7.78-7.78 2.81-2.81c.8-.78.8-2.07 0-2.86zM5.41 20L4 18.59l7.72-7.72 1.47 1.35L5.41 20z\"/>\n",
              "  </svg>\n",
              "      </button>\n",
              "      \n",
              "  <style>\n",
              "    .colab-df-container {\n",
              "      display:flex;\n",
              "      flex-wrap:wrap;\n",
              "      gap: 12px;\n",
              "    }\n",
              "\n",
              "    .colab-df-convert {\n",
              "      background-color: #E8F0FE;\n",
              "      border: none;\n",
              "      border-radius: 50%;\n",
              "      cursor: pointer;\n",
              "      display: none;\n",
              "      fill: #1967D2;\n",
              "      height: 32px;\n",
              "      padding: 0 0 0 0;\n",
              "      width: 32px;\n",
              "    }\n",
              "\n",
              "    .colab-df-convert:hover {\n",
              "      background-color: #E2EBFA;\n",
              "      box-shadow: 0px 1px 2px rgba(60, 64, 67, 0.3), 0px 1px 3px 1px rgba(60, 64, 67, 0.15);\n",
              "      fill: #174EA6;\n",
              "    }\n",
              "\n",
              "    [theme=dark] .colab-df-convert {\n",
              "      background-color: #3B4455;\n",
              "      fill: #D2E3FC;\n",
              "    }\n",
              "\n",
              "    [theme=dark] .colab-df-convert:hover {\n",
              "      background-color: #434B5C;\n",
              "      box-shadow: 0px 1px 3px 1px rgba(0, 0, 0, 0.15);\n",
              "      filter: drop-shadow(0px 1px 2px rgba(0, 0, 0, 0.3));\n",
              "      fill: #FFFFFF;\n",
              "    }\n",
              "  </style>\n",
              "\n",
              "      <script>\n",
              "        const buttonEl =\n",
              "          document.querySelector('#df-4aaf2508-5391-41cd-9f63-e50466bf3b8f button.colab-df-convert');\n",
              "        buttonEl.style.display =\n",
              "          google.colab.kernel.accessAllowed ? 'block' : 'none';\n",
              "\n",
              "        async function convertToInteractive(key) {\n",
              "          const element = document.querySelector('#df-4aaf2508-5391-41cd-9f63-e50466bf3b8f');\n",
              "          const dataTable =\n",
              "            await google.colab.kernel.invokeFunction('convertToInteractive',\n",
              "                                                     [key], {});\n",
              "          if (!dataTable) return;\n",
              "\n",
              "          const docLinkHtml = 'Like what you see? Visit the ' +\n",
              "            '<a target=\"_blank\" href=https://colab.research.google.com/notebooks/data_table.ipynb>data table notebook</a>'\n",
              "            + ' to learn more about interactive tables.';\n",
              "          element.innerHTML = '';\n",
              "          dataTable['output_type'] = 'display_data';\n",
              "          await google.colab.output.renderOutput(dataTable, element);\n",
              "          const docLink = document.createElement('div');\n",
              "          docLink.innerHTML = docLinkHtml;\n",
              "          element.appendChild(docLink);\n",
              "        }\n",
              "      </script>\n",
              "    </div>\n",
              "  </div>\n",
              "  "
            ]
          },
          "metadata": {},
          "execution_count": 9
        }
      ],
      "source": [
        "dftrain = pd.read_csv('https://storage.googleapis.com/tf-datasets/titanic/train.csv')\n",
        "#This is the training dataset\n",
        "\n",
        "dfeval = pd.read_csv('https://storage.googleapis.com/tf-datasets/titanic/eval.csv')\n",
        "#This is the testing dataset\n",
        "dftrain.head()"
      ]
    },
    {
      "cell_type": "code",
      "execution_count": null,
      "metadata": {
        "id": "mFfYyrvHi01o",
        "colab": {
          "base_uri": "https://localhost:8080/",
          "height": 206
        },
        "outputId": "9a21e07b-34ac-4aa1-baaf-7cfbf8b5aabc"
      },
      "outputs": [
        {
          "output_type": "execute_result",
          "data": {
            "text/plain": [
              "   survived     sex   age  n_siblings_spouses  parch     fare   class  \\\n",
              "0         0    male  35.0                   0      0   8.0500   Third   \n",
              "1         0    male  54.0                   0      0  51.8625   First   \n",
              "2         1  female  58.0                   0      0  26.5500   First   \n",
              "3         1  female  55.0                   0      0  16.0000  Second   \n",
              "4         1    male  34.0                   0      0  13.0000  Second   \n",
              "\n",
              "      deck  embark_town alone  \n",
              "0  unknown  Southampton     y  \n",
              "1        E  Southampton     y  \n",
              "2        C  Southampton     y  \n",
              "3  unknown  Southampton     y  \n",
              "4        D  Southampton     y  "
            ],
            "text/html": [
              "\n",
              "  <div id=\"df-d47fcae0-df5a-4cd8-bc6d-cbeef060c687\">\n",
              "    <div class=\"colab-df-container\">\n",
              "      <div>\n",
              "<style scoped>\n",
              "    .dataframe tbody tr th:only-of-type {\n",
              "        vertical-align: middle;\n",
              "    }\n",
              "\n",
              "    .dataframe tbody tr th {\n",
              "        vertical-align: top;\n",
              "    }\n",
              "\n",
              "    .dataframe thead th {\n",
              "        text-align: right;\n",
              "    }\n",
              "</style>\n",
              "<table border=\"1\" class=\"dataframe\">\n",
              "  <thead>\n",
              "    <tr style=\"text-align: right;\">\n",
              "      <th></th>\n",
              "      <th>survived</th>\n",
              "      <th>sex</th>\n",
              "      <th>age</th>\n",
              "      <th>n_siblings_spouses</th>\n",
              "      <th>parch</th>\n",
              "      <th>fare</th>\n",
              "      <th>class</th>\n",
              "      <th>deck</th>\n",
              "      <th>embark_town</th>\n",
              "      <th>alone</th>\n",
              "    </tr>\n",
              "  </thead>\n",
              "  <tbody>\n",
              "    <tr>\n",
              "      <th>0</th>\n",
              "      <td>0</td>\n",
              "      <td>male</td>\n",
              "      <td>35.0</td>\n",
              "      <td>0</td>\n",
              "      <td>0</td>\n",
              "      <td>8.0500</td>\n",
              "      <td>Third</td>\n",
              "      <td>unknown</td>\n",
              "      <td>Southampton</td>\n",
              "      <td>y</td>\n",
              "    </tr>\n",
              "    <tr>\n",
              "      <th>1</th>\n",
              "      <td>0</td>\n",
              "      <td>male</td>\n",
              "      <td>54.0</td>\n",
              "      <td>0</td>\n",
              "      <td>0</td>\n",
              "      <td>51.8625</td>\n",
              "      <td>First</td>\n",
              "      <td>E</td>\n",
              "      <td>Southampton</td>\n",
              "      <td>y</td>\n",
              "    </tr>\n",
              "    <tr>\n",
              "      <th>2</th>\n",
              "      <td>1</td>\n",
              "      <td>female</td>\n",
              "      <td>58.0</td>\n",
              "      <td>0</td>\n",
              "      <td>0</td>\n",
              "      <td>26.5500</td>\n",
              "      <td>First</td>\n",
              "      <td>C</td>\n",
              "      <td>Southampton</td>\n",
              "      <td>y</td>\n",
              "    </tr>\n",
              "    <tr>\n",
              "      <th>3</th>\n",
              "      <td>1</td>\n",
              "      <td>female</td>\n",
              "      <td>55.0</td>\n",
              "      <td>0</td>\n",
              "      <td>0</td>\n",
              "      <td>16.0000</td>\n",
              "      <td>Second</td>\n",
              "      <td>unknown</td>\n",
              "      <td>Southampton</td>\n",
              "      <td>y</td>\n",
              "    </tr>\n",
              "    <tr>\n",
              "      <th>4</th>\n",
              "      <td>1</td>\n",
              "      <td>male</td>\n",
              "      <td>34.0</td>\n",
              "      <td>0</td>\n",
              "      <td>0</td>\n",
              "      <td>13.0000</td>\n",
              "      <td>Second</td>\n",
              "      <td>D</td>\n",
              "      <td>Southampton</td>\n",
              "      <td>y</td>\n",
              "    </tr>\n",
              "  </tbody>\n",
              "</table>\n",
              "</div>\n",
              "      <button class=\"colab-df-convert\" onclick=\"convertToInteractive('df-d47fcae0-df5a-4cd8-bc6d-cbeef060c687')\"\n",
              "              title=\"Convert this dataframe to an interactive table.\"\n",
              "              style=\"display:none;\">\n",
              "        \n",
              "  <svg xmlns=\"http://www.w3.org/2000/svg\" height=\"24px\"viewBox=\"0 0 24 24\"\n",
              "       width=\"24px\">\n",
              "    <path d=\"M0 0h24v24H0V0z\" fill=\"none\"/>\n",
              "    <path d=\"M18.56 5.44l.94 2.06.94-2.06 2.06-.94-2.06-.94-.94-2.06-.94 2.06-2.06.94zm-11 1L8.5 8.5l.94-2.06 2.06-.94-2.06-.94L8.5 2.5l-.94 2.06-2.06.94zm10 10l.94 2.06.94-2.06 2.06-.94-2.06-.94-.94-2.06-.94 2.06-2.06.94z\"/><path d=\"M17.41 7.96l-1.37-1.37c-.4-.4-.92-.59-1.43-.59-.52 0-1.04.2-1.43.59L10.3 9.45l-7.72 7.72c-.78.78-.78 2.05 0 2.83L4 21.41c.39.39.9.59 1.41.59.51 0 1.02-.2 1.41-.59l7.78-7.78 2.81-2.81c.8-.78.8-2.07 0-2.86zM5.41 20L4 18.59l7.72-7.72 1.47 1.35L5.41 20z\"/>\n",
              "  </svg>\n",
              "      </button>\n",
              "      \n",
              "  <style>\n",
              "    .colab-df-container {\n",
              "      display:flex;\n",
              "      flex-wrap:wrap;\n",
              "      gap: 12px;\n",
              "    }\n",
              "\n",
              "    .colab-df-convert {\n",
              "      background-color: #E8F0FE;\n",
              "      border: none;\n",
              "      border-radius: 50%;\n",
              "      cursor: pointer;\n",
              "      display: none;\n",
              "      fill: #1967D2;\n",
              "      height: 32px;\n",
              "      padding: 0 0 0 0;\n",
              "      width: 32px;\n",
              "    }\n",
              "\n",
              "    .colab-df-convert:hover {\n",
              "      background-color: #E2EBFA;\n",
              "      box-shadow: 0px 1px 2px rgba(60, 64, 67, 0.3), 0px 1px 3px 1px rgba(60, 64, 67, 0.15);\n",
              "      fill: #174EA6;\n",
              "    }\n",
              "\n",
              "    [theme=dark] .colab-df-convert {\n",
              "      background-color: #3B4455;\n",
              "      fill: #D2E3FC;\n",
              "    }\n",
              "\n",
              "    [theme=dark] .colab-df-convert:hover {\n",
              "      background-color: #434B5C;\n",
              "      box-shadow: 0px 1px 3px 1px rgba(0, 0, 0, 0.15);\n",
              "      filter: drop-shadow(0px 1px 2px rgba(0, 0, 0, 0.3));\n",
              "      fill: #FFFFFF;\n",
              "    }\n",
              "  </style>\n",
              "\n",
              "      <script>\n",
              "        const buttonEl =\n",
              "          document.querySelector('#df-d47fcae0-df5a-4cd8-bc6d-cbeef060c687 button.colab-df-convert');\n",
              "        buttonEl.style.display =\n",
              "          google.colab.kernel.accessAllowed ? 'block' : 'none';\n",
              "\n",
              "        async function convertToInteractive(key) {\n",
              "          const element = document.querySelector('#df-d47fcae0-df5a-4cd8-bc6d-cbeef060c687');\n",
              "          const dataTable =\n",
              "            await google.colab.kernel.invokeFunction('convertToInteractive',\n",
              "                                                     [key], {});\n",
              "          if (!dataTable) return;\n",
              "\n",
              "          const docLinkHtml = 'Like what you see? Visit the ' +\n",
              "            '<a target=\"_blank\" href=https://colab.research.google.com/notebooks/data_table.ipynb>data table notebook</a>'\n",
              "            + ' to learn more about interactive tables.';\n",
              "          element.innerHTML = '';\n",
              "          dataTable['output_type'] = 'display_data';\n",
              "          await google.colab.output.renderOutput(dataTable, element);\n",
              "          const docLink = document.createElement('div');\n",
              "          docLink.innerHTML = docLinkHtml;\n",
              "          element.appendChild(docLink);\n",
              "        }\n",
              "      </script>\n",
              "    </div>\n",
              "  </div>\n",
              "  "
            ]
          },
          "metadata": {},
          "execution_count": 10
        }
      ],
      "source": [
        "dfeval.head()"
      ]
    },
    {
      "cell_type": "code",
      "execution_count": null,
      "metadata": {
        "id": "8l0W7pUvi5px",
        "colab": {
          "base_uri": "https://localhost:8080/"
        },
        "outputId": "cbcf7b0a-f25b-4398-e586-a3018e061815"
      },
      "outputs": [
        {
          "output_type": "execute_result",
          "data": {
            "text/plain": [
              "0    0\n",
              "1    0\n",
              "2    1\n",
              "3    1\n",
              "4    1\n",
              "Name: survived, dtype: int64"
            ]
          },
          "metadata": {},
          "execution_count": 11
        }
      ],
      "source": [
        "y_train = dftrain.pop('survived')\n",
        "y_eval = dfeval.pop('survived')\n",
        "\n",
        "y_train.head()\n",
        "y_eval.head()"
      ]
    },
    {
      "cell_type": "code",
      "execution_count": null,
      "metadata": {
        "id": "37lcpqRajSqT",
        "colab": {
          "base_uri": "https://localhost:8080/"
        },
        "outputId": "a7e15741-146a-45af-98d2-b706e8051f71"
      },
      "outputs": [
        {
          "output_type": "execute_result",
          "data": {
            "text/plain": [
              "0    22.0\n",
              "1    38.0\n",
              "2    26.0\n",
              "3    35.0\n",
              "4    28.0\n",
              "Name: age, dtype: float64"
            ]
          },
          "metadata": {},
          "execution_count": 12
        }
      ],
      "source": [
        "dftrain['age'].head()"
      ]
    },
    {
      "cell_type": "code",
      "execution_count": null,
      "metadata": {
        "id": "7h0aQxcAlDId",
        "colab": {
          "base_uri": "https://localhost:8080/"
        },
        "outputId": "d347a727-87f5-40b0-a382-a4f63387f5e7"
      },
      "outputs": [
        {
          "output_type": "stream",
          "name": "stdout",
          "text": [
            "sex                          male\n",
            "age                          22.0\n",
            "n_siblings_spouses              1\n",
            "parch                           0\n",
            "fare                         7.25\n",
            "class                       Third\n",
            "deck                      unknown\n",
            "embark_town           Southampton\n",
            "alone                           n\n",
            "Name: 0, dtype: object 0\n"
          ]
        }
      ],
      "source": [
        "print(dftrain.loc[0], y_train.loc[0])"
      ]
    },
    {
      "cell_type": "code",
      "execution_count": null,
      "metadata": {
        "id": "ZgFuh2kElOyI",
        "colab": {
          "base_uri": "https://localhost:8080/"
        },
        "outputId": "85fde5a9-27c9-4b97-ec63-9cabc2e16080"
      },
      "outputs": [
        {
          "output_type": "stream",
          "name": "stdout",
          "text": [
            "sex                          male\n",
            "age                          22.0\n",
            "n_siblings_spouses              1\n",
            "parch                           0\n",
            "fare                         7.25\n",
            "class                       Third\n",
            "deck                      unknown\n",
            "embark_town           Southampton\n",
            "alone                           n\n",
            "Name: 0, dtype: object\n"
          ]
        }
      ],
      "source": [
        "print(dftrain.loc[0])"
      ]
    },
    {
      "cell_type": "code",
      "execution_count": null,
      "metadata": {
        "id": "O9BFCTsQlcqD",
        "colab": {
          "base_uri": "https://localhost:8080/",
          "height": 300
        },
        "outputId": "d30e8ed5-028f-432d-ebf0-0efe1e352374"
      },
      "outputs": [
        {
          "output_type": "execute_result",
          "data": {
            "text/plain": [
              "              age  n_siblings_spouses       parch        fare\n",
              "count  627.000000          627.000000  627.000000  627.000000\n",
              "mean    29.631308            0.545455    0.379585   34.385399\n",
              "std     12.511818            1.151090    0.792999   54.597730\n",
              "min      0.750000            0.000000    0.000000    0.000000\n",
              "25%     23.000000            0.000000    0.000000    7.895800\n",
              "50%     28.000000            0.000000    0.000000   15.045800\n",
              "75%     35.000000            1.000000    0.000000   31.387500\n",
              "max     80.000000            8.000000    5.000000  512.329200"
            ],
            "text/html": [
              "\n",
              "  <div id=\"df-7f5ee9c2-e90b-4c0d-bbc8-de3715720ce5\">\n",
              "    <div class=\"colab-df-container\">\n",
              "      <div>\n",
              "<style scoped>\n",
              "    .dataframe tbody tr th:only-of-type {\n",
              "        vertical-align: middle;\n",
              "    }\n",
              "\n",
              "    .dataframe tbody tr th {\n",
              "        vertical-align: top;\n",
              "    }\n",
              "\n",
              "    .dataframe thead th {\n",
              "        text-align: right;\n",
              "    }\n",
              "</style>\n",
              "<table border=\"1\" class=\"dataframe\">\n",
              "  <thead>\n",
              "    <tr style=\"text-align: right;\">\n",
              "      <th></th>\n",
              "      <th>age</th>\n",
              "      <th>n_siblings_spouses</th>\n",
              "      <th>parch</th>\n",
              "      <th>fare</th>\n",
              "    </tr>\n",
              "  </thead>\n",
              "  <tbody>\n",
              "    <tr>\n",
              "      <th>count</th>\n",
              "      <td>627.000000</td>\n",
              "      <td>627.000000</td>\n",
              "      <td>627.000000</td>\n",
              "      <td>627.000000</td>\n",
              "    </tr>\n",
              "    <tr>\n",
              "      <th>mean</th>\n",
              "      <td>29.631308</td>\n",
              "      <td>0.545455</td>\n",
              "      <td>0.379585</td>\n",
              "      <td>34.385399</td>\n",
              "    </tr>\n",
              "    <tr>\n",
              "      <th>std</th>\n",
              "      <td>12.511818</td>\n",
              "      <td>1.151090</td>\n",
              "      <td>0.792999</td>\n",
              "      <td>54.597730</td>\n",
              "    </tr>\n",
              "    <tr>\n",
              "      <th>min</th>\n",
              "      <td>0.750000</td>\n",
              "      <td>0.000000</td>\n",
              "      <td>0.000000</td>\n",
              "      <td>0.000000</td>\n",
              "    </tr>\n",
              "    <tr>\n",
              "      <th>25%</th>\n",
              "      <td>23.000000</td>\n",
              "      <td>0.000000</td>\n",
              "      <td>0.000000</td>\n",
              "      <td>7.895800</td>\n",
              "    </tr>\n",
              "    <tr>\n",
              "      <th>50%</th>\n",
              "      <td>28.000000</td>\n",
              "      <td>0.000000</td>\n",
              "      <td>0.000000</td>\n",
              "      <td>15.045800</td>\n",
              "    </tr>\n",
              "    <tr>\n",
              "      <th>75%</th>\n",
              "      <td>35.000000</td>\n",
              "      <td>1.000000</td>\n",
              "      <td>0.000000</td>\n",
              "      <td>31.387500</td>\n",
              "    </tr>\n",
              "    <tr>\n",
              "      <th>max</th>\n",
              "      <td>80.000000</td>\n",
              "      <td>8.000000</td>\n",
              "      <td>5.000000</td>\n",
              "      <td>512.329200</td>\n",
              "    </tr>\n",
              "  </tbody>\n",
              "</table>\n",
              "</div>\n",
              "      <button class=\"colab-df-convert\" onclick=\"convertToInteractive('df-7f5ee9c2-e90b-4c0d-bbc8-de3715720ce5')\"\n",
              "              title=\"Convert this dataframe to an interactive table.\"\n",
              "              style=\"display:none;\">\n",
              "        \n",
              "  <svg xmlns=\"http://www.w3.org/2000/svg\" height=\"24px\"viewBox=\"0 0 24 24\"\n",
              "       width=\"24px\">\n",
              "    <path d=\"M0 0h24v24H0V0z\" fill=\"none\"/>\n",
              "    <path d=\"M18.56 5.44l.94 2.06.94-2.06 2.06-.94-2.06-.94-.94-2.06-.94 2.06-2.06.94zm-11 1L8.5 8.5l.94-2.06 2.06-.94-2.06-.94L8.5 2.5l-.94 2.06-2.06.94zm10 10l.94 2.06.94-2.06 2.06-.94-2.06-.94-.94-2.06-.94 2.06-2.06.94z\"/><path d=\"M17.41 7.96l-1.37-1.37c-.4-.4-.92-.59-1.43-.59-.52 0-1.04.2-1.43.59L10.3 9.45l-7.72 7.72c-.78.78-.78 2.05 0 2.83L4 21.41c.39.39.9.59 1.41.59.51 0 1.02-.2 1.41-.59l7.78-7.78 2.81-2.81c.8-.78.8-2.07 0-2.86zM5.41 20L4 18.59l7.72-7.72 1.47 1.35L5.41 20z\"/>\n",
              "  </svg>\n",
              "      </button>\n",
              "      \n",
              "  <style>\n",
              "    .colab-df-container {\n",
              "      display:flex;\n",
              "      flex-wrap:wrap;\n",
              "      gap: 12px;\n",
              "    }\n",
              "\n",
              "    .colab-df-convert {\n",
              "      background-color: #E8F0FE;\n",
              "      border: none;\n",
              "      border-radius: 50%;\n",
              "      cursor: pointer;\n",
              "      display: none;\n",
              "      fill: #1967D2;\n",
              "      height: 32px;\n",
              "      padding: 0 0 0 0;\n",
              "      width: 32px;\n",
              "    }\n",
              "\n",
              "    .colab-df-convert:hover {\n",
              "      background-color: #E2EBFA;\n",
              "      box-shadow: 0px 1px 2px rgba(60, 64, 67, 0.3), 0px 1px 3px 1px rgba(60, 64, 67, 0.15);\n",
              "      fill: #174EA6;\n",
              "    }\n",
              "\n",
              "    [theme=dark] .colab-df-convert {\n",
              "      background-color: #3B4455;\n",
              "      fill: #D2E3FC;\n",
              "    }\n",
              "\n",
              "    [theme=dark] .colab-df-convert:hover {\n",
              "      background-color: #434B5C;\n",
              "      box-shadow: 0px 1px 3px 1px rgba(0, 0, 0, 0.15);\n",
              "      filter: drop-shadow(0px 1px 2px rgba(0, 0, 0, 0.3));\n",
              "      fill: #FFFFFF;\n",
              "    }\n",
              "  </style>\n",
              "\n",
              "      <script>\n",
              "        const buttonEl =\n",
              "          document.querySelector('#df-7f5ee9c2-e90b-4c0d-bbc8-de3715720ce5 button.colab-df-convert');\n",
              "        buttonEl.style.display =\n",
              "          google.colab.kernel.accessAllowed ? 'block' : 'none';\n",
              "\n",
              "        async function convertToInteractive(key) {\n",
              "          const element = document.querySelector('#df-7f5ee9c2-e90b-4c0d-bbc8-de3715720ce5');\n",
              "          const dataTable =\n",
              "            await google.colab.kernel.invokeFunction('convertToInteractive',\n",
              "                                                     [key], {});\n",
              "          if (!dataTable) return;\n",
              "\n",
              "          const docLinkHtml = 'Like what you see? Visit the ' +\n",
              "            '<a target=\"_blank\" href=https://colab.research.google.com/notebooks/data_table.ipynb>data table notebook</a>'\n",
              "            + ' to learn more about interactive tables.';\n",
              "          element.innerHTML = '';\n",
              "          dataTable['output_type'] = 'display_data';\n",
              "          await google.colab.output.renderOutput(dataTable, element);\n",
              "          const docLink = document.createElement('div');\n",
              "          docLink.innerHTML = docLinkHtml;\n",
              "          element.appendChild(docLink);\n",
              "        }\n",
              "      </script>\n",
              "    </div>\n",
              "  </div>\n",
              "  "
            ]
          },
          "metadata": {},
          "execution_count": 15
        }
      ],
      "source": [
        "dftrain.describe()"
      ]
    },
    {
      "cell_type": "code",
      "execution_count": null,
      "metadata": {
        "id": "W1XRjZQJlpRe",
        "colab": {
          "base_uri": "https://localhost:8080/"
        },
        "outputId": "1d951320-f297-48f0-b8c0-16e15d02b9c2"
      },
      "outputs": [
        {
          "output_type": "execute_result",
          "data": {
            "text/plain": [
              "(627, 9)"
            ]
          },
          "metadata": {},
          "execution_count": 16
        }
      ],
      "source": [
        "dftrain.shape"
      ]
    },
    {
      "cell_type": "code",
      "execution_count": null,
      "metadata": {
        "id": "SmbxBpGKl3LF",
        "colab": {
          "base_uri": "https://localhost:8080/",
          "height": 282
        },
        "outputId": "a397bc3b-eb58-45fa-925b-eaf5378d2264"
      },
      "outputs": [
        {
          "output_type": "execute_result",
          "data": {
            "text/plain": [
              "<matplotlib.axes._subplots.AxesSubplot at 0x7f1322601e20>"
            ]
          },
          "metadata": {},
          "execution_count": 17
        },
        {
          "output_type": "display_data",
          "data": {
            "text/plain": [
              "<Figure size 432x288 with 1 Axes>"
            ],
            "image/png": "[encoded data removed]"
          },
          "metadata": {
            "needs_background": "light"
          }
        }
      ],
      "source": [
        "dftrain['age'].hist(bins=20)"
      ]
    },
    {
      "cell_type": "code",
      "execution_count": null,
      "metadata": {
        "id": "jfOdDUgiulvT",
        "colab": {
          "base_uri": "https://localhost:8080/",
          "height": 307
        },
        "outputId": "c932a4a4-d7b4-4085-a471-f1a2629d9f21"
      },
      "outputs": [
        {
          "output_type": "execute_result",
          "data": {
            "text/plain": [
              "Text(0, 0.5, 'Number of Male and female')"
            ]
          },
          "metadata": {},
          "execution_count": 18
        },
        {
          "output_type": "display_data",
          "data": {
            "text/plain": [
              "<Figure size 432x288 with 1 Axes>"
            ],
            "image/png": "[encoded data removed]"
          },
          "metadata": {
            "needs_background": "light"
          }
        }
      ],
      "source": [
        "dftrain['sex'].value_counts().plot(kind='bar').set_ylabel(\"Number of Male and female\")"
      ]
    },
    {
      "cell_type": "code",
      "execution_count": null,
      "metadata": {
        "id": "lF6AaE-6vO6S",
        "colab": {
          "base_uri": "https://localhost:8080/",
          "height": 309
        },
        "outputId": "377b3748-b726-4de7-babb-031a45e1e4b0"
      },
      "outputs": [
        {
          "output_type": "execute_result",
          "data": {
            "text/plain": [
              "<matplotlib.axes._subplots.AxesSubplot at 0x7f1321fcf760>"
            ]
          },
          "metadata": {},
          "execution_count": 19
        },
        {
          "output_type": "display_data",
          "data": {
            "text/plain": [
              "<Figure size 432x288 with 1 Axes>"
            ],
            "image/png": "[encoded data removed]"
          },
          "metadata": {
            "needs_background": "light"
          }
        }
      ],
      "source": [
        "dftrain['class'].value_counts().plot(kind='bar')"
      ]
    },
    {
      "cell_type": "markdown",
      "metadata": {
        "id": "KPvBBY6xxItj"
      },
      "source": [
        "To check percentage of survival between male and female"
      ]
    },
    {
      "cell_type": "code",
      "execution_count": null,
      "metadata": {
        "id": "Iv78inmMw0FG",
        "colab": {
          "base_uri": "https://localhost:8080/",
          "height": 296
        },
        "outputId": "6d1dd7b7-fd00-4d60-b124-f2e3ee4c5fd4"
      },
      "outputs": [
        {
          "output_type": "execute_result",
          "data": {
            "text/plain": [
              "Text(0.5, 0, 'Percentage of Survival')"
            ]
          },
          "metadata": {},
          "execution_count": 20
        },
        {
          "output_type": "display_data",
          "data": {
            "text/plain": [
              "<Figure size 432x288 with 1 Axes>"
            ],
            "image/png": "[encoded data removed]"
          },
          "metadata": {
            "needs_background": "light"
          }
        }
      ],
      "source": [
        "pd.concat([dftrain, y_train], axis=1).groupby('sex').survived.mean().plot(kind='barh').set_xlabel('Percentage of Survival')\n"
      ]
    },
    {
      "cell_type": "code",
      "execution_count": null,
      "metadata": {
        "id": "wUn_noh7xdV7",
        "colab": {
          "base_uri": "https://localhost:8080/"
        },
        "outputId": "051aacc8-efd1-4cf8-ace7-67fae27fd7e6"
      },
      "outputs": [
        {
          "output_type": "execute_result",
          "data": {
            "text/plain": [
              "(264, 9)"
            ]
          },
          "metadata": {},
          "execution_count": 21
        }
      ],
      "source": [
        "dfeval.shape"
      ]
    },
    {
      "cell_type": "markdown",
      "metadata": {
        "id": "27ma3CE0480U"
      },
      "source": [
        "Testing:\n",
        "Divide the data into Categorical and numerical columns\n",
        "Create Feature columns which is the data we feed in "
      ]
    },
    {
      "cell_type": "code",
      "execution_count": null,
      "metadata": {
        "id": "G0zEwh9RzoyW",
        "colab": {
          "base_uri": "https://localhost:8080/"
        },
        "outputId": "8e2fca73-6b54-4507-b960-87f9e9bcf492"
      },
      "outputs": [
        {
          "output_type": "execute_result",
          "data": {
            "text/plain": [
              "['sex',\n",
              " 'age',\n",
              " 'n_siblings_spouses',\n",
              " 'parch',\n",
              " 'fare',\n",
              " 'class',\n",
              " 'deck',\n",
              " 'embark_town',\n",
              " 'alone']"
            ]
          },
          "metadata": {},
          "execution_count": 22
        }
      ],
      "source": [
        "list(dftrain)"
      ]
    },
    {
      "cell_type": "code",
      "execution_count": null,
      "metadata": {
        "id": "aPwmxMp_6fuy"
      },
      "outputs": [],
      "source": [
        "CATEGORICAL_COLUMNS = ['sex',\n",
        " 'n_siblings_spouses',\n",
        " 'parch',\n",
        " 'class',\n",
        " 'deck',\n",
        " 'embark_town',\n",
        " 'alone']"
      ]
    },
    {
      "cell_type": "code",
      "execution_count": null,
      "metadata": {
        "id": "p56z-e0M69j4"
      },
      "outputs": [],
      "source": [
        "NUMERICAL_COLUMNS = ['age', 'fare']"
      ]
    },
    {
      "cell_type": "code",
      "execution_count": null,
      "metadata": {
        "id": "r02VlAqH7D4c",
        "colab": {
          "base_uri": "https://localhost:8080/"
        },
        "outputId": "f81845df-2c4f-45bd-ba66-2aa741340ec0"
      },
      "outputs": [
        {
          "output_type": "stream",
          "name": "stdout",
          "text": [
            "[VocabularyListCategoricalColumn(key='sex', vocabulary_list=('male', 'female'), dtype=tf.string, default_value=-1, num_oov_buckets=0), VocabularyListCategoricalColumn(key='n_siblings_spouses', vocabulary_list=(1, 0, 3, 4, 2, 5, 8), dtype=tf.int64, default_value=-1, num_oov_buckets=0), VocabularyListCategoricalColumn(key='parch', vocabulary_list=(0, 1, 2, 5, 3, 4), dtype=tf.int64, default_value=-1, num_oov_buckets=0), VocabularyListCategoricalColumn(key='class', vocabulary_list=('Third', 'First', 'Second'), dtype=tf.string, default_value=-1, num_oov_buckets=0), VocabularyListCategoricalColumn(key='deck', vocabulary_list=('unknown', 'C', 'G', 'A', 'B', 'D', 'F', 'E'), dtype=tf.string, default_value=-1, num_oov_buckets=0), VocabularyListCategoricalColumn(key='embark_town', vocabulary_list=('Southampton', 'Cherbourg', 'Queenstown', 'unknown'), dtype=tf.string, default_value=-1, num_oov_buckets=0), VocabularyListCategoricalColumn(key='alone', vocabulary_list=('n', 'y'), dtype=tf.string, default_value=-1, num_oov_buckets=0), NumericColumn(key='age', shape=(1,), default_value=None, dtype=tf.float32, normalizer_fn=None), NumericColumn(key='fare', shape=(1,), default_value=None, dtype=tf.float32, normalizer_fn=None)]\n"
          ]
        }
      ],
      "source": [
        "feature_columns = []\n",
        "#iterate through each. Map int values\n",
        "for feature_name in CATEGORICAL_COLUMNS:\n",
        "  vocabulary = dftrain[feature_name].unique() # all unique vals\n",
        "  feature_columns.append(tf.feature_column.categorical_column_with_vocabulary_list(feature_name, vocabulary))\n",
        "\n",
        "for feature_name in NUMERICAL_COLUMNS:\n",
        "  feature_columns.append(tf.feature_column.numeric_column(feature_name, dtype=tf.float32))\n",
        "\n",
        "print(feature_columns)"
      ]
    },
    {
      "cell_type": "markdown",
      "metadata": {
        "id": "BsUAfyzA8_a3"
      },
      "source": [
        "Vocabulary list is the encoded vals"
      ]
    },
    {
      "cell_type": "markdown",
      "metadata": {
        "id": "PUvQa05tJIOR"
      },
      "source": [
        "TRAINING PROCESS. HOW TO FEED DATA"
      ]
    },
    {
      "cell_type": "markdown",
      "metadata": {
        "id": "zf5zA0yYKZom"
      },
      "source": [
        "1.Send data in batches - epochs"
      ]
    },
    {
      "cell_type": "code",
      "execution_count": null,
      "metadata": {
        "id": "1_4qBGNP8Qdl",
        "colab": {
          "base_uri": "https://localhost:8080/"
        },
        "outputId": "dbc24edc-5e07-4b42-a217-8ce892a19fa9"
      },
      "outputs": [
        {
          "output_type": "stream",
          "name": "stdout",
          "text": [
            "Input function that is used to train or evaluate\n"
          ]
        }
      ],
      "source": [
        "print(\"Input function that is used to train or evaluate\")\n",
        "#tf.data.Dataset is req\n",
        "\n",
        "def make_input_fn(data_df, label_df, num_epochs=10, shuffle=True, batch_size=32):\n",
        "  def input_function():  # inner function, this will be returned\n",
        "    ds = tf.data.Dataset.from_tensor_slices((dict(data_df), label_df))  # create DATASET tf.data.Dataset object with data and its label\n",
        "    if shuffle:\n",
        "      ds = ds.shuffle(1000)  # randomize order of data\n",
        "    ds = ds.batch(batch_size).repeat(num_epochs)  # split dataset into batches of 32 and repeat process for number of epochs\n",
        "    return ds  # return a batch of the dataset\n",
        "  return input_function  # return a function object for use\n",
        "\n",
        "train_input_fn = make_input_fn(dftrain, y_train)  # here we will call the input_function that was returned to us to get a dataset object we can feed to the model\n",
        "eval_input_fn = make_input_fn(dfeval, y_eval, num_epochs=1, shuffle=False)\n",
        "\n",
        "   "
      ]
    },
    {
      "cell_type": "markdown",
      "metadata": {
        "id": "EQYuXBfKXnkb"
      },
      "source": [
        "Finally Creating model"
      ]
    },
    {
      "cell_type": "code",
      "execution_count": null,
      "metadata": {
        "id": "xlc54yFOXaV_",
        "colab": {
          "base_uri": "https://localhost:8080/"
        },
        "outputId": "adbfcabd-097c-499d-a682-15d96e953403"
      },
      "outputs": [
        {
          "output_type": "stream",
          "name": "stderr",
          "text": [
            "WARNING:tensorflow:Using temporary folder as model directory: /tmp/tmpwpxiri_y\n"
          ]
        }
      ],
      "source": [
        "#feed in feature column\n",
        "linear_est = tf.estimator.LinearClassifier(feature_columns=feature_columns) "
      ]
    },
    {
      "cell_type": "code",
      "execution_count": null,
      "metadata": {
        "id": "OOSgTS8IX3Yk",
        "colab": {
          "base_uri": "https://localhost:8080/"
        },
        "outputId": "72707e69-67ed-4878-8f51-3f5e5e07b6e5"
      },
      "outputs": [
        {
          "output_type": "stream",
          "name": "stdout",
          "text": [
            "74.62121248245239\n"
          ]
        }
      ],
      "source": [
        "linear_est.train(train_input_fn)  # train\n",
        "result = linear_est.evaluate(eval_input_fn)  # get result\n",
        "\n",
        "clear_output()\n",
        "print(result['accuracy']*100)"
      ]
    },
    {
      "cell_type": "code",
      "execution_count": null,
      "metadata": {
        "id": "FTjozO7ba6ok",
        "colab": {
          "base_uri": "https://localhost:8080/"
        },
        "outputId": "ee7cd0e7-a2bc-48db-f085-a07ec625e036"
      },
      "outputs": [
        {
          "output_type": "stream",
          "name": "stdout",
          "text": [
            "{'accuracy': 0.7462121, 'accuracy_baseline': 0.625, 'auc': 0.82868075, 'auc_precision_recall': 0.7937511, 'average_loss': 0.5000433, 'label/mean': 0.375, 'loss': 0.49507555, 'precision': 0.63559324, 'prediction/mean': 0.4541761, 'recall': 0.75757575, 'global_step': 200}\n"
          ]
        }
      ],
      "source": [
        "print(result)"
      ]
    },
    {
      "cell_type": "markdown",
      "metadata": {
        "id": "hnXKURhTb6B9"
      },
      "source": [
        "The accuracy keeps changing because of the shuffling"
      ]
    },
    {
      "cell_type": "code",
      "execution_count": null,
      "metadata": {
        "id": "FDScsUi0bI-X",
        "colab": {
          "base_uri": "https://localhost:8080/"
        },
        "outputId": "65cc88af-8235-48c6-875e-7fbd142044d7"
      },
      "outputs": [
        {
          "output_type": "execute_result",
          "data": {
            "text/plain": [
              "{'logits': array([-2.0224693], dtype=float32),\n",
              " 'logistic': array([0.11686391], dtype=float32),\n",
              " 'probabilities': array([0.88313603, 0.11686389], dtype=float32),\n",
              " 'class_ids': array([0]),\n",
              " 'classes': array([b'0'], dtype=object),\n",
              " 'all_class_ids': array([0, 1], dtype=int32),\n",
              " 'all_classes': array([b'0', b'1'], dtype=object)}"
            ]
          },
          "metadata": {},
          "execution_count": 30
        }
      ],
      "source": [
        "result = list(linear_est.predict(eval_input_fn))\n",
        "result[0]"
      ]
    },
    {
      "cell_type": "code",
      "execution_count": null,
      "metadata": {
        "id": "Jr3LKOx9cgB-",
        "colab": {
          "base_uri": "https://localhost:8080/"
        },
        "outputId": "7e9d8332-6bd2-4fd9-b9ac-339ff60facc7"
      },
      "outputs": [
        {
          "output_type": "stream",
          "name": "stdout",
          "text": [
            "sex                          male\n",
            "age                          35.0\n",
            "n_siblings_spouses              0\n",
            "parch                           0\n",
            "fare                         8.05\n",
            "class                       Third\n",
            "deck                      unknown\n",
            "embark_town           Southampton\n",
            "alone                           y\n",
            "Name: 0, dtype: object\n",
            "Percentage of surviving is 0.11686389148235321\n",
            "Did he/she survive?\n",
            "0\n"
          ]
        }
      ],
      "source": [
        "\n",
        "pn = result[0]['probabilities'][1] #will not survive\n",
        "print(dfeval.loc[0])\n",
        "print(f\"Percentage of surviving is {pn}\")\n",
        "print(\"Did he/she survive?\")\n",
        "print(y_eval.loc[0])"
      ]
    },
    {
      "cell_type": "markdown",
      "metadata": {
        "id": "XdHI5yYhgmJf"
      },
      "source": [
        "What we just did is a numeric prediction.\n",
        "Next up we predict the classes using classification process. This uses Logistic Regression. Since the label belongs to a particular class."
      ]
    },
    {
      "cell_type": "markdown",
      "metadata": {
        "id": "5XcAYHKHxfLt"
      },
      "source": [
        "New Dataset for flowers\n"
      ]
    },
    {
      "cell_type": "code",
      "execution_count": null,
      "metadata": {
        "id": "RpLAS7OQxTXW"
      },
      "outputs": [],
      "source": [
        "from __future__ import absolute_import, division, print_function, unicode_literals\n",
        "\n",
        "\n",
        "import tensorflow as tf\n",
        "\n",
        "import pandas as pd"
      ]
    },
    {
      "cell_type": "code",
      "execution_count": null,
      "metadata": {
        "id": "utZ7WR3jdHlN"
      },
      "outputs": [],
      "source": [
        "CSV_COLUMN_NAMES = ['SepalLength', 'SepalWidth', 'PetalLength', 'PetalWidth', 'Species']\n",
        "SPECIES = ['Setosa', 'Versicolor', 'Virginica']"
      ]
    },
    {
      "cell_type": "code",
      "execution_count": null,
      "metadata": {
        "id": "kFg8SDe2xLPv",
        "colab": {
          "base_uri": "https://localhost:8080/"
        },
        "outputId": "1727b436-bd8d-4c8f-c2b7-b33e4ea85e2d"
      },
      "outputs": [
        {
          "output_type": "stream",
          "name": "stdout",
          "text": [
            "Downloading data from https://storage.googleapis.com/download.tensorflow.org/data/iris_training.csv\n",
            "2194/2194 [==============================] - 0s 0us/step\n",
            "Downloading data from https://storage.googleapis.com/download.tensorflow.org/data/iris_test.csv\n",
            "573/573 [==============================] - 0s 0us/step\n"
          ]
        }
      ],
      "source": [
        "train_path = tf.keras.utils.get_file(\n",
        "    \"iris_training.csv\", \"https://storage.googleapis.com/download.tensorflow.org/data/iris_training.csv\")\n",
        "test_path = tf.keras.utils.get_file(\n",
        "    \"iris_test.csv\", \"https://storage.googleapis.com/download.tensorflow.org/data/iris_test.csv\")\n",
        "\n",
        "train = pd.read_csv(train_path, names=CSV_COLUMN_NAMES, header=0)\n",
        "test = pd.read_csv(test_path, names=CSV_COLUMN_NAMES, header=0)"
      ]
    },
    {
      "cell_type": "code",
      "execution_count": null,
      "metadata": {
        "id": "fhMHTBr4xQCy",
        "colab": {
          "base_uri": "https://localhost:8080/",
          "height": 206
        },
        "outputId": "5c126297-2a9a-49e4-a799-d8f366eb4b12"
      },
      "outputs": [
        {
          "output_type": "execute_result",
          "data": {
            "text/plain": [
              "   SepalLength  SepalWidth  PetalLength  PetalWidth  Species\n",
              "0          6.4         2.8          5.6         2.2        2\n",
              "1          5.0         2.3          3.3         1.0        1\n",
              "2          4.9         2.5          4.5         1.7        2\n",
              "3          4.9         3.1          1.5         0.1        0\n",
              "4          5.7         3.8          1.7         0.3        0"
            ],
            "text/html": [
              "\n",
              "  <div id=\"df-f2ce3568-b778-4368-84f2-5c219be0cb78\">\n",
              "    <div class=\"colab-df-container\">\n",
              "      <div>\n",
              "<style scoped>\n",
              "    .dataframe tbody tr th:only-of-type {\n",
              "        vertical-align: middle;\n",
              "    }\n",
              "\n",
              "    .dataframe tbody tr th {\n",
              "        vertical-align: top;\n",
              "    }\n",
              "\n",
              "    .dataframe thead th {\n",
              "        text-align: right;\n",
              "    }\n",
              "</style>\n",
              "<table border=\"1\" class=\"dataframe\">\n",
              "  <thead>\n",
              "    <tr style=\"text-align: right;\">\n",
              "      <th></th>\n",
              "      <th>SepalLength</th>\n",
              "      <th>SepalWidth</th>\n",
              "      <th>PetalLength</th>\n",
              "      <th>PetalWidth</th>\n",
              "      <th>Species</th>\n",
              "    </tr>\n",
              "  </thead>\n",
              "  <tbody>\n",
              "    <tr>\n",
              "      <th>0</th>\n",
              "      <td>6.4</td>\n",
              "      <td>2.8</td>\n",
              "      <td>5.6</td>\n",
              "      <td>2.2</td>\n",
              "      <td>2</td>\n",
              "    </tr>\n",
              "    <tr>\n",
              "      <th>1</th>\n",
              "      <td>5.0</td>\n",
              "      <td>2.3</td>\n",
              "      <td>3.3</td>\n",
              "      <td>1.0</td>\n",
              "      <td>1</td>\n",
              "    </tr>\n",
              "    <tr>\n",
              "      <th>2</th>\n",
              "      <td>4.9</td>\n",
              "      <td>2.5</td>\n",
              "      <td>4.5</td>\n",
              "      <td>1.7</td>\n",
              "      <td>2</td>\n",
              "    </tr>\n",
              "    <tr>\n",
              "      <th>3</th>\n",
              "      <td>4.9</td>\n",
              "      <td>3.1</td>\n",
              "      <td>1.5</td>\n",
              "      <td>0.1</td>\n",
              "      <td>0</td>\n",
              "    </tr>\n",
              "    <tr>\n",
              "      <th>4</th>\n",
              "      <td>5.7</td>\n",
              "      <td>3.8</td>\n",
              "      <td>1.7</td>\n",
              "      <td>0.3</td>\n",
              "      <td>0</td>\n",
              "    </tr>\n",
              "  </tbody>\n",
              "</table>\n",
              "</div>\n",
              "      <button class=\"colab-df-convert\" onclick=\"convertToInteractive('df-f2ce3568-b778-4368-84f2-5c219be0cb78')\"\n",
              "              title=\"Convert this dataframe to an interactive table.\"\n",
              "              style=\"display:none;\">\n",
              "        \n",
              "  <svg xmlns=\"http://www.w3.org/2000/svg\" height=\"24px\"viewBox=\"0 0 24 24\"\n",
              "       width=\"24px\">\n",
              "    <path d=\"M0 0h24v24H0V0z\" fill=\"none\"/>\n",
              "    <path d=\"M18.56 5.44l.94 2.06.94-2.06 2.06-.94-2.06-.94-.94-2.06-.94 2.06-2.06.94zm-11 1L8.5 8.5l.94-2.06 2.06-.94-2.06-.94L8.5 2.5l-.94 2.06-2.06.94zm10 10l.94 2.06.94-2.06 2.06-.94-2.06-.94-.94-2.06-.94 2.06-2.06.94z\"/><path d=\"M17.41 7.96l-1.37-1.37c-.4-.4-.92-.59-1.43-.59-.52 0-1.04.2-1.43.59L10.3 9.45l-7.72 7.72c-.78.78-.78 2.05 0 2.83L4 21.41c.39.39.9.59 1.41.59.51 0 1.02-.2 1.41-.59l7.78-7.78 2.81-2.81c.8-.78.8-2.07 0-2.86zM5.41 20L4 18.59l7.72-7.72 1.47 1.35L5.41 20z\"/>\n",
              "  </svg>\n",
              "      </button>\n",
              "      \n",
              "  <style>\n",
              "    .colab-df-container {\n",
              "      display:flex;\n",
              "      flex-wrap:wrap;\n",
              "      gap: 12px;\n",
              "    }\n",
              "\n",
              "    .colab-df-convert {\n",
              "      background-color: #E8F0FE;\n",
              "      border: none;\n",
              "      border-radius: 50%;\n",
              "      cursor: pointer;\n",
              "      display: none;\n",
              "      fill: #1967D2;\n",
              "      height: 32px;\n",
              "      padding: 0 0 0 0;\n",
              "      width: 32px;\n",
              "    }\n",
              "\n",
              "    .colab-df-convert:hover {\n",
              "      background-color: #E2EBFA;\n",
              "      box-shadow: 0px 1px 2px rgba(60, 64, 67, 0.3), 0px 1px 3px 1px rgba(60, 64, 67, 0.15);\n",
              "      fill: #174EA6;\n",
              "    }\n",
              "\n",
              "    [theme=dark] .colab-df-convert {\n",
              "      background-color: #3B4455;\n",
              "      fill: #D2E3FC;\n",
              "    }\n",
              "\n",
              "    [theme=dark] .colab-df-convert:hover {\n",
              "      background-color: #434B5C;\n",
              "      box-shadow: 0px 1px 3px 1px rgba(0, 0, 0, 0.15);\n",
              "      filter: drop-shadow(0px 1px 2px rgba(0, 0, 0, 0.3));\n",
              "      fill: #FFFFFF;\n",
              "    }\n",
              "  </style>\n",
              "\n",
              "      <script>\n",
              "        const buttonEl =\n",
              "          document.querySelector('#df-f2ce3568-b778-4368-84f2-5c219be0cb78 button.colab-df-convert');\n",
              "        buttonEl.style.display =\n",
              "          google.colab.kernel.accessAllowed ? 'block' : 'none';\n",
              "\n",
              "        async function convertToInteractive(key) {\n",
              "          const element = document.querySelector('#df-f2ce3568-b778-4368-84f2-5c219be0cb78');\n",
              "          const dataTable =\n",
              "            await google.colab.kernel.invokeFunction('convertToInteractive',\n",
              "                                                     [key], {});\n",
              "          if (!dataTable) return;\n",
              "\n",
              "          const docLinkHtml = 'Like what you see? Visit the ' +\n",
              "            '<a target=\"_blank\" href=https://colab.research.google.com/notebooks/data_table.ipynb>data table notebook</a>'\n",
              "            + ' to learn more about interactive tables.';\n",
              "          element.innerHTML = '';\n",
              "          dataTable['output_type'] = 'display_data';\n",
              "          await google.colab.output.renderOutput(dataTable, element);\n",
              "          const docLink = document.createElement('div');\n",
              "          docLink.innerHTML = docLinkHtml;\n",
              "          element.appendChild(docLink);\n",
              "        }\n",
              "      </script>\n",
              "    </div>\n",
              "  </div>\n",
              "  "
            ]
          },
          "metadata": {},
          "execution_count": 35
        }
      ],
      "source": [
        "train.head()"
      ]
    },
    {
      "cell_type": "markdown",
      "metadata": {
        "id": "n5FfMGHD1SC5"
      },
      "source": [
        "Species are already encoded here"
      ]
    },
    {
      "cell_type": "code",
      "execution_count": null,
      "metadata": {
        "id": "PTZdbJajxcNV",
        "colab": {
          "base_uri": "https://localhost:8080/",
          "height": 206
        },
        "outputId": "725236c3-045a-4a83-93f2-1e8ca644ac47"
      },
      "outputs": [
        {
          "output_type": "execute_result",
          "data": {
            "text/plain": [
              "   SepalLength  SepalWidth  PetalLength  PetalWidth\n",
              "0          6.4         2.8          5.6         2.2\n",
              "1          5.0         2.3          3.3         1.0\n",
              "2          4.9         2.5          4.5         1.7\n",
              "3          4.9         3.1          1.5         0.1\n",
              "4          5.7         3.8          1.7         0.3"
            ],
            "text/html": [
              "\n",
              "  <div id=\"df-54ba4891-cde4-4fc9-a80d-328853b10143\">\n",
              "    <div class=\"colab-df-container\">\n",
              "      <div>\n",
              "<style scoped>\n",
              "    .dataframe tbody tr th:only-of-type {\n",
              "        vertical-align: middle;\n",
              "    }\n",
              "\n",
              "    .dataframe tbody tr th {\n",
              "        vertical-align: top;\n",
              "    }\n",
              "\n",
              "    .dataframe thead th {\n",
              "        text-align: right;\n",
              "    }\n",
              "</style>\n",
              "<table border=\"1\" class=\"dataframe\">\n",
              "  <thead>\n",
              "    <tr style=\"text-align: right;\">\n",
              "      <th></th>\n",
              "      <th>SepalLength</th>\n",
              "      <th>SepalWidth</th>\n",
              "      <th>PetalLength</th>\n",
              "      <th>PetalWidth</th>\n",
              "    </tr>\n",
              "  </thead>\n",
              "  <tbody>\n",
              "    <tr>\n",
              "      <th>0</th>\n",
              "      <td>6.4</td>\n",
              "      <td>2.8</td>\n",
              "      <td>5.6</td>\n",
              "      <td>2.2</td>\n",
              "    </tr>\n",
              "    <tr>\n",
              "      <th>1</th>\n",
              "      <td>5.0</td>\n",
              "      <td>2.3</td>\n",
              "      <td>3.3</td>\n",
              "      <td>1.0</td>\n",
              "    </tr>\n",
              "    <tr>\n",
              "      <th>2</th>\n",
              "      <td>4.9</td>\n",
              "      <td>2.5</td>\n",
              "      <td>4.5</td>\n",
              "      <td>1.7</td>\n",
              "    </tr>\n",
              "    <tr>\n",
              "      <th>3</th>\n",
              "      <td>4.9</td>\n",
              "      <td>3.1</td>\n",
              "      <td>1.5</td>\n",
              "      <td>0.1</td>\n",
              "    </tr>\n",
              "    <tr>\n",
              "      <th>4</th>\n",
              "      <td>5.7</td>\n",
              "      <td>3.8</td>\n",
              "      <td>1.7</td>\n",
              "      <td>0.3</td>\n",
              "    </tr>\n",
              "  </tbody>\n",
              "</table>\n",
              "</div>\n",
              "      <button class=\"colab-df-convert\" onclick=\"convertToInteractive('df-54ba4891-cde4-4fc9-a80d-328853b10143')\"\n",
              "              title=\"Convert this dataframe to an interactive table.\"\n",
              "              style=\"display:none;\">\n",
              "        \n",
              "  <svg xmlns=\"http://www.w3.org/2000/svg\" height=\"24px\"viewBox=\"0 0 24 24\"\n",
              "       width=\"24px\">\n",
              "    <path d=\"M0 0h24v24H0V0z\" fill=\"none\"/>\n",
              "    <path d=\"M18.56 5.44l.94 2.06.94-2.06 2.06-.94-2.06-.94-.94-2.06-.94 2.06-2.06.94zm-11 1L8.5 8.5l.94-2.06 2.06-.94-2.06-.94L8.5 2.5l-.94 2.06-2.06.94zm10 10l.94 2.06.94-2.06 2.06-.94-2.06-.94-.94-2.06-.94 2.06-2.06.94z\"/><path d=\"M17.41 7.96l-1.37-1.37c-.4-.4-.92-.59-1.43-.59-.52 0-1.04.2-1.43.59L10.3 9.45l-7.72 7.72c-.78.78-.78 2.05 0 2.83L4 21.41c.39.39.9.59 1.41.59.51 0 1.02-.2 1.41-.59l7.78-7.78 2.81-2.81c.8-.78.8-2.07 0-2.86zM5.41 20L4 18.59l7.72-7.72 1.47 1.35L5.41 20z\"/>\n",
              "  </svg>\n",
              "      </button>\n",
              "      \n",
              "  <style>\n",
              "    .colab-df-container {\n",
              "      display:flex;\n",
              "      flex-wrap:wrap;\n",
              "      gap: 12px;\n",
              "    }\n",
              "\n",
              "    .colab-df-convert {\n",
              "      background-color: #E8F0FE;\n",
              "      border: none;\n",
              "      border-radius: 50%;\n",
              "      cursor: pointer;\n",
              "      display: none;\n",
              "      fill: #1967D2;\n",
              "      height: 32px;\n",
              "      padding: 0 0 0 0;\n",
              "      width: 32px;\n",
              "    }\n",
              "\n",
              "    .colab-df-convert:hover {\n",
              "      background-color: #E2EBFA;\n",
              "      box-shadow: 0px 1px 2px rgba(60, 64, 67, 0.3), 0px 1px 3px 1px rgba(60, 64, 67, 0.15);\n",
              "      fill: #174EA6;\n",
              "    }\n",
              "\n",
              "    [theme=dark] .colab-df-convert {\n",
              "      background-color: #3B4455;\n",
              "      fill: #D2E3FC;\n",
              "    }\n",
              "\n",
              "    [theme=dark] .colab-df-convert:hover {\n",
              "      background-color: #434B5C;\n",
              "      box-shadow: 0px 1px 3px 1px rgba(0, 0, 0, 0.15);\n",
              "      filter: drop-shadow(0px 1px 2px rgba(0, 0, 0, 0.3));\n",
              "      fill: #FFFFFF;\n",
              "    }\n",
              "  </style>\n",
              "\n",
              "      <script>\n",
              "        const buttonEl =\n",
              "          document.querySelector('#df-54ba4891-cde4-4fc9-a80d-328853b10143 button.colab-df-convert');\n",
              "        buttonEl.style.display =\n",
              "          google.colab.kernel.accessAllowed ? 'block' : 'none';\n",
              "\n",
              "        async function convertToInteractive(key) {\n",
              "          const element = document.querySelector('#df-54ba4891-cde4-4fc9-a80d-328853b10143');\n",
              "          const dataTable =\n",
              "            await google.colab.kernel.invokeFunction('convertToInteractive',\n",
              "                                                     [key], {});\n",
              "          if (!dataTable) return;\n",
              "\n",
              "          const docLinkHtml = 'Like what you see? Visit the ' +\n",
              "            '<a target=\"_blank\" href=https://colab.research.google.com/notebooks/data_table.ipynb>data table notebook</a>'\n",
              "            + ' to learn more about interactive tables.';\n",
              "          element.innerHTML = '';\n",
              "          dataTable['output_type'] = 'display_data';\n",
              "          await google.colab.output.renderOutput(dataTable, element);\n",
              "          const docLink = document.createElement('div');\n",
              "          docLink.innerHTML = docLinkHtml;\n",
              "          element.appendChild(docLink);\n",
              "        }\n",
              "      </script>\n",
              "    </div>\n",
              "  </div>\n",
              "  "
            ]
          },
          "metadata": {},
          "execution_count": 36
        }
      ],
      "source": [
        "train_y = train.pop('Species')\n",
        "test_y = test.pop('Species')\n",
        "train.head()"
      ]
    },
    {
      "cell_type": "code",
      "execution_count": null,
      "metadata": {
        "id": "dwiP3bya1Emg",
        "colab": {
          "base_uri": "https://localhost:8080/"
        },
        "outputId": "8e678fce-e175-410f-fe0c-40aed8b262de"
      },
      "outputs": [
        {
          "output_type": "execute_result",
          "data": {
            "text/plain": [
              "(120, 4)"
            ]
          },
          "metadata": {},
          "execution_count": 37
        }
      ],
      "source": [
        "train.shape"
      ]
    },
    {
      "cell_type": "markdown",
      "metadata": {
        "id": "Ik9CXOGm1ilp"
      },
      "source": [
        "Input fn"
      ]
    },
    {
      "cell_type": "code",
      "execution_count": null,
      "metadata": {
        "id": "6cdFqUQT1HQP"
      },
      "outputs": [],
      "source": [
        "def input_fn(features, labels, training=True, batch_size=256):\n",
        "    # Convert the inputs to a Dataset.\n",
        "    dataset = tf.data.Dataset.from_tensor_slices((dict(features), labels))\n",
        "\n",
        "    # Shuffle and repeat if you are in training mode.\n",
        "    if training:\n",
        "        dataset = dataset.shuffle(1000).repeat()\n",
        "    \n",
        "    return dataset.batch(batch_size)"
      ]
    },
    {
      "cell_type": "code",
      "execution_count": null,
      "metadata": {
        "id": "WI9ykgY51kZE",
        "colab": {
          "base_uri": "https://localhost:8080/"
        },
        "outputId": "5f147076-3522-4952-c2f4-5deadd0d447b"
      },
      "outputs": [
        {
          "output_type": "stream",
          "name": "stdout",
          "text": [
            "[NumericColumn(key='SepalLength', shape=(1,), default_value=None, dtype=tf.float32, normalizer_fn=None), NumericColumn(key='SepalWidth', shape=(1,), default_value=None, dtype=tf.float32, normalizer_fn=None), NumericColumn(key='PetalLength', shape=(1,), default_value=None, dtype=tf.float32, normalizer_fn=None), NumericColumn(key='PetalWidth', shape=(1,), default_value=None, dtype=tf.float32, normalizer_fn=None)]\n"
          ]
        }
      ],
      "source": [
        "my_feature_columns = []\n",
        "for key in train.keys():\n",
        "    my_feature_columns.append(tf.feature_column.numeric_column(key=key))\n",
        "print(my_feature_columns)"
      ]
    },
    {
      "cell_type": "markdown",
      "metadata": {
        "id": "8h8DUkUz3dCC"
      },
      "source": [
        "Since this is a classification model.\n",
        "DNN or LinearClassifier"
      ]
    },
    {
      "cell_type": "code",
      "execution_count": null,
      "metadata": {
        "id": "fo82r_Li2d0r",
        "colab": {
          "base_uri": "https://localhost:8080/"
        },
        "outputId": "3e5f9f5a-0ede-4fca-d85d-a084cffb1eb6"
      },
      "outputs": [
        {
          "output_type": "stream",
          "name": "stderr",
          "text": [
            "WARNING:tensorflow:Using temporary folder as model directory: /tmp/tmpvau7ywx5\n"
          ]
        }
      ],
      "source": [
        "classifier = tf.estimator.DNNClassifier(\n",
        "    feature_columns=my_feature_columns,\n",
        "    # Two hidden layers of 30 and 10 nodes respectively.\n",
        "    hidden_units=[30, 10],\n",
        "    # The model must choose between 3 classes.\n",
        "    n_classes=3)"
      ]
    },
    {
      "cell_type": "code",
      "execution_count": null,
      "metadata": {
        "id": "hW2vW1924eGc",
        "colab": {
          "base_uri": "https://localhost:8080/"
        },
        "outputId": "4a17da25-3b13-4f1f-d0b5-a45ee695cbeb"
      },
      "outputs": [
        {
          "output_type": "execute_result",
          "data": {
            "text/plain": [
              "<tensorflow_estimator.python.estimator.canned.dnn.DNNClassifierV2 at 0x7f131f5d8610>"
            ]
          },
          "metadata": {},
          "execution_count": 41
        }
      ],
      "source": [
        "classifier.train(\n",
        "    #lambda is a one line function\n",
        "    input_fn=lambda: input_fn(train, train_y, training=True),\n",
        "    steps=5000) #steps instead of epochs\n",
        "# We include a lambda to avoid creating an inner function previously"
      ]
    },
    {
      "cell_type": "code",
      "execution_count": null,
      "metadata": {
        "id": "yy0H74Rb4fXI",
        "colab": {
          "base_uri": "https://localhost:8080/"
        },
        "outputId": "247c6ac9-13ad-4611-cc6e-38128bc02844"
      },
      "outputs": [
        {
          "output_type": "execute_result",
          "data": {
            "text/plain": [
              "{'accuracy': 0.53333336,\n",
              " 'average_loss': 0.6622735,\n",
              " 'loss': 0.6622735,\n",
              " 'global_step': 5000}"
            ]
          },
          "metadata": {},
          "execution_count": 42
        }
      ],
      "source": [
        "classifier.evaluate(input_fn=lambda: input_fn(test, test_y, training=False))"
      ]
    },
    {
      "cell_type": "markdown",
      "metadata": {
        "id": "xNvFoOzBqJoC"
      },
      "source": [
        "Script for any flower detail"
      ]
    },
    {
      "cell_type": "code",
      "execution_count": null,
      "metadata": {
        "colab": {
          "base_uri": "https://localhost:8080/"
        },
        "id": "RKQx3F5LpP2z",
        "outputId": "b85dae75-3928-4f7f-d0d6-ebbe44a69a48"
      },
      "outputs": [
        {
          "output_type": "stream",
          "name": "stdout",
          "text": [
            "Please type numeric values as prompted.\n",
            "SepalLength: 5.2\n",
            "SepalWidth: 6.3\n",
            "PetalLength: 2.6\n",
            "PetalWidth: 5.8\n",
            "Prediction is \"Setosa\" (79.3%)\n"
          ]
        }
      ],
      "source": [
        "def input_fn(features, batch_size=256):\n",
        "    # Convert the inputs to a Dataset without labels.\n",
        "    return tf.data.Dataset.from_tensor_slices(dict(features)).batch(batch_size)\n",
        "\n",
        "features = ['SepalLength', 'SepalWidth', 'PetalLength', 'PetalWidth']\n",
        "predict = {}\n",
        "\n",
        "print(\"Please type numeric values as prompted.\")\n",
        "for feature in features:\n",
        "  valid = True\n",
        "  while valid: \n",
        "    val = input(feature + \": \")\n",
        "    if not val.isdigit(): valid = False\n",
        "\n",
        "  predict[feature] = [float(val)]\n",
        "\n",
        "predictions = classifier.predict(input_fn=lambda: input_fn(predict))\n",
        "for pred_dict in predictions:\n",
        "    class_id = pred_dict['class_ids'][0]\n",
        "    probability = pred_dict['probabilities'][class_id]\n",
        "\n",
        "    print('Prediction is \"{}\" ({:.1f}%)'.format(\n",
        "        SPECIES[class_id], 100 * probability))\n"
      ]
    },
    {
      "cell_type": "code",
      "execution_count": null,
      "metadata": {
        "id": "8s5dAX5murJh"
      },
      "outputs": [],
      "source": []
    },
    {
      "cell_type": "markdown",
      "metadata": {
        "id": "U2jb4aGBvgrT"
      },
      "source": [
        "Clustering"
      ]
    },
    {
      "cell_type": "markdown",
      "metadata": {
        "id": "h9-Xg3amxugg"
      },
      "source": [
        "points closest to centroid and move centroid to COM position\n"
      ]
    },
    {
      "cell_type": "markdown",
      "metadata": {
        "id": "R5Z2tioayBvo"
      },
      "source": [
        "Assign points to the clusters"
      ]
    },
    {
      "cell_type": "markdown",
      "metadata": {
        "id": "urhFqYcFydTK"
      },
      "source": [
        "Hidden Markov Model uses probabilistic method. So it uses probability distribution."
      ]
    },
    {
      "cell_type": "markdown",
      "metadata": {
        "id": "AK-FdLx2zuIJ"
      },
      "source": [
        "Example is weather prediction. We use states in this model. Transition Probabilty between states and the observation probabilties"
      ]
    },
    {
      "cell_type": "code",
      "execution_count": null,
      "metadata": {
        "id": "rauagRAeviAo"
      },
      "outputs": [],
      "source": [
        "import tensorflow_probability as tfp"
      ]
    },
    {
      "cell_type": "markdown",
      "metadata": {
        "id": "Ywr8r6Sr06q7"
      },
      "source": [
        "Weather Model"
      ]
    },
    {
      "cell_type": "code",
      "execution_count": null,
      "metadata": {
        "id": "usKcELlS01N7"
      },
      "outputs": [],
      "source": [
        "tfd = tfp.distributions\n",
        "#first day condition\n",
        "initial_distribution = tfd.Categorical(probs=[0.8, 0.2]) #cold P and hot P\n",
        "transition_distribution = tfd.Categorical(probs=[[0.7, 0.3], [0.6, 0.4]])  # refer to points 3 and 4 above\n",
        "observation_distribution = tfd.Normal(loc=[0., 15.], scale=[5., 10.]) #Normally distributed observations with mean and std dev"
      ]
    },
    {
      "cell_type": "code",
      "execution_count": null,
      "metadata": {
        "id": "6W7xML96173O"
      },
      "outputs": [],
      "source": [
        "#Create Model\n",
        "\n",
        "model = tfd.HiddenMarkovModel(initial_distribution=initial_distribution, transition_distribution=transition_distribution, observation_distribution=observation_distribution, num_steps=7)"
      ]
    },
    {
      "cell_type": "code",
      "execution_count": null,
      "metadata": {
        "id": "48aNXF9P3b8j",
        "colab": {
          "base_uri": "https://localhost:8080/"
        },
        "outputId": "1a1ee315-77bd-46c8-da03-4d2d2aed56cb"
      },
      "outputs": [
        {
          "output_type": "stream",
          "name": "stdout",
          "text": [
            "[3.        4.7999997 4.98      4.998     4.9997993 4.9999795 4.9999976]\n"
          ]
        }
      ],
      "source": [
        "mean = model.mean()\n",
        "#this is in partial tensor form. So we must convert to get the actual values in terms of numpy. Session\n",
        "with tf.compat.v1.Session() as sess:  \n",
        "  print(mean.numpy())\n",
        "\n",
        "#first day, second, third ...."
      ]
    },
    {
      "cell_type": "markdown",
      "source": [
        "Neural Network : Input and Output neurons. Used for predicting class. Each neuron prediction addes up to 1. So similar to probability distribution."
      ],
      "metadata": {
        "id": "lkjCFtvKZw7u"
      }
    },
    {
      "cell_type": "markdown",
      "source": [
        "Layered Approach. Hidden layer. Layers are connected through weights!! So that is graph!!!"
      ],
      "metadata": {
        "id": "IMJbPuA1apuL"
      }
    },
    {
      "cell_type": "markdown",
      "source": [
        "Dense NN means when every node is connected to parent node."
      ],
      "metadata": {
        "id": "X_BAKNe3a2hc"
      }
    },
    {
      "cell_type": "markdown",
      "source": [
        "Bias: It is like an extra node that we add and connect it to the hidden neuros layer. This is not fed with input. We send constant values to the hidden layer so that we can perform fucntions. The weight is typically 1 when bias is connected to any other node"
      ],
      "metadata": {
        "id": "nAI2W3KfbMGU"
      }
    },
    {
      "cell_type": "markdown",
      "source": [
        "Activation functions: for classification purposes. Output based on functions. Rectified Linear Unit, TanH and Sigmoid."
      ],
      "metadata": {
        "id": "Aypo2pwcBpU0"
      }
    },
    {
      "cell_type": "markdown",
      "source": [
        "N1 = F(Sigma Wi.Xi + bias)"
      ],
      "metadata": {
        "id": "CZqY9wgvClzR"
      }
    },
    {
      "cell_type": "markdown",
      "source": [
        "Loss Function : Says how far away we are from the expected value of the NN."
      ],
      "metadata": {
        "id": "g5BRKmC0Dl7L"
      }
    },
    {
      "cell_type": "markdown",
      "source": [
        "Functions are: Mean squared error, Mean absolute error and Hinge loss"
      ],
      "metadata": {
        "id": "mjXbs6UzD3uR"
      }
    },
    {
      "cell_type": "markdown",
      "source": [
        "![ML2.JPG](data:image/jpeg;base64,/9j/4AAQSkZJRgABAQEAkACQAAD/4RDcRXhpZgAATU0AKgAAAAgABAE7AAIAAAAGAAAISodpAAQAAAABAAAIUJydAAEAAAAMAAAQyOocAAcAAAgMAAAAPgAAAAAc6gAAAAgAAAAAAAAAAAAAAAAAAAAAAAAAAAAAAAAAAAAAAAAAAAAAAAAAAAAAAAAAAAAAAAAAAAAAAAAAAAAAAAAAAAAAAAAAAAAAAAAAAAAAAAAAAAAAAAAAAAAAAAAAAAAAAAAAAAAAAAAAAAAAAAAAAAAAAAAAAAAAAAAAAAAAAAAAAAAAAAAAAAAAAAAAAAAAAAAAAAAAAAAAAAAAAAAAAAAAAAAAAAAAAAAAAAAAAAAAAAAAAAAAAAAAAAAAAAAAAAAAAAAAAAAAAAAAAAAAAAAAAAAAAAAAAAAAAAAAAAAAAAAAAAAAAAAAAAAAAAAAAAAAAAAAAAAAAAAAAAAAAAAAAAAAAAAAAAAAAAAAAAAAAAAAAAAAAAAAAAAAAAAAAAAAAAAAAAAAAAAAAAAAAAAAAAAAAAAAAAAAAAAAAAAAAAAAAAAAAAAAAAAAAAAAAAAAAAAAAAAAAAAAAAAAAAAAAAAAAAAAAAAAAAAAAAAAAAAAAAAAAAAAAAAAAAAAAAAAAAAAAAAAAAAAAAAAAAAAAAAAAAAAAAAAAAAAAAAAAAAAAAAAAAAAAAAAAAAAAAAAAAAAAAAAAAAAAAAAAAAAAAAAAAAAAAAAAAAAAAAAAAAAAAAAAAAAAAAAAAAAAAAAAAAAAAAAAAAAAAAAAAAAAAAAAAAAAAAAAAAAAAAAAAAAAAAAAAAAAAAAAAAAAAAAAAAAAAAAAAAAAAAAAAAAAAAAAAAAAAAAAAAAAAAAAAAAAAAAAAAAAAAAAAAAAAAAAAAAAAAAAAAAAAAAAAAAAAAAAAAAAAAAAAAAAAAAAAAAAAAAAAAAAAAAAAAAAAAAAAAAAAAAAAAAAAAAAAAAAAAAAAAAAAAAAAAAAAAAAAAAAAAAAAAAAAAAAAAAAAAAAAAAAAAAAAAAAAAAAAAAAAAAAAAAAAAAAAAAAAAAAAAAAAAAAAAAAAAAAAAAAAAAAAAAAAAAAAAAAAAAAAAAAAAAAAAAAAAAAAAAAAAAAAAAAAAAAAAAAAAAAAAAAAAAAAAAAAAAAAAAAAAAAAAAAAAAAAAAAAAAAAAAAAAAAAAAAAAAAAAAAAAAAAAAAAAAAAAAAAAAAAAAAAAAAAAAAAAAAAAAAAAAAAAAAAAAAAAAAAAAAAAAAAAAAAAAAAAAAAAAAAAAAAAAAAAAAAAAAAAAAAAAAAAAAAAAAAAAAAAAAAAAAAAAAAAAAAAAAAAAAAAAAAAAAAAAAAAAAAAAAAAAAAAAAAAAAAAAAAAAAAAAAAAAAAAAAAAAAAAAAAAAAAAAAAAAAAAAAAAAAAAAAAAAAAAAAAAAAAAAAAAAAAAAAAAAAAAAAAAAAAAAAAAAAAAAAAAAAAAAAAAAAAAAAAAAAAAAAAAAAAAAAAAAAAAAAAAAAAAAAAAAAAAAAAAAAAAAAAAAAAAAAAAAAAAAAAAAAAAAAAAAAAAAAAAAAAAAAAAAAAAAAAAAAAAAAAAAAAAAAAAAAAAAAAAAAAAAAAAAAAAAAAAAAAAAAAAAAAAAAAAAAAAAAAAAAAAAAAAAAAAAAAAAAAAAAAAAAAAAAAAAAAAAAAAAAAAAAAAAAAAAAAAAAAAAAAAAAAAAAAAAAAAAAAAAAAAAAAAAAAAAAAAAAAAAAAAAAAAAAAAAAAAAAAAAAAAAAAAAAAAAAAAAAAAAAAAAAAAAAAAAAAAAAAAAAAAAAAAAAAAAAAAAAAAAAAAAAAAAAAAAAAAAAAAAAAAAAAAAAAAAAAAAAAAAAAAAAAAAAAAAAAAAAAAAAAAAAAAAAAAAAAAAAAAAAAAAAAAAAAAAAAAAAAAAAAAAAAAAAAAAAAAAAAAAAAAAAAAAAAAAAAAAAAAAAAAAAAAAAAAAAAAAAAAAAAAAAAAAAAAAAAAAAAAAAAAAAAAAAAAAAAAAAAAAAAAAAAAAAAAAAAAAAAAAAAAAAAAAAAAAAAAAAAAAAAAAAAAAAAAAAAAAAAAAAAAAAAAAAAAAAAAAAAAAAAAAAAAAAAAAAAAAAAAAAAAAAAAAAAAAAAAAAAAAAAAAAAAAAAAAAAAAAAAAAAAAAAAAAAAAAAAAAAAAAAAAAAAAAAAAAAAAAAAAAAAAAAAAAAAAAAAAAAAAAAAAAAAAAAAAAAAAAAAAAAAAAAAAAAAAAAAAAAAAAAAAAAAAAAAAAAAAAAAAAAAAAAAAAAAAAAAAAAAAAAAAAAAAAAAAAAAAAAAAAAAAAAAAAAAAAAAAAAAAAAAAAAAAAAAAAAAAAAAAAAAAAAAAAAAAAAAAAAAAAAAAAAAAAAAAAAAAAAAAAAAAAAAAAAAAAAAAAAAAAAAAAAAAAAAAAAAAAAAAAAAAAAAAAAAAAAAAAAAAAAAAAAAAAAAAAAAAAAAAAAAAAAAAAAAAAAAAAAAAAAAAAAAAAAAAAAAAAAAAAAAAAAAAAAAAAAAAAAAAAAAAAAAAAAAAAAAAAAAAAAAAAAAAAAAAAAAAAAAAAAAAAAAAAAAAAAAAAAAAAAAAAAAAAAAAAAAAAAAAAAAAAAAAAAAAAAAAAAAAAAAAAAAAAAAAAAAAAAAAAAAAAAAAAAAAAAAAAAAAAAAAAAAAAAAAAAAAAAAAAAAAAAAAAAAAAAAAAAAAAAAAAAAAAAAAAAAAAAAAAAAAAAAAAAAAAAAAAAAAAAAAAAAAAAAAAAAAAAAAAAAAAAAAAAAAAAAAAAAAAAAAAAAAAAAAAAAAAAAAAAAAAAAAAAAAAAAAAAAAAAAAAAAAAGFkbWluAAAFkAMAAgAAABQAABCekAQAAgAAABQAABCykpEAAgAAAAM4MAAAkpIAAgAAAAM4MAAA6hwABwAACAwAAAiSAAAAABzqAAAACAAAAAAAAAAAAAAAAAAAAAAAAAAAAAAAAAAAAAAAAAAAAAAAAAAAAAAAAAAAAAAAAAAAAAAAAAAAAAAAAAAAAAAAAAAAAAAAAAAAAAAAAAAAAAAAAAAAAAAAAAAAAAAAAAAAAAAAAAAAAAAAAAAAAAAAAAAAAAAAAAAAAAAAAAAAAAAAAAAAAAAAAAAAAAAAAAAAAAAAAAAAAAAAAAAAAAAAAAAAAAAAAAAAAAAAAAAAAAAAAAAAAAAAAAAAAAAAAAAAAAAAAAAAAAAAAAAAAAAAAAAAAAAAAAAAAAAAAAAAAAAAAAAAAAAAAAAAAAAAAAAAAAAAAAAAAAAAAAAAAAAAAAAAAAAAAAAAAAAAAAAAAAAAAAAAAAAAAAAAAAAAAAAAAAAAAAAAAAAAAAAAAAAAAAAAAAAAAAAAAAAAAAAAAAAAAAAAAAAAAAAAAAAAAAAAAAAAAAAAAAAAAAAAAAAAAAAAAAAAAAAAAAAAAAAAAAAAAAAAAAAAAAAAAAAAAAAAAAAAAAAAAAAAAAAAAAAAAAAAAAAAAAAAAAAAAAAAAAAAAAAAAAAAAAAAAAAAAAAAAAAAAAAAAAAAAAAAAAAAAAAAAAAAAAAAAAAAAAAAAAAAAAAAAAAAAAAAAAAAAAAAAAAAAAAAAAAAAAAAAAAAAAAAAAAAAAAAAAAAAAAAAAAAAAAAAAAAAAAAAAAAAAAAAAAAAAAAAAAAAAAAAAAAAAAAAAAAAAAAAAAAAAAAAAAAAAAAAAAAAAAAAAAAAAAAAAAAAAAAAAAAAAAAAAAAAAAAAAAAAAAAAAAAAAAAAAAAAAAAAAAAAAAAAAAAAAAAAAAAAAAAAAAAAAAAAAAAAAAAAAAAAAAAAAAAAAAAAAAAAAAAAAAAAAAAAAAAAAAAAAAAAAAAAAAAAAAAAAAAAAAAAAAAAAAAAAAAAAAAAAAAAAAAAAAAAAAAAAAAAAAAAAAAAAAAAAAAAAAAAAAAAAAAAAAAAAAAAAAAAAAAAAAAAAAAAAAAAAAAAAAAAAAAAAAAAAAAAAAAAAAAAAAAAAAAAAAAAAAAAAAAAAAAAAAAAAAAAAAAAAAAAAAAAAAAAAAAAAAAAAAAAAAAAAAAAAAAAAAAAAAAAAAAAAAAAAAAAAAAAAAAAAAAAAAAAAAAAAAAAAAAAAAAAAAAAAAAAAAAAAAAAAAAAAAAAAAAAAAAAAAAAAAAAAAAAAAAAAAAAAAAAAAAAAAAAAAAAAAAAAAAAAAAAAAAAAAAAAAAAAAAAAAAAAAAAAAAAAAAAAAAAAAAAAAAAAAAAAAAAAAAAAAAAAAAAAAAAAAAAAAAAAAAAAAAAAAAAAAAAAAAAAAAAAAAAAAAAAAAAAAAAAAAAAAAAAAAAAAAAAAAAAAAAAAAAAAAAAAAAAAAAAAAAAAAAAAAAAAAAAAAAAAAAAAAAAAAAAAAAAAAAAAAAAAAAAAAAAAAAAAAAAAAAAAAAAAAAAAAAAAAAAAAAAAAAAAAAAAAAAAAAAAAAAAAAAAAAAAAAAAAAAAAAAAAAAAAAAAAAAAAAAAAAAAAAAAAAAAAAAAAAAAAAAAAAAAAAAAAAAAAAAAAAAAAAAAAAAAAAAAAAAAAAAAAAAAAAAAAAAAAAAAAAAAAAAAAAAAAAAAAAAAAAAAAAAAAAAAAAAAAAAAAAAAAAAAAAAAAAAAAAAAAAAAAAAAAAAAAAAAAAAAAAAAAAAAAAAAAAAAAAAAAAAAAAAAAAAAAAAAAAAAAAAAAAAAAAAAAAAAAAAAAAAAAAAAAAAAAAAAAAAAAAAAAAAAAAAAAAAAAAAAAAAAAAAAAAAAAAAAAAAAAAAAAAAAAAAAAAAAAAAAAAAAAAAAAAAAAAAAAAAAAAAAAAAAAAAAAAAAAAAAAAAAAAAAAAAAAAAAAAAAAAAAAAAAAAAAAAAAAAAAAAAAAAAAAAAAAAAAAAAAAAAAAAAAAAAAAAAAAAAAAAAAAAAAAAAAAAAAAAAAAAAAAAAAAAAAAAAAAAAAAAAAAAAAAAAAAAAAAAAAAAAAAAAAAAAAAAAAAAAAAAAAAAAAAAAAAAAAAAAAAAAAAAAAAAAAAAAAAAAAAAAAAAAAAAAAAAAAAAAAAAAAAAAAAAAAAAAAAAAAAAAAAAAAAAAAAAAAAAAAAAAAAAAAAAAAAAAAAAAAAAAAAAAAAAAAAAAAAAAAAAAAAAAAAAAAAAAAAAAAAAAAAAAAAAAAAAAAAAAAAAAAAAAAAAAAAAAAAAAAAAAAAAAAAAAAAAAAAAAAAAAAAAAAAAAAAAAAAAAAAAAAAAAAAAAAAAAAAAAAAAAAAAAAAAAAAAAAAAAAAAAAAAAAAAAAAAAAAAAAAAAAAAAAAAAAAAAAAAAAAAAAAAAAAAAAAAAAAAAAAAAAAAAAAAAAAAAAAAAAAAAAAAAAAAAAAAAAAAAAAAAAAAAAAAAAAAAAAAAAAAAAAAAAAAAAAAAAAAAAAAAAAAAAAAAAAAAAAAAAAAAAAAAAAAAAAAAAAAAAAAAAAAAAAAAAAAAAAAAAAAAAAAAAAAAAAAAAAAAAAAAAAAAAAAAAAAAAAAAAAAAAAAAAAAAAAAAAAAAAAAAAAAAAAAAAAAAAAAAAAAAAAAAAAAAAAAAAAAAAAAAAAAAAAAAAAAAAAAAAAAAAAAAAAAAAAAAAAAAAAAAAAAAAAAAAAAAAAAAAAAAAAAAAAAAAAAAAAAAAAAAAAAAAAAAAAAAAAAAAAAAAAAAAAAAAAMjAyMzowMjoxNCAxODo0Nzo0OAAyMDIzOjAyOjE0IDE4OjQ3OjQ4AAAAYQBkAG0AaQBuAAAA/+ELGGh0dHA6Ly9ucy5hZG9iZS5jb20veGFwLzEuMC8APD94cGFja2V0IGJlZ2luPSfvu78nIGlkPSdXNU0wTXBDZWhpSHpyZVN6TlRjemtjOWQnPz4NCjx4OnhtcG1ldGEgeG1sbnM6eD0iYWRvYmU6bnM6bWV0YS8iPjxyZGY6UkRGIHhtbG5zOnJkZj0iaHR0cDovL3d3dy53My5vcmcvMTk5OS8wMi8yMi1yZGYtc3ludGF4LW5zIyI+PHJkZjpEZXNjcmlwdGlvbiByZGY6YWJvdXQ9InV1aWQ6ZmFmNWJkZDUtYmEzZC0xMWRhLWFkMzEtZDMzZDc1MTgyZjFiIiB4bWxuczpkYz0iaHR0cDovL3B1cmwub3JnL2RjL2VsZW1lbnRzLzEuMS8iLz48cmRmOkRlc2NyaXB0aW9uIHJkZjphYm91dD0idXVpZDpmYWY1YmRkNS1iYTNkLTExZGEtYWQzMS1kMzNkNzUxODJmMWIiIHhtbG5zOnhtcD0iaHR0cDovL25zLmFkb2JlLmNvbS94YXAvMS4wLyI+PHhtcDpDcmVhdGVEYXRlPjIwMjMtMDItMTRUMTg6NDc6NDguODAwPC94bXA6Q3JlYXRlRGF0ZT48L3JkZjpEZXNjcmlwdGlvbj48cmRmOkRlc2NyaXB0aW9uIHJkZjphYm91dD0idXVpZDpmYWY1YmRkNS1iYTNkLTExZGEtYWQzMS1kMzNkNzUxODJmMWIiIHhtbG5zOmRjPSJodHRwOi8vcHVybC5vcmcvZGMvZWxlbWVudHMvMS4xLyI+PGRjOmNyZWF0b3I+PHJkZjpTZXEgeG1sbnM6cmRmPSJodHRwOi8vd3d3LnczLm9yZy8xOTk5LzAyLzIyLXJkZi1zeW50YXgtbnMjIj48cmRmOmxpPmFkbWluPC9yZGY6bGk+PC9yZGY6U2VxPg0KCQkJPC9kYzpjcmVhdG9yPjwvcmRmOkRlc2NyaXB0aW9uPjwvcmRmOlJERj48L3g6eG1wbWV0YT4NCiAgICAgICAgICAgICAgICAgICAgICAgICAgICAgICAgICAgICAgICAgICAgICAgICAgICAgICAgICAgICAgICAgICAgICAgICAgICAgICAgICAgICAgICAgICAgICAgICAgICAKICAgICAgICAgICAgICAgICAgICAgICAgICAgICAgICAgICAgICAgICAgICAgICAgICAgICAgICAgICAgICAgICAgICAgICAgICAgICAgICAgICAgICAgICAgICAgICAgICAgIAogICAgICAgICAgICAgICAgICAgICAgICAgICAgICAgICAgICAgICAgICAgICAgICAgICAgICAgICAgICAgICAgICAgICAgICAgICAgICAgICAgICAgICAgICAgICAgICAgICAgCiAgICAgICAgICAgICAgICAgICAgICAgICAgICAgICAgICAgICAgICAgICAgICAgICAgICAgICAgICAgICAgICAgICAgICAgICAgICAgICAgICAgICAgICAgICAgICAgICAgICAKICAgICAgICAgICAgICAgICAgICAgICAgICAgICAgICAgICAgICAgICAgICAgICAgICAgICAgICAgICAgICAgICAgICAgICAgICAgICAgICAgICAgICAgICAgICAgICAgICAgIAogICAgICAgICAgICAgICAgICAgICAgICAgICAgICAgICAgICAgICAgICAgICAgICAgICAgICAgICAgICAgICAgICAgICAgICAgICAgICAgICAgICAgICAgICAgICAgICAgICAgCiAgICAgICAgICAgICAgICAgICAgICAgICAgICAgICAgICAgICAgICAgICAgICAgICAgICAgICAgICAgICAgICAgICAgICAgICAgICAgICAgICAgICAgICAgICAgICAgICAgICAKICAgICAgICAgICAgICAgICAgICAgICAgICAgICAgICAgICAgICAgICAgICAgICAgICAgICAgICAgICAgICAgICAgICAgICAgICAgICAgICAgICAgICAgICAgICAgICAgICAgIAogICAgICAgICAgICAgICAgICAgICAgICAgICAgICAgICAgICAgICAgICAgICAgICAgICAgICAgICAgICAgICAgICAgICAgICAgICAgICAgICAgICAgICAgICAgICAgICAgICAgCiAgICAgICAgICAgICAgICAgICAgICAgICAgICAgICAgICAgICAgICAgICAgICAgICAgICAgICAgICAgICAgICAgICAgICAgICAgICAgICAgICAgICAgICAgICAgICAgICAgICAKICAgICAgICAgICAgICAgICAgICAgICAgICAgICAgICAgICAgICAgICAgICAgICAgICAgICAgICAgICAgICAgICAgICAgICAgICAgICAgICAgICAgICAgICAgICAgICAgICAgIAogICAgICAgICAgICAgICAgICAgICAgICAgICAgICAgICAgICAgICAgICAgICAgICAgICAgICAgICAgICAgICAgICAgICAgICAgICAgICAgICAgICAgICAgICAgICAgICAgICAgCiAgICAgICAgICAgICAgICAgICAgICAgICAgICAgICAgICAgICAgICAgICAgICAgICAgICAgICAgICAgICAgICAgICAgICAgICAgICAgICAgICAgICAgICAgICAgICAgICAgICAKICAgICAgICAgICAgICAgICAgICAgICAgICAgICAgICAgICAgICAgICAgICAgICAgICAgICAgICAgICAgICAgICAgICAgICAgICAgICAgICAgICAgICAgICAgICAgICAgICAgIAogICAgICAgICAgICAgICAgICAgICAgICAgICAgICAgICAgICAgICAgICAgICAgICAgICAgICAgICAgICAgICAgICAgICAgICAgICAgICAgICAgICAgICAgICAgICAgICAgICAgCiAgICAgICAgICAgICAgICAgICAgICAgICAgICAgICAgICAgICAgICAgICAgICAgICAgICAgICAgICAgICAgICAgICAgICAgICAgICAgICAgICAgICAgICAgICAgICAgICAgICAKICAgICAgICAgICAgICAgICAgICAgICAgICAgICAgICAgICAgICAgICAgICAgICAgICAgICAgICAgICAgICAgICAgICAgICAgICAgICAgICAgICAgICAgICAgICAgICAgICAgIAogICAgICAgICAgICAgICAgICAgICAgICAgICAgICAgICAgICAgICAgICAgICAgICAgICAgICAgICAgICAgICAgICAgICAgICAgICAgICAgICAgICAgICAgICAgICAgICAgICAgCiAgICAgICAgICAgICAgICAgICAgICAgICAgICAgICAgICAgICAgICAgICAgICAgICAgICAgICAgICAgICAgICAgICAgICAgICAgICAgICAgICAgICAgICAgICAgICAgICAgICAKICAgICAgICAgICAgICAgICAgICAgICAgICAgICAgICAgICAgICAgICAgICAgICAgICAgICAgICAgICAgICAgICAgICAgICAgICAgICAgICAgICAgICAgICAgICAgICAgICAgIAogICAgICAgICAgICAgICAgICAgICAgICAgICAgPD94cGFja2V0IGVuZD0ndyc/Pv/bAEMABwUFBgUEBwYFBggHBwgKEQsKCQkKFQ8QDBEYFRoZGBUYFxseJyEbHSUdFxgiLiIlKCkrLCsaIC8zLyoyJyorKv/bAEMBBwgICgkKFAsLFCocGBwqKioqKioqKioqKioqKioqKioqKioqKioqKioqKioqKioqKioqKioqKioqKioqKioqKv/AABEIAlcEUgMBIgACEQEDEQH/xAAfAAABBQEBAQEBAQAAAAAAAAAAAQIDBAUGBwgJCgv/xAC1EAACAQMDAgQDBQUEBAAAAX0BAgMABBEFEiExQQYTUWEHInEUMoGRoQgjQrHBFVLR8CQzYnKCCQoWFxgZGiUmJygpKjQ1Njc4OTpDREVGR0hJSlNUVVZXWFlaY2RlZmdoaWpzdHV2d3h5eoOEhYaHiImKkpOUlZaXmJmaoqOkpaanqKmqsrO0tba3uLm6wsPExcbHyMnK0tPU1dbX2Nna4eLj5OXm5+jp6vHy8/T19vf4+fr/xAAfAQADAQEBAQEBAQEBAAAAAAAAAQIDBAUGBwgJCgv/xAC1EQACAQIEBAMEBwUEBAABAncAAQIDEQQFITEGEkFRB2FxEyIygQgUQpGhscEJIzNS8BVictEKFiQ04SXxFxgZGiYnKCkqNTY3ODk6Q0RFRkdISUpTVFVWV1hZWmNkZWZnaGlqc3R1dnd4eXqCg4SFhoeIiYqSk5SVlpeYmZqio6Slpqeoqaqys7S1tre4ubrCw8TFxsfIycrS09TV1tfY2dri4+Tl5ufo6ery8/T19vf4+fr/2gAMAwEAAhEDEQA/APafBVnbP4E0Rmt4mJsoiSUHPyit0WNp/wA+sP8A37FZXgcf8UFon/XjF/6CK3sUAV/sNp/z7Q/9+xSGwtf+faH/AL9irOKMUAVfsFr/AM+0P/fsUfYLX/n2h/79irWKMUAVvsNr/wA+0P8A37FH2G1/59of+/YqzijFAFX7Ba/8+0P/AH7FH2C1/wCfaH/v2KtYoxQBW+w2v/PtD/37FH2G1/59of8Av2Ks4oxQBWNha/8APtD/AN+xSfYLX/n2h/79irWKMUAVhYWv/PtD/wB+xR9htf8An2h/79irOKMUAVvsNr/z7Q/9+xSfYLX/AJ9of+/Yq1ijFAFX7Ba/8+0P/fsUv2G1/wCfaH/v2Ks4oxQBW+w2v/PtD/37FJ9gtf8An2h/79irWKMUAVfsFr/z7Q/9+xSixtf+faH/AL9irOKMUAVvsNr/AM+0P/fsUGxtf+faH/v2Ks4oxQBV+wWv/PtD/wB+xR9gtf8An2h/79irWKMUAVvsNr/z7Q/9+xR9htf+faH/AL9irOKMUAVfsFr/AM+0P/fsUfYLX/n2h/79irWKMUAVhY2v/PtD/wB+xR9htf8An2h/79irOKMUAVjY2v8Az7Q/9+xSfYLX/n2h/wC/Yq1ijFAFX7Ba/wDPtD/37FL9htf+faH/AL9irOKMUAVvsNr/AM+0P/fsUn2C1/59of8Av2KtYoxQBV+wWv8Az7Q/9+xS/YbX/n2h/wC/YqzijFAFb7Da/wDPtD/37FBsLX/n2h/79irOKMUAVfsFr/z7Q/8AfsUosLX/AJ9of+/YqzijFAFb7Da/8+0P/fsUfYbX/n2h/wC/YqzijFAFX7Ba/wDPtD/37FH2C1/59of+/Yq1ijFAFb7Da/8APtD/AN+xR9htf+faH/v2Ks4oxQBV+wWv/PtD/wB+xR9gtf8An2h/79irWKMUAVhYWv8Az7Q/9+xR9htf+faH/v2Ks4oxQBWNja/8+0P/AH7FJ9gtf+faH/v2KtYoxQBV+wWv/PtD/wB+xS/YbX/n2h/79irOKMUAVvsNr/z7Q/8AfsUn2C1/59of+/Yq1ijFAFX7Ba/8+0P/AH7FKLG1/wCfaH/v2Ks4oxQBW+w2v/PtD/37FBsbX/n2h/79irOKMUAVfsFr/wA+0P8A37FH2C1/59of+/Yq1ijFAFb7Da/8+0P/AH7FH2G1/wCfaH/v2Ks4oxQBV+wWv/PtD/37FH2C1/59of8Av2KtYoxQBW+w2v8Az7Q/9+xR9htf+faH/v2Ks4oxQBWNha/8+0P/AH7FJ9gtf+faH/v2KtYoxQBWFha/8+0P/fsUfYbX/n2h/wC/YqzijFAFb7Da/wDPtD/37FJ9gtf+faH/AL9irWKMUAVfsFr/AM+0P/fsUv2G1/59of8Av2Ks4oxQBW+w2v8Az7Q/9+xSfYLX/n2h/wC/Yq1ijFAFX7Ba/wDPtD/37FKLC1/59of+/YqzijFAFb7Da/8APtD/AN+xQbG1/wCfaH/v2Ks4oxQBV+wWv/PtD/37FH2C1/59of8Av2KtYoxQBW+w2v8Az7Q/9+xR9htf+faH/v2Ks4oxQBV+wWv/AD7Q/wDfsUfYLX/n2h/79irWKMUAVvsNr/z7Q/8AfsUfYbX/AJ9of+/YqzijFAFY2Fr/AM+0P/fsUn2C1/59of8Av2KtYoxQBV+wWv8Az7Q/9+xS/YbX/n2h/wC/YqzijFAFb7Da/wDPtD/37FJ9gtf+faH/AL9irWKMUAVfsFr/AM+0P/fsUv2G1/59of8Av2Ks4oxQBW+w2v8Az7Q/9+xSfYLX/n2h/wC/Yq1ijFAFX7Ba/wDPtD/37FKLC1/59of+/YqzijFAFb7Da/8APtD/AN+xR9htf+faH/v2Ks4oxQBV+wWv/PtD/wB+xR9gtf8An2h/79irWKMUAVvsNr/z7Q/9+xR9htf+faH/AL9irOKMUAVfsFr/AM+0P/fsUfYLX/n2h/79irWKMUAVhY2v/PtD/wB+xR9htf8An2h/79irOKMUAVjY2v8Az7Q/9+xSfYLX/n2h/wC/Yq1ijFAFX7Ba/wDPtD/37FL9htf+faH/AL9irOKMUAVvsNr/AM+0P/fsUn2C1/59of8Av2KtYoxQBV+wWv8Az7Q/9+xS/YbX/n2h/wC/YqzijFAFb7Da/wDPtD/37FBsLX/n2h/79irOKMUAVfsFr/z7Q/8AfsUfYLX/AJ9of+/Yq1ijFAFb7Da/8+0P/fsUfYbX/n2h/wC/YqzijFAFX7Ba/wDPtD/37FH2C1/59of+/Yq1ijFAFb7Da/8APtD/AN+xR9htf+faH/v2Ks4oxQBWNja4/wCPaH/v2Kz2s7Ysf9Hi/wC+BWwR8p+lc7rOuWGhQiXUZ1iV32rk9TQBY+xWv/PvF/3wKKWO+tJY1dJ4yrAEEN1BooAb4GH/ABQWif8AXjF/6CK3cVg+B/8AkQtE/wCvGL/0EVvUAGKMUUUAGKMUUUAGKMUUUAGKMUUUAGKMUUUAGKMUUUAGKMUUUAGKMUUUAGKMUUUAGKMUUUAGKMUUUAGKMUUUAGKMUUUAGKMUUUAGKMUUUAGKMUUUAGKMUUUAGKMUUUAGKMUUUAGKMUUUAGKMUUUAGKMUUUAGKMUUUAGKMUUUAGKMUUUAGKMUUUAGKMUUUAGKMUUjMFUsxwByTQAuKMVWlvY45oYjkmb7pA4/OmJqls0LSszRqsnlZdcZOcUAXMUYpolQuVDDcBkjPQUuQelAC4oxRRQAYoxRRQAYoxRRQAYoxRRQAYoxRRQAYoxRRQAYoxRRQAYoxRRQAYoxRRQAYoxRRQAYoxRRQAYoxRRQAYoxRRQAYoxRRQAYoxRRQAYoxRRQAYoxRRQAYoxRRQAYoxRRQAYoxRRQAYoxRRQAYoxRRQAYoxRRQAYoxRRQAYoxRRQAYoxRRQAYoxRRQAYoxRRQAYoxRRQAYoxRRQAYoxRRQAYoxRRQAYoxRRQAYoxRRQAYoxRRQAYoxRRQAYoxRRQAN90/SuLvPCUOq+JJ7/Vm+0W+wJBbnonHJrtD0NZhHzGgDgn+Gjh28nUpY48/IgJ+UdhRXfZooApeB8/8IFonH/LjF/6CK3ufSsPwN/yIOh/9eMX/AKCK3qAG8+lHPpTqKAG8+lHPpTqKAG8+lHPpTqKAG8+lHPpTqKAG8+lHPpTqKAG8+lHPpTqKAG8+lHPpTqKAG8+lHPpTqKAG8+lHPpTqKAG8+lHPpTqKAG8+lHPpTqKAG8+lHPpTqKAG8+lHPpTqKAG8+lHPpTqKAG8+lHPpTqKAG8+lHPpTqKAG8+lHPpTqKAG8+lHPpTqKAG8+lHPpTqKAG8+lHPpTqKAG8+lHPpTqKAG8+lHPpTqKAG8+lHPpTqKAG8+lHPpTqKAG8+lHPpTqKAG8+lHPpTqRnVFy7BR0yTQAnPpSZqu11K81xBDEwkjUFXYfKxNOSBpTBNcEiaMchDhST1oAie9MtuX09RcMsmxgD055p/kyvcS+a26B1AEZXoe9WI4Y4gRGioCcnAxk0/FAGbfwhIrZI4shZlwA23aM/r9KutGrqA6BhnOCM81W1MDbb7ljb9+uPM7c9ver1AFZ7SJzITHhpF2sw4JFRiy2vblJZFSAEBM8N9au0UAUfLvUhYCRZJDJkFhgBc9KUz3K3Mwa3PkpGGVweWPcYq7RQBSS/U+QskciPOMqpXp9akiu4ZlZo5FKo2xjnofSrGB6VmJaRTX13DLE5iJV8MMKT6j3oA0c0tQmzUyyyK7q0ibfvcD6CmCycNbH7RJ+468/6z60AWfwpKpmO/it5AJEmkaQldwwFXPSsq31S+j13Wi+ZrG1nSMRr95AYVckevLdKAOi59KOfSq0Wowyx2zDP+kjKcVMtzC6syyLtVtpOeh9KAH8+lHPpTs0UAN59KOfSnUUAN59KOfSnUUAN59KOfSnUUAN59KOfSnUUAN59KOfSnUUAN59KOfSnUUAN59KOfSnUUAN59KOfSnUUAN59KOfSnUUAN59KOfSnUUAN59KOfSnUUAN59KOfSnUUAN59KOfSnUUAN59KOfSnUUAN59KOfSnUUAN59KOfSnUUAN59KOfSnUUAN59KOfSnUUAN59KOfSnUUAN59KOfSnUUAN59KOfSnUUAN59KOfSnUUAN59KOfSnUUAN59KOfSnUUAN59KOfSnUUAN59KOfSnUUAN59KOfSnUUAN59KOfSnUUAN59KOfSnUUAN59KOfSnUUAN59KOfSnUUAMOcHis3nPStU9DWb3oAZz6UU+igCn4G/5EHQ/+vGL/wBBFb1YPgb/AJEHQ/8Arxi/9BFb1ABRRRQAUUUUAFFFFABRRRQAUUUUAFFFFABRRRQAUUUUAFFFFABRRRQAUUUUAFFFFABRRRQAUUUUAFFFFABRRRQAUUUUAFFFFABRRRQAUUUUAFFFFABRRRQAUUUUAFFFRtPGsqxM4Dv91c8mgCSo550t4HlkOFRdzY9KojUWu5fItt0MyudwkQ8qDgkVbS0RLqS4yxaRQrAnjj2oAZHdtObd4Iy8Mybi/Tb6cULYgwmO5czgybxu7c8CrIAHA4HpS0AFFFFABRRRQBR1N9i2/wAyjMyjlc55/Sr1U9RJCwENIv75f9Wuc89/argoAKKKKACiiigAqjbKRqt2SrjcFwS+QfoO1XqoW2P7Wu8CPOFyVbLfiO1AF+iiigANc0Y77TdQ1u6WEGG4uElDHnKiBF4+jLzXS0UAZmiWjQWvmNO0omw4RkCiM98AdMmptQt4P7NnBVVXBcnHcc5q4BUN7kWM2CwOw8oMkfSgCG1tgw+1CVzJNEqk5+Xp1A7U77PcqbdUnykefMLDl6ltf+PSLlj8o5YYJqagCi019Dbyu8KSuJPkRDjK1J9tCzSRvG6iOMOXxwfYVaoxQBTXU7djbYJ/0n/V8HmrCXEUm7ZIp2NtbnofSn7V44HHTjpUT2kEkbI0a7WbcwAxk+tAE2aKz7uJrebzoN7PNiL73CD1qRILqNbdFn3hf9azjlqALlFUpbi8gt5ZDbiVlcBERuWXPWpftgFw0TRuu1A5bHH0oAsUVXjvreRIWEgHnf6sHgtU4ZWzgg460ALRRRQAUUUUAFFFFABRRRQAUUUUAFFFFABRRRQAUUUUAFFFFABRRRQAUUUUAFFFFABRRRQAUUUUAFFFFABRRRQAUUUUAFFFFABRRRQAUUUUAFFFFABRRRQAUUUUAFFFFABRRRQAUUUUAB6Gs3vWkehrN70AFFFFAFPwN/yIOh/9eMX/AKCK3qwfA3/Ig6H/ANeMX/oIreoAKKKKACiiigAooooAKKKKACiiigAooooAKKKKACiiigAooooAKKKKACiiigAooooAKKKKACiiigAooooAKKKKACiiigAooooAKKKKACiiigAooooAKKKhluFRJfL/AHkka5ManmgCaoJ7yG2jDyvhSwUEc801WnlkgkGI4yuZEbrk9KWCygt42SNPlZy5B55NADZBczPcRDEUZTEcqnJyepx7U+K1VViM2JZY12iQjmp6KAKBk/4nqqGfHk8jb8vX19av1QK/8TwNiTHkYzu+Tr6etX6ACiiigAooprSosiozAM33R60AOpssiwxNJIcKoyTVTz5ry3Y2n7plk2nzF6gHmpVtgt3JOXdvMUKUJ+UY9BQBTv7p5PsTW8UkkUsgLSIwAUdian+3tHAZJ7eRf3mwADJPPX6U3UkylsFjQhZlOGbbjntV+gCAXkPnyRFsNEu589hUiyo6qysCGGV560NDG27cgO4YbjqKiNjAZYZNmDAMR4PAoAsUVTWzeK3eOK4k3NJv3Md2Oeg9qcRdrcTOpRotn7tO+73NAFqs+1/5C938yHheFXDDjue9SrczqbdJbclpAfMZTlUOKpwanELy8eUuiROqfNHjk+h70Aa9FR+fHuZd67lG5hnoKcsiMFKsCG6c9aAHUUUUAFQ3mfsc2AxOw8KcGpqgvhmwnAAOYzwTgHigB1rzaxnBHyjgnJqWobMYs4hgDCDgHIFTUAFFFFABRRRQBS1JQy2+UVsTKRubGD7VdFUdTYKtvlkGZlA3jOfp71eHSgAoxRRQBG1vEzIzRqTH9w4+79KgfT4THKkZaPzW3sVbnNW6KAKxt5hO8iTnBj2qhHAPrVW1vLtrhbV03vEQJ5SNoOf7vrWnVC0U/wBp3hIlwSuN7ZXp2HagCSSe5ihldoN5D4RUPJHrTvtii4aJ0ZSsfmFscfTPrVmggHrzQBBFewTRxukgxL9zPepgynOCDjrUZt4iyExrmP7vH3agk02JopUjZ4jM+9mRsHNAFyiq5hmExdJvk2bQhHf1zUKNfxR2yzCOQ8+e68YHtQBeorOt9XjuLOa5WN/KjfYpAyX7ZxVsXcJuPJ3Yk2byp7CgCaimJLHIiujhlboQetPoAKKKKACiiigAooooAKKKKACiiigAooooAKKKKACiiigAooooAKKKKACiiigAooooAKKKKACiiigAooooAKKKKACiiigAooooAKKKKACiiigAPQ1m960j0NZvegAooooAp+Bv+RB0P/rxi/8AQRW9WD4G/wCRB0P/AK8Yv/QRW9QAUUUUAFFFFABRRRQAUUUUAFFFFABRRRQAUUUUAFFFFABRRRQAUUUUAFFFFABRRRQAUUUUAFFFFABRRRQAUUUUAFFFFABRRRQAUUUUAFFFU5NQXyQ9sjXA83y22fw+p/CgC4TjrUL3SLdRwYYtICQQOOKqoss99dwTl/IZQF7fXBq5FCsMaImcIABnmgCqYZ76ELc7rdklyPLb7wB4/OrS28SStKqASN95u5qSigBCKWiigAooooAzz/yHgdi/6j72/nr6f1rQrPYAa+pJiybf0+f738qtS3KxxyGMeY6Lu8tepoAmqKa5igQNI4ALBc+5qFJLmZoJEURxMuZEcfMD2FPgsobeNkUFgzlzuOeaAGv9qllniAEcez93KDk5+lOjtcLC1wRLNCMCQjnPc1YAxRQAmPailooApagQBBu8vHnL/rB79vertUdTfaLf5ymZlHCbs/4fWr1ABRRRQAUUUUAFZ1um7VbsSI+35SNxyp+grRqjb4/tS6OzBO3nfnP4dqALBtYTI8nlrvkXazY6j0ppsod8LBcGDOwA9M1YooAomxlS3kS3unV3l37m5xz0+lS/6Us0p+Rotn7sd93vVmigCn9quEe2SS2YtLnzCvSOorvULf8Asu6lkISOPcjGRTjP+FaNVr9V/s+fPA2E527v0oALOaNoI41dC4QEqvYfT0qyCD0NU7W3heFZtoMkkQVpMYLDFPWzEfkCOR1SHouc7vrQBZoqk0V7HBJ5UyPI0mV3jhVz0qTzrhZpA0GYkQMrA8se4xQBZoqmL2Rvs3+jSDzvvZH3PrTv7RtxHLI7FFjfYxYY5oAZqLFfs+GK/vlHC7s/4fWroqjfTLmFULFvMUkJ2HqfarqkEccigBaKKKACiiigArPs/wDkKXvyqOV5D5J47jtWhWbZKBq18R5WSVzsHzdO9AGlRRRQAUUUUAFNk/1bfSnU1/8AVt9KAKWkktp6bmMnzHkpt7+lXTGjZyoJIwTjtVTSixsV3iQHJ/1nXrV2gCuLGBRCETasJygB4FRPp2+KdPPlHnPvyG5X2FXaKAK5hmE29JTsEe0IR39c1GjXyRwCREdi2JSpwFHqKuUUAUf7SMa3DzwSRrC+0HGd/uKsC7i8/wAkth9m/B9Kg1Fdwgym7Ew/j24/x+lWzGjEllBJGCcdRQAJKkqB43VlboQetOqv9hgVYVRNiwtlFU4Apj2kojnENy6vI2VJ52ewoAt0VWP2lbnja0ITp/EWpi3c6xw+bbNvkbDBTkJ7mgC5RVRdRgPn7iUEDbXLDAqX7XD5wi3jeV3ge3rQBNRTVkR1DKwIPQg9adQAUUUUAFFFFABRRRQAUUUUAFFFFABRRRQAUUUUAFFFFABRRRQAUUUUAFFFFABRRRQAUUUUAFFFFAAehrN71pHoaze9ABRRRQBT8Df8iDof/XjF/wCgit6sHwN/yIOh/wDXjF/6CK3qACiiigAooooAKKKKACiiigAooooAKKKKACiiigAooooAKKKKACiiigAooooAKKKKACiiigAooooAKKKKACiiigAooooAKKbJKkUbSSMFVRkk9hUH2iR7iEQxh7eRCxkB6elAE7yLHjewXJwMmoHuDL58NtxPGvG4cZPSmrZGeEJfkTFZN64GMc8Va2jOe9AFdIJnkglmlKui4dF+6xNTpGkakRqFBOcAY5p1FAFC1TGrXTFMZC/Nvzn8O1X6o22P7UucCPdhckH5j9avUAFFFFABRRVObUY0g82BWnHmeWRGM4OcUAXKhe6jS4jhOd8gJXA44pjW8ssk6yy5gkQKqAYK+vNTRQrFEiLyEGATyaAMcG4vdUMcxNq6DKhVyWUNx83v6VrLbxLO0wQeYwAZvUCqpJ/t1QDLjyOmPk+9/Or9ABRRRQAUUUUAFFGcVBJcr+9jgxJPGu7y8/lQBFqBbbDtMgzKufL9Pf2q5WTfLdSixkYBAJVMse7H61aC30cLDekshk4yMAJn+dAFyiqj3Fwk026AmJE3KynJY+lOS+Rvs6uro865VSOn1oAs0VEl1C6F1kUqrbSc9D6VLkUAFZ9qV/te7AMecLnb978a0Ko22P7VuhuU8LwEwR+PegC9RRRQAUUUUAFQ3mfsc2N2dhxs69O1TVBe/wDHlNgZ+Q8Zx29aAFtObWMndnaM7uv41NUNp/x6x8Y+UcZz+tTUAFFFFABTHiSRSHRWB5IIp9FAGZqdpE7Rv5W53dVZt+3jmrCWQi+zrFK6Rw/w5zu+tJqONsGRGf3y/fOPy96t4yBQBUlS8EUvkyI0hfKbhgBfSnGedbl1MP7pY9wcHqfTFWcUtAFRNQQi3EiOj3GdqkdMetSx3cEgcrKuI22tz0PpUuAe1QyWVvLC0TxKUc7mAGMn1oAmBzVG0fdqV4uQdpXjZjHHr3qw1ovmvKrMHZNnXoKy7C3uY9SeNZ5mSIjeZV4fjsaANuiqjreJHK0TRyOXzGrcAL6U7zp1nYNFmNY924Hq3pQBZoqnDqCSJAZEeJpvuoy8j61OLqE78SL+7ba/PQ0AS01/9W30pcikk/1bZ6YNAFLRk8vTVGzy/mPG/d39av1R0jaNPXYIwNx4jOR1q9QAUUUUAFFFFAFDVGC/ZsmMfvlx5n9Per47VQ1M7fs53BczL1Tdn/D61foAKKKKADFFFFADWjRlKsoIPUEdap6fErLKzq5beygyDnb6D2q9VHTM+XLldv71urbu9AEh063KwqqlVhbcgU45pPssyicx3DbpWyu4ZCewq3RQBWP2pbjPyNEI+nctTEu51hhM9syySNtKqc7ferlFAFX+0bfbcM7FFtzh2YYFTiVGICsCSNwGe3rRJEkiFHUMrdQR1qtdxRwRvdIqLKke0MxwAPSgC5miqEFoZLK12Tsu0iQ7Wzu9s+lSMt4izsrpIScxKRjb9aALdFVfNuRdBDCDH5e4uD/F6Uz7bLHFAZ7Zw8r7Sq87fc0AXaKr/bocTFm2iE4csMAVKs0bMoV1JYbgM9R60APoozRQAUUUUAFFFFABRRRQAUUUUAFFFFABRRRQAUUUUAFFFFAAehrN71pHoaze9ABRRRQBT8Df8iDof/XjF/6CK3qwfA3/ACIOh/8AXjF/6CK3qACiiigAooooAKKKKACiiigAooooAKKKKACiiigAooooAKKKKACiiigAooooAKKKKACiiigAooooAKKKKACioLm7itVQynAdwgwM8mo2knmNzCFMO1cRzevHWgCyXUMFJG48gdzVRrm5ngV7SLawl2uJePlzyaZp0Xn21vdXRWW5RCvmKeDzV8c0AQLap5srsWfzRhlY5A+gqdEWNAiABRwAO1LRQAUUUUAFFFFAGfasDrF2N4OFX5duMfj3rQqgs6wXl28jPsRQxyvAHse9SLeNLJAYIy0MyFjJ/d9KALTOqjLEDnHNVnuZXa4it4m8yNcqzD5WNNWw3w7LyQz4k3qSMY54FXKAK6RzO0Esr7WVfnRehJqWOJIlIjUKCcnA70+igAooooAo4/4nYO18CH72/wCXr6f1q9Waf+RhXiPPkdd3zdfT0rSoAKKCcVS/tATW5ktI2mxL5ZHTHPJoAuEhQSTgDqahe5CzwxqjOJc4deQMetNNszzTGWUvDIu3yiOB61NHEsUSxxjCqMAelAFZYZ7q3ZL392wkyvlt1APFWVhRZC4UbyMFscmn0UAUNUVWS33LG2JlI3nGDnt71fqlqLBRb7iozMv3lzV2gBD7UYBIJHI6UtFAEElnBLEY3jXYW3kAY59aQ2g8+SVZHVpE29eB74qxRQBU+z3KvbBbjKRgiXcOX44qlbT3qXl4ZoWkdXUIq8Dafetis+2XbrF2+xxuC8lsg/QdqAJTeEXE0Xkv+6QPuxw3sKBqMQa3WQMj3H3FK/zq3SEKSCQMjocdKAI0uYpAzJIpCttJz0PpUuRVd7O3eNozGArNvIHGT60n2MC5lnSRw8iBMZ4X3AoAs1XvwG0+cEKQUOQ5wDx3pBDcp9nCzhlT/Wlhy9VL64u4NLupJYVdgSEUcgr6mgC7ZgCziChQAowFPH4VPVG1vE2eWUYCOIOWC4Uj2qaO/t5FhYSAed/qweC1AFiikDA5wRxS0AFFFFAFHU22rb/Mq5nXquc/4VeqpfttEOC4/ej7i5z9fardABRRRQAUUUUAFUbTP9o3ZKMMleS+QeOw7VerOssf2tfYEYOVztbJPHcdqANGiiigBNoPUVBPY29xC8csalHOWHTJour23s4jJcyrGoHJY4rkdV+Kfh/TvMWOc3Ei9BGMgmsp1qcPiZ1YfB4jEu1GDfodd9lUTGVXZTs2AZ4Hviofs1zFHAq3O5Y8+aXGS4rx7UPjVfuxGn2iIoPHmHORWJd/FrxLNMXiuEgXGNirkVxyzGgnY9+nwrmM1eSS9We36Rc3Y0qVykc+2UiIRjbuGa1Dc7ZzG0bBVTeXxx9K+cx8VfE68LeqB6CMUg+K3ircP9NUjPIMY5pf2lR8zT/VTHJfFH7/APgH0ZDfW88MUiP8spwmeCTUvmx4Y71wpweeleARfGXWRJGZbW2cIQenP4VtWHxksXjnTUdMYLI247GzuNXHH0JdTlqcN5jTV+W/oz2fI9aWuD0v4k+GtRkWf7W9tMY9m2TgAf4109pfxXMMQstQiuNpy7ZGWFdUKtOfws8atg8RQ/iwa+RZ1Biog2lx+9Gdgz+dXKxNTmvFh3m1M4W4XyUik2kr6mtJrsLP5TIwwm8tjge2a0ucpZoqtDfwSwxSBwBMcJnjJqwGBzgjjr7UwFooooADVDSlVYptgjGZWJ8s5HX+dX6o6WytHLtKkeaw+Vcd6AL1FFFABRRRQAVV1JtmnTNkLhDyRkD8KtVXv2K2MxBYEKeUGSPoKAFsjmxgIIPyDkDAPHpU9RWpP2OLO4nYOWGD0qWgAooooAY0SOpVkUq3UEdai+xQfahcbB5oQoG9FqxRQBnNDJFcW1tDI4jUl2Ytkn2qV0vIxcPG6SFv9UjDAH1qOfH9tW/Cfcbq3zfgK0O1AFcTzCdI3gO0x7mcHgH0qL+041hieZHiMsmxVYc5q7SFVbG4A45GR0oAYLiIs4DrlPvc9KeGB6GopLSCWORGjG2X7+OM1H9hQXaTq7hkTywu7jH0oAtUVUFrOIo1+1OSr7mOB8w9KLaaWS8uUfOxGAX5cdvWgC3RRRQAUUUUAFFFFABRRRQAUUUUAB6Gs3vWkehrN70AFFFFAFPwN/yIOh/9eMX/AKCK3qwfA3/Ig6H/ANeMX/oIreoAKKKKACiiigAooooAKKKKACiiigAooooAKKKKACiiigAooooAKKKKACiiigAooooAKKKQkKMk4HrQAtFQNeQrdpbF/wB7IpZV9QKjC3VxChc/Z3V8kKc5APSgCSW7jjjmYHeYRllXk01XuJpIZY9qwMmXVl+bPapVgjSR5FQBpMbj64qSgCGC1SGLYMuNxb5+eakcfIfpTqR+EP0oAq6WVOnR7ShHPKLgdfSrdU9LbfYRsd2Tn7y4PX0q5QAUUUUAFFQXF7BaojTSBVdwinrkntTWM8pni/1a4xHIDk5+lAEzTRpIsbOA7AlVzyaqLczXkO6zHlFZdreavUA84qeO2UeU8uJJY1wJCOanxigCjCN2p3IdG2lVwScqfwq7gAAKMAdqpWyr/a10wUAkLlt2Sfw7VeoAKKKKACiiigAoqKa4jgjeSRgFjXc3sKjS6eZ4Xt0D28i7jJnp6cUAVpZYodcVpHiTMWBlfmOT6+lTtdPLNPbQKVljQEO4+Uk9KqLb51YQ3MjTgqZFDJwvzcc+1a2KAKyW7v5Elw5Msa4bZwpPfirCqqj5QBzngUtFABRRRQAUUUZoAo6mxVbfazrmZR8i5yM96vDpVPUNx8jashHmrkocY+vtVvNAC0UUUAFFGaKACqFtj+1brAUHC5IbJP1Har9Z9qwOsXYBQnC5Crhh9TQBoUUUUAFFFFABUF8cafOQWGIzyoyenap6hu/+POXG77h+6eenagBLT5rOLOTlBywwTTmtoXkjdo1LR/cOPu0W3/HrH1Hyj73WpaAKr6fC0LxqXQSPvYq3OaPs8y3EkqTEqU2pGRwD61aooAqKL0eRuaPj/XYHX6UklzdRQSP9m8xlfCKh+8vrVyigDK1C6HnJEYpMxssjMDgY/rV6O8gdIWWQYm/1ef4qg1ONXWDcitiZfvNjH+P0qybeJmjZo1JjOU4+79KAJAwOcEHHWlqodOiEcqxM8RlfezK3Oaf5UomZ1lOCm1UPQH1oAsUVTja9RbdJFSRjkTODjHpikk1AwwyyTW8iiNsAAZLe4oAuVRtNo1S9wY85XO1cHp3PeqWs+K9M0WEvczjfjIQHk15fr3xSvp55RpQ8mNj1I5rhr46hR3d2evgcnxeNfuRsu72PVdX8S6Zotu0t7copUfdzzXmniH4yMd0OiQ4GMea4/lXmeoXtzfStLdTPIzHks2arQ20lwpMK7tp5rx6uZVamkNEfe4DhfB4dKeIfM/wL+qeJtV1iQte3kjg/whsCshjWlFaJsCSQO0gwWw3HNK+nGCUoyqcvwc5249a43zS1bPpISo0VyU42M+KCWdXaJCyoMsfSq7ZIOBmuhSNY4/KLlopZAXCfKqn0pxtUeaWJFWPz/lh2j5Sq9TRykPEvqY9vpzXjJ9nz5armV2GAtIttJDKzrbNNDJlYywxn3rdWT/iU/JbblWTy0iXgMfX3qzdR3Y8qK2Ci6dcSE/8ALJfYdhWigrHJKvLmscjNCI3URsG3Dkf3T6VLcWnksqxsXOBux61pSwW9gfIXF1eSHGccLn+tXxpzW0Nubi5jiWM/MoXrn+dRys6HWUbP+mYkdrJ9jLGHdv8AunuMdSKuWF7qOmzZtbuS2l27lUN96lvljtZc2l5kJ0X69qlto11O3PmSIboj5RjBFK1thyalC817r8jq9M+JesWiquqj7SsfzAMMdPeu+8PfFHStY+S4zbSdw/SvEljuI3ezu8mMgAMBnB7UlvZEM8IyJYzvLDpj3rsp4ytB73R4mLyPAYhN25X3R9QQvaXkccsXlyKp3IRg4PrStYwmOZU3IZm3MVbnNfO2l+JtV0dFubK5kEYfDRlsgivSdC+KdvKETVY/L3cCRe5r1aWPpy0loz4zGcO4mheVP3l+J6AYJVufNSY7dm0Rnpn1pFN4kcIcRyOW/eEcAD2qPT9Ws9UtxNZTpKp7qaujrXfGSeqPnJRlB2krMpm9kRbhprd1SJsKRyXHqKr6beKJXhbziSWk3umABnpWqelUdPJMUm9XB8xh85ycf4VRJPHe28kUciyALIcJnjJqYOrEhSCR1APSo2t4n2Fo1PlncvHQ1CNOhQXHkl42uG3Oytzn2oAt0VXMMiz71lO3ZtCEd/Wo0N5HHCHCSuWxIRwAPagC5VbUM/YJtoYnacBTgmmNfmOO4klgdUhOAcZ3j1FRX9zBLby2zEeY0Jk2Mdvy/XtQBbs8/Y4sgg7BkMckcVNVWwkjbT4CjLtKALtbI/PvVqgAooooAKKKKAKE+P7Zt8mPOw4BX5vzq/VKVyNXgX5sFGP3ePzq7QAUUUUAFFFFAAap2m77ZdZRlG8YJOQeO3pVyqVmoW+u8KoJcZIbJPHp2oAu0UUUAFFFFABRRRQAUUUUAFFFFAAehrN71pHoaze9ABRRRQBT8Df8iDof/XjF/wCgit6sHwN/yIOh/wDXjF/6CK3qACiiigAooooAKKKKACiiigAooooAKKKKACiiigAooooAKKKKACiiigAoopCQOtAC0Zqo19ua4jt0Z5oR90jAJ+tRXMUjxfa2meFlgYFF5AJHXHfFAE814FjR4EM4Z9vyHp70GGWY3EdyVMD8IF6gd81HpMSRaTAIuQy7ixXbknqcVdoAijt441QKozGu1SeoH1qWiigAooooAKa5wjfSnU18eW2emKAKulAjT4wwkB5z5py3WrlZun3UcUVtalGV5FZlwdwAB9am8qe8gUT7rdll3DYeoH+NAEs1yqRymMea8YyY1PNNRriWSGQAJEy5dG+8D2qSO2iimklRAJJMb29aloAgisoYojGF3LvL/Nzgk1PRRQAUUUUAUbdl/tW5UbN2FzgfN+NXqoWxzq10N5OAvy7MY/HvV+gAoqrPqEMCK5JdWcR5QZwTQ8dxM08bsEiZQI2Q/MPWgCdpUWRUZgGboPWqvn3NzCTbx+S6ybSJe6g9RUqWiKYmb55Il2q7dfep8UAQraRC4lmK5aVQrAnIIHtUyqqKFUAAdAKWigDPwf8AhIN374jyMdfkHPp61oVR241wHbz5P3t/v6f1q9QAUUUZoAKDTJJo4xmRwv1NYmoeJoraaNLdfNBzvOfu1MpRjuY1K9OkrzZtvKkS7pHCjOMk4rHv/EltbyTW8TZnRMjjjJ6c1yl1qV5fwvDeSeYhk3gDjAzwKrE85duT3Jrknif5Txq2aSl7tGPzLepard6m1qzyNCbdg5WNsBm96li12/ibPm7vY1nZX+8PzpcZHHNcrqyb3PHnXxLfM2zfi8V3C/6yNW+lXovFkJH72MqfauSxSEVarTXU1hmOJj9o7qLxFYyYy+361cj1G1lGUlX8685pQzDoxH41osVLsdUM4rL4kmelrNG4yrgj61WgkB1G5Gf7uBsx29e9cCl1cIMJM4H1qwmr30agLMce9aLFLqjpjnMftRPQqXNcNF4lvUI3YbH61cTxbLuG+EEfWrWJp9TqhmuHlvodbmiuei8VwuSJI2X3q5H4gsXHMmPqKpYik+p1wxlCe0jVqvfc6fPwG/dngnGePWmLqdq2MTLz05pLq5gks5lDxnKHhun41qpxfU2VSD2ZNacWcXGPkHAOcfjU1QWrILWIKVxsGNvT8KmyKo0uhaKM0ZoAKKM0UAUdSZVEG7ZkzKBvH8verwqjqTBRb5fZmZf4c59varTTRoPmcD8aidSEFeTsG5JSVl32v2Vmp3yAn0FcdrPjm5dTHZL5an+LvXkV87wdLRS5n5HoYbLsRiH7q0Oy1TX7HSYWe6lAI7dzXnPiL4i3V0Wi0391ERjcetc1fXlxeSF7iRnbPc1RnhPlqwU56k9q+fxGb18RpHRH2WAyTD0Gp1fef4FS4nku7vN3MzFjyzHNQmzVHkWRsyIQwjHO9a05LPdLG+dwlTGQOlSxRR28kcZAaRFJ83vgjAFY011Z9F7flVomGunq00k4+WBAHC5ycelTwQLJIrx7UDAgKB1961Y7eNF+VPMfy/oDTZ7R2jAtlWNgQRj+X511xB4hydmzMdWluTbeUAX+7Io7VMbNpIW8yQswY4ZOwPrWhHG4C+axjOBkgU+JUjZg67VcYwO9axZnKs76GVPZyIvmqPvkFkHfHWmNG9vcJht4t3GxhySjVrINrgo/mNnAVhwv/wCukZXhhYqke/f8jn+HHUfSrQvbvZlVreR7d1jdEfd50YHQ47UolWK4t9RJ3C4XbKB0Bx1qcR+bMS77BnhgP9Xnt+NAhMUi+b5bkEh4R0b0Iq0zNyVylNbrZ65HeXMY8iUhUbGdp7Gna9pPmQtdNOz46KOefTFX5VEi+W6s1uh3Ankw571D/pGlXCmf/TLRx98dVpXWxUasuZNPVGZpVjp/lr5rCaZxt2nsT2Fal1pEFpbvLBGBIU2KUPOfaj7HHdym40kKrFQCSOc+1FxFq6W4CogKMfm9R60tLWsOdWU53UreTMW2W902bzbvmLIQ7j+orUjiWW5a8semNsisOH47VlXcN7fXC7w0isMJgcV0mj20sNv5TxOscY2g93Pf8Kzg23Y2xE4xiptq77GNabBBcvboXQn5omHT1pixAQ2jqGKBifUjn+VaNsoOvOtjhE24KgZyasw2klpqE8TIqwvyvOcH2rO90Zyrcr+Vyrp19qWi3cxsJGimLb1T+Fl9hXpPh74jxXO2LU0KtgZkHQH3rzv7FcPHtMxkuY23D/ZFPFpMskj27DbKOOerU6eKqUHeLPMxeDw2Mj+8Sv3Pe7W+t72HzLaRZFI7GoNKGIpsqB++bo2a8c07Vr3QrkSWszYJAkiY5ANeheGvFdvPH5V4kdtKzk4Q8EnvXu4bM6VX3Z6M+MxuUVcP70PeidhRTVkV1DIQwPcU6vVTT1R4oUUUUwDFVNRSMWM8jLHu8sjc44x7+1W6q6kcafMd+z5D8wXdj8O9AEdrZwPY2iqqqsQDoI+BnHanfYZE+0tDcuHmOVLchPoKlsjmxhO7d8g5Ixnj0qegCti6W4UBlMXl8k9S1R775I4RsjkYviQg4AX1q7RQBUN6UW4aWGRVhPBxnf8ASpBeQmZIt2HdN4U+lT0wxIW3FQWxjOO1AFGR1l1W2kjZ2TYwyrfIT71o1kTWEC6lZxxxbEiDOu18YP071cktZfLuPJuGWSX7pPIQ+woAt0VXUXSzICUaIR/Mf4i1RfbLiOGIy2rb5JdhCnO0etAF2iqv9oQDz9xKiA4ckcVMs8blQrglhuAzyR60ASVStGU310BsyGGdo56d6ubl9RVOzIN9dYcsQ44K4xx696ALtFFFABRRRQAUUUUAFFFFABRRRQAHoaze9aR6Gs3vQAUUUUAU/A3/ACIOh/8AXjF/6CK3qwfA3/Ig6H/14xf+git6gAooooAKKKKACiiigAooooAKKKKACiiigAopks0UC7ppFRfVjiiOWOZN8Tq6+qnIoAfRRRQAUUU0yIrBSw3EZAzyaAHUyaaOCFpZmCogyxPYVWF091bpLYgFS+G3jHGeaclmfOuGmlaWObH7p/ur9KAFN1uuY4o42ZZE3iUD5RTBZtLAiXchdkk8wFTjp0FWwoVQqjAAwBS0AIBg9Kius/ZJcbvuH7vXp2qaobwE2U20bjsOBnGePWgBLIk2MOd2dg++Ofxqeq+n5GnQbhtOwcbs4/GrFABRRSM6pjcwGTgZPWgBaKrG6803EVtzNCOjDAyelILeaS4guJJmUohDxL91iaAEfUE8pJLdWnVpPLOztzgn8KSW2klW4SeUmGVdqqOCvHPNWY4kiXEaBRnOAKc33T9KAKGixRw6Rbxx7CqKVBTkYzWhVTTCrafHtII56LtHX0q3QAUUUUAFFFIzBVLMQABkk9qAFpCQOpxUD3YW5iiVGYSgkSD7oqE20t3Di9+UpLuTy2xkDpQBGtz/AMTC9SDdJLEinYTge2KsotxK8Ert5Y2fvIsZ5+tQWsSrrF3IsW0uFy+7734VoUARQ28MClYowqltxGO/rUtFFABRRRQAUU1nVR8xA+tUbnWbW2zlwxHYVnOpCCvJkSnGCvJiHH/CRL/qs/Z/+B9f5VfZwv3jj61yVzr8jX3n26qFMe3lfm6+tULnVLy4Pzytj2rilmFJaR1OGpj6cdI6nXXOsWtsDmQE+gNYd34okYlbVMD1Nc9M6RRtNcSBEAyWY4ri/EHxFtrFhb6OgupWyC/YGuWWNqS2Kw2GzHM5ctCNl3O31HV3EbXGo3XlxqMkk44rhNX+KGmWKsmnxtdTdieFrhb671jX9s+o3MnkMxXCngH0xSafp0UkTR+UsiKu/wA5l5IPB/I1Makp7n1GF4Uw9G08VLnl+BPd/EnxBeufIZYRknEa54rMkvfEkluLz7VcOsnzcN2rR022mSVp1tgIY2KXCheFU9/pWxYx/wBlLNAQt3aT/vbcoOUXvz2+lVypnuxw2HpK1OmvuOesZNZ1GWVbXU7giMAlmJAz6Vb03W/FlqrxQ3TnyZMMki5I9/pXSW7qjFdO09zKxygkGFx/ePvTRa3TF7iS1Mklw2wJnuP4m9BT5ew/ZUZ6TgreiH6b8T3ilEGuWuGGAZI/8K7bTNb0/WI91hcK5HVCcEV5re6GVuHa9t98bYi80L9zuSB/Wsoadf6YwubZ3RWO5Np52+tYTnKJ52J4Vy/HK9P3Jfge3EY60mK4Dw54/cYg1cGSMDiVRyK720ure+thPZyiSM+napVdM/Pc24axuVyvUV49Gth+KAKdS03VZ8+qY3FKBS0VDm2WoJBRRRio0LsAJHQ04SSD+NvzpAKdtqPaJGkYyJYr66jbKzNx05q0utX4/wCWlUAhqQJWMsXKO0jqh7To2aK+Ib5eODTx4hvcc4rOEeTUqQ1w1s0nBfEehShiJPdl3/hIL32pw1e9kP38fhUCW4xzRK6xrhRXhYjPq792Eme3hsvqT1myaW9nbHnSnA5rKvdWkwVjYn3JptzKzdTWfIpJ9vWvLliK+Id6smz6bC4GlS1KVzNLNJmRiee9UHiMk2zIGTjJ7VsSW++NgP8AlnyD3NVJbcyWeSuGQ4BHeu6lGx7lOoo7FGO1Hm+ROuCx+V/pUQt2cTwQklc43GtYwlriIOvESYz701IVQsVJCLnHvXp07dDVV2Y7qGgMEWeTtQ/zNWY7EICcg8AEsM1pJGg4ZAcdOKjdfm2knOCRXZGVg9s3oZ7xRx9Pu8DINJCilZX6FTtQH17mrywNb5ebaxZdxB6A+n4UyNR5y702ptLY9+1bKdh+1TRVWNkG9xkdAAOtNa1WGNNpPmSYyrdh2q+YS2C5YkngdKhMRuZvm+XaeSP89q09oNVLu5SVUt2dUT55Od3YGnixVU88/MRjKHkA9hWhFbqd7yoCgXaD3z2qHyJY2O5sxseCB371opj9rd6Mp4SQM8IK8YbPp3OKZFDbSeZBIMYA+YHp6YNaDW+1j5g8tuxX+X0pxtYUk+bG2QcN39zVKQe1M+KO5MjSRsoB+VjjjPbNBsWWN8OI3UbsDlSvf8avPDIrfJkqB+8K8kr2yKkSyR8FJfnycEdD7EelPmQnVtqUGDmJJo7cxKBhGj6hfT605re7mtwLa6R2/iTPQelXlEryh0UxFM5H8BHc4olsg8xljAWEjJZDggf40+Yj2utivHPtxG9spIIU7Bx9BUU8+pzwlbeDy33been4VbK2ygtA0sbY4JGdvt9TSwtcXDtGJtgK4yRjH/16hz6XDnS1S+8ZbaeLNhPMyJIVwzDp9BVaztbi41Fp5iqQwkgetWjYwLH5N/dlpAM8HoP8asQ/Z7mMxW5MS9m/z3qOZN6kus7N7+ZTggiOqXUigrgAkueMVXljiOls8GCFl3ZHfmtiSCMQNbQr5kjjDY6L9TURRIZIbaGFTEvLk+vvWNRtISq3ZTNrE7tK+TvUMSeMfSrGxCzBh0UOcdjU7XDyptlgA3NtDAfwipnjMkYeKMLuIbA6EDuaxcl9kzlVl1NTRPEU+nZB3TW+4Dnt7Cu8sNQg1G3Etu4PqO4rzSISBS0a4IO5uOPyq9Z3s1iBdW+UJOGTsfWvRwmaSw+k9YniY3BQq+9HSR6RRWVpetxX8YV/kl7j1rUBzX1lGvTrw56buj5udOVOXLJC1XvyRYykb87T9zr+FWKragC2nzBV3HYcDdjP41sQPtP+PSL733B97r071NUFmCLKEEYIQcZzjj1qegAooooAKKKKAKE4H9tWx/d52N1+9+FX6pTOBq0C5Gdh42ZP59qu0AFFFFADWjR1KsoIbqCOtRm1hMwl2DeF2AjsPSpqDQBSGlwCGGPMm2F96/OetPts/a7nIfG4Y3dOnarVUrQEX13lSAXGDuznj07UAXaKKKACiiigAooooAKKKKACiiigAPQ1m960j0NZvegAooooAp+Bv+RB0P8A68Yv/QRW9WD4G/5EHQ/+vGL/ANBFb1ABRRRQAUUUUAFFFFABRRRQAUUUUAFFFFAGH4ksbG/iSO82PIMmKKSTYrn3rn/h+8keq+IbYkiO3nURwIcxoCv8J711+paRZatEsd/CsoU5XPUU7TtLtNKgMVjCsSnk46mgDGm8SajZ5a70O48vOA0RDE/hT7fxrpUs8NvcNJa3MzhFimQg7j0FdDXBfFS3jbS9IYR5c6vbjKHa3U96AOxke6nFzFEogZcCKU8g++KkWzQzxXEwD3EabN/161Ov3RS0AIFC9BgUtFFABRRRQAVDdgGzmDAEbDkMcA1NUF5IiWsoZlB8snB57elACaftGnw7AoGwYCHIH0qaSVIo2eRgqqMk+lZdjdz3OkWs1lGvzEBg42/LnkgVdSzjEs7szOJ8blY5Ax6UAL9odrqJY4t8LqWMoPA9BUS2Jnt0TUWE7pJvVgMYOeKtqoRQqjAAwBThQAgUAkgYJ6mlxRRQAUjfdP0paa/KH6UAVtLJOnRk7+/+sGG696t1U0tdunRgB168O249fWp5Z4oApmcIGYKMnqfSgCSjNVXneYzwQBklQYDsPlOaRbMtPBcTSsZYk2kKcKxPU4oAQ3xkhV7OIzDzdjDpt9TT2tBK04mZnimXaYz0A71YChR8oA78UtADIYUghSKMYRBhR6Cn0UUAUbcJ/a1yVEe8quSDyfqKvVRtnU6rcqCuQq5AXB/E96vUAFJmq11qEFouZG59K5+/12aZmSD5F7GuHEY6lQWruzGpWhT3OgudRt7VcyOM+grGuvEna2X8TWCzO7Zdix96bXz9fNK9TSHuo4KmKnL4dCzPqFzck+ZIeewqqRk5JyadUdxPFaW7T3LiONepY15rqTk7t3MI06leahFXbFCk9KyNb8S2Oh27PK4lmHAiU85rnNf8f70a30VCC2Q0h6/hXECGbUZfnl3Tu2MOetbw5mfouUcFLlVfHu393/Mvan4jv/EczQ3EwjhzuEWcZHpWVHpzxXd28UDxywhWhUnO3JH51oJC8eZ5Yo3meTyVjA4AHU1djsA100955iieTaNh+4qjINd0FY+1dGlRjyUlaPZFH+y2M0rSS8vMJBgYzx0x71pBI7a5DJsQqv8AEPlz/EMemKuWVtst3kugHZyUiKjkMT1/Cnafpkn9oFrqMNGjZbce3YV1xPOmk7lSwkuSJPMtvNjmH3emYwfu/Wr9jaW0ETC55RpkfaBjYedqD1FW50a3t94IkeHKYVeHY9AR7d6c1pczyW0jFYQmDsIznIwW/wAK1TOVxvuEt99nU+XEWjiduRyS56KKXTrmdZpbe+jBkkYusg4UnH3R6/WrS20Vhb+WVMkeGiwhySD/ABH/ABqLzLWWK3WFCGgJW3dvus46/hRzExhFrYq3MOsPbyRpsZrkbcEfLCvQ/U1mX+n3EEcdkJfMdVx6s4I5wOwFbKXt+YyAPMWPJkkUfeJ7L9KrXEstlJJe3igXMse2NR/AP8a56rXLdnoUYzUkla5zFzp222QBPJCZAHViw65pNH1u/wBHm3Wkh25+ZDyDVm9vnttNae9YLCrFy2MZJqBIg1usmzCP93NeXOTS5ktD3o+yqQdCslLyPRdA8SW+sxhJMQ3IHKk/e+lbWMHmvIYl8qQPGxVh0IPSu10LxTvVbe/5wMCTv+NQsU1ufmXEPB0U3iMAtOsf8jqguaXZRBIk8IkiYMp9Kl21p7dW3PzSWHlCXLNWaItlOC08CnBaxnXNI0RgSnhBTgKeq1xVMQzrp0EMVBUqx0oWpVWvLr4lo9Klh4iJHzUwQUKPWngZ7V8/XrTm7HtUaUYq4xzhTiqknOc1eePK5HNVzCXbisacXc9GnJIzpI88Go2i3xYXgqelaEsO5vcUnlFMnGc16NFWZ1KqZphJuCzHA25pscK7SsnUHca0miycjn1qL7Pg5bp1NejTlY0VUoSRlnLPwF/U1G9vmT0VT09TWi8O9wSPlBHHqaEQHJZO/FdUZ3kWqtkUfszNz0/CozEpDqE5bgk+grRaE9T0pnlOeFwB710qZSqmZLao6qA2DuyR1yKe0ZEheRQ2elX/ACeo2rkDkioDH5ioU4y3erU9dClUvuUk+a6fZGS4HHoDTUQ+W4YfN3rRKbZGC8cYLCoZYigGBkHua1UjRVEVvKaG3Qv8y7TjH86itIwkheTOw9Fbse1aO0syAjIxjaaintuCsJ+UHGar2nVAqnRlFyysyoc7uuR1pi2hAdZgcNyMn7vpWlDahFd2HPQfXtUgweOFYDAJ/WqjJvdjda2kTNTfC4I7jp2HvT2toyC6gxsD84B5FXd0XG4Z3Day4/Kmy2uG3bs7Rxk4yKvntqhe0uyuD+6LRsGuMBSAOvtin+R58K7MGPHz7eDuFTMIm2GJTkD73QipDE0yjhUVuGXocVSqXZDnYoQDEj+VJkKpOyRehHepk8+VcosZHT6e9TpCiSbYH5BwQ4zmpIY98bjYm/tg9T60lPoJ1OpSaykkLM8UaEnO7rsoWzjj/wBbKNx5AXsPWrn2OZXKcPGWByx6+9TxpDbtIdqkNwAOSaV1fXQTqu25SiZF/dxDyoyeSeWb3p8ZhQPGINyMe/Vz/hWgkUFnBvI3M/c8k0tlHF5hfYTIeSTzii7vy3MHU0v0KccmJC8kanscDhR6Uq5Eu23GE4JjArUP3V/c/ePTHSoPJaKVnjTax+8fWsKjae5HtE+hADIk2SoBIwfQUDIZVCYV+oI+971akQ3Gwbf3qnPH9aeN7PHlcMucnFcU5voyXURXidRhcbGjORtPQV0OlXv2mOG3MrI0bbic/eHpWVHEuZQyYU1Og8tlZBg9PoK3weZVcJNST06o4q8I1VrudCq3sf2hjIku45hXGNo9DTL+WQwSxyQAxGEszs2Fz6VHYajn93Kfoatag4GmztkABCcsMj8q/QMHjKOMp89NniTg4OzIbG+i/s20dkMQkwipjOKtrcwuzgSLmP7/AD92mWmGs4D8rZQEEDA6UstlBKkqvGMS/fxxursIJgwPQ0uaq/YI/tSzh3BWPywob5cf40iWJhhiiimkCxtuJJyWHoaALdFVHW8Rbho2R2P+qQ8Y+tOWeYTpHJCcGPc0gPAPpQBFMSNXgA37SjZwPl/Gr1Y0t5EdRs5pFlTzcouTgZz3FaqzxMXCuuU+9z0oAkopAQelLQAUUUUAFUrRUF9dFQmS4ztOT071dqlZsDfXYBU4cZwuCOP1oAu0UUUAFFFFABRRRQAUUUUAFFFFAAehrN71pHoaze9ABRRRQBT8Df8AIg6H/wBeMX/oIrerB8Df8iDof/XjF/6CK3qACiiigAooooAKKKKACiiigAooooAKKKKACiiigArhPisM6Tov3f8AkL2/3jgdTXd1wXxZx/Y2jbigH9r2+S4yOpoA7wUtIn3R9KWgAooqCa6VI5vJHnSRDJjU8/SgCeopbmKFUZ24dwgI9TUWLqS6ifcq25jO9CPm3fWnwWkVvCIkXKhtw3HPNAEci3U7XMRIhQjEUinJ+tR3FoiwefKzGeKAoJQMnpycVfqK6/49JeCfkP3Tz0oAj087tPhJZmyg5YYJ+oqzVew/48Ychh8o4Y5P41YoAKKKKACiimNMiyCMsA5GQueTQA+op544YJHkYbUUlvYVWMt3dW6NABbsJfmEgzlQefzqVbWNHmlA+aUfPnkflQBU0uWWS0tTbRx/ZXQsSrZxzxirMVj+42Xj/aSshdS46en5UzRwo0uIIUKjOPLGF6noKvZoAKKKKAEpaKKACioZrqKBS0jgD61hX/iVQrJajJ7Ma56uIpUl7zMaleFJXky/9rittQuXlmbGB8rLgD6HvWdf+IWZQtrwD3rCnuZbmTfM5JqMmvFxGPnUVoaI8mpjpS+HQne5aZt0jFj70wsOtRghWHpQSWYleleTKCerOVVJN9yXIPSjgms661a1sl/ePvb+6tcvq3iO6u8pCfKi9utcc5xTsj6nK+H8XjmpTXLHuzoNW8TWelqyxkTTj+EdBXn2s65f61IfNZjEvOxegpzwSSkyHJQN87HtmphppjaUwYaIoCV7mrppy1Z+o5ZleCyuP7tXl3ZhLZTeVHcWis+Gw3sa2HhikXMEI81RsMg7ep/CrNpE0cIgXhYwd5H94/4U6SMQQqkeVZiEVu2T3Nd8NEenUr871K0UYjlkeKMSOEEaA9Fz1P1q7FGs29pflYAIgB7/AE9utPt7byYyka7pFbO5uhHr+NSOiCEzEfefDup/M10xsjjqTT2IophZyxC4YyqFwCP4B6/XNaNvbk24yy4b595PVvp7fzpgtU1CNdij5V388EAdFpjPNdbI4Yym9zGX7AAcmtkzklyz8u5ZjKTFRAVMRBBGe4PJqp9smvLyZYiVhWIoD3QD+Ie56VI0K6NZySuwZs4Uf7Pp9TWL9sur3z2th5aoAzFRjPpWVSso6dS6dBTvJbd2bUMMbnZPJ5XmRLHtDcoPT8e9WYxbxmSOBxKZTxF2UDjA9K5270q7hWM4kkdgGbHYntWVb3jnU5rW1lY3Nv8A6wKeV9aw+sVE/hNfq9J2/eLU7sXljbEtGcBiAFH9BXNJL/aOrbruTFvE3zFuwpbOKS/BiW/+y3QBTc65yvoPesDUtFvtTulsrO7W3cE7mLYDYolUVRxu7ISi6EanKm5Jf1YZ8Sb1ZtMhsxGqvPLiKJTyEHO4+lang2a21fw1DFJtNzbIY3yeTg/4Vw3iDRtQ8PXSjUlM1zKhMcu/du9qxPDFzPqWqLZQ3H2O5lJG8vtVvavWlh41KNk9EfLf2lOlieZqzelj2V9MiTM0QDxkYPPQ5xVS6sXtCWiJYKeTVO08E+K4IGik1sLGSCIlXdk+ma6I2FxZaSY72YSlQdz46mvm8TThD4Hc+mwmPqVJe8rE3h7VpoFDKSVHDKa7W0vILxVKHDY6V53oClkkIHGa6W1zHgocYrw61WVKbSPIznKsNi5ttWl3Op8ujy6q2d8xULMMitJUV1yprkljkn7x8RVymdF90RKtPAp2zFJ0NJ4jmWhzqhy7igU9DTKUe1c8k5HRG0SZRk1IARwDTEC/xnHoKfwBwuPrWTw7tdrU641LD8e9Js4pFYbuamyABms40HujdVCAx8cim7BjirPVuBxQQOmK6IpxRaqFMxAdqYY1LfMMj0FXggpvlYY981spPdGiqFAwlmyenWkaMiQgDOBV9oQe1MMW0gj8a2UrFe0M6RSdy91xQYjtJHAUYq60Wz5iMk9aQwHduPT0rRTaZaqGeIxK5PRNuPrTfKDAADGKvNFg/KODTTFnPGK0hU7mqqWM+WPbGdqbulEikuABwBwPStARAt7CmPHklz16CtFPS9yva6lD7OXlUq2GAyfamlWJ+UEA9K0WjCqExy3UjtTGXaoUDPGAfStOZW3H7UpuhITaOnB+vrTWtTKh3jDqR071e8hVG9fx+tMBZpAEU5INV7RdRqpbYqNap5W5RknqQeR70jwSblEmAoGPpVuOF43YD5gR09acm/cS68gYJ9qpTT30H7RlMW4UExgMR94ev0pBE7YDenG6rrxrH80fTuPb0oMJaMfwpnG2q51sL2jKyRpFw3yuTkE8gD/69KX2ybVVOeM4q21uqKAQSFOQ3XNKct9xMjsdvf1pubjpcjn6kBs3lUF2C8c4PQelSDT0SMmRuWxyP4RU4EjbcZXjuKd5G+NQzHdngHvT503oiHUfchm8kRiJBu54I/hqVVSG3BtkLZqbyIlZVcfU+tWSqpGeAB6Cq5nq20Yyn0KXntwVXA7n1NSJJnClMnvUqMpx+7/+tUyMuM7fpxWHtrv4yHJdimvyTFwuAetPAPneawwMdKtPgtgD6mg7ZY9uMc9fWuKdS10pbbGbmQoi7GJ7nOalXZuAIp5KCRQB0ppkQlz096xSk3ozOVQaQFyferkl8v2KeN3MeE4ZRkiqRKbU9+1Ncqysc85xivSy+rWwc+el/wAOclSaludDZnNnCclvkHJGCeKnrJsr/Zthl5Cj71aoYMuRyK/RsNiYYiHNE5NLi0UUV1AFFFFAFCdEbWLfciEqjEEnkfhVh7OF0lUoAJfv44zVac/8Tu2yYx8jcEfMfoa0KAK32JRcJKruuxNgXPH1xTEgu4YI0W4EjB8uzjqvpVyigCo891HHO/kB9n+rVTy9OW8HnJFJG6uybzxwPbNWaCAetAFX+0bYxxvv+WRti8dTUVjIr6heqJWYo4BUjAXirvlJgDYuAcjjpVOziRL+8ZY2Us4LEnhjigC9RRRQAUUUUAFFFFABRRRQAUUUUAB6Gs3vWkehrN70AFFFFAFPwN/yIOh/9eMX/oIrerB8Df8AIg6H/wBeMX/oIreoAKKKKACiiigAooooAKKKKACiiigAooooApalq9lpMKyX86xKxwM96dp2qWeq2/nWE6zJnBI7VleKtV0nRreK61SJZpc7YEK53E9qz/BFlCJ9V1KC5QvqEgdoI/uwEDGBQB2FcL8VDjSdHycD+1rfnbnue1bCaf4ktZnlTVIbsMTtilj2hR9RXI/EW41p7XSIb+zCxLqsB86B+Sc9hQB6eOF5qF7tVu1t8MXdSwIHGB71H9lldrgTzF4pcBEAwV9easogRQB/CMA0AU/JuL23iNyWt5FfcRG3XnpVqOCOKR5EQB5MbyO+KkooAKKKKACobwbrKYAA5Q8E4zx61NUN4QLKbdjGw53dKAGacu3T4QQFwg4DZx+NWaraeV/s+Ept27Rjb0/ClkvY1Wfyv3skAy0a9fpQBYqpe6hBYwiWdsITjI5rO1HVXtZIZ1kIDRkG3I6sehz7Vx99NMwAaUlWbhM5C14GY51SwnuQXNL8j0MLgpVneWiN2/8AGMZNxbxI2MbUkU/mayW8T3JmjcBd0a7QzDJqi0CxLyd0rjAPYVFHa+apGQu37zV8biM1xtefx28ke/TweGhH4TZHiy+/vL+VTR+Lroff2mucNudpYNwDx70xVYuB0z3ri+v4xPSo/vNvqWGa+E7Cx8WLDCsc6gkdSoxWpF4nspOrbfrXnjBgf604GTOMZxzx6V20s9zClpzX9TmnleHlqtD06PV7OVcrMv509tStgM+cv515eJ2HQkfjTxcuD99vzruhxRiUvegmck8n/lkehza/axj5TuPsKyLrxJO/EC7R6muW+2t0LUv25h3zSlxJWnvG3oebVyPFzfu1EjSmup5z+9dj7ZqLFUG1Bz0qNr2Ung1zvN4veLOP/VfEy+KaNLn8Ka8iRjLuo/GsqSWfyyzFtp4zVUkt1JNZyzOX2Y2O7D8J096tS/oaU+rRRj92CxrLutWurhCqHav+yKVrcFdx3BccnFKLUquI2wDy2RWTrVavxM+lweV4DB604XfdmSYz54Ep3Fhn3p9xaxxqFZd2U3ADrWkbbLBggcgjkCneV5cK5Tc6r074rekktz2HXeljKhtijTu/yrIBgEcY70vkqt5lTtViMnHU9hWo8D4mk4ZVX7nqKRYTdGFZVCBFLEe/rXdCVtCfb9TPt7YAFURmIYgDvnPWnusbxs9wMKgJwBzxV9EYRL5eFKnlv8+1OCAsyldrBdw77vSulTF7buZ4iaG4i3gNG44/2T/+qiK1GXiQDy2Oc9MAf4mriwSrahvv7Dgt6epqeS2EzxyoCm4g719ugrVTIlVMxlmt5WWNMoX2q3fcf6CtCGKQQmI/Kyj7+Ovele5VZGaSPLxnavH5mp4JDMu5o/kY/Ln0/wA81qqivuZTnK12jkvEfmtfwW7dCAQPUmtC2utG0C3WG9u7dT9+Uu4zu/8ArVJ4o0/faLdR8Swn5j7VkQaDoPiKO1F1bJLPyJBnBOf6Cs6U4RqPnOivKpUwsfZdNyzL8RvDkEY2XgmcEsAi5wfT8a8t0fUW0/xGNXnEhjkkc3AXqQ3OPzr0af4S6OsJ8h5rYru2MDkMexxXn+kafLq2uW2hlmjcyOs7IOV2n+tevCpScHY+ZrOsqib36HZXPiDQ9URbmK+itrjZuZGG3PsPepLaIX9sfIbNwg3KVP3h61bh+Gvhuyt2GpLLOITlpXbj6CnaVBDL4iT+zgILWMdeyqBivExPsL3pn1GX4jEOlJ1tlt/kc74vMuq+GEgSM/a7WTzFPdz0I/Kk1D4Upd+E7KexlVNYSIPlTgMcZx9a9IvdHs720ybfbKxwjAcv71kHwtepcGOC9Yqn3mz92phjp0Uo9jlrUcFipOcnytnIeAvHeo21wPD/AIihZbmBii3Djp9f8a6W/vbjXLsWlmMRZ+ZvX3pZfBs9ws06SJ5u07JHHLt2rkfCPju58Ka9LovjSz8jzX+ScrjZz/KnNfXeapRVmuhnGvh8uilzc779j1HTdKitbNYYxlhgMxFWxbbG4ztBxmtCJIriJJoXEiSDKsp4OaYZIYNQispnUyyqXRB1IHWvlsTGTb0MJYrmfNfcII+RWhAWHQ02OAA7cYPUVZSLbwa8OqjjqVEydPmXmmMmTxUqrgYpGFY0pTT0PLrRiyueDSg4OaVxSbeM169OMpHlyaRIshwSACfX0pBMQeetNVO+aciDzB3Fd6oTaWpl7XUl3huR/FUijJ5NMYYHGN2fyo3Dcqg/MOtdH1Xl3L9sTjJ+mKQHiojKeHXoDjFCNn8DUTw92jSNcnBpd3rUO7B60pfNZPDvoaquicHNNxzUe/BpxkxWUqTRrGsh20FuRSMm9vagPzS78VHK0aKoiJ07L0FNKcYNWARTTWcuZO5qqhX+zjdkcZoMee3AqztFIY6qM7dC1MqmMYz1J6U0xhG5GT2FWjHSCLj1PrV+1HzlLyTuyx/CnEEsNo2nP51a8oEfNSPHnGAABTjUaRXPcrFX3Djn0prI7YAGMVcEXJP45pShbtWqn3Yc5TEQGGX8KeFAYeWOM8irBiXrjp1pQhY/KMH1q1UadhOZWaAknJBHpQNsYIUMPWrZgPBLdPWnbE9BVOTvfYn2hB5BkPcBlp32cmMHoQccVMc9FH09qdtZtuB+FV7RN2SbM3NkRgV2G04Pep1iVF2j9aURDeTnGKVigTk1om1eTsmZuZFtjDcDipF2AdMVDnA465pVkUMd3SuelOblrYiU0SSMnam+YhQgcHH5USSRlQQKjUx4bPGa6lQbn0MJVlYC6LD7k/nTHePKr1749KSIR/MXbJ/QUxSjByB9PcVvTwz02OSdckZVZmwcYHWomVTCmDjJ596RiPIUjgk4PtSMB5gQNgYyDXbHCq+xyTrispyxVslR2NaGnakYzHDM2Vbo1Y4JRWOed2CPWkaORJI1Bz3HoK9TDQlRlzQON4lxd0dqrBgCpyKWua0vVXgkaOfLRg9fSuiSZJEVlYEN0r6OnU543PQo14VleI+igEHpRWh0FKZh/a0Ayc7Dxt/rV2qE2f7at8CTGxslfu/jV+gAooooAKKKKACqVouL+7+UDLDkNnPHp2q7VO02/a7rbszvGdvXp3oAuUUUUAFFFFABRRRQAUUUUAFFFFAAehrN71pHoaze9ABRRRQBT8Df8iDof/XjF/6CK3qwfA3/ACIOh/8AXjF/6CK3qACiiigAooooAKKKKACiiigAooooAKKKKAIbi0t7rH2mGOXb03qDilgtYLVStvEkYJyQq4zUtFABXDfFMB9K0ZCpOdXt+jbccnvXc1wfxXIGk6Nu2YGrW+d546mgDu8cClpq/dH0p1ABRRRQAUUhYDrVX7a0sEctpEZFaTa2eNozgmgC0zBFJYgAckntVG+v4k3W/O+SFnVguRgVL9j3yXHnyNJFMMeWeiinXEax2ThAQFjKrtHIGO1AFHTY7m60a1+0yhJAQxaIbQR6Ypup6nFYsRCgMsnVgP50ybUfs+nwxRMzyFBksMEfWsVkLTO0nJJ6mvk83zr2V6GHfvdX2O7DYdSfNPYpyytNIXkYljlmzTDCjRFQOFXvV1oNoG1c8EU14SUJbgleAK+JcpO7ke3GaWiKBUfIdufLwp/xpn2do3kIPGcDPetBYgFYEDdkNSSQs0jdwfmFFrq/UtVbGcbbIZCvKLkkd6cLfdCsfAb7xJHQVfaNvNKDjcASfWlMQ8xWJ+Urg1SjG+w/bMzLmJmhVwOAcKAOtLLAUjCwrj5cu39KvmApCCoyEOStOEaiYq/3Zlz+NHKtfMftrGUlrutDKOueKPsbgDgFu6+laghYw+Wo27Dn605I8TiQ8iQcj0pqjBpXRXt2ZK2qywyHZ8ymmixZl5GG7D1rVWEtHJEo2/NkH1oEZLpLyMfIRR7KFlcaxDMUW4ZXZhjHAx3ND2e2AMDuYEZ9q2GtwF2R/eB3ZprWw+Yjo65x6NT9ikV9YZnGFpHKS8qiZAHHNRi3WLhhnCgNx61rJHkF5PlXGGBoaNT1HJHIH6VooR3D23YzPswIAJwvOV/lSG2VQSnO4jcCeBxWmIRMWJXaF6/X1qJYRHuK85OSD2rbRDVYzUtDCpCHCHGPanNE4bgcHGM1oLCdzEnC7cgetNaJ2ZccdxWkZJIr21yisQ3hCdueWNILcNPu2cHhferghBlwwJJAApwheOZuRgDBreNTuP2hQaHcj7h91scdMVKIFWRGc4dhnHv2zVia3/cgr0JB/ClkRQ6A8Dpz+prVVLbi9pdFBIXKkudiMdq49KkmV7eYFB0ACY6FqvSQs10gUARryackayOWcbVXIX3Pc1tGXQTqrcoywxGZt65aRcOf7q0jSqgMcUZYBd2B6dhU32JpJiZGO5gSQOmOwqe1tBCm5uWfrVKpJvQTnFIz49PZtz3Y3hzhVPTJ71gap4XktrhJ9HcpIWI2A11k0UrXKqmVQHAb096smJFwSMYXGfRanmT0NKeLqUZXi9zg08QarYD7Nqduz4HDYrndJjh0rxhqms2cDP8Aa1AgUjJiJ5Y/ia9auYLe4hCSIHDAncV5AqvFpaRudtuiqyjOB0H+NV7WcU4xe5s8Vhp2lUpao4uSPVfEsiAp5EGQvIwCa6vR9IstHs/KdFkb+OT1PpWzDYKkw4whXC4/h/8Ar05tNAUbD0OQD0HvWElNK5hiMd7VezXux7IgtG3kmdVTbwqjqBTVkhRnVIwIf4mP8Rq0unju3BOW/wBqp1t4i20AHA79qxlKdtXY4HUimUlWFzGzDYTwqY6Vz3jj4c6Z4102RJwIrxV/czr1U+/tXX/Z42VjH94965HxJc+M7Ysnh7TbeeMfxPJ8xrKhUrKreEkn0exjVnGSszyrwv4u1r4X64fDvi6OR9OLYjmPO0Z4IPpW7rXiqKb4x6NfWNys2n2uyEurfKfNH+NZXjK18aeKtPS28Q6L5axnKtBHuI/GvLS+o6Es1qVZoxJhiQQUZTx9DX1FPC0cS3U052rO2zv1PMdWUdOh9orEMtheo4qXZjB718w6X8cPEFnGiSXImcYQJMnH51614P8AFXi/xCsUk1np7wN1Mc3zD8K+RxXD2IpJyk1Y1+s3R6J1ppxu+tKCygZ69xTCQCD7V59LBpPVHLUr6DGXcfb0pFXfnPSsbxJ4ntPD0mmi54+33a2wyehPetvBjfAOR7d69mngWkpNaM86pVIyCrYHQ0RZXmT8DTmJUc9TxUUPJeGQ8+td8cMk1Y4nV1JmnjTvzSQ4d3lP4VA0CJgs3Gasx7fIbZ93v7VtHDyk/eI9s7jUZmhOePmpc43jocZx61XiZjbuM8KeKlYgyJzwVxmpeH0TKVYUvuyzdODj0qQPvbngDrUKgFRznB2mpFGBg9xWX1Zo1jVJS2e9NDEqc9c1Gp+U46GgMxHuKxlh7msaxZVsDml3Amot3Jz6U3zAFBNYzw9kbRrlgP6UrPtGRUCmjcd2D0rmnh7RN41yyGGMmlDcVV3ZUjuKcrHg/pXP7F9jVVyySD9KBUKkk9advApOgaqsSU5QpFRKcDcST7UK2TwKSoNMv2yHFRnGadtP8NMzj73/AOql8wg4XiksO07sPaofgHB79xTuoyOBTC2fm/iHUUhlyOPxBreNLluw9qPZTjk8UBkAqMFs57H3oOwcsSKcaMkroh1kTB/l4Hek53ErxUfnKPugkUCSRvkA2+9dSo301ZDrD9vBZ2zmm+XlMkiocsz4Jzjr6ChhuXMb7hWkaClpymEq5MwjAAJ5qNthzg496jITHL5I6n1pGVOcPggflXVHD+SOeddixvtyJBkZ4ps+1ShDZB6/SmeaqfK/zbhwaZIyKwY847eldMMPaNrHLOvoOmCDbj7pPSkkYGRQh+Vup9KY7xqyfN8pPNNkVUnUk5XHA9DXZHD9UjinXHugMoj3fJjPXrTBGzO4LZdQNo9BUfAuCHbAYYV6VVHnMjNhuqe9d8MMrHHKtcQRloGdGyc/P60XAdGjIYsn8OKYisDIocbyeR2xUe1vsxVGO4Hp3zXbTwyOOpW0Hnzhc7c8suT6VYsrmaCVVn3MkTBlXPWqT+a0Ktu+deduelDebMFcPyoznv8ASvQhQOaOKnTnzQvc7C2EN1FO1vKytMctz90+1WBDOtyjLNmJY9pQjqfXNcbb311av8vDjjHY10+m6xHdxhZSEk6c96qVKS1PpcFmtOv7k9JDS10l9ZtPCJJjuDlHwFXPp3q618I1uGeJwsHU4+99KimwdYt8+WTsbBJ5/CrxGeDyO9YnskS3UTSIgcb3Xeqnrj1qRZEYZVgR6g03yIzL5hUbgNoOO1QPpsDRxIu5FifeoU45oAt0VUa2nHntHcHdIcpuHCU7/SluE5RoQnzepagCzVKzfN7eLnO1xxtxjj170n2q88mFvsvzPJtdd33R6061/wCPy55f7w+8OOnagC5RRRQAUUUUAFFFFABRRRQAUUUUAB6Gs3vWkehrN70AFFFFAFPwN/yIOh/9eMX/AKCK3qwfA3/Ig6H/ANeMX/oIreoAKKKKACiiigAooooAKKKKACiiigAooooAKKoa3q8Oh6VLfXCO6RgnagyTxn+lLo2qRazotrqMAKxXMYkUN1ANAF6uE+KuDpOjbmVQNXtySy5HU9q7rcPUfnXDfFQkaXozAtxq9v8AdGT1oA7kYwMdKWoJ7qK3geSRvljHzY5IpvmzPcRGJVNs6El88g9uKAJZZ44NvmuE3Haue5qubmW4e6t4FaKSIALI4+VifSnw2YFukdy3nlW3BnHQ1ZoArC13XEdxKzGVE2cHg+vFWAAowBgUtBoAKoajcAQPErcuMEjtTr29EC7V5Y1l7i7bnPJr5POc49lfD4d+91fY6KVO7vIppb+XGFySFGAW5Jpdm48jjFWtuTQSAMV+f8sr8zZ6SmV2XaQRzjnFRNHluegqyy5YUCPJHHFJzlNlKVioIeeP4f5VIItoG7t+tWvLC9OvammMPgH8K3j7nqHtLlRoyzADjHQ0vkq0e3Hy57djVvywRgigIOoq1JqQc5V8o7vQ9PY01YByW59vSrpTPGODSCECtL31D2hTEZyMc4HWl8rn5uDnn3q35ZHKinGMbfmFVHUPaFMwlQMDKjJFMMQbrwTzV5MdMUwQfNntTcuZe6CqFPyCB8nc5FAj28sM1oeSAoA6UxoRz7VTi0ror2pnshfjb9M0Km35sdOtXigLDaORR9n5JPJqFJt6Mr2hQaEkb0GKUWy7c9Bjk1c28hccUrxnaBjr1rSE4tXQe0M2W3EhyeAOlOMW2P3xgfSrjwkAD160pj2Lg9+ntVKWrTK9oZsMG2RS/Unj2pZoMseeCefpV/7OC4Y9AOPemiPfI2R3qr2XKV7XW5R8sNsRT/8AWps1tukV1PA4q6LfaTn8KWMFjyMEdMVUal1aRXtGtilKjLFtAy79TT0jxhXH8OTirnlfvh/s0hi5baPmHJ/pWynre5LqaWKyxgZbHzt/nFG3cRjnnGf5mrDABlI54wcfzpIYm2jjgk4+lV9YTdkLmKbsYtuVJyeR6elPa2zNvY5DDDL6egq15YZTkDd2z60qh5EYEY7D/Gl7RN2uNzIPLRAMbcDGR704Fihwm7Bxx3NTLCkfYZx3pwYquFAGOwo9sktWTzEPkSygI/AHOR3qS3hJVlkORnH0qTEhDEYFOhDIpDHAPQHqaSrRTu7mcpuwG3yvBxgce1QxQh94U9P4vWpjHIY8c4z+NPSH5fkOPauOtV55bEc7SIY7dtwbO0D7oFTLEc+pp6pjAJ6daQkqcrzzXFZPoRKoAyp6Z9a8F8Y+HVf432+mrFi21WZLlsrx8oy9e7eaRnP1rLu9Is73XrXV7hAbm1jaOM+gPWvVy+q6EpNdUzhrVDn9f+EXhHX4SXsFtpD0kg4NecXvwU8S+HpnuvBuuyHYcrEzFSRXu5YbcKflzj6UxmZRkdhkmvXwuJxNNct7rz1OCdZI+foPif8AEDwfKIPFWlyXUKHBkZMcfWu38P8Axv8ADWt4S8dtPmPG2Xpn610/irwqniW3MN1dTRxlOVQ8GvLdT/Z4t3f/AIl2pvGSMgSLnNevCOGrRvUjZ+Rg68H8RB8Xdbg8R+ILa10q5SaHTYPODxNkeaTkH6gCvWfDnivS9V0GynfUIRK8K71LgENjpXzPrnhLV/AutTW7yrK/keYrL0YZx+lR6BdW2palHY61c/2UHIxNtIFd7wsJwST0QpRUo3T0PrnzIZdpWQODzkHNJAV8yQnkA8Ed6828P/D61tIUuYPEl9dRn7pjmypr0OLZp9iiAs3y43MeWrBYZc2h5NWrBO6ewtxdoHxtDdvpT7aUy5AXav8AOqq273DbsbQelJIslqYzv49KaoO92cXt5X5nsWIii3DoTtB9aAGMbIf+WfIPrSybZ1V0ALDnFI0mVEyHaAcMvrT+rl+1Qpk8skYPzDcPrSu5ZRID15AqKQHzAuctnIp4HyLt9TjPY1m8PccazuSIeCFPB5FORtwwTg9KhYcgx+tKJATgcHuRWLwxvGuWN478GjcDkZz7elQlt7fN972p3CnK8k9qylhzdViU9MK2TijdkDj/AOtTFYg5GM0LJnjFYSwxqq5MT68e9KGA71FvzgNwBQXA5rJ4ZI09uT7s4/nSB8cLzn1qNWLcjjFKZfuqOo6msXhupsq5IHJB5wKUSDGBz6io1B5DfhThg44waSwsty/bEm7PO6gSdume1RsAVyT9aRWB+Ujrxmj6u72H7YmU/wB44I9aGlHUeuCDULAqwDNnvzSebtPy8cdDVewtoHtiZSd2QtIXU9WPX0qNsnBQcnrg0nBILOM0/q/SxHtmTecij7x/KgTNztBJboTUJm5woU0h891ILhfQ1vGk+hDrkjNj/XOApPAHc0hACnJ2p6DqaiYRbf3jbmH86NyonmSHgdK0VAxdYVpVTnaSScAelNaZAzKyfd5+tRpcLIkkm0jspPambyFiUqMk5b3FdEaJzSr6aMlZ4+OoI5z/AEpJZE2lSvPb61WeTeG+QN8/B705p1BKsufm6GuynSZxzrrqOLRFQrD6PUJbcm1vlZTx70wShV+Rc7s8+lNlk8tQu3IyCa7qdE4alfqTs0ckm1Tyvr0FRyc52Ell7dzUfmoWG8YwOwpQ8THhm3ZPI69K76dE5ZV0xS+8K8Z56kHsKXhzmKceZjnnkmqzSx+YYxx8oORSlE8zdu53feHU13U6BxSr3Y+VSCGkbY2do57UjKyyI7NjJ+8P6VVEn73ZI24K54b1ps0nzKQTiE4YDqM13woHBLEqzZbLFvLWSQck9TULOwZSZcBH5YHofSqxkJ2pnJQ7k9xUXnbll3DIY5I710xonHUxSub9j4iuLW+iN8UkjAI6fMPxrsLPWLO94imXd6Zry+Rk2qU+dVHPtSG8eBhJBx6YPIrCpl8Kmq0Z7OB4jxOF92fvR/H7z2DINFea2fjO7t/9afMAHQ1vWfjuzlwLhTGfXFeZUy7EQ2Vz7DDcSYCvZSlyvzOsorOttbsbofup1P41dWeJ/uup+hrilCUdGj3KeIo1VeEk/mSVSswftt18pA3jBLZzx6dqt7hVSzXF9dkKgy4OQck8d6g3LtFFFABRRRQAUUUUAFFFFABRRRQAHoaze9aR6Gs3vQAUUUUAU/A3/Ig6H/14xf8AoIrerB8Df8iDof8A14xf+git6gAooooAKKKKACiiigAooooAKKKKACiiigClrNs15od7BGoaSSB1QH+8VIFUPCOnT6d4M02wu12TQ24Rxnoa3KKAOVbwRH9oMyapfq+7cP3pwD9K5X4gaTqdtZ6O15qct5H/AGrAPKACnr1zXqlcL8VMf2Vo2/BX+1rfOWx3NAHZpaQpLLKFy02N+ec4qYAAYHApAflFOoAKKKazBFJY4FK4DulUb6/W3XanLGquo6qqIUhb5j39KxvtAfOSc+pr5vMs2Ub0aL17k86RaMhdt7nJPNAmBqsZNuAehp2QG6dTnHpXx0oNvT5m0axaLZZsdBTRlsBv4TUKyHDN6np60/epkYA9ql4dS3L9uPAIb5ecdakD7VAHPpUAlOwP2PBpSQGIBzkZBpxw/LsV7Yn3eg6H8qOM5yP8ai3E4A+XPX3pD8p5/L1q3hn1Q/bonB3HA4x0oIAPNQq5Jyox9aeQWYEnBFUsK5LbUPbkit2A5p3fmoQ48z04pzMRnIzWkcLoHt0PP+zQCQMHk1GrDPB70jMzSDsKf1dLUXtyUAAUwgsfagyALz0xn6VEZtxGzvUVMNHRB7dE+QMZ5zSH5vzpiDPTp2NPHTiq+pua1Gq43hX461IvNRqPm9x196VnKtnj/Cs1hZxV3sV7dCttElOZQWBNMLK5XPBxk0hbn5u/FS6Din2H7ZCsu5cj1pGTcu70pwYKQG6GlzjcDxk8VLoSvdmiqoayghcU1Yuu3qafuB6cEUBwG4qXB31KVVEYi4JPWkWH5SRwamHDc9DSgjtU8srWK9oVo4c5ZuKQRlpGxwverII8s0gACcVGqSRXOVxEqgccClwc/d4BzUuzvR16VHPKPSw+crtCobcQcZ6U9ojtGOBU4Xj5qUhSOOnpVJ6Owc5B5S/dPJHOTQFCtgICf51KVHU/lS7VK4BwfWk5T6IXMRKsrYO0L6ilaIA72OWHQVI3mBeDj1NV/MAb5zmuevV5Pdad33DmuT9B1yTTcqrHHBFIx3KHXjFMkIZd3eifM3f5kOSQ9sFi2eDUchIPyn8aiLlkwKjWTt3Hf1rany39TjqVLIeXYYOeM1GzBs54Ht3prSfKRng1D52B+letRjHRHlVqzJCRyobAzxRlzC/+6ABVcyLnLdM8YoDN5Zw3IJwM9a9yhSTPLqV9SwzShHwAzbcfQUjzFZE47YJ9agid0KlfmUgjFHmsQUbGB0b0r1qdHQ4pV0ebfFvw1Nrl7oTWSEObn7NKQOfLY5JP5VseLfhroniWxS3mtFguIkCR3EIw3Axz611zTbinnxB9vzbsc+1O3M0iknAT5j/hXpwptJEPGzSSi9j59+x+N/hLqDy2e/UNJVsspyyke47V6b4R+KWieMFjhkkFpe94ZDjn2rr5Y/OR4p1WWOYHKMM15h4y+DdnqFwtz4cP2C++98hwrH+lbqkzRYyhX0rqz7/5nrwljRPvgDtg9ahe6t3ysnPr7V8/ab458U+ANTTTfGtrNdWacLIeoHqD3r2Lw74o0DxNZedpV0kjMBmMnDKfTFNU4syxNKvTXNGzj3N0Aw/vLblP4qiJy3no3yM3zL6Vm+JNVk8PeFL+/U5SCFiAe56D+dU/Bms/234NsNT/ANZI8f75f9ocGr9ijhfN7P2nQ6IyHceyKQUb39KRHZz8/wAgzz7VEZBJG2wHYQCQP4aA7ncZTgfwn+8Kl4cy9uTM25NqNz3I/nQQU5JBx1xTEEY+VSQucbvajoWRVyR056+1ZvDmvtnuSBiGG37pqTO4gIQOOTVfB4ZzhenFORx5oRDgVk8MaRr9ydTzhepoOWOF7VDlVYhS3HQ0eayFRjnvWUsNc2Ve25ZU5baPxNDMGbA6dqjjbCsW+6Rkn0qEPvbOfl9aylhjX6xYuhtq5J68CmoPnz1HamSHg46AU0bo8Et9fas/qpr9YLbMOuc56UoJLH0xwaqxyiTr0WpGmCyBTx71Lw7NViNLkxbK+44pkkgQ8cfTtTQcKSaY8qrtLcjHIqXhhuvoTIxcHzBwRkU0P8524PHHp9aZHOGYLjA6Kfakd0C524OcECj6sHt1bckBY5x8mOTilyAC3yuKjkYhPkHzHqQetBCKuSuR3x2pfVw9sKzRN1U/hSARkf6wj603cyECMggjIB9KY77j+/j2jOMirWHM5ViXdbxHJOfU+lV52M8gZASg7elPC269x7ipUIx+65HTNaLD3MnU5tLkE1yFVYlTJ/u+lNmlKPGxXnvxxRdh+VjUbvX0qBbkNbmGZsPjHNbRonJUrNOzZIXKo5GBlsrUU0xJJXHyjn60yXMduN7bk7EdqhMgUhv4dvJ9a6oUjiq12tCb5lUyK4GRnHpUDXLknBBUHGKiS4zE6nn/AAqAPsUlThvSu6nSR5tXEdi1JdupXcvWka+VONo3e1UixY5Y5NMlO4ggYxXoU6auedUxU0ro0vPRnG5RnHSqsl2RclQfl3A5qrI5bB6ECmMQQMDBHU16FOkjjq4qUtEX2kEVx8nzB+Wz296gDPLuCnAY8t61XyfWgMR0OK6lTSRzus5bkpnMShQOR3NRMcrlWyfSmSyM4O4ZqLdWsYgmSJKyngjB6g0sjA4x9707VDS1XLqVfSwHk5pKWkqiRyu6co7KfY1Zh1S9gP7q5dfxp9ho97qTYtYSw9T0rrNM8CIuH1CTJ/uLXBXxeHp6T1Z7mAynH4nWkml32Miy13XbnEVpmVvpXZ+Hnu5Fl+3qiTKQHCjqcVo2mnWtjGFt4lQAdQKZaHN9d/Mxw44K4A47HvXzmIxMartGKSP0XLMrqYRKVWq5P8C7RRRXEe6FFFFABRRRQAUUUUAFFFFAAehrN71pHoaze9ABRRRQBT8Df8iDof8A14xf+gin+Mtck8NeENR1iGMSPaRGQIehpngb/kQdD/68Yv8A0EVm/Fj/AJJXrv8A17H+dAFvwV4oPiT4f6d4ivEWA3NuZpFB4XGc/wAq5/4UeJtW8Xxa5rmoTf8AEva+eGxixwsacE5+tc1pepNpH7I8d3H98aSyLjsWYr/Wut+F9hHpnwT0hYhtL6d5z47sy5JoAreHfFF/498Va7Fp1ybTSdJl+ypJHy0snc/SrHhfxZeRfEPU/Butv5s8EYuLS4xjzIz2PuK8r+BV94si8LalJ4c060uoZr92lknkIYtir9hda3L+1FYN4gt4rW6ewwY4GypXtQB9B0UUUAcl8SPGkfgfwnJqG3zLmVxBbR/3pG4FZOtN4m0TwC+vDUDNf20IuJrdl+Ru7KPwrkP2l3lFl4SSEBi2qghGPDEAYBrb8R6l8QH8Iail3o9gtubRxIwl5C7aAO+8J+IrfxX4VsNas/8AVXcQfH909x+dbNeWfs6SNJ8HrAMSdksijPpuNep0Aea+HPFWrWnxk1rwlr8wkhljF3pjEYyndffFelV4t8UZJNK+OXgPUrY7ZJWe3b3U8f1r2kUAFFFFABXBfFhgmj6MTt/5C9v98ZHWu9rhfip/yCtH+bb/AMTa35xnv6UAdyBgUEgDJPFZ91qkVp8rZ3Y5ArEu9YuJ+IsoteVis0oYfTd9jOdRRN281eC1U87m7AVz13q1xcscHap7VQfJbcxyxpRxXyuKzSvidL2XZHJOrKWg7JPJOTRyDkU3ODzS7gPxrzrXM7sehLsd7cjpTlLq438DuajRgvORnOMUOS3y7sjNaxpK17ah7S3UtNIu7fuyOyipIwHUybcE9BVSNSQrcDHXmhnkIOZBgjOM10xpvdofti1AzvGVbgdqEmWJmSQHHY0QELEM8nGalwjdRkGuuGFbirble10EUsU+X519aDt3D5uOuD/KmLGY87HwueAaTI3jMqnnIrZYbTVE+28ycSZcqB7UvJyBUDTKvK7enNNEruvycA+/StFh7bi+sFliqjIPIpMkhSvHNRKMfMTjI5FBkG07ASR1q1h/IPbkh4k3EUrTATDPINRbmd/w6e/pQF2sXP3u31o+rPZC9uTN8wx+YpEGF/lmo1fOdvOeBSEFm5PHQ+1U8Kt0g9uSCbcwVeB0/CnPI6g9z2qIukYJ4OP8ihJGZ8kcY4+tQsNbRj9uP3ODx9D7+9PLBTg/me9V3kZW4GT/AEp/mBl5Bz1+lJYVLYaxBI/IypGRxS7w2V6EVDxtARuTRuD4L8HPWoeG8ivrBMGyMMOc8Uu8sG3H5h0qAS5kMeOh45pDKMnAOfSsXhjRYgsbty5yB60ZBbGOOuag3KzHnjbigvg8dsVlLDabFLEFjPyfQ0K218eo4PvUJOPm5waFbIDDtWLw2uxssQTg4B+tLvzgVAZPlwOlKXHboBWbwq6FrEErtzgdKVWBUKPzquZCV4HFOiO3+tY/V/fKWIJyRz6CgngjtmoBL1x0oDZ78Ed6l0E+harkx6fMc/0pN4K4/I1H93q3A7+lG/IOMc9qh4fyH7Yertu8uT86rT/K5AGOalOCBk59DSOd+3P3hXPWwfPCwKuMVpNo7Ck83cxRvzqSU74PTFRCMJEZG5JrP6pKDtHsJ1rkTkq3FRGpTll3EcVFmslTcXcxnK5HJnHFQkcVYI9elRFea7aNRxZ59aFyswOKYZGUYqyyVC8Ve/hsRFbnjV6M7aERuWGM+tKt5hyx7dKjlQ+lV2BFfUYWUJ9T5/ESq02aEcm6Jju+8MAVK8rlZWQqSAMH2rG3MOAcDvT0ufKynUYxmvdp0UzgeN6S0NVfMEwUbeF3daitGL3LTzycrwEWqgn23IbdhSoUn0NSKIjHIquQw5YjvXWsPoSsUpO66GZr1tpWpiWPXlie2HGZO3414j4w0PSvDGojUvA3iEGRTk26tyPp6179bWlteWjJPbrKhPIkGc1z+p+EPDd5NtTS4BI3VkGMVNTCuo7RPRwGZwwcOes21LoeO3/xa1DXPC40TV02u0iBpRwGUHvXT/D/AMcaf4csLyzu2d4pJvNt2TkAEcioviD8NtL03RTqVkrIySgOobI2niuI03wBreo6PNqWiN5kUchQR5wWHqK5HSqQlbqfSU62AxWHuvdi317nvNn8SfDl/t26gkEozuSQY3V0dpqNpe2qz2cqzRE4wpztr558PeJNK0C4Wx8X+GwrqeZypyPevaPDWt6BqVns0K6gGeVVOD9CK6KKU1qzxMfhXhtacW133R04kPAXDds9mpIiwd+QCvY1FJkqVRcc8rnr9KjyoYfvMlu/v710ewTWh47rtPUtu2HYBspjmmmYbiEGemKjDQLtj7A4z6inGSNdpTCsn61k8Oa+28yxExYnI+bsPeohN+82j5gai8xpWDIdjf3aWMB2+Th84YenvUPDlLENpJFwkj5F5Gefc1AzK02yIYTuae7hY8oTg8Z74pki4jz0x/Os3hzolWb2JnkVNqA8H/OadIA20Z6+vpVWBfnHmDd6A+lBZppmAbhTkse5qPqwLEu2vUtxqqlv7v8AM0yP94Gkc9Og9qjM3yEnhcYGKfE+YA5GCx6Go+rGyxCb0JZmdIc4yxPT0NRRr5jFpO46e1NluBFKC3IHb+tPVwIt553dv6Vm8ONV1KW+xMvRRjGO1NO3dkA/KeTUE9yY2UZye3vUeXm+cnahPI9qbw2gPEq9kXWPyFV6Z4+lMUMAQ/rgj1ppyqOIzxxjPrVbdK7Dc2GHP1qPq5csRZlsOocqCTk8ZpG3bihbbj7ufSjOFyBn5R1qMNuyk3HPyntmmsOJ1tBTHA24PlH781F5klsOFymcAihvlwR86n7wPUe9CkyxGPG5F6juKaoGMqt/UsRODGN4O7vioZoIpZNx4J/Soy4tJgwkLRMOh7U2d3N1GqjMTdCO9X7EmVdONpLUjYxhWSN849eQKrMu1iRhhnkVf3IsxjQL5nVhiqDxyzzv5WSAeSa1jSOGs9rakcgUgkDaR1FQO25uBirDRyRDdI2OeD6mo5osDevK9z71vGNjz6t2iGkxS0Vqm09DlauMK03bUuKMCuiNdoxlSTIdtGKmx6DP0q5aaLe3xHkQtj1IxW31qMd2Olgq1Z2pxbMzbSGMGuvs/A8z83UoQeg5rXg8FWEePMLP9ayeZ0onuUOF8wqq8ly+p50sG77oJqzBot7csBDA5z7V6MukWVvqMMcUSqpUnbtzn8a10iSMYRQB7Cuaebv7ET3aHB6TvWqfcecWnge/mYecVjXPNdLp3gywtADOPOfvurpO9LXBVx1ero3Y+jwuRYHDO8YXfnqUE0m3hhlS1Bh83qUPT6VMIJEmRll+RU2lCOp9as0VxNt7ntJJKyKO3UPIiG6PzPM/eccFfb3ptgZTqN95iMsYcbGJyG4rQqjZ5F9d5UDLjndnPHp2pDL1FFFABRRRQAUUUUAFFFFABRRRQAHoaze9aLHCk+grnzq8IY8N1oAv0VQ/tiH+61FAD/A//Ig6H/14xf8AoIrgPi18RtFHhjX/AAyDMdWK+QkAjJ8wnByPau/8Df8AIg6H/wBeMX/oIq/Noel3F6Luewt5LgHIlaMFs/WgDy6Xw3exfsqnR7mIpdxaVvaPuCDvx+VdV8J7yDV/g9oXksGH2FYJMfwsBgiuymt457aSCRQ0ciFGUjggjGK86+EPh7VvCEOt6FqEBWxivnlsZc8NG/NAGP8ACG0/4QTV/FHhvVc20YvftNo8gwskTDsam0HSW8RfHrVfFW1v7P061W1hlIwJHwCcfSvUrrTbO9ZWu7aOUr0LLkinJaw29qYbeNYkwRtQYoA4PSNX1fxva6rqmmXps4LO5ltrSJRnzTH/ABN9TVDVPjVZeH/A+i63qVjNK+oFo2SLkIyHDEn8KPhjdR+GvCeu2Gqf6PcWOoXLlH4LqTlWHrmo/DXhi5uvhHp+k3OmxyzXjSO7Trn7OruTke+DQBF8Z9Hk8ZfDzStc0RGuHsJ47+NFHLJxnH4Vs+L/ABRbXvwnvJdPbzru9sxHFbqMuXYYxj8a7fT9Ph07SrewgUeVBEI1HsBimx6Pp8Uwljs4VcHIYIOKAOY+G3hu68H/AAx0zSwga8SLfKD0Dscn8s1F8LvFV/4t0bUbzUtgeDUZrZQgwAqNgV20siQxF5WVFA5LHAFeWfAWeJvDOsxiRd/9s3Tbc8439cUAZXxUU6n8cPAWmwDdJFI9w+Oyg/8A1q9rrzLw74Y1TUfjRrXivXrbyoLWMWmmAnPyd2/GvTaAOV8S6xqC+JNL0HS5Vt5b6OSUzsu7aE7Y980eE9cvbzUtZ0rU2WWTSpVQzqMeYCuelWte8OSanqtlqllcm3vbNXSNiMja3Xj8Kd4e8Of2Pc397cT+fd6g6vO2MAkDAwKALkfiDSpJTGt9DuXqC2K5P4n3Ec+jaM9s/m51e3wYiCetdXdeHdKvF2z2UR5ySFxzXA/EPwvYafHo9za+cudVgHlCUhQM9qAPQbg2xEz+V58sQG5FHOe1VToyT3Mcw/dwlDvixzuPStaOJEJZVALY3H1qTFYSw9KXxRQmkzFk8Owt9xiKqS+HZV/1TBvaulorjqZXhan2behDpxZxM+nXMP342x7CqxRh97j613xUN1Gaqz6dbTqQ8Q57ivPnkkFrTl95zzw19mcWE+U8fN6UBP3ZIHK9q6C58PkDNs/I6A1j3NrcRBlkjII7+tck8BUpv3kcFSnOG6IIny2xuh7UmxWl2DKmlZWwjAZC9fWnZbc24fNtypFaU8OrHG6lh8M2JjDjIXvU7yMPl5zVPaxMLfdJPJAqUSOZHyBlRkZP8676dHQj27S1JCqIQ88nXjHrQB1LBYww4z396qJEXPn3UnzE/IvrU7xxuwNxJuIPaumNDyMvbPcsB41KsMEZAPH3jTZC4Zgg/i4wKbPLBtCISqr120w3JKEgYx6noK2WH8gddbXJGEpwS/IOOB1NS71jjJY/N1yO9Q+ZJICF+Xd8ynHQU2OMrtDMCMYGewrRYcFW6omFwrv8g56A0ib1Rt5zyQKZ5m35QV289OwFN81mC46Hk57Cr+rk+3vuyfcqbVHBI6egpksrcLGOTyT/AEpFCMxY8Z9f5UnmbV3NjIOB7mn9WVhuu+o4IqhXkPPU57k0n2nLlIxx6/1quoedCZjjB4+vrUjSKmI1A6ckf3an6qR9Y67FjzvlJAzxxUQuSPlKnJ6+5pgnk3Llfl6/T0FJNN5bqSOp4P8AOp+rFvE6XuT4UNuB6D8qQuxAVhkjke1Q/wCsBkQ456eop28PuVDtk6H61Dww1iCTjcP72M5oLMCJO56rUKMXAJHzL09wKQOTycfN/k1k8KV9YLDENnacYGaUyAsBnluD9ariTy9v5c05jkdec1lLClrEEqy9OxzTkfHTpnkVAjb87uue1GcMcdzwKxlhjVYhk/mc7Rwc/lTkbOVPPv7VX356dQelHmDeFJwW6tWLwxosQWSxPHYfpTVc7fUVAjMmQ3c5Hv6VKP8AVkjr/KsZYa5rGuPRsn29KVn3Zx1/lULcpnOKcjYUqfqT7Vj9W0saKuPXgZY9skU4yD0/LtUOSSCemaGkCjIAPPSs/q9ivbk24BeBweaQuRgj8DUW8nntngUZPHcVLw5SrEiEA5boeqmnMMxlQcjsahO4DJ605TngcKf51H1d7WK9sOHzQmN+COPrTEVChCDLd6cwwvz89vpTVf5gyfKRxmk8LrsJ1iLyv3e5zxnpSxwrKhI4AqTaRhh0B+YUoCgMEOUPX2qI4NJ7C576lZo/mIWoWXAzV5BtGxyMsOG9qg8kSIwQHcp6etZ/VWndESkmtCmyA9RUT22aveXxvfgDjApXhVUDMevpW1N1qesWcc6EJrUxpbUg8CqbxMMgg1vOgYDb17ioGh/vLXvYPOq9J++ro8HF5PTqfC7GA2QcHOM1OLnC7EXhhz71oy2aOORVOTT3B+TmvrsJnuDraT91nzVfKMVRu4aoWCcwTLtbCH7wHaoLk+bcFoOQB2qKWKZPlwcd6iW4a3bKrzjB9696nKnU96m0zz2pJezqKwzVbG31Xw3e6ezbpbmJlGezdR+tR+F9Cl0TwxY2ez95EgMh9WPJqQTI0wf7pzmpWvbt/lUjJPQGqdD3+ZHdDEXoewlte+hHqmmaV4gjNrrenxOTwH2/MPxrzfXPg9c6RcG+8Kak8TZyse4j8K9BmacMskuQWPBraszG9vskcycckdq562FpySk0ejl+OxdJuEZaeex49p/xN8T+FGFr4qsJLiJflWbHP5969D8PeO9B8Rxg2l2kc2P9TI2CavXlrbywyWmo2cVxaucDeMkV574o+EOmxul1o14bGR/mGXwo/Gub2Vaj8Duj1lPBY7+NHkl3W33Hre8OylV+ReeKyfFeuw+HfDF3qQAYwgeWD3JOMV4nB468VeB7tLLUJ47+BDhfn3ZH1rS8U/EDTvGWk6fZQK8TiQyXMbfd4HFYvFR5X0ZrHJZwrJv3odz23TbyLVNLtrxHUiaJWyvqRzVvgM4VdpI6+v8A+uvJfAHjrSLXw7HpupXoimt2ZEJ7pniu7tfEOmzKvkajBI2QQvmDkV0QlGcb3PPxGCq0pv3dDomZRGOOU4x70gfLJz8uMn296pxXkdxvdG3huy96lEoYgqMAEZ/pVchy8rZaLLuZR3GT7egpkQHk7M7efvHvUKtiRmzwc49x3NRyXI8px0YY2qOePSlyNitbVk8o+ZQP9WOQB3PpVkN+83dlHA9Kz4JmKq83DHhV/mac90sUjZ6YwAfSh022TF8q5iVVDBpX+YseKmcnyShPzHgfWqyShYw3r0+v/wBamy3O2TanJ/h9hR7O4r8q9SWBPmIm5IHGe1Wf4V3dQenvVZZAI25/eDBbPc1A15kIIuWB70vZXHzqmi61yiSMG+7jAH9ahEzzMF4UnuR1qJDskZpiCe2fWmyXe5digZH3Xp+yRlKrJ/E/kWo5lQgMxJB5B/nTnHmocNx1/CqTZGTLjJHBpPtLnAX1pexRKxEkrSRcV/L4UFs/eH+FM84s245QZxkfzNRrcGJAx+ZSPypPNMuVwAOxNL2SG63QlL/MVX5+MNkdajLO6xxBuF5Vvf0oG6KQ7m6fdxTZppFYKqhQxycfw+9P2SZLq2V2Sb1inW42ElxtPsaiYO8K4JVt+GFBeR4iozyMsSOh9aiId5CGc/MME+jCj2KM5Ve2xJdgy7uCPLwo96ilt3EGEJIXlh6GpVczRFVPzN3PYigyNHAxHViCx9DS9kS5Rk3J9SukabxHyMj5sim7ELsDkBenFWlYSSlmX5t4wR6UxgFeWMDO4k8etS6dibKxA1tIqqepboo61oWPh67vZlQIUUjJYjpWxoHh57jyLq6+VU52+tdOLOSKGcW0u1pDlMj7ledWxHK+WJ9XlnD6rx9riNF0RmaZ4VtLIBpv3snfPSt2ONI1CxqFA7AVW/0wXSriNoPL5buX/wAKI5bxLeHz4VaVmxJsPCj1rglKUtz7ahhqOHjy0o2LmKKrNeLGszSI6rD1OOv0pyXcLSpFvAkdd4TvipOgrzE/2xB/rMbD0+7+NX6oS7X1a3cZYbGAYPx+VX6ACiiigAooooAKpWgUXt2VCZLjO3r071dqlZtm+uxno4424xx696ALtFFFABRRRQAUUUUAFFFFABRRRQA2T/VN9DXDkfO31P8AOu4k/wBW30NcO332+p/nQAUUUUAbngb/AJEHQ/8Arxi/9BFb1YPgb/kQdD/68Yv/AEEVvUAFFFFABRRRQBSudHsLucTXFrG8n94ryauKoRQqjAAwAKWigAooooAiuLaK7gaG4QSRt1U9DVKw8P6Vpcpk0+xht3PUxrjNaVFABRRRQAUUUUAFcH8Vtv8AZOjb9uDq1v8Ae6da7yuE+Kxxo+kHcq/8Ta35Zcjr6UAd0v3aUUijCgCloAKKKbJIsUZeQhVXqT2oAdRVZ7wfbEt0Rz5iFxIB8opiWs0tui3ku6RJN+6PjPoKAHSXg23C26mWaAcp0yfSq93FPPF5j/JEYDvjAywb2+laIUAkgAE9T61Hdf8AHpL1PyHocHpRuBgNoHmWcMttI+7YDh+CfrWPcQS27bJgVYNn6iu1shtsYRgjCDhjk/nRc2cN0hWZAcjrWEqEG7nmYnARq6w0Zw5OQw3Y2tkU1woeXJwWwMZ6Vq6poktvl4AZE2846isUupkw2VYsM+1b06K6Hy2JjUoS5aiHMLfzFEspxEowPWp1aA7t0mSR1/uiq5COwyoYsx3Y64FRP9nY7I/lMhy3sK7IUDhlXcdrFwSqyMqYjjH8R/ipizhZFSJPlPryWpgEI27iSh+6np7mnR3EMLMQpY4+/wCvsK6FQ8ifbO6uyxJcMtyYlUDcMDJ60L5pY+cRgHay46/Soo5zKZDMpVgmV45ApqPLJaFtvK8oSeTVqgi/bXd7sl8tUUnk8kMM9fSneegQnGWxnA7n0qsy+b5bKxTcMn2PrUsZRMDcG7r7+prT2KIjWlfTQZI73aAoNuTz9f8ACpsbQIz1QcGqzSuzIIMAZx+HrThKfnDA4bgY9PWj2KJVXV9xDO00nkR/6vGC38zU4VIuWH/6u1QQ7bWNstweSfaoUMkrkyfdB4A7k9BT9gjNVmvNv8CybgmUhRkKeMdzTvPEsTNIu3AwT/OmAxiMiPqDt/xNNkCPFheE7H1FT7FF+1mluPmbbCkkbZAxwP0p3IZHYc4JIFVo2MMaxk/OWyB2qRHxI/m8s3TB7UnhwVclVwSrHPQmkYqqKQcYHNV/MJjwR0bHHakkYIWbGV46Vm8MH1m5ZdhkgdznPYUgdTGwbORz9ag8wFWz6YBpfM4XPQnAaspYYtYksowIDk4z19aRZNq4ZsDOQe9VVlPPljcF+9nt6CnI5IYYyTWUsKaRxWpZ3Aq3OMDgCmh9+2RvoB7VH/FheW7mjeU+XuOSa55YU2WI7lhpOd3X+lOEmYsLwf4jVQzhIcDqx/OpVcM4DcKBzWTw1jVYm73JfO+baRwBxSZO7k9KhEnzkjnniiNvmLHtzg1zvDGkcTd7lsttXB7jn2FEfDc8jqarNKXGRy3epYz+5wOvf39qh4bU3jiL7FjIDDjKk5zThyGB454NRb9ijHPPB9DTGmRJGVm428VLw/kbe3SJ2dSAzYxnv6VE8vOE6A/rUKFpT8/CjrUybFX5Dx1yTUfVr9A+sX1H/P8AMS1J5uWIVO3IpEcMM46npS7wzNjAzwD70vquhftlvcWIOrYY5z0FO/5Z8cNn8xTQRt68Y6+1JIzCLOMsDkUvq2hXttBpypwTyO1O8wLjafofSogTLmR+B0px/dx7sZz0rN4bUhVnuP8Alwd4+oHcU1tmzA+bbyvvTAWYjfxUild5yPlH61Lw9yvbX0GjbuWQjqOR6UjfPG7YwfSnNhD05Xr70xyzcjhTxUPDB7RWI44FGNxDMR+AFV5AA5x0HeroCpHheoPHtTJBuiKhMZOfxrGWFJclYqNCDxwciqkljE5KyR1q7fnLAAkL+VNkI83aw+Xv7mtKaqUdYSaOapRp1F7yRzs2i7mPlOAvoazpdMu4G3BSRn+E11vkNufA+6CaaY8hmH3e3vXs4fPMbR0k+ZeZ5dTKqMtYqxyIu2VGjueOylhnFRxai9nJvhUYY888EV1EtrDOpEkanPHIrPuPD9vN9wlD7V7mH4kw0tK8GjjngKsNYO5kTvc6jJujXagGcZ4zVg6XDqFqYdZXzV/hUEjbTZdCv7c77OXcfSqNy+rQE+crgdMgV7dPGYTFLlp1F+REIzoy5pJ3Oevvh3okt0yyW8kXmN8jK+cVyXi/wDbeE2t7mG4MlvdkwknqhIr0GeWeSZWnkIYj5c9qj8VaOdb8GXNqknnXQKvCQehB5/TNGMwdP2XNG1/I9bL8biPbcs2+XzPKtM+G2papoR1PTZRtLttQ9cDvUMOk674Wuhc6nozXcOQT1I/SvaNJiPh3S4bWGHdCkS5x1zjvWrKqC1W4jHmR8Fkcdu5xXN/Z8LJp2Z6H9q1lKSmrx/Q8+0P4v6NHD9muLKWx5BHOQp9q7qw8V6VqlvG9lqcTr1Yg4KnvmsjUfCnhzWZTP/Zkbx7SJCgwVPrXF6r8JUt4xd6HqZiRmxtyflPvR7PFU9Lcy/EwccBWd7uD+9HspuFaOPZLhdvUc49BSqBHcOoIEm3h+xPc14TKfHvgxv8AW/arY85zuU1oaP8AGh4pDDr1m3I2l4+oqfrEIu0/d9RvKpyXNTal6HpHivxI2haVDdyoBmdIif8AZJrZikVW3uysHXKnOQfcV4r428c6f4x+yWtnIUiiRnYNxmToK7Twp4w0qXw1ZrPfQxzxRrG6O3zZHFOnXjObV9DOvlsqdGMre91Oze4do2jQERjoe4FSbxabXY7iRxVB9WspJC0F5F8yg7FYHJ9KmSSGaE4JI25Rs9AOtdis1oeVLDOLu9ybzpJ8iIkDHT1HrUnnqiDGCy/w4qv87x5UqhXHI75qTMYmKDG4j7xPX3p2Rn7B7krPJPIDINqEcc9KkUiIPGq+Zn7p96rRt5h+chl25CDr9KDciKBXHG04Prn1qXHohKglqyyis0O+VvmVuR1xUu9EkU8KGXJHt6VQe6G1nSNisnAYHoPSjzWZuf3gIzuXqKnkfUFTS2LZuBGfmUBiDwe/vTFuc/6teq4+lQbV8tZJG3AjP09qQyE7Eg+Zh8xPvVKCMJUpFkPtVXdtzA8rnpSpJ5rfKMA9MnpVTzURwzkknrin+YY1TzSoViSCKHAz9loW/MCKVDEtmgzbCBw3HQVUEvXaflNJvATcGC4bGR3pchnKmWgTk7CA3XA9alA3xlW4IGSKqFsqGA289acJXDN5wI9xScSFTsWLckZjON2cAnv6VraZobXNvNcTh0jUbhtGWJ9qj0HSW1W4Esg/dR9SO9drcwpFpjxRqQoTACnBrycZieT3I7n1OR5P7S1estFsu5JZLtsoQN33B94YP41PUVp/x6RdR8g4JyelTV4p96JS0UUAIVB68imfZ4jN52weZjbuxzipKKAMeewg/tSyjUBPKDSLhuf/ANVXTb3C/aGjuCWk+4GHCVHOf+J1bgsg+RuCvJ/Gr9AFbN0J0GFMez5z3LVGt7IkMTz27q8kmzavOPc1dooArfbYB5u58CH75PaplljbG1gdwyOeopHgjkRkdFZW+8COtM+xw/aFmC4dU2AjsKAJ81TtM/bbo7pD844YcDjtSjT0EUSCST92+8Hd19jUVhCyajfOzuyu4KhjkDjtQBoUUUUAFFFFABRRRQAUUUUAFFFFADZP9W30NcO332+p/nXcSf6tvoa4dvvt9T/OgAooooA3PA3/ACIOh/8AXjF/6CK3qwfA3/Ig6H/14xf+git6gAooooAKKKKACiiigAooooAKKKKACiimySLFGzucKoyTQA6iud1vUW1Pwlf3Og3ojeKJz5oX7uFJqTwXdzXngfS7u7kaWaS2V3c9WNAG9XC/FQkaVoxUsCNWtz8oyevpW4fF+nrIUaK6GDgkwnArkviNrunanY6Nb2U5ll/tWAhY+G6+poA9KH3R9KC6jgnnGcVUWe5la4ijhMZjwI5H6PUgtVa4juJeZVTbkHjnrQBEbyS4gil09RIrPh93GB3NSJbN5k/nSebHKRhCOFFWFRUXCAAegox0oAFUKoCjAAwKWiigAqC9GbGcYB/dngnAPHrU9Q3n/HlNnA+Q/e6dKAGadxpsHCj5BwpyB+NWar2GP7PhxtI2D7gwPwqZ5FjQu7BVUZJPagBSM9ax9S0SC5zJGFSQ9Pc1oG6c3kUccLPFIhfzgflHoKjFo9zAgviGkR9w2cd+KqMnF3RjWoU68eWornDTiSxvGiniZTydwHaq7sjM5UAkgKrDtXoV/p0N/CyyjDYwGFcZqOiXmnTeYF3wg8EDoPU162GrQno9GfB5llVfDPmp+9D8UVPPXPyDfvbBB9KZ9uBYkRqGXhfQD1qqJ2jPygK5zzj7wJp0lyrZjaJd/wBwHsPWvS9mfPqpKXWxbkuJp1VkUheOnV//AK1RzXckh8tAYwTyo6mq63ACbYwxHSPafvY6mlkuSh/cptbo8hGefQUKGux1crkty4Y5NkJb5Qflbnn6U4woquWfGCCOe3pVFpp5FLSy+V8vyxjr9aqRxsWVnbYzHCK5ySfWj2bfU6OVLaJsyXaxw7lQcdQP4R6VE8zyqUBVC3v0Hp9aqidIt7u24H5fu/xetQvebvnh/eEnGSvU+tNUypK+jLwAWELI2Qpy5J70+3kyhCY2hzt579zVOUg5kLZVwBtPG33qFJVij8uSbbwNrego5Lon2fKy87bzKC3lptwD6jvT/MyVjBH7sAhR39KpSuJYcBxtZgcjnnsKiSY20kkchA4yT3b/AAp+zujN0+WRpGVZZxPnmPg+9R/aFlnLgncOcEdT6VQt5fNmLnIwPlX19BTvODTFd23J+c+9V7O2hlyuWpc89Gfbk5Jy3+NL5rRKwYfITkCqbXCM5YjaFGFzStJsh/efM7cgegpchi4NXZbckbTnGRnbUgk/doJTnaOMVnxXQdC5PzA7eaU3BLDHOWwfaj2Zi3y6ouIAFJU4UnJFPWTjC8DNVDOpYA9M4+lLHMSCpIDf0qHSTBVGnZF0yKVwmaTcADtO4sMGqgd2+7xtPP0p6yAtwMYOD7Vk6KKVd9SYHdjP8NSZIXCnmoVZTnfzjpTuAg/vN2zWUqKNo1dCVCQAF5LdKlkHy7FPzZ5+tVUYp87nBB6n1pZHMjgrwM9fWsnhkbxxHu2J0lxIEQfPnkVPvCoQp+73Pr61UMixSbl69sevrTAJJ8SfdRjjHtWf1Y0jiWtFuWTKZAI4v4hT44gIwZeXzmokaO33BfmYnAqQxtJJuZsjovt6moeHNo1b67sQ3DO7bFO1xgH09TRDA8keWzx0HtQ8scY8tTj19gKeskz/AHV2gcgfyFT9WKVZc2ruTSbto2D5vu1HHCY8bmzk/kPWkhZ/K2lgSD+dNMbO4KvlXGCPapeHNfbX95D5GZioQZCgEj1qTzAVzzxx9DUUJIV1Mg3g0xnYYX/WIxxkfrU/Vxqtpcnb/V/uzx1Oe9AbfGok4YnO2oiBG7Ip4PIz/KmZL/JMdrAfK/8AOpeGH9Ys7E+8kEMDz/KiEDO1vlI55qLdxj+Ir3PX0oZ9zKCPmXhv8ah4fUpV+5Jv3Rtngk859KeXyojYgE8/Sq8rlThBjcvekaTkAH5gtZvDDWItcemUyW6dqEZnJIORSCUbRnAOOppCdp+U7fr3rGWHKVZdx+SzH+9+lMckucdcc5pDJhePxprMXAx0zyawnhx+2Xcd5+1cJ1YEGmqflCmmGaCP5nIAHUk9KzrnXI4mKW8ZmI/iHSvLxNahhl+8Z62X5fi8e/3Mbrv0NBk25JHHc1VnvbaBSZJlGOwNc/PdarfMyxrJj+6orLntbxZCJopM/Q183UzNSdqZ97g+DqCs8VVXojopvE1vH/qkLfWs6bxNO6YWNR9RWRJBLCQJInUnplaYqhkZs42iuZ1697ttH1mHyDKaStGmn66lq71Brvb5saZB6gYqGO4MThk4IpkabwxOcKOw70qQMVbIbcCAAB1NNYnFPRTf3s9JYDA01pTivkidbkkk9STk5qyuoOQM4wAR+daejeBdW1OZTLEbaEjl3/wrSu/h1f2e6SBhcqOQBwTXtYDB5nWl7tVwXm2fNZvjcpwsG3RVRrpFI520uUt3LIvBGNo6Gn21g4uH+RxbzMGZducfSr32Oe0I8+yeLjPK1ah1grwCMDoMV9Ysvz+jG9DEqXrqfluK4jyecuWpgXH8Dl9U8Jx6q9wl1HOYyf3bqSMCuVl+FmnSS3Kbp0CpuVyM59q9ej1onhgPyqYX9u4w8KEHrxWLx+f0X/tVCM15aMxp5lk9RWo1HA+Wdf8ACMWlXyRpMSJIy4OMYI6ipofh3rg0u21KyKSR3C7kAbnHrXtHxP8ADdrrui2jaZB5d4t0ill/uMcN+lb0PhC0g01LW1uiiIgVVPbitYZthdJ4mlKF+2tjv+s3ppUaik/M+b7Sa40HUh/wkFhcyLjoGK49xXpXh74heG2jFuLqS044WbkfTNdlrPhe52WzLBHeiEYYkA7h3rjtS+GmlX17LvtWtkMe4FBjDV72ExNGSvhayafR6M5Ks6deyrwfqjqbfV7acbrG8jeHPGHyRn1rQKiIr5pyD155X0xXjDfD/U9PWaXSNSKSQn5kLYyKIfEvjTQJBHqNs9yqjcDIuePrXre3qU/4sGvNao5Fl9KetGafkz2hszMkzTbUYYBUYBx3+tY+r69b6Tc6akmXe8n8vBPGO341xlh8WNP1C7ji1K3ayiYDfg5AYd6xfGfiG31nWYDpkgkis0yrKfvMT1qamMpcl4S1FSy2ftGqi0PZYbra3lDLM4wCRxmpGu2SZhbrjcu0hu3tXNaT4itr/To3kvofNeNS67gDkD+laMd1A0u/zfPDAhVU8sPX611x5Zq61PPnQnB2aNBVaK33PKS4bDKal+1bow0aMp4G7p/k1mJOonZ3UuQu5st1A/wp32pGHlrKcPyF9uxrX2bOfkstC8skcbEKwdn+YH+tSLJG0v7zOMcKegP+FUCcSMcgqvBA9f8ACnK6qT5Z2DacIev0pOBn7MuFhkOSdzcADoB/jT2kPzGRfun+DoDVAPkgKfL46nnd70/zcSBHcpzg/wC17VPIZumi8ZIxGGjbL85z2rQ0exm1e9SGJiSwy74+XFZNjbyahfC1t49zMe3cepr0TSvC93pulrDb33lymYSM4Xov90V5mOxCoR5Vuz1Mtyx4mpzT+FG/Y2UVhaJBAoAUYPvSajj+zpshW+Q8McD86hY6nG906+VKgX9wnQk+5qpe6hdLEkFxZcSREzSA5SM+hr5dtt3Z95GMYRUUtDVsv+PGHgD5BwpyBx61PWRZa1ZDS4pnYxRgiIFkIy3sPStBb22e4kgWdDLGMuueVHvSGT0UgYEAggg9CKWgAooooApTEjVoMFsbG4C8H8au1Rn3f2xbYEm3Y2SG+UfUVeoAKKKKACiiigAqlZjF9d8IPnHRsk8d6unpVK02/bbrBTO4Z2jnp3oAu0UUUAFFFFABRRRQAUUUUAFFFFACMNyEeoxXNHR8sT5nf0rpj0NZvegDL/sb/pp+lFalFAFPwP8A8iDon/XjF/6CK3qwfA//ACIOif8AXjF/6CK3qACiiigAooooAKKKKACiiigAooooAKRlDAhhkHqKWigCtNYW8tjNaCNUimRkYIMZBGDTdK06HSNLt7C1yIbdAiA9hVuigBpjQggqpB68VwfxOsrWPS9HKQRof7Xt+Rhf4j3rvq4P4rlRo2jltmBq1v8A6zp1NAHdg5FLTV5UfSnUAFFFFABRRUU1zFAEMrhd7BV9yaAJagvXAs5gGw3lseOT09O9Rb7yWW5i2CJAMQy5zk+uKZPYqwFzIzmeOEpuQ9fw9aAItNvZLnR7WW2jZwxCt5i7CAOpxVsWamScys0iTYyjHgCnWSlbKIHdnaPv9fxqegBqRrHGEQYVRgAdhTqKKACmsgdSrAEHqCKdRQG5yOu+Ew7tdaflTtwYx3rj5xNaSiOdcS7uEI46da9dNZGs6FZajE0k4EbqMiQcYr1MNj3D3amqPmsfkdOtepQ0keYK7RKnVXVCPlOeTSia9hdWklR4o0LE5707U9Kk0uFbiORZYZyyRyqfv5rHMsh3Ro6MpTYecYPf8a+ipctZc0Xc+VnQnQly1E0zWtzchfOk2tPJ0DHt6/SozJ/po+zSie5UZc9QPYVlRzq99ENxx5RCYbqR61HHcGLR55bX5ZGYiRs/oK39i7jjsbLSW5kIuLktIFzIq9/YU6O6iRSLeGUr3P8Ad9hWbZS2NtaLfHBdhhmbtUQ1i9vJGNhCEgXO0njJpexbfkjoVkl38jXaWWRme5ysIIV0I/LFDKsViyylWbzMoVOcf/qrGudRv4ICZwgUDHJzk+n1pUjS50/7UkrJOq5WNTxz2p+xaSb2CyeiWppJd7tqH5E/iYDjPr7U59vnvIz5aPja3cdvrms5b4ukE9uB5ZXbcK3SmyyC5ZwZtq24V0I75PQ0ey1JcdDRkuzlWgQqc59h7/SnLcqsZAIZnHzY7VnQzOPMkmx5SuIwQf4T2qGSbypg8GG3jkZ64PB+tV7JPQxlGyuay3QaLecFU7f3sdacbpZn8wNksufwrPjkQhu2wFjkdaiFxGJMoPLAJ79s0KlcwkrI12nEmGb93hsfUihp5PKzBjLr3rJe8aYjaVYIQeD9act8DlpwUJBPHY0vZNHNJI11uBt5/wBY3JHvipUmVU3N944H41liaRCWUfIcknHOf/1Uq3IYAD5MKH61n7MzaRrGVgT8wwuM80huAELLyVPIFZ9u/msWIy2eg78daEnZXZgMts3EDo3NR7Mhw6mvHLvwQBtIGT6VJFKoJJycZHPb/wCtWVDOwjkYMGVfmJ/2TVl7gHaqtheitj749KylT1KjBWuaAclVLkFAenepCvLCNgAeAaoxhZowd7ZLY57Ad6ltp/MxGoGFyWx6dqxlGx0Qp30ZaiREZG6kD5ue3rRNO6ssUQ5746e1Vrd597B8ZXt6ntUq3CtIyjBkU84NQ4s1jRTjZaE8ZjhRHkI64B96mMm4gYGD0I6AVmy5umAB2xL0x6dzVnztq4DARbe/bFS4G0IPboWY0VZHJ+Yvzk9PYUNcBeZGGR/CDVL7RNcbRGvlqPmLEdR2H405AijLYd+7H1NTyFKD2jsWI2SXOCdoBAx3B6n+lSM2GRlGBjBJPQCqUt1DhoxLtxx8g6etMgfMiFy2Scjce3ajk6k2afKi6JGM4kePZgcn3NKzKqNGuUVskH6c1UebYzRkNICeD7noKQ4EWUkLc8q/cD0NHIhcstkW1kDxIZRu9COx7U/zA7LuwD905/nVRpMxE8BsZAHY9hTI3LSbtwZ8cZ4PvR7NEvmTsy0QfvZDqOcjqKCzszEH8fUVDvaPGflkIJAPGc9KbLNsQKeoHX0pezTIleJY6AKW3NnjNI7fvAxXHOeKro7PkSnLEYB9DSs4G7OTgZpexRn7R2J5MKhxjZjtyaYwVir7iQOTUKs24kPhMZHHSkQtKN0J+ReD7isasKdKDqVHZLdjhOdWahTjdvoWVHmL8h6juaiMr72WFSSBgHsDVi3sndVz8qirsdtFEOlflGdcWKU3RwG3fv6H6TlPD9KjBVsfrLt0XqZEWkGf/j5Jb19K0oNPtrdfljX8RUsk6rwoq1b2m9VmvGEUBIAJ7k18zhstx2ZT5pN6n0FTMox/dUFouxHbW/myYtYeT1YDitq10eBGDXKq0noaswIE822t42i2r8shHBJp4sVaaCeZi00IwCDgEnrxX3+W5BhsEuZrml3ZxSq1J6yZUktbS9i3JYJIVcph0xj1NZc/w/0a4klcRsnmjlVPANdSBgUte5KjSlvFF069Wm7wk0ecXPwvcTf6Fe7Yj94MOa39J8GwaQlxJGVnmlUFRKMhWArqKKxp4OhTlzRjqdFXH4mtHknLQqq9wkkaGJSuz52Bxg+1M+3iO3WWaGRN0nlhcZP1+lXaTAPUV1HFcrM9pO8sUnluYx84YdKzbzwvpF5kmBFZhwU4/EVryQw+XJ5iqFcYcnuPeqxji/tC3ZY3O2MhGU/KBWkJzh8LsY1KNOorTimcpfeAI23PYXew9Ar8isKbwzq9vNJFBsuGjPzBT0rvhorT6elvcyuhSfzgY264OcfSrZtp43uZYXQvIB5aleh9z3rtp5jXhu7+p4+IyDAV9eSz8jyKRru2+W7tJo+epTjiljv8jO6vWmSR5oYp7aORGQmR/wC6fTFZl3omjT26vcWHlgvtAC4OT34rqWYUJ/xaZ4lbhO38CpY4KPUGXGGyPrU5vlkX5wGyMHIrem8B6bJNJHaXzxNDzIuemelZF14H1e3G6zljuFPI5xkVH1fK8R0szzZ5Tm+FV4S5kZFzpWm3iSbo9hkxuK8dKwdY8DQ6vCirqE0bL1IPUeldFNpOt2Yzc2Tgf7IzVEagVH71HQZx8wxXbSwkoxtQq3XZu6OP61mWHlecDx69+GIju5YN8kblj5ZccH3zXOvoreGdent7hvMZEBVscNmvoX7Vb3C7ZAGHv2rgfHHhcXmr6ZNp/wAxmm8uZT029a6K2Fg4qXJZ+R7GW5/OpU9liNPU5aw8GXF+IzcXKwF2G1EHJB75rpLbwjbaY0r22oXMj27jbmTt3FXZxd2mqw/aVSGKMbUwPlUU261CGZtqIWjeQb5c4ZiP5V7dLL6UWnFXOqWNlWi7S0NW0n8qGbcjmOL7hP3sHsadJdfM22M74iGBPUoeDUKyrI0zCcGZlwyA/Kg9Sar/ANoC6mliUhASqiUcDA71pUlCmuabsvPQiGFq13y0o3fkatuXEO0OQI5Apz3U1NLLgbYiFl2kbj/e/wDr1lSzfZIXnDb4pZFO48bgPalw5fzJ2xFLN5iNu6AD0rKVSj8TmreovqWIvyqm7+hsLI/lBG28KGzn8xSacslxJ9n+Z5C21WUZz6Gs2S93yW8UTgIxO9mGMV6H4Sbw5oNtDcXt/HJen5evA9K8rFZthKFO6mm35noUMhx1aolKlJL0Os8K+G00e1Es6g3T/eP90eldCZFDhSw3EZC55NZ8V4mqxzRwzKI2X93JG4JNXIrSNDE7fPLGuwSN1xXyM6rrS9o3e59LCiqEfZpWsQPJdXESNaqIiJcOJB1XPOKsJaxpLLIASZcbs8g1NiioLGNBE6hXjUqDkAiqk2j2U/2gmIK9yu2R14LD61eooAzV0ZIprV4Z5kS2TYse7hh71Xa01q3syltdxzTtNu3SrwEz0raooAzTNqcUtzugSVFTdDtOCT6GgasyzWsc9pMhuFJJAyEPoauXF1HbKhkyQ7hBtGeaiYT3DXELr5KYxHKp5Oe9AGWNbsJr6G5k3QhGaEGXKkn2HetoXMBkZBKm9Rll3cgVCNNt2ERnjWaSIYV3GT9abNpNnM1wxiCyXCbJHXgkUAXAQwypBHqKWstdG8ma0a3u5o47ZdoizkP9aY0Gsw2hENxHNMZs5kXACelAGvRWYL6+jurkT2WbeJAY3RsmQ9xinjWIhJbxSxSxy3C7lUr936ntQBoVStGLX12CScOMArjHHr3pkWuadNF5kdypTzPKJ6Yb0pbWeE6jdIJ8uGHyFhxx2oAv0UUUAFFFFABRRRQAUUUUAFFFFACH7p+lZ3etE/dP0rO70AFFFFAFLwOf+KB0T/rxi/8AQRW9muf8Dn/igtE/68Yv/QRW7mgB+aM03NGaAHZozTc0ZoAdmjNNzRmgB2aM03NGaAHZozTc0ZoAdmjNNzRmgB2aM1Vu9QtbFA95OkKk4Bc4zS2t7b3sXmWkyTJ6oc0AWc1wvxUP/Eq0b5wh/te35K7u57V3Ga4b4pMRpejYLg/2tb4KDnqaAO6B4pc1GGwoJ9OpqF72JLtbY7vMdSy4HGB70AWs1BPeJFDM6DzWiGWjTlvpUBWa7hjZi9uyvkqD1HpU0VtFDNLLGmHlwXPrjpQAgknknjKqqwMmWB+8D6UsNpFDCseN6qxYb+Tmpc0uaAHZqG8ObKbv8h4zjt61JmoLzmymB2kFD97p070AGnH/AIl0GBj5Bxuz+tWc1T07A02AAKAEHCHI/CrWaAHZozTc1HLcRQBTM4Tcdoz3NAE2aNwqm80kwuIoQ0ciDCuw4JPekFpm4guJZGaWNNpweD74oAc96zwrJZx+aDJsbPGBnBNL9jDSTmWRpI5hgxnoBU4wBwMUZoArPptm9rHbvbxmKLlFK8LXG6/8OorhnudJfynDeZ5fZj6V3maTNdFHEVaDvBnNiMLSxEbVFc+ftZ0+908I01i9tKrnnt/k1RefyopGjH7uRf3keeVNfQ17Y21/CY7qFHU+orgtc+FNrdLK+k3LW7SHcUblSa+mwuc0pJRrKx85iMlnB81J3R5k1000iRmISW3G3/Zz2qPUryWwuBHbTEQ7cJitDWvCet+Gov8ASbfzYXbCvGc8npXMyi8SUG4ikDRnHzrX0VCpQqu8JJo8mdCrDSUWi88r3jqbm7UL5e76e31p+jXkkd0wTBjx8xY4C+9ZLzF1wwAG4t0pm8jIUkA9cd67fZKUXG5lytO50N9fiKKOGM/u5H8xnH8X0HpTVvoxeXAlysc2OByT7Vz5ZmwCSccD2qaLcrZzyOlT9WjGNiZS1ubVzePGIonjaJS2/LHJx24qGO9UFQNzcnI6VRkkknkLyMWY9SaVEOc9KSpRS1OeUjRkvs4VI8LgA5PXBzUn9oyyEkBVB7AdKoYJqSMY5NR7OC6GEnctx3sse7YQNxBPHpU63EjvtnYrnGaoZp67i2Tk1EoR7GL2NAz/ADbmZmyDnn8qlM7qil1CJIm3Pt61RzU0HMm9xvWMZKk44rCUUkZrU07e5SQzoJMKB8rscU9WnNoU24dsKvqF9azbeTy7jzlCEbd20/w1JdaiJQqxSbFk++38RrmlTfNobRjG2psQeWtzhW3Bo8Oq9mohnDItpIvlSxvmP1IzVDSrqD7XLHbg42ZBPVjVlLG5uLgXDShXGV46Ae3vXPKKTakdcKTlFOKNGYOjkzHOTgvH6/T0qzDNHFF8hDs2RwMFjWUqCGMrcXh3KP3m309PrU1vcQK6CMSux+f5hjj+7XO43Wh2QpJO7LaXE0nlNEwTccHdycf3qkhSOPzHQ8k7SD1Aqm2ohc4g5AywH/LP0piTvNJskAR2YmQAdAOQuajlZsqKvoan2iNdkZ4bBLkdlHQ1Au6aRZJ/kVjkoT27CmKUik81m+/iRnbsPT8Kjmuiblo7dQ5yGYN0APQfWko9jR0e5pGQLbkuMknG0dh61A11vDeX88qMFX0z/XFUJ7n7VMSWZY42wSvd/wDAVajYQIwgGUQYwepJ/rU8ltRulzehNASAyYjz/Cvcj/65pTNvCblZjy2MdMeo96pSyjzGjDDa6jbInJwD8x/pT/MXaZIyQGJJYnG3HT6Cjl1uT7LSxYQkjEp2vksBn+I+h/SlZ2kj4kZZBxkdQB1qj9rBmQNtMwAOQf4j7fTmnFRCrPblgfuspOQafKS6KtYtq7RIU3BmJ37k7/gajmnUzKI2zuzlkH3fXiqtzl2hYnbGADhjyMjgA/rRJIlrIof7hGAzjnB75qlFGMqLta2hda4ZYlYsHkJ49z24pqyhY2kb5jj7uMHA/wA5qg7tJN+8ZiMZBXnPvUySfu8luG756/5NNxsjF0W2Xmk+VWc43HC85zUIuC2D8ylchv51UlcPGh5EKk89wKbHM80xW1w+Dgg980pJQi5SdkjnnQcpWSNCBmurpIom+Yc89DXQ29rHaqc8kjms/ToEs7Rd6AS9zUst571+Q8QY7EZ1V+r0Lqkn/wCBefofWZXQw+Vw9tPWo/wLz3KouAapvdszbE5JPGKovcmRwkeWY8ACuq0LQhCFuroZkI4U9qWB4bp0kpVUbLMMRmFXkpPTqyLStGu/tcM9wi+Tgllbr7V0NvZrFCY5GMo37hvHSpwaXNfU0qMKMeWCse1RoxpRsh2aM03NGa1Nh2aM03NJmgB+aM1C88aAb3C7jgc9TULyXEnnxIvlkD93Iec/hQBb3D1qqb1pYFks4/NzJsYHjA7mkFpumhnldjLEm3g4B9eKsjA6DH0oAgW0zNcNLI0kc2P3bdFqyirGgVRhVGAPSm5pc0AOzRmm5ozQA7NIcHrzSZqOWeOFQZXCAnAJ7mgBXgicOGRf3gw/HUVH9kiWaJ0JUxJtQA8Y+lMNxJM9xBErRui/LIw4JNNW13TQTTSMZYk2nHQ/hQBVl+0mxH9nyGVvPAYyj+HPzUybRIpbi6lnt4po2AMUZXvWuCB0pd1NSlF3TsS4xlujj7jwXo9xJFD9hlhknUu0kZ4Q+lZF78PrUqZrW+dFD7IwyE4avR80mFxjHHpXVTxuIp7SOKrl2Eq/FBHkl94A1Lc0SS291tGZAxxtFclffD/VdryQafIFHdTkEe1fQjwRuJAyDEg2vx1FRfYohNDIu5RCpVVB4xXpUc9xVJ9GcDyHCrWneJ8u3WiarZSbJ7OdNwz9080tu20FGVkdeoIr6ZnsMQD50Lb9xeVQcLnpWVcaNpMmpTRzaZBJJJHvjYJ9/wBcmufOMdDNsOqVZNNapp9fM9vI3WybE+1pNST0d108jwM/MMHoKvaZo99rDmOwi81l/h3Vs+K/CV9otwbv7Li1kOcJyE56VJbaI82mprHhm8KyxgCaDdhlPt61+bxoVI1HGpd2P1ypj6NTDxqUmlzdbaJ+ZEPh/wCIjgGxI+prTh+FetyxqzvCjHqCelbfhv4meU62PiNHilB2+aR/OvSbW5huoVlt3WRGGQw716uGwWDqq8W79j5jG5vmmFfLNJLutmcb4N8B3Xh3UDd3N8ZTs2+WudvNd1nmm5ozXs0qUaUeWGx8ricTUxNT2lV3Y/NGabmkZwqkscAdSa1OcfmjNVWvYluo7fJMkillwOCB71CI7q4gj+0SeTIkm4+WeGHYUAWZbxI0m2ZleFctGvX6VGhuJp4Z1fy4SnzxMOc9qmVEVy4UBm6nHWnZoAjgt0t4yiZILFvm55NTZpM0ZoAXNFJmjNAC5ozTd2KyNS8TWGnOIyzTzN92OEbjn3x0oA2c1malrun6d8s8qvOR8sKcu3sKzGTXNcb52/s2zPK7T+8P19Ku6Z4c0/TDvRDNNnJllO5vzoAyni1PXrVorWxj0u2c7meVQWb8OxqSLwBpKXDXTtObuRQHlEpBNdRmjNAHM/8ACP61aHGma0wRjyJ134+lb/2uKyt4hf3MaORgsx27jU+a4K8ittQ+J1/bawwa0isY2hSRsKGJOSPegDvklWRA8bBlIyCDkGnZrjfhrPNJ4dulmdmWO/nSLd2QNxj2rsM0AOzRmm5ozQA7NGabmjNADs0ZpuaM0AKT8p+lZ2eavk/KfpWbnmgB+aKZmigCj4IP/FB6J/15Rf8AoIrdzWB4IP8AxQeif9eUX/oIrdzQA7NGabmjNADs0ZpuaM0AOzRmm5ozQA7NGabmjNADs0ZpuaM0AOzTJpGjgd408xlUkKP4j6UuaM0AclqOvWEOnJfeLLAWcyuY4IJDvL/SmeBrZPO1XVYbiN/t8gYW0ZysGBjFdPd2FnfhftltHPt+7vXOKW1srayUraQpCrHJCDGaAMNrvxZG7N9jtJEUk7Q5ywrkfH+rapf2ejw3uiS20Z1SAl/NHXNepZrhvilt/snSAwUg6tb/AHjgdaAOve3ln+0x3MuYJMBFXgqO/NWY41jRVAztGAT1pAcDrmnZoAdmjNNzRmgB2aM03NGaAHZqK7bFnLkgfIeSM0/NVb24jWCWIviVomZVX7xAHYUASWDA2EOCG+QcgYB/CpJbhIo3dm4QZbHOKx7K8uJdNsUGbedzykq8so6/Q1cjksk865VgBK4SQt3YcYoAm8+eS6hMKqbV0JZj94HtxRBabbdUum+0Mr7gzjpUwddxUEZHYdqdmgB2aM03NGaAHZozTc0ZoAdmjNQtcRrKIi48xgSq9yBVVpLy5t1aFRA4l+YOM5UHmgC3LcRwxu7nhBlsckVEJpZp4WhVTbOhLMeue1OS3jjmklC5eT72e9Sj5RgDAoArxWg8rZdEXGHLKXHSmXWk6feRulxaROH+9lBzVvdRmqUmtmJxT3OZvPh54cvZRJJYKpAx8vFZFz8ItClnLxGWNT/ADwK73NGa6Y43Ew2mznlhaE94o8+/4U/ow/5bTD8aZcfB/TWixbXUqPnq3NeiZpjTIsqxs6h2BKr3Na/2li/+fjM3gMM94I80/wCFPRj/AJiLf98UknwlggQySak21Rk/JXoJuZr2DNjmIrLtYyrjIB5xVhLZFuZJiWYyAAqxyBj2q/7Vxn85l/ZeE/lPNU+FivLEYrxmikUnftxt9OKsf8KnjzzfE/8AAa9IGAMAYFLml/auM/nF/ZWD/kPLbj4VXCyf6NdIyY/iHNZl38PNatixhiWZV7qetey5ozWsM4xcd3c555Hg5Lax4DfaHqWnRhry0kjU9yKyXZtxB47Yr6QkiimXbNGrr6MM1gav4J0fVQS0CwyH+NBivSoZ90qx+48qtw4lrSl954hErnDgBx/dzUoKIYpIot6DIf8ArXTeIPAt74fYXFrm4tydrY+8M1z4VLEhZJB+6YlwewI9K9yniqeIjzU3c8aWBq0ZWqKxPdhkktp7AARv8uQetaM9xNPMkUbY+XO5e3sPesWydDEsKSq37/BU8cdaugsuZJp1jaR9iSIeFHoKipHo+h10qfbqWprNo9pBVFAy0pOdv/16ls1s5G89ZXYRDI3nr6tWck1k/EkztCrbUi7se5NW7aWwsbeSYSCbcSrZ53f7IFZSUrW1udkKauW01GCZZvIO934jHQyH2oOony/Ot181f4lA+ZXHb6e9Y0V7bDVYJI18kSE+Z5h/1Pp9BV29v4rS4MkSeZIyBSV+6Ae59BUOnrax0RhdEj+bLIssQ8yFmDFFPEjD09hV2KeGICcHYp+eQnuTWPDqrQwjyIhJCr/umAxyepb0UU2SSRbtJGybcy4Qdcn+/wD7vpQ4N6MpU0jct5oZrqWCFQpjHyr/AAs55C/XvVYXUz+eM4twxUAcEsT8zj+VCgQLcCJVUqvy+rMev4moLe5hllkK8eX8if3WbHOPpWajrct01YtiRIHSAsIkb5UBHHHJz6YpgmMu0L91wTIrHkqPu/XJrMzNqKYjcJbN91D98qDkkf7x/SpneIsJWCx5be7McEAe3arUCHS0JlaOGzIn2DaxxJ23E9u4/wDrVLdSpJaxNbkuu7qpw2B94j19KzvNuJLiaGRo2IHy8Ywx6fXA/nUkZWNoo98cckZ2OSflC+uP1qnEj2XQu3coYbCd+870bO05/r6VXE8bfLNIzRKcLjhh35/H+VU5wEmAaQyquGEXXG7oB9BTZnFt5KncAMg452/X/PeqjTVlYzlSNJ5FG4K2xsA5YY4Peq5uclliLKeGUsfwqFpVaKJS6ldpLg5BJPX/AAqJ7kRBWwxQfKc4yoxgfpVxgYTpFyS9UEMNx4ywz26dK39Kt1tY1uCcsyAYI6Vi6RYsQLm5w0b/AHQw5IHSteS4A6flXzebc+L/ANmpfD1/yPLq4ynhpXvqXpLvPSqwneWURxjcx6AVRMrzSCOMbnY4AHeu78L+HBYxi6vVzO3IU/w1wxy+jgoXktexlg44rNqvLHSPVljw74fWzjFzdANMwyAR92tWSxPkSpbzyRNI+/cDnHPQVaB9aXNccpObuz9GwuGp4WkqdNaEO25WaRg6tH5eEQj+L1pi3N0v2ZZbcFpM+aynhKs5ozUnSQPqEUUUkkoZVjbaSV61ILyDzGj8wB1Xey+g9aZJPEJVgcgu4LBcdcVTEL30SyshtZd+G7llHb6UAXft0DW/nROJFxkBDkmm+bPJcRbFXyGUl8/eB7VCml2kdwJo4trA5GOlJJYt9nmS3nkiaVw27OcfSgCa2sore3EPMihiwLnJzmrWaqYuVnYhlaIR/KuOS1NW5uF+zrLBlpDiQqeEoAu5ozVQahEEleQNGsT7CWXr9KlFxGZNm8btu7Ht60ATZozTFdXUMhDA9CKY1zGkyxM37xgSq460ATZpkk6xxuw+YoMlV5NUj9ovbdeWtXWTJA53AH+tWI7eOK4kmQYeXG4+uKAE824e5hMaqLdlJct94HtRDbbYfLuX88794Ljp6VPmkoAeDRmm5ozQA7NGabmjNADs0ZqKSZIseY4XccDJ6mq/21pWuIreJhLDgAuMKxPpQBdLADmqkl9uhSSzT7QrSbSVP3R3NAty9zHcyMwdU2lAflNTRxpCmyJAq9cAUAQ+RJM06XbK8EmNiAYwKsJGiKoUD5RgewozS5oAhvbSG+s5ba4UNHKpUgivEL2y1L4f+IhKgJt9+VOPldc9DXuuaz9Y0m11ixe3u4VkBUhSR0OOtcWKw3tkpRdpLY9XLcweEk4zV4S3Ry15oGi+PtGXUbPbFdsmd6cYb0NcfZ6r4g8AX6W9+ryWe7AU/dP0NdJ8O9B1rw/qt7DeRYsXPyHPcdDj6V2msabZ6tYPa36qUfhSeoPtXOsPKrFVV7s1+J3/AF6GGqPDy/eUn+Hp6FHRNeXxBpS3FjdIHMmWBHKj+7itaS4uEkmKxqyKmUAPLH0rxTV9F1fwZqckunSTfZlbIkUHH41q6J8TpUu4zrKGRVG0MnH5ilDH8j5K6swrZK6sfbYN80X06o9NGsO8Ns1vbNM0z7ZAp4j9STTjdRTLObqZTbO3lhSMYPQio9C1bT9WsjPpbKY92GAGMGtCSCKVdskasud2CO/rXqRkpq8T56cJU5OMlZodGkUarGgUbFAA7gVJuFVXtY3aV+Q8q7GYHtUaWbxvb+XOwSEEFTzv+tUQXs0ZqgPt8cL5McshlyvYBP8AGpHu3jllDwt5caBgw53ewFAFvNGaqDUYBDHJM3kiQZAk4rAu/Hmli9+waZIt5dk7cKcKp9zQB1RcAZJAFYtz4otFkeDTg19crx5cIyAfQntWemi6jrEgn1bUNkLdLe2bC4+vet+ysLTT4tlnAkQ77RyfrQBhtY67rah725/s6ButvFy2PQmtjTtGsdLj22sIBP3mPJP41dzRmgB1GabmjNADs0ZpuaM0AOzWdqWhadqzq99bLI68Buhq/mjNAEdrawWVusNrGsca9FUVNmm5ozQA7NGabmjNADs0ZpuaM0AOzRmm5ozQA4n5T9Kzc81fJ+U/Ss/PNAC5optFAFHwSf8AihNF/wCvKL/0EVu5rA8En/ihdF/68ov/AEEVuZoAfmjNMzRmgB+aM0zNGaAH5ozTM0ZoAfmjNMzRmgB+aM0zNGaAH5ozTM0ZoAfmjNMzRmgB+a4X4qk/2PpBBQY1a35cZHWu3zXFfE1yNN0fDFD/AGtByFz3PagDth90fSnZqMHj8KXNAD80ZphYDqQKrSXm9Z0tMSTw9UPHNAFzdiq8t6kcaOmZFZwmU5xUYSZriOVpNqbMPEBwTU0UccMe2NAq5zgCgCHyriWS5SaQCGQYj2cMvrUy20QaN2G6SNNgc9cU/NGaAHYGQcDI6H0pkkEUsex0Urndgjv60uaM0ARNaxlpXXKySpsZgecU1LaSNrcJO+yJcMCc7/rU+aCwHU0AU3e/igZgqTSGXhc4AT/Gp3umjabfE2yNdwYfxewpj3YZZ0tsPNCOUPHOOBTVSeWaGV32KE+eLGcmgBkmtW8SWpcSbrpgqKq5P408Svcm4jdlSEfIsiPznv8ASnwWkNuuI1GASwzzgnrTZbC3lgMRTCl95C8ZPrQBKlvGvlkjc8a7VduuKnzVRrY+dNKkrK8iBR6KR3xTUS6j+zqZVcKCJWI5agC7mjNZ7T33kuVgTeJdqrnquetSm6ZZ5EaJgkabt/ZvYUAW80Zqql7E/k8lTMMorDBprahAY5zA6zPDw0aNyD6fWgC5uqvcXsFtGryvgM4QEc8molkuJXhkACRspLow5B7U+C0hgjKIuVLl/m55NACO1zK08WPLTbiOUHnJ9vapIrdVWJpv3ksabfMPX3qTNGaAH0ZpmaM0APzRmmZozQA/NGahM6CTy9w34yFzyRVdp5riOJ7QhB5mH3j+HvQBZuLmO2t3mmbaiDLHrimC5Z5o1SMmKRN3mZ6elNjtlSaeQsXExBKtyBgVOOAAAABQBV+wiWBUvXM5Vy4J7c8VzninwHYa7G80CCG5IALLxuweldbmjNbUa1ShLnpuzMqtGFWPLNXPB9S0qXw7c+Tqdq2xpC6Ed/xrNWWFZnkWTNskYbJPMbMew9a961jR7XWrPyLyMNg5VsfdNeM+MfC954auku4bfzrVmJkOPlAxjp619XgMxhiPcqaS/M8WtgfZO8NjKb7JFbvexlpLcjay9HI7tVs21rMwNtdKrDb1/wCWansPesnztPUBDOVt5ztC/wARI/hpbS3t5VeJZwk1vkKrdM9dxr2XB2vdmUYFm/itNPby5pwWY/uY8Zyf7zetaNsbKGzmjmuVlMyjzyzdfQf/AFqwNM+x6laHzbjN2GMbz/3hnoPerEmkbGH75FO7EC44X3PqaUop+7JnRGmjUlvrC3u7m3b+OMLKF+6q+/pTF1Ty44YbdBJAw2wyHONnct6e1VrRNMS1aIzLN5syrJIx5kfPApkup2drqLW0Py20kn+lu3Kxv/ntWXIm9Ea+zLcPmNcNbyTvDIwZYlbkqp/5ae5NXIESGzeBBtAOwBh97HUfX3qmb5WdUu1CFWDRyr0ZR0yfU9hVRBdzzyRXhaATLtBH/LIdcH/aPrU8t9yvZlu8v42iQ20hUSKWaXtHGpwxH8hTSY3uvOljLNtWQZbAUfwr78ckU1Y4LxRHtVFjAyCcA7ein2/maLm6WO3LzFGZDjyFHLE9B75qklsL2Zb85ZZvLDoJEb7q8lmYZGR+tV7gAxpJfWvmFjtJDdF9c+5qpapbJzCWaVNx+pbrj6dBUEV1HcQra+ZNGS52kjBCj+fpVKn2F7NGkbhH3l5ADEuM99xPHP05qOefyUdDIZSwwWcZ3AY5/M/yrOIikUy7gki7jICcFn7io2u41mhVm8uMAsVlH8OMD9f6VrGnqZyplsajHGf9JbzGVymScf59KtaRD/aF08r9CAXw2ef/ANVZ1pGl9IqDyptsmXIGMqO5rdS4g0+AxWw2jqcetTV25Y7nzebYqVFeypfE/wADaaYIoUHAUYFU3vDJKsUALyOcAD1rGN/Pd3CwW2Xkc7VUdzXp3gnwYdNiW+1dVe7blV7Rj/GvJxM6eCheXxdEeTl2S1cXUvPbqy74T8LCyjW91Bd1y3Kqf4RXW5puaQuB14r5GrWnWnzzZ+mYbDUsLTVOkrJEmaN3rVOS8DidLXEk8I5Q8c0BJ3mikaTaoTDxY6msjpJJL2NERkzIrvsBTnBqPybiV7hJpAIXwI9nBAqaKKOFNkShVznAFPzQARoI0UfeKjAY9afmmZozQA/NGaZmjNAD80ZphYDqcVXe7D+fHbYeaIcqeOe1AFo4I5Ax71UuJrdU84L5nmERFo+TzShJ3mhkaTYoT95EBnJqWKKOFNkSBVyTgDvQBQTS5A5jEpjto/8AUqhwRxzmpjaXMVu6wz7pNw2M4ztHpVzNGaAIfNuVuCDGrRCPO4Hkt6Ukd3M8cDNbMpkJDgn7lT5ozQBX/tKJUmeUNGsLbWLDr9KsCdC20MN2N2M84pGCspDAEHqCKY0MZZmKjcy7Sfb0oAmDhhlSCPUGlzWaLa3ha2gilKGHLrGG5Ye9QKdTmtGkt3WKR5chZlztT0oA1JrqKCF5ZHASMZY+lR+dO92gjRTbMmTJnkH6VXSAw3UzCEMkqbnOc7mHbFSQ3u6GFpIXiMhwEI+79aAJIrT9wiXTeeyNuDN61ZqqL+3IkPmqBE21yeMGp94PcetAD80Zpm6jNAD80Zpmaja4jSURl18wjITPJFAE+aimuYoInlkcBYxlu+KrCa4uIUeFPJbf8yyDJ21JHaxRyyuFyZsb88g0AL9qLzRiOMtG6bvM9PSmizEsKpeOZikm8N0+lWBgAADAFGaAG3FvDdQNDcRrJGwwVYda4bWfhdp97J5mnSG2Ynleoru80ZrKpRp1VaaudWHxdfDO9KVjD8JeG4/DGmtbJKZWdt7MRjmt/dTM0ZqoQjCPLHYxqVJ1Zuc3dsfmjNUb7VrHTlBvbmOInoGPJ+grEu9c1TUmjj8N2o2Fv3lzcDChfYd6szOlnuYbaMyXEqxoO7NisKTxMb7fFoFu11IOPNYbUU/1plt4Y824FxrN3JfSY+4xwg/Ct2GGK3TbDGqL6KMUAYKeGrnUnWTxFdm4A5ECcIpq9J4Y0aSJozp8Kg9Sq4P51qZozQBiWvheCyvI5ra6uEjjOVh8z5fpVjUfFGlaXdC3vLoJIf4QCcfXHStPNefJPbadrHiZNXUK1y4NsXTO4eWRx+NAHoC3MT24nSRWiK7g4PGPWs2z8UaTfXptLe7UzA4wQRn6HvWT4QkS08E2FtqWVkW23SRuP4cmsX+0dL8Ua9Yx2hW1t7G5EsZCFWmccY+lAHo2aM0zNGaAH5ozTM0ZoAfmjNMzRmgB+aM0zNGaAH5ozTM0ZoAfmjNMzRmgB+aM0zNGaAHE/KfpWfnmrxPyn6VnZ5oAfmimZooAo+Cj/wAULov/AF5Rf+gitzNYPgo/8UNov/XlF/6CK3M0AOzRmm5ozQA7NGabmjNADs0ZpuaM0AOzRmm5ozQA7NGabmjNADs0ZpuajnV3hZYn2ORw3pQBU1bWRpYjC201zJJ0WMdB6k1FofiK21v7QkKvFPbMFmifqhIrNu49QtdNNtqayalHMSHkh+VlHYYqp4J0m60+61d5YWt7S4lVrZXOXAxzn8aAOz3VxHxQJ/srSCN/GqwfcOD1q1e6XPpcb3I8QSQjJ3eedwGfQVymuW3ifxY1nY2nk3FlbXSTtdSKUJKnI470AerGRUj3uQqgZJJ6VE1yftMcSRsyuhbzB0HtXLxz+ILZ5U1DTlvIpcbzHJwB7Crn/CVQWyAXlldW46KPLLZ/KgDYFvJcW8YviDIj7hsOB14qyqKrFgoDHqR3rCsvGehXwTyr9EaQ7VWTKnPpzWxHdQS/6qaN8f3WBoAnzRmmhgRwc0ZoAdmjNNzSFwOpoAfmkaRUUszAAckk9KpfbXmhSSziMgMm1g3y4GeTTxaAyTmR2kSbGYyeBQA83h+1xxJEzJIhbzQflHtTBbPcwoL8gukm4bDge1TxqsaBEGFUYA9KdmgBQFDEgAE9T60uabmjNADs0ZpuaM0AOzRmm5qq1+hiWS3UzAvsOzt6mgC4WAGScY96ge8jW4jg+YtICVIGRx71E9u8zTpPJuhlGFQcbfWpYYkhhSNBwgwM+lAEL28l7Enn5heOTKlD1ApTpdp+92RBDM4kkKcFmHerWaM0AQNasZpZUmZWkTaBnhffFESXUS26GRZAoxKx6tU+aM0AVWu7iKB5Jbckh9qqhySPWpvtkYuHhO4GNA7MRxj61JwaQhSCCBjGDQAi3MTqjK4Ik+5z96nhwc4OcdeelUnktmDGJBLJa9EXqpIqsNNfezQTyQxSne6Zydx9+1AGnLdRQ7PMkC722rz1PpUMv2qeO4iUiE9IpAc/jVePTEgZzFI2CvyKxyFb+9UqLdxi2QujhRiZyME/SgCaOBQ6SyYaZU2b/X1qfNUhdTJHI81uRtk2qFOSw9af9ui+0vCdwKJvYkcAfWgC1mjNQR3MMsaSRurLIMoc/eqQMDnHagB+aM03NRT3AihkZB5jIM7FPNAE+aq3n2We38q72PHIduG5BNND3Es8bAKsDJlgfvA063tIbeHy0XKhiw3HOCaabTugPHvFHgGbRtQvL6ytfMsZHEqsvzNFjk4Fefm4tXujdOGhWQmOS3HXd2Y+3NfU7KrLtYAqexryT4ifDFp5ZNT8OxqnmgtdQL1kwOCK+syvN05KliH8/wDM4qlBL3onm9lZ+Sz232lfN37oiB8ka9z9auab9lf7Xb3U8iMJRGA7fMfcfWsmLy4jt1OJobi1XZJb84ZRzn61OtvCl9LdT3IdJyFjuc52EDnivp52d9TBI1H0VWJ+yXCqVcBfSIe3v71pw6baW9i1uUDqSXZ35O7+9XP3emvbRRXC3O6zimDmONuWU9z6k1qLeWD/AGsTTEq6K0qseEAHC/XiuOpKTtrc0sTW1zYNaz2kX74wkyBWP3m7bT3PtQNVO9gYneNVXznxkxv6e59ap2X9nGZtQYGJIhmMSHAQeoFMOpo6z3MCyOr42o5CjA/i+lZu3MwLCebdyKkfzOsrSSR42iQjlVz6DrT2hU3v2mWIGSNw6LuxubsPrVS1157vzvs8aqykSRZ9uGJ9vT1pYA6TTzSTho0+aJic4H8TYpczTZXQR9VKXBgskUMz4V0HG7PznPoOgpdRukikEo3ebGMyBVzjPAH+e9QRT2s1qPKkSOGOQyHaMMF7fifSkv5/KPlsVLNiUkHAkJ6D6D+dbxkrqyIB7sQRRmSMRu8ZG5hyxzyQP0zVdpobi4SSNGNwp+VnGQBjH8qz7/U3a/W4nfzJViAAC8bR0H496ktb4QW++Q4llX51I4XnoK7adNtXSOPE4j2UdFqbNps02N9j7nf7zU1Z7nULhbaxieaVzgKozVHS7PUfEmofYtIheVyRlv4VHqTX0B4S8Gaf4XsRsRZLtlzJK3JJ9vavLzHH0sErbzZ5OEyqVeftKvUy/BfguPQltp9RtzNfyAszZysVdgdWt0tTcPvWPzPL5Xoc4/Khbxp4YpbSIurPtbdwVHc077EjtN5rGSOXH7s9BXwdavOvNzqO7Z9dSowox5ILQG1GP7Z5CcgJvZ88L9abFG1zbxG+ZTIr71MZwD6VP9nh8spsXaV2n3FRmyhM0MmCDCCEAPAzWBoWgFUkgAFup9aUGqH2WeO3KQ3LbzJu3NzxnpTt14k1wxVHjCjylB5J75oAu5ozVQXUgMKvCwaQEsQchDQuoQGHzGbYvmeXlhjJoGW80ZqPzE3Fdy5AyRnpVUXzTwJLaRGQF9rbuMDuaALrSKilnOFHUk9Kga7P2iONI2ZXUt5g6CmfZA0k5ldpEmxmNjwKnjURoEQAKowB6UAQJbyXEKfbyC6PuGw4HtVkKqsWUAE9T60ZooAdmjNNzRmgB2aM03NGaAHZo3VVa9jImEP714ThkXrmkZJXuVkWTbEUw0eOp9aAJZbyOHy924+Y20bRnmonE90LiGUeSmcRujcketOtbWK0gEUQO1SSMnNT5oAjFtGJEkI3SIu0OeuKmzTc0ZoAdmjNNzRmgBkltDLGySRqVY5YeppptUM5lUlW2bOD0FS5qu17HiYRfvJIfvIvXPpQA1LIxxwJ58h8lt2S33vY1BPNcWkcribzWmlAiG3IT2NT7Z5biOUSbYimGiI71JbW0drD5UeSoJIyc0AV5HvZpp4JIvLg2DZKjfMT3ojkhH2WeeF1nb90hYZYfWr2aQ80AMF1F8/7xf3Zw3PQ1KHGcZGfrUMkEUkbK6KQ5yw9aja0iN154yHEfljB4AoAt5ozVFbaaOKFIrhvkbLs3JYelHmXqC4ZkR8N+5UHBI96AL2aN1YeqeKLLSX8u53vL5e8RxDcx9sCuYXxxc6vMYhG+kWhyDNcxncQfT0NAHcXerWVkD9puY0P93dyfwrDGq67rEsiaXaLZ2wOFubjq49QKXQ9B0ezAeGYXsrkv5ssm9jmuiGAMAYFAGFZeE7VLuO+1Rzf3qAgSy9Bn0FdAoCKAoAA6AUmaM0AOzRmm5ozQA7NGabmjNADs1HJbwTMGliRyOhYZxTs0ZoAQxxt1RemOnao0s7aNg0dvGrDoQoFS5ozQA7NGabmjNADs0ZpuaM0AOzRmm5ozQA7NGabmjNADs0ZpuaM0AOzRmm5ozQA7NGabmjNADiflP0rOzzV4n5T9Kz880AOzRTc0UAUvBZ/4ofRv+vKL/0EVt5rB8Fn/ih9G/684v8A0EVt5oAfmjNMzRmgB+aM0zNGaAH5ozTM0ZoAfmjNMzRmgB+aM0zNGaAH5ozTM0ZoAczBVJY4A5JPaqNhrmn6nPcRWFyk72zbJdnO0+lW3VZEZHGVYYI9RXF+DbFrHxl4pC25hga4jMXy4DDb2oA6abRbO41P7dOpkfbjaxyo98VoKFRcKoA9AKTNGaAH5pCFb7yg/UU3NNklSGMySsqIoyWY4AoAqXOh6ZdptnsoW53fcHWsm48C6VM0zQ+dbGYfMYZStbNtqdndybLa4jkbGcK3NOub+1s8fap0iLdNzYzQBzw8KajaXkcuna7cpDGm1YZPmBPqarXeo+JdCtkN5e2FyzPyH+QhfYd66oTRX1oxtpgVdSA6HOKzbPwzZ28gnuy17c/89ZuT+VAGHbeNdZurS4mm8PXNtDECBICGLe4HcVo2viOymeG7vIrq3mVNu2SMjIPUkV0gUBcADHpSNHG4IdFOeORQBn23iTSJmCRX0OeuCcVpRXEU8e+GRZEP8SnIrPn0LS7mLy5bKEr7LiqD+EbFf+PSSe2xyojkIAP0oA6LdRmuWbQ9ct8fYdaZs/e85d35VElz4wsrdBLbWl8yvhirbSy+tAHXZozXHXnjp9I846zpFzAkQBDphg1TQeO9Mubu2g/eQG4jL4lQqV9KAOpeVIwC7BcnAyepqGS4Mgmjt/8AWoONw4zWZbXun3tuFub63uSkm5WDgYOeK1Q6kjaQfoaAIlglkmgnllZWRMNGv3STVmNFjXCKFBOcAUgNGaAH5ozTM0ZoAfmjNMzRuA7j86AH5pGkVFLOQqjqT2qpJdsVia1QTKz7WIP3R60n2d5muEumWSCQjYmOgoAsG6T7QsIyWZdwOOMfWqzW9xcwxGeUxSRybz5fRh6VZRFRQFAAUYFOzQAqqqszKoBbqQOtOzTM0ZoAfmjNMzRmgB+aQgEHIznr703cBVeS6Jjje1QTKzhWIPQdzQBJJDboEdwqLDyp6BarPBGA9vBLIj3B83eDnH41I1u85uI7plkt5MBUx0Hep0RY1VVGAowPYUAZ7Wuo3DBprkRhDlUjHUjPWpkE8EsLGBWlmOLh1OAuBwauZozQBAL9RHK8kciLG+zlevuPapTdxCVot43qm8j0HrSnB603yoy5fYu4jBOOo9KAFS6hkRGWRSJPuc9akzVdrSBmiJjXMJzH/s1GbTbDKsUroZH3ls5I+lAHLeNPh1YeJlW5gAgvI23AgYWT2avD9b0ybQtSex1C0lg8zrvHyrluSv4V9IXd3PabrhG8+DZtVEGSG9Sa8o1vxRc+JbeS0vdHWZgT5biM7o/cGvRw+evANQq3cTpoZZVxqbp2Vu7OCiSEq8ME7XNuCWYK2WcKOAfYEVNa2X7q0CyxSbA07wuMDLcgVoXHhvUNA0tL7+zZtkz7SyqSwz3PtWF/bcMk6pblQrFlZz2YdsV2rNcxxqvhKVo92/0Ov+z8uw75cTWu10ijSggjmiaa7jCTElggORn39R7U9IbKK2zcxPcOPmYk8sfT6e1VLW7j1Flu4VKRBChUn+IHrU093DaBXnQupbAUd6+fq5pmccwjh3UUtVdLb0Pep5Zl0sBPEeza0dm9/UW2udYnlndbKGOEEbdg++v9wVSVp2v9mrL9kknkKqYj1A6cenrT7nxHCkJnEpwhwscfoPT/ABrD1DULHV5I7ia8khS3BAC/eYnsK++i532PgNDWN1bR37206j7Tat5kch4Wde5NZmo3aJMLlEKLEwEKnJVweq/hWRfa+89w4tYgqFFjDPy3HfNXdH0TXvEqlLSCaeOE5ZsfKme9ejShGC56r5UZtN6ImW9aD5C/mHcwBA5YE9K6/wAM/DvWPEd3C2oI2n2TkHzJBguPRRXe+C/g3aaNeR32sOl+/lhlVhwj/SvTrS0FvbpFI3m7CSrMOleNmHEEY/usGtO/+QqWDTfPU3MvQtAsvD+nS6folv8AZ3QY891yXPrnvWyLcGaOZ2JkRNpI6H8Kk4pc18bKcpy5pO7PRSSVkOGAMAYFLmmZozUjH5ozTM0ZoAfmjNVpruKCOR3biMZYDkimmWaSaMxBfIZMlj1B7UATyzxxAeYwXccDPc1WkdroT26RmNo8bXZeCfUU6C2EcISZzMVbcGerGaAKh02J5/tEmfPMfluynG6n/Y9s0DRyuqQgjYOjfWrGaM0AVmF6kDbHWSQyZBYcBc9KeXullmO1WQJmMDqT6VMDRmgCut5IGt0mgcPKPmxyEPvT/t8AjaRn2or7CWGOalqORInUiRVYdcGgCUSoXKhgWAyRnkUrSKi7nYKo7k1nSCKRvNto9/2j5JJEOMD1qIaXLI3l3NwZLZThYvUe9AGk1yvnCFc72XcOOKrpDczxQtcyeXJG+5hH0YelMCXcFsRGY5JA/wAueAF9KlNzIksoaEmONNysD949xQBZVERmZVALHJIHWnZqml/G3kBwyPMMqpHT61KLiIqzCRcKdpOeh9KAJ80ZqMSKWK7huAyRnpS5z0oAfmjNMLAVXe7JSNrVBMrNgkHoPWgC00iopZ2CqOpNRtcoJhCCS7LuHHH51WFtJKbhLtxLDIfkTGNo9KsqqooCjgDAoAgENxcQRfaJDHIj7j5fQj0qyqKrFlUAt94gdaM0ZoAfmjNMzRmgB+aM0zNIzqilmIAHUk0ASZpM1h3nie1ikEFirXty33UiGR+J6VRj07XtWupX1S6WztCR5dvB97HcMaANG/8AFWnWVwLZHa5uiuRDANxNZ89r4g8QIm65/su1LBtsYzIy+hPatnT9GsNMH+h2yI3d8ZY/jV7NAFDT9DstOX9zHvfvI/zMfxNXZbaCZds0KOPRlBp2aM0AVLfR7C1uvtFvbqkvPIrl38W6rNZ6hqlnBD9gsJXjkV/vnYecV2ea4lvDOq29jqWk2hgay1CaSR5WPzJvPIx7UAdfYXyX2l296o2pNEsgB7AjNc/onjH+2vGOoaVDBi2tYlkjnz/recHHtV8aRI2gnRmmMcAtlgWZDhuBg1ieHPBEvh7xOb2K+eW1FosCxv1yDQB22aM0zNGaAH5ozTM0ZoAfmjNMzRmgB+aM0zNGaAH5ozTM0ZoAfmjNMzRmgB+aM0zNGaAH5ozTM0ZoAfmjNMzRmgB+aM0zNGaAH5ozTM0ZoAcT8p+lZ+eavE/KfpWdnmgB+aKZmigCl4MP/FD6N/15x/8AoIrbzWF4MP8AxRGjf9ecf/oIrbzQA7NGabmjNADs0ZpuaM0AOzRmm5ozQA7NGabmjNADs0ZpuaM0AOzRmm5ozQA7NIMBjgYJ60maM0AOzRmm5ozQA7Nct8RvPPg2b7MHLCeEtt/u7xn9K6fNNdVkQpIoZW4II60AcJczWknxF0GTRmRrdIZjctD91eBjdirXiXy18QWupw3FrIrWxj8u5PyEbs7h711NvptlaBvs1tHFvGG2qBmiXTrOeNI5raN0T7qsoIFAHOfDuG8h0vUHvek19JJEQMKUPTA9K6/NRqqooVAFUDAAHSnZoAdmjNNzRmgBxYDqcUbs1x9/FJrPjiXTZrmaK3gsxKoibb8xYDmpvB1/cXGhagLiUubS7ngjduTtQ8ZoA6rePWqeqG+Npt0vyxOzAbpOij1ry19V1FNGTWPNuBIZwDfF/wB1jzMfd/SvWwcgUAY1p4cRrj7Vq0rXlwRyG+4PotaclhaynMltG2BgZUcD0qfNGaAMG78F6HdqgayWPy33jyzt5zntVeLwYlvO89rqV5HIT8n7zIT6CumzRmgDn303X4P+PXVllUc/vo+SfTNNTUfE0DbrvToJo+hWF/m/WuizRmgDDXxPJGP9M0u6hPVjt3AD14qSHxbo8uQb5Ij6TfJn6Z603UbrVZr1rPT7VY1wCbmTlfpiqtv4Os5J1udZ239wrZRnUYT2AoA1Y9XhvYZTp0sUjKcIxYbWPtU62wluI7qRmEqx7SoPy89axbrwTos8WyKF7Yh94MLlcGqknhG+haVtM167hDjhXO4A0AdaiJEm2NQq+gFOzXJx23iyyMSJe213EincZEwzGm/8JH4gskDajoDybn2j7M4bA7E0AddmjNc9F4vs3uDDJb3UTqMuWhO1fxq5H4j0qRsfbI1PYMcE0AauaM1XN7bhCwmQgDPysDxTDcublI0iLRMm7zfQ+lAFouF6kDtzVd7mV1nS3j/ex8Lv4VjUUVnmFEupGmZJN6seOc1czQBCsG+aK4lJEqx7SoPy81MiLGu1FCj0AozRmgB2aM03NGaAHZozTc015VijZ5GCqoySe1AEmaN1VvtStMkahjvXcrgfL+dQ/ZpZ4kF3Kd6SbwY+M88CgCd70fv1gUySwjlMYzQoklkimLMi7MNF7mpQACSByevvS5oAjgt4raExwrtUknH1psVlbQuWigjUnqQo5qbNGaVkO7WwMiMu1lBX0IryX4k/DXwyLGXVICdPvd24GI4Dn0xXqV5eRWVtJcXDhI4xkkmvKne7+InihY03pp0Dc+gH+JrGpjKuH92i/eZ6GBwka0nVq/BHV/5HAXPhPX5fDMDaBYSTQs+1nXr9axvE1veDRYfKjkZ4SPN2gkpxg5r6rtbOGxsFtrZAkcabVA+leZeELGSDxpqIu7Np7WdmTeUynWinUeHq0Wo3s22+9z01jXiaWI5nZNKy8j55tNO1a8jzZ2d1Mo+XKISBntXU6N8JPFOr3iwSWhs9w3FpuBivqBNIt1hnt1hihhkPyiJApFaKIEVQOdowCa+lqZ3VfwRSPlVSR454V+DmlaRDFqGs75pYJMSRyrlWHTgV6vYWOmafI8VhBFAzqGZEUDI7HFXiAwwwyPcUwxRmQybRvI27sc4rya2JrV3epK5pGKRKGHGCMUuaqNZRnyAjOghbIAPX60xoLpI5zBPmSRgU3jhB6VzlF7NGaq+ZcrcEMimIJnI6lvSmpeny4TNDJG0rY24zt+tAFzNGaoNrFoIjKJN0YfYzqMgH3pWEl358EpCRMBsZG+Yj1oAtm4QSCPcPMIJC55Iqskl1cwxvt+zsH+ZW5yKkWCNSjEbnRdocjnFShqAGLbRRzSSqvzSn5/epQcdOlJmjNADs0ZpuaM0AOzRmm5pk06QRNJIcKvU0AS5oLgYycZ6VWM8jTiNYz5bR7vN9D6UyC0228SXMjTPG24OfWgB0tzM6zLaxfvYzgb+AacLYPcrcSFvMCbSoPy/lU2aM0AEaJEgWNQqjsBTs03NGaAHZozTc0bqAFIBIJHI6VDLaQTRGN4xtLBiBxk+tOkmSKMu5wo6mojcSG4WNIj5bJu83PQ+lAD3t4jJIx4eVNhYHnFUgs6r5dkZF+y/IFk6ScetTw2e2BEuZWmaN94c9c1bzQBnNbXgYXO9ZLgHAUnChT1/GrSSmFpEWArFGu4Mvc+gFT5ozQBCl/GTArBkeYZVSP51IlzFIGKSKwU7SQeh9KUgEgkcjocdKge0heNo9gCs24gcZPrQBaDZozVY2/wC8kkWRlZ02jnge+KrTzHTbWJ7m7RYYgTNJIcFhQBpZpskqRKWkZVUd2OK5O78Uam9vIdC0s35/gfdtUj15rF086s8hl8XWl5NH1CIcqh9MDrQB1lx4lSZmh0aJr2YcBl+4D7moBouo6vhtduyseci3g+UfQnvV3RLq1uLZhZWr2yIcbXj25rTzQBFa2VtZxhLaFYwPQVYzTM0u6gB2aM03NGaAHZozTc0ZoAdmjNNzRmgB2aM03NGaAHZozTc0ZoAdmjNNzRmgB2aM03NGaAHZozTc0ZoAdmjNNzRmgB2aM03NGaAHZozTc0ZoAdmjNNzRmgB2aM03NGaAHZozTc0ZoAdmjNNzRmgBxPyn6Vn55q8Twaz880AOzRTc0UAUfBp/4onR/wDrzj/9BFbeawvBp/4onR/+vOP/ANBFbWaAH5ozTM0ZoAfmjNMzRmgB+aM0zNGaAH5ozTM0ZoAfmjNMzRmgB+aM0zNGaAH5ozTM0ZoAfmjNMzRmgB+aM0zNGaAH5ozTM0ZoAfmjNMzRmgB+aM0zNGaAMzUtAt9QuxdCWW3uNuwyQttLL6GpLLRLXT7ZILXcqB2d+f8AWFupPrmr+aM0AYLeDtOYCJjIbQPuFru/dg5z0+vNdCDxTM0ZoAfmjNMzRmgB+a4H+1tXv9P1fV474wJps0qLAq8OEGefrXd5rmJPCLhbu3tb94bO8dnnhCg7i33uaANe2nm1bw3b3CTfZpri3WTeoztJGa5/wzLq914lumfUnutMtl8sMyAeZJ3x7Ct8aX5elSafBK0cH2cQRgdUGMZzT9G02PR9It7GIllhTbuPVj6mgDQ60U3NGaAHUU3NZHijW20LRGu403uZEiUHsWOAf1oA2aM1y9nrGq2niS10rWPJkN3E7xvCMbdvrUHiHxTNZeJI9ItpIbdvs32hpphkEbtuABQB1U7RxQSSOm4KpJAGSa5a7guvEI32emw2sbDAnuY/nx7CtnQb6bUNLWa5aJ3yRuiPDD+lafSgDl9O8Bafp9swSe4M7HJl8w5B9varMmgajF/x46zOiKMhJPmyfrW/mjNAHPRt4qtcmUWt3npjK7agPirVrOEvqWgz4V9rGA7+M9cV1GaCaAMCLxxpLSSpctLaNGAxE8ZXg9607bXNNu0RoLyFhJ935sZqaW1t5wRNCjhhg7lByKy9R0jQYYxc31vDEsa7Q+NuAfpQBtrKjjKMrD/ZOaXeM4yM+leayaDPeKIfCU15ZxmTzDcySHa4z2Bro10XW4mSdNX8yaNNqrInyn60AbzXbSxo9kFlBfa2TjA70v2cvJN57+bFKAPLI4ArnzdeJ7HCfYra7BOS8bbMfhU48TTx4N1pN1Eo+8wAOKAOgUKihVAAUYA9KdmsFPF2klgs07QOTgLKhU1qQ6ha3JIt7mKQjqFcHFAFrNGaYGB6HNGaAH5prSBVJYgAdzTHkWNCzsFUdSTXDeP/ABU9nGNK0/JuJxhivJANY1qsaUOZnThcPPE1VTj/AEjI8U67d+KtbXQtHP7kvtZh0Y+v0rttC0uHQNHa001VluI/9Znjc3uay/BnhGHS9OiubxN165EjE/w+1dcoVSSowT1OOtYYajJfvanxP8Dsx2Ji0sPQ+CP4vuNVJWmWRnwuzDR9s0+KGKBdsUaoPRRil3UZrtPKHUuaZmjNAD80ZpmaR5FjQu7BVHUk8CgCTNIXA6kCq5uGNwI1QlWTcJO30qNIJJoY/txVpI33ApwPagCWW6yky2215ox9w8c0LHK1xHM0m1QmGiHQn1qQBQSQOT1OOtLmgCMWlutuYBCgiJyVxwaU20fnGZRhynl5HpT80ZoAgS1kjSFUuHxGctnkv9aSWK5WOfyZgZHOY9w4T2qxmjNAEQlnWYBkBj2ZLA9W9KYl+3lwGaB0eZiNoGdv1qxmoZblInjUhmMjYBAzigB63kLNIA4/dHD54wac1xGGK7wXC7toPJFUZrdr+K5t7hPLjdgFZTyw65qYWMAuBOF/fCPyg+f4aAEW4mu0gmtf3aFv3iyLg4qaOAJJIxdnEhyVY5AqvHaSQxQxxTttjbLFuS49KWR72KOd0VJGz+6Tpx70AXc0uaq/aHEio0Tf6vcWHQH0pqahC0UTksglbaoZcEmgC5mjNVlvYGaVfMAMJw+eMVMHB6HqM0APzRmoJbqKExiRwDI21fc1ATdzC4j4hwQInHOR60AW2mRX2Fhuxnb3xVVbia7hhltR5al/nWQYJWpliXcruAZFXG7FScUARx24SWVy7OJDnax4H0qfOKZmjNAD80ZpmaM0APzRmmZqnf6tZ6bEHu51TccKOpJ9hQBfzVa51K0szi5uI42xnDNz+Vc6mra/q9zJHZWP2K0yNl1KfmI9QtXbTwzZpcC7v83l5jBll5/IUAVbrWtX1VVXw3biNQ+HnuVIGPYd6sReGVudsuuTteS5yUJ+QH2FbigIoVRgDoBS5oAI40iQLGqqoGAAMU84PWmZozQA24k8m1lkUcohYfgK4B9d1iLwzD4l+2lllmVfshX5QC+2u/kQSxNG/wB1gQfpXLf8IXus0017520xHDrb7emG3Yz9aAJ/Geuz6LpFrJA/ltc3CQtJjJQN3A9aj8L6nLNqEttNfSzEJuEdxHsfGeo9qvavoA1i2EVxMf3UyzW5x/q2HT603TfD7W2rnVL66a6u/K8lXIwAmc4x9aAN/NGaZmjNAD80ZpmaM0APzRmmZozQA/NGaZmjNAD80ZpmaM0APzRmmZozQA/NGaZmjNAD80ZpmaM0APzRmmZozQA/NGaZmjNAD80ZpmaM0APzRmmZozQA/NGaZmjNAD80ZpmaM0APzRmmZozQA4ng1QzzV0ng1QzzQA7NFMzRQBS8HH/iitH/AOvOP/0EVtZrD8HH/iitH/684/8A0EVtZoAdmjNNzRmgB2aM03NGaAHZozTc0ZoAdmjNNzRmgB2aM03NGaAHZozTc0ZoAdmjNNzRmgB2aM03NGaAHZozTc0ZoAdmjNNzRmgB2aM03NGaAHZozTc0ZoAdmjNNzRmgB2aM03NGaAHZozTc0ZoAdmjNNzRmgB2aM03NGaAHZozTc0ZoAdmsrxJow17R2s/M8thIkqN/tKwI/lWnmjNAHOw6PqVzrkGq6lLEJrWJ0iWMcHd61DqPh27m8RQa5AYGu1tfs7pKuVHOciuozRmgDH8M6I2iWc6SS+ZJcTtM+PuqT2HtW1mm5ozQA7NGabmjNAGbrGux6U8MKwyXNzPny4YhyQOpp2ja5FrCTBYngnt3CSwyDlCRkVl69FcweItN1aG3e4jto5Y3SP73zAYP6VFoC3UF/q2pzWkiJfToY4j94ADGTQBYvfGCW+tT6ZZ2FxeSwKrSNEBtXd2+vFbZjivraM3UAOcPscZ2muD1HQxaXWpNYafdm/upGkiuEkO0OR8pPsDXb6UtzFpNqmoNvuliUSsO7Y5/WgC4oVFCoAoHQAdKXNNzRmgB2aOD1puaxJ/F2k2949u85JRtruqkop926UAa8tpbT586CN8jHKis+TwzpT/ctxCfWIlSfyrSjlWWNXjYMrDIIPBFU4tasZ9Xm0yG4V7uBA8sY6oD0zQBz174ah0y3Z7XXbqyPmbl3ybgD6YNU7a/8WyXxXSpYr6zK8zXKFCG9vWuql0Wym1P7dNF5kuMDccgfhV/5UXgBQPbpQBxOra5rOiWcj6vYxzxT8M6v8qt6YrnfCyx3GsNruurMwzmDEZYMf8A61WfGOpSeJPE1tolg26NH+cjpn/61ejWFjDp+nw2kSLsiQKOK86K+sV+Z/DHb1Pbm3gsIoL456vyRBH4i0tiqi8jUns3GKvQXltcpugnjkAOCVYGoJtNsZ42SW1jYNwfkFZkvg/SnYGKN4Mdo3KjPrXoniHQZFGa55vD93GhNrrF0rj7u87lH4VTurnXdHjBmv7OaPrmUbWPsAKAOtzSM4UH+VchD4n1e80+R20W4tt3Ebrgk++PSlg8ZaYJhLqMdzazp+6bzYiB9fSgDpVvGnijktY9ys+G3cYHc0v2NGafzmaRJuqNyBVe31rTLhitvewMRyQHHFW0nikXMciMPUNQBIuFUKowAMAU7NMzRuoAfmjNM3UbqAH5ozUbSKi7nIUepNRG7U3DW6Z83ZvHHH50AWc1WmvRHDK8SGZojgonXNRxx3EkcJuZNkiHLCPo3tVoBVJKgAtycDrQBEFlecSFyIimDHjv60+CFLeFY4x8q9M80/NGaAHZozTc0ZoAdmjNNzSM4VcsQB6mgB+aQqpxlQccjjpUDXK+f5C58wpuBxxj61FGlxLFEbmTZIrZYR9D7UAFxNA0E4WMTlfvxqOSaQWjSXiXG9kQRbPL9M1aCqpJAAJ6kDrTs0AULfSxaWttbwTMUhcsTIdzN+NTs92gnYKj4P7pemR71YzRmgCEXTi4WNoWAKbi46A+lCX0LxI4OBI21QRjJqXNIVU4yoODkcdKAFWeNiwV1JU4YA9KfmqjWkLLMu3HmnLkHGay9Q160sdQS2hkkuLry8LbRDOfc+lAG/mszVPEFnpcDs7+dKvSGIbnJ+lc/fWvivVrKLyLlLDZJll6mVfQntS6ZpuraIC39nWt07cb1Y7vxJoAvx3Wsa7EfLhOm2rjBMn+s/D0q1pfhqx0xRw1xIP+Wk7bzn8auWE9xPah7y3FvJnlAc4qwJELbQwJ9M0ASdOB0pc0wuB1wPrQGB6EH6UAPzRmm5ozQA7NGabmjNADs0ZpuaM0AOzRmm5ozQA7NGabmjNADs0ZpuaM0AOzRmm5ozQA7NcCviK68U/EO/0DTrhray0mNTcSp953P8P0ruyflNeDfD+bxCfHnjCXQI7aVjdYlNweRycYoA75PEV34a+I1r4d1G4NzaalCZLaR/vIw4K/Su+zXgPjWbX/APhbPg1tfW2RzLiP7OT03c5r3zNADs0ZpuaM0AOzRmm5ozQA7NGabmjNADs0ZpuaM0AOzRmm5ozQA7NGabmjNADs0ZpuaM0AOzRmm5ozQA7NGabmjNADs0ZrN166ls9BvLi3bbJHEWU46GvPR4v1oqP9L7f3BTA9UJ4NZ5PNed/8JfrX/P3/AOOCmDxVqw/5ef8Ax0UWY7Ho+aK85/4SvVv+fj/x0UUWYjuPB5/4ovSP+vOP/wBBFbOaw/CB/wCKL0j/AK9I/wD0EVs5pAPzRmmZozQA/NGaZmjNAD80ZpmaM0APzRmmZozQA/NGaZmjNAD80ZpmaM0APzRmmZozQA/NGaZmjNAD80ZpmaM0APzRmmZozQA/NGaZmjNAD80ZpmaM0APzRmmZozQA/NGaZmjNAD80ZpmaM0APzRmmZozQA/NGaZmjNAD80ZpmaM0APzRmmZozQA/NGaZmjNAD80ZpmaM0APzRmmZozQA8mjNMzRmgB+aM0zNGaAH5ozTM0ZoAeTxXmSpJbeC9f0We2k/tC7muDAmzO7d93mvSs0m1d2Soz64oAxoZbyz8LJbWcW/UILNAqNwN+0Dr9a4/wTYatZfEG5l1PT2iefT18+cvkM+8mvSuM570nGc459aAJCa5Pxz4mGj6aba1b/S5xhQOw9a3dV1KHS9Plurg4RFz9a858M2M/jDxLJrF+D9khf5VPQnsK4sRVbapQ3f4I9TA0YJPE1vhj+L7G/4C8Nf2dbNqV6ubu45G7qq12Ms0cELSzOERRksTwBQMAADgCud8cCR/D6CMMR9qiL4/u7uc+1dFOnGnFRRx1688RUdSe7Nqz1ax1AsLK5jmK9Qp5FOvNTs9PCm9uEhDdNx61zAksz4502TTNggS2m84xDCjgYzWhrjWM/SeCK6MYKSSpuG2tTA3YLiK6gEtvIskbDhlOazrLw9aWs7zylrmVzktK27H0FZXgAMuhXAkVgftkuGPRhkcj0FdRmgQ4YAwOBTJIYpVKyxo4PUMM5pc0ZoAzrjw9pVy7NJZRbmG0kDGRWbN4IsGmhktJ7m18nO1YpSB+VdHmjdQBztvomuWav5OuPKWbP75A2B2FKZvFNuSzQ2twi/wqxDNXQ5qpqL3otf+JaIzMTj94eAPWgDKPia5s7d5NV0yaAKM5Uhhj60ieNdOn8h7cu0Mn3pWUqqD1zUtt4dDSCbVLqW8k6lHb5B+Fav2S3MPkmCPy8Y27RigCtb3tnqUMubyGeFm4UMBj2rRXaOmOnasqbw9pc7bns4wcY+UYx+VVJfDAAH2LUbu3buRIW49OaAOizRmuSGl+KLGOQWerx3Pz5QXCdvTNSNq/iS1kcT6TFcKEyrQSdT6c0AdTmjNcpH4zMTQx6jpV5bySeiblUe5rSTxRpLtta8SMngCT5c/TPWgDZzSFgASTgCswatHcrKljJGZVOFDsMNVoRZmE0hO7btK54/KgAN6ZFhe0Xzo5GwXU8AetL5Ly+at0wkjc/KuOgp8aJEm2JQq9gBin5oAVQq4x2GBS5puaM0APzRmmZozQA/NGahlnjgQvM6oo7scVztz4seaWa20OxkvLiM4DkbYz/wKgDp2cKpLHAHUk9Kx5vFFluMdgHvpM4xAMjP1qhHoWoajdLc61fuF24NrCcJ9D61uWVhaafbiGygjhjHRVGKAMSLTNb1WaRtXu/s1szZjggODj0Y1t2OmWmnRBLaIAgY3Hlj+NWc0ZoAfmjNMzRmgCj4gupbTw7f3Fu22WK3dkPoQK454TplpoGpWs8v2m+miWYs5IIYZPFd5NFHcQvDMoeN1Ksp7g1k2/hmwt7iOXEkgiOY0diVQ9sDtQBm+NLi4N9pdnAzSC4d91ujbTJhc9e2Kb4MmnTVtTs5jJGIQhW3d9xjyOufety80S0vkUXAYujFkkDfMhPXBp+m6Ra6X5jWykySn55HOWb0yaANHNGaZmjNAD80ZpmaM0APzRmmZozQA/NGaZmjNAD80ZpmaM0APzRmmZozQA/NGaZmjNADycjFeXeH7T/hCvirrpvgYtP1gLLbz/wAIYdVJ7GvTs1FPbwXShbiJJVByAy5oA841KwHi/wCMml3dsvm6do1szNOB8pkJyAPWtrx54i1XQ5NN+wmNIbi8jgckZJDHmutht4bZNtvEka+ijFee/Fm8gji0RHkG9dSiYr3Az1oA9JU/KKXNQwTxzwrJCwdGGQR3p+aAH5ozTM0ZoAfmjNMzRmgB+aM0zNGaAH5ozTM0ZoAfmjNMzRmgB+aM0zNGaAH5ozTM0ZoAfmjNMzRmgDN8Tn/il9Q/64mvKVPyD6V7Bf2sd/p81rMSEmUqxXrXDap4NNjHvtrnevoy8iqiBzGaR5FjQvIwVQMkmp7myuLSEyzxlYx/H2rzTW/GcWpXrWNm5W3U439N5/wom3FXRtRipzUZOyOofxbZK7ABiAcZ9aK4bFFcPt5nv/UqB9R+ED/xRmkf9ekf/oIrYzWJ4RP/ABRukf8AXpH/AOgitnNdh80OzRmm5ozQA7NGabmjNADs0ZpuaM0AOzRmm5ozQA7NGabmjNADs0ZpuaM0AOzRmm5ozQA7NGabmjNADs0ZpuaM0AOzRmm5ozQA7NGabmjNADs0ZpuaM0AOzRmm5ozQA7NGabmjNADs0ZpuaM0AOzRmm5ozQA7NGabmjNADs0ZpuaM0AOzRmm5ozQA7NG6uX8YeLf8AhHvsNnaxibUdRmENtGenuT7Cqev+I9T8H29rqGrvFc2UkywzmNNpi3cA+4zQB2maM1FFKk0SyRkMrgEEdxT80AOzRmm5ozQA7NGabmjNADs0ZpuaM0AOzRmm5ozQA7NGabmjNADs0m7A54ppNcn418Tx6VpkltbSg3cgwADyo9azq1FTi5M3oUJ16ipw6mB4y1ObxFr0Oh6bJujDgOVPBP8A9avQNJ02HSNOjtLcAKo5I7n1rl/AHh0WNiNSu1zd3AyC3VVrswea58NTetWe7O3H1oaYel8MfxfcdmkZVkUq4DKeoNGaTNdh5ZHHaW0OfKhRNwwdq4zRJaW8yhZYUcL0DDOKkzS5oAI0WJAkShFHQDgCnZpuaM0AOzRmm5ozQBzWvSTXXizS9L86SK2nhlkk8ttpJXGOfxo8MXM66zrOnPK8kFnKixb2yQCuetaeraLa6t5bTl0kizskjbDAHqM02w0K106Bo4C+53DvIzZZyOmTQBk+I4Ft0klivrltRkyLaJZDjd2+X0ro9ONx/Zlv9u/4+fLXzcf3sc1iXPg3T7nVpNRea5W4fqVlPHsK34kEUSoCSFGAScmgCXNGabmjNADs0ZppNcD/AG1qtz4a1HxAl60X2OaVVt1A2sEbHP1oA9A3UZzVK0uZLrSYbhVHmyQhwO2SKyfDOpX17eavDqLqzWt0Y0CjAC7QcfrQBb1CbVZ7w2un26RR9TdSEEfQCo4fC9k9wl1qYF9dJ92SUfc+grZBpc0AZEnhbSXZnS28uRjnejEEH2qMeHpoBiy1W6iHcM27J/GtvNFAHP8A2fxLb5dLy3uAvSNkxu/GlTVtdgGLvSRKTyDDJ0H41v5pKAMMeL7OMn7dBc2g6bpIzgn04q3Z+JtJvo2eC+iwrbSHbaQfoavukbKS6KQOeRmuVvorTXGktNO0yMiQ4luZI8Ae49TQB0t1qlnZ2r3FxcRrFGMs27oKxH8UXOoTCHw/ZPcKy5FzJ8sY/rWdH8M9KYrLcz3Us45Leadue3HStOLR9XsVAstUDjpsmQEAfhQAQeGZLtIX8Q3sl7JG28IDtQH6DrW/DBFbx7II1jX0UYqG089LVBeOrTAfMyjANSxTxzLuidXXOMqc80AS5pM0maM0AOzRmm5ozQA7NGabmjNADs0ZpuaM0AOzRmm5ozQA7NGabmjNADs0ZpuaM0AOzRmm5ozQA7NGabmjNADs0ZpuaM0AOzRmm5ozQA7NGabmjNADs0ZpuaM0AOzVS50yyvJA91bRysOhdc4qzmjNABGiQxhIlCKOgHQU7NNzRmgB2aM03NGaAHZozTc0ZoAdmjNNzRmgB2aM03NGaAHZozTc0ZoAdmjNNzRmgB2aM03NGaAHZozTc0ZoAzfEtxNbeGb+a2keKVISUeP7yn1Febabr3ia+fyFvob6OOPL+aqq3PA5PevRPFVx9l8KajN5ay7YG+RuhrwS08T6f4c1Ce6uY2a4eNljimBK89+OuKqIjqLzxY8UM+m6paPBMJAWx0XHt715f45tbSO8truyRUM4YsU4BI7/AFqXXPGq6tcieYu0m0IAFwAB2rnNS1Jr8ouNscf3R3q3qMiGo3AAG7pRVaisuSPY09tU/mPsvwif+KN0n/r0j/8AQRWxmsTwkf8AijtJ/wCvSP8A9BFbGaDMfmjNMzRmgB+aM0zNGaAH5ozTM0ZoAfmjNMzRmgB+aM0zNGaAH5ozTM0ZoAfmjNMzRmgB+aM0zNGaAH5ozTM0ZoAfmjNMzRmgB+aM0zNGaAH5ozTM0ZoAfmjNMzRmgB+aM0zNGaAH5ozTM0ZoAfmjNMzRmgB+aM0zNGaAH5ozTM0ZoAfmjNMzRmgDyD4hX1xB8aPDhgtWvWghZ44FOMtmm/FTxFq2oeAbu3vfD09pEWVvOdwQpB4rT8e2kmnfEzwv4h2/6Kshtp2/ubjwT7Vd+MUhvfA6aZZkSXN/dRRRovJIJ5P5UAdX4QkaTwZpDuxZmtIySe/yitnNcfLqMnh+10LwzY7Wv7iIRozfdRUXljV3TNau08Ry6HqoR5xAJ4pkGA65wePY0AdHmjNMzRmgB+aM0zNGaAH5ozTM0ZoAfmjNMzRmgB+aM0zNGaAK+qXw0/TJ7tlLCJC2B3rzvwrpLeJ9cuNX1SMtBuyqsOCfT8K9JkjSVCkihlPUHoabDBFbptgjWNfRRiuepR9pNSlsuh20MU6FKUYL3pdfImQBFCqMKBgAdqdmmZozW5xD80ZpmaM0wH5ozTM0ZoAfmjNMzRmgB+aM0zNGaAH5ozTM0ZoAfmjNMzRmgB+aM0zNGaAH5rlpPB37ua0hv5Y9PuHZ5bYDhtxy3PvXTZozzQBBaWptGKpITCFCoh/hxUOn6XHp15fXEbMzXs3msD2OAP6VdzRmgB+aM0zNGaAH5ozTM0ZoAfmsbWNdksNQtNPtIPOu7sMYwxwoCjnNa2a57X9MvJdZ0/VtPVZZLMOvkscbtwx1oAt6Lrb6jd3lldQiK5syBKFOV5GRitdVVBhAFHsK57w/pl3Bquo6nfqsUl8UPlKc7Nox1roM0APzRmmZozQBHeQC6tJIWZlDDBKnBrnPh4vleF2j5wl1Moz1xurp81HDDFboUhRUUknCjHJoAnzRmmZozQA/NGaZmjNAD80ZpmaM0APzRmmZozQA/NGaZmjNAD80ZpmaM0APzRmmZozQA/NGaZmjNAD80ZpmaM0APzRmmZozQA/NGaZmjNAD80ZpmaM0APzRmmZozQA/NGaZmjNAD80ZpmaM0APzRmmZozQA/NGaZmjNAD80ZpmaM0APzRmmZozQA/NGaZmjNAD80ZpmaM0APzRmmZozQA/NGaZmjNAGZ4p58K6iPWE14rqGhW2r6Z5NwuG52uBypr2jxPz4Yv8A/ria8shH7kVUQPGdX0e50a8aC6T5f4Hxw4rONe16rpFtq9o1vdJuB6N3U+ory/VPC91pmpeTL80B5SUdCP8AGiTsrlwi5y5UYmaK6EadbhQNg4FFc3tz1P7Mn3PqTwkf+KP0n/r0j/8AQRWvmsbwmf8Aij9J/wCvSP8A9BFa+a3PIHZozTc0ZoAdmjNNzRmgB2aM03NGaAHZozTc0ZoAdmjNNzRmgB2aM03NGaAHZozTc0ZoAdmjNNzRmgB2aM03NGaAHZozTc0ZoAdmjNNzRmgB2aM03NGaAHZozTc0ZoAdmjNNzRmgB2aM03NGaAHZozTc0ZoAdmjNNzRmgB2aM03NGaAHZozTc0ZoAjurS3vrcw3cKTRt1VxkVTtdB060mWWOAM6fcZzu2/TPStDNGaAOH12JoPi94evZSRBJbzQKT0D4zj8auZ8/4tRmL5hbaYyyn0LOMD9K6K+sLbUYRHeRLIqtuXPVT6im2Wm2uns7WsQVpPvt1LfUmgC9mjNNzRmgB2aM03NGaAHZozTc0ZoAdmjNNzRmgB2aM03NGaAHZozTc0ZoAdmjNNzRmgB2aM03NGaAHZozTc0ZoAdmjNNzRmgB2aM03NGaAHZozTc0ZoAdmjNNzRmgB2aM03NGaAHZozTc0ZoAdmjNNzRmgB2aM03NGaAHZozTc0ZoAdmjNNzRmgB2aM03NGaAHZozTc0ZoAdmjNNzRmgB2aM03NGaAHZozTc0ZoAdmjNNzRmgB2aM03NGaAHZozTc0ZoAdmjNNzRmgB2aM03NGaAHZozTc0ZoAdmjNNzRmgB2aM03NGaAHZozTc0ZoAdmjNNzRmgB2aM03NGaAHZozTc0ZoAdmjNNzRmgB2aM03NGaAHZozTc0ZoAdmjNNzRmgB2aM03NGaAHZozTc0ZoAdmjNNzRmgB2aM03NGaAHZozTc0ZoAzfEp/4pq//AOuJry+E5j+hr0/xHz4cvh/0yNeXwH5T9apAPPWq17ZQ31u0M65Vv096tZpM1W+g03F3RyDeELjedlwu3PGR2orr/wA6Ky9jE7Pr1buejeEz/wAUhpX/AF6R/wDoIrXzWL4UP/FIaV/16x/+gitfNM4h+aM0zNGaAH5ozTM0ZoAfmjNMzRmgB+aM0zNGaAH5ozTM0ZoAfmjNMzRmgB+aM0zNGaAH5ozTM0ZoAfmjNMzRmgB+aM0zNGaAH5ozTM0ZoAfmjNMzRmgB+aM0zNGaAH5ozTM0ZoAfmjNMzRmgB+aM0zNGaAH5ozTM0ZoAfmjNMzRmgB+aM0zNGaAH5ozTM0ZoAfmjNMzRmgB+aM0zNGaAH5ozTM0ZoAfmjNMzRmgB+aM0zNGaAH5ozTM0ZoAfmjNMzRmgB+aM0zNGaAH5ozTM0ZoAfmjNMzRmgB+aM0zNGaAH5ozTM0ZoAfmjNMzRmgB+aM0zNGaAH5ozTM0ZoAfmjNMzRmgB+aM0zNGaAH5ozTM0ZoAfmjNMzRmgB+aM0zNGaAH5ozTM0ZoAfmjNMzRmgB+aM0zNGaAH5ozTM0ZoAfmjNMzRmgB+aM0zNGaAH5ozTM0ZoAfmjNMzRmgB+aM0zNGaAH5ozTM0ZoAfmjNMzRmgB+aM0zNGaAH5ozTM0ZoAfmjNMzRmgB+aM0zNGaAH5ozTM0ZoAfmjNMzRmgB+aM0zNGaAH5ozTM0ZoAfmjNMzRmgB+aM0zNGaAH5ozTM0ZoAfmjNMzRmgB+aM0zNGaAH5ozTM0ZoAfmjNMzRmgCnrYD6LdIxwGTBPpk1wOoafBZxJJBdRTFzgqh5Wu48R/N4bvxkjMLDI7V5NpdgtkrnzpZnbGWkbNVEDQzRmkJpM1Qh2aKbmigD0Twof+KR0r/r1j/8AQRWtmsfwqf8AikdL/wCvWP8A9BFa2azGOzRmm5ozQA7NGabmjNADs0ZpuaM0AOzRmm5ozQA7NGabmjNADs0ZpuaM0AOzRmm5ozQA7NGabmjNADs0ZpuaM0AOzRmm5ozQA7NGabmjNADs0ZpuaM0AOzRmm5ozQA7NGabmjNADs0ZpuaM0AOzRmm5ozQA7NGabmjNADs0ZpuaM0AOzRmm5ozQA7NGabmjNADs0ZpuaM0AOzRmm5ozQA7NGabmjNADs0ZpuaM0AOzRmm5ozQA7NGabmjNADs0ZpuaM0AOzRmm5ozQA7NGabmjNADs0ZpuaM0AOzRmm5ozQA7NGabmjNADs0ZpuaM0AOzRmm5ozQA7NGabmjNADs0ZpuaM0AOzRmm5ozQA7NGabmjNADs0ZpuaM0AOzRmm5ozQA7NGabmjNADs0ZpuaM0AOzRmm5ozQA7NGabmjNADs0ZpuaM0AOzRmm5ozQA7NGabmjNADs0ZpuaM0AOzRmm5ozQA7NGabmjNADs0ZpuaM0AOzRmm5ozQA7NGabmjNADs0ZpuaM0AOzRmm5ozQA7NGabmjNADs0ZpuaM0AOzRmm5ozQA7NGabmjNADs0ZpuaM0AOzRmm5ozQA7NGabmjNADs0ZpuaM0AOzRmm5ozQA7NGabmjNADs0ZpuaM0AUPEJ/4p29/65GvMIT8p+temeIT/wAU7e/9cjXmELZU49aqIictSZpKTNWA/NFMopAeieFj/wAUlpf/AF6x/wDoIrWzWN4WP/FJ6X/16x/+g1rZrMY/NGaZmjNAD80ZpmaM0APzRmmZozQA/NGaZmjNAD80ZpmaM0APzRmmZozQA/NGaZmjNAD80ZpmaM0APzRmmZozQA/NGaZmjNAD80ZpmaM0APzRmmZozQA/NGaZmjNAD80ZpmaM0APzRmmZozQA/NGaZmjNAD80ZpmaM0APzRmmZozQA/NGaZmjNAD80ZpmaM0APzRmmZozQA/NGaZmjNAD80ZpmaM0APzRmmZozQA/NGaZmjNAD80ZpmaM0APzRmmZozQA/NGaZmjNAD80ZpmaM0APzRmmZozQA/NGaZmjNAD80ZpmaM0APzRmmZozQA/NGaZmjNAD80ZpmaM0APzRmmZozQA/NGaZmjNAD80ZpmaM0APzRmmZozQA/NGaZmjNAD80ZpmaM0APzRmmZozQA/NGaZmjNAD80ZpmaM0APzRmmZozQA/NGaZmjNAD80ZpmaM0APzRmmZozQA/NGaZmjNAD80ZpmaM0APzRmmZozQA/NGaZmjNAD80ZpmaM0APzRmmZozQA/NGaZmjNAD80ZpmaM0APzRmmZozQA/NGaZmjNAD80ZpmaM0APzRmmZozQA/NGaZmjNAD80ZpmaM0APzRmmZozQA/NVNQvvsNt5u3d8wGM1YzWV4hP8AxLR/10FAEf8AwkZ/59//AB6j/hJP+mH/AI9WPDazXCFolBAOOuKSe3lt8eaAM9Oc0AdjBN58CSAY3DOM1nX2tfY7ow+VuwBzmrVgf9Ah/wB0Vz2uHOqP9B/KgCTVdc+16Tc26xYMkZUHdXlrapIkjRR/K+Suc9K9HvtOx4ZvZ5OHWMlcGvHzIFY/WriI0xPdxSEmZmYnjJ4reimLRqx6kDNcst+h2iRgMHj1NbcErGFQOvvVAaXmUVS3P60UgPUPC5/4pPS/+vWP/wBBrVzRRWYwzRmiigAzRmiigAzRmiigAzRmiigAzRmiigAzRmiigAzRmiigAzRmiigAzRmiigAzRmiigAzRmiigAzRmiigAzRmiigAzRmiigAzRmiigAzRmiigAzRmiigAzRmiigAzRmiigAzRmiigAzRmiigAzRmiigAzRmiigAzRmiigAzRmiigAzRmiigAzRmiigAzRmiigAzRmiigAzRmiigAzRmiigAzRmiigAzRmiigAzRmiigAzRmiigAzRmiigAzRmiigAzRmiigAzRmiigAzRmiigAzRmiigAzRmiigAzRmiigAzRmiigAzRmiigAzRmiigAzRmiigAzRmiigAzRmiigAzRmiigAzRmiigAzRmiigAzRmiigAzRmiigAzRmiigAzRmiigAzRmiigAzRmiigAzRmiigAzRmiigAzRmiigAzRmiigAzRmiigAzWV4hP/ABLR/viiigDnBLt6MR9KDJu6sT9aKKAOwsD/AKBD/uiuf1s/8TR/oP5UUUAZ19eyJot5CrZWSM5zXk1vaz3tw0f3U7tnpRRWkRG5Y6Ra2fKLvk7u/Jq8Bhj7iiiqAWiiikB//9k=)![ML1.JPG](data:image/jpeg;base64,/9j/4AAQSkZJRgABAQEAkACQAAD/4RDcRXhpZgAATU0AKgAAAAgABAE7AAIAAAAGAAAISodpAAQAAAABAAAIUJydAAEAAAAMAAAQyOocAAcAAAgMAAAAPgAAAAAc6gAAAAgAAAAAAAAAAAAAAAAAAAAAAAAAAAAAAAAAAAAAAAAAAAAAAAAAAAAAAAAAAAAAAAAAAAAAAAAAAAAAAAAAAAAAAAAAAAAAAAAAAAAAAAAAAAAAAAAAAAAAAAAAAAAAAAAAAAAAAAAAAAAAAAAAAAAAAAAAAAAAAAAAAAAAAAAAAAAAAAAAAAAAAAAAAAAAAAAAAAAAAAAAAAAAAAAAAAAAAAAAAAAAAAAAAAAAAAAAAAAAAAAAAAAAAAAAAAAAAAAAAAAAAAAAAAAAAAAAAAAAAAAAAAAAAAAAAAAAAAAAAAAAAAAAAAAAAAAAAAAAAAAAAAAAAAAAAAAAAAAAAAAAAAAAAAAAAAAAAAAAAAAAAAAAAAAAAAAAAAAAAAAAAAAAAAAAAAAAAAAAAAAAAAAAAAAAAAAAAAAAAAAAAAAAAAAAAAAAAAAAAAAAAAAAAAAAAAAAAAAAAAAAAAAAAAAAAAAAAAAAAAAAAAAAAAAAAAAAAAAAAAAAAAAAAAAAAAAAAAAAAAAAAAAAAAAAAAAAAAAAAAAAAAAAAAAAAAAAAAAAAAAAAAAAAAAAAAAAAAAAAAAAAAAAAAAAAAAAAAAAAAAAAAAAAAAAAAAAAAAAAAAAAAAAAAAAAAAAAAAAAAAAAAAAAAAAAAAAAAAAAAAAAAAAAAAAAAAAAAAAAAAAAAAAAAAAAAAAAAAAAAAAAAAAAAAAAAAAAAAAAAAAAAAAAAAAAAAAAAAAAAAAAAAAAAAAAAAAAAAAAAAAAAAAAAAAAAAAAAAAAAAAAAAAAAAAAAAAAAAAAAAAAAAAAAAAAAAAAAAAAAAAAAAAAAAAAAAAAAAAAAAAAAAAAAAAAAAAAAAAAAAAAAAAAAAAAAAAAAAAAAAAAAAAAAAAAAAAAAAAAAAAAAAAAAAAAAAAAAAAAAAAAAAAAAAAAAAAAAAAAAAAAAAAAAAAAAAAAAAAAAAAAAAAAAAAAAAAAAAAAAAAAAAAAAAAAAAAAAAAAAAAAAAAAAAAAAAAAAAAAAAAAAAAAAAAAAAAAAAAAAAAAAAAAAAAAAAAAAAAAAAAAAAAAAAAAAAAAAAAAAAAAAAAAAAAAAAAAAAAAAAAAAAAAAAAAAAAAAAAAAAAAAAAAAAAAAAAAAAAAAAAAAAAAAAAAAAAAAAAAAAAAAAAAAAAAAAAAAAAAAAAAAAAAAAAAAAAAAAAAAAAAAAAAAAAAAAAAAAAAAAAAAAAAAAAAAAAAAAAAAAAAAAAAAAAAAAAAAAAAAAAAAAAAAAAAAAAAAAAAAAAAAAAAAAAAAAAAAAAAAAAAAAAAAAAAAAAAAAAAAAAAAAAAAAAAAAAAAAAAAAAAAAAAAAAAAAAAAAAAAAAAAAAAAAAAAAAAAAAAAAAAAAAAAAAAAAAAAAAAAAAAAAAAAAAAAAAAAAAAAAAAAAAAAAAAAAAAAAAAAAAAAAAAAAAAAAAAAAAAAAAAAAAAAAAAAAAAAAAAAAAAAAAAAAAAAAAAAAAAAAAAAAAAAAAAAAAAAAAAAAAAAAAAAAAAAAAAAAAAAAAAAAAAAAAAAAAAAAAAAAAAAAAAAAAAAAAAAAAAAAAAAAAAAAAAAAAAAAAAAAAAAAAAAAAAAAAAAAAAAAAAAAAAAAAAAAAAAAAAAAAAAAAAAAAAAAAAAAAAAAAAAAAAAAAAAAAAAAAAAAAAAAAAAAAAAAAAAAAAAAAAAAAAAAAAAAAAAAAAAAAAAAAAAAAAAAAAAAAAAAAAAAAAAAAAAAAAAAAAAAAAAAAAAAAAAAAAAAAAAAAAAAAAAAAAAAAAAAAAAAAAAAAAAAAAAAAAAAAAAAAAAAAAAAAAAAAAAAAAAAAAAAAAAAAAAAAAAAAAAAAAAAAAAAAAAAAAAAAAAAAAAAAAAAAAAAAAAAAAAAAAAAAAAAAAAAAAAAAAAAAAAAAAAAAAAAAAAAAAAAAAAAAAAAAAAAAAAAAAAAAAAAAAAAAAAAAAAAAAAAAAAAAAAAAAAAAAAAAAAAAAAAAAAAAAAAAAAAAAAAAAAAAAAAAAAAAAAAAAAAAAAAAAAAAAAAAAAAAAAAAAAAAAAAAAAAAAAAAAAAAAAAAAAAAAAAAAAAAAAAAAAAAAAAAAAAAAAAAAAAAAAAAAAAAAAAAAAAAAAAAAAAAAAAAAAAAAAAAAAAAAAAAAAAAAAAAAAAAAAAAAAAAAAAAAAAAAAAAAAAAAAAAAAAAAAAAAAAAAAAAAAAAAAAAAAAAAAAAAAAAAAAAAAAAAAAAAAAAAAAAAAAAAAAAAAAAAAAAAAAAAAAAAAAAAAAAAAAAAAAAAAAAAAAAAAAAAAAAAAAAAAAAAAAAAAAAAAAAAAAAAAAAAAAAAAAAAAAAAAAAAAAAAAAAAAAAAAAAAAAAAAAAAAAAAAAAAAAAAAAAAAAAAAAAAAAAAAAAAAAAAAAAAAAAAAAAAAAAAAAAAAAAAAAAAAAAAAAAAAAAAAAAAAAAAAAAAAAAAAAAAAAAAAAAAAAAAAAAAAAAAAAAAAAAAAAAAAAAAAAAAAAAAAAAAAAAAAAAAAAAAAAAAAAAAAAAAAAAAAAAAAAAAAAAAAAAAAAAAAAAAAAAAAAAAAAAAAAAAAAAAAAAAAAAAAAAAAAAAAAAAAAAAAAAAAAAAAAAAAAAAAAAAAAAAAAAAAAAAAAAAAAAAAAAAAAAAAAAAAAAAAAAAAAAAAAAAAAAAAAAAAAAAAAAAAAAAAAAAAAAAAAAAAAAAAAAAAAAAGFkbWluAAAFkAMAAgAAABQAABCekAQAAgAAABQAABCykpEAAgAAAAMwOAAAkpIAAgAAAAMwOAAA6hwABwAACAwAAAiSAAAAABzqAAAACAAAAAAAAAAAAAAAAAAAAAAAAAAAAAAAAAAAAAAAAAAAAAAAAAAAAAAAAAAAAAAAAAAAAAAAAAAAAAAAAAAAAAAAAAAAAAAAAAAAAAAAAAAAAAAAAAAAAAAAAAAAAAAAAAAAAAAAAAAAAAAAAAAAAAAAAAAAAAAAAAAAAAAAAAAAAAAAAAAAAAAAAAAAAAAAAAAAAAAAAAAAAAAAAAAAAAAAAAAAAAAAAAAAAAAAAAAAAAAAAAAAAAAAAAAAAAAAAAAAAAAAAAAAAAAAAAAAAAAAAAAAAAAAAAAAAAAAAAAAAAAAAAAAAAAAAAAAAAAAAAAAAAAAAAAAAAAAAAAAAAAAAAAAAAAAAAAAAAAAAAAAAAAAAAAAAAAAAAAAAAAAAAAAAAAAAAAAAAAAAAAAAAAAAAAAAAAAAAAAAAAAAAAAAAAAAAAAAAAAAAAAAAAAAAAAAAAAAAAAAAAAAAAAAAAAAAAAAAAAAAAAAAAAAAAAAAAAAAAAAAAAAAAAAAAAAAAAAAAAAAAAAAAAAAAAAAAAAAAAAAAAAAAAAAAAAAAAAAAAAAAAAAAAAAAAAAAAAAAAAAAAAAAAAAAAAAAAAAAAAAAAAAAAAAAAAAAAAAAAAAAAAAAAAAAAAAAAAAAAAAAAAAAAAAAAAAAAAAAAAAAAAAAAAAAAAAAAAAAAAAAAAAAAAAAAAAAAAAAAAAAAAAAAAAAAAAAAAAAAAAAAAAAAAAAAAAAAAAAAAAAAAAAAAAAAAAAAAAAAAAAAAAAAAAAAAAAAAAAAAAAAAAAAAAAAAAAAAAAAAAAAAAAAAAAAAAAAAAAAAAAAAAAAAAAAAAAAAAAAAAAAAAAAAAAAAAAAAAAAAAAAAAAAAAAAAAAAAAAAAAAAAAAAAAAAAAAAAAAAAAAAAAAAAAAAAAAAAAAAAAAAAAAAAAAAAAAAAAAAAAAAAAAAAAAAAAAAAAAAAAAAAAAAAAAAAAAAAAAAAAAAAAAAAAAAAAAAAAAAAAAAAAAAAAAAAAAAAAAAAAAAAAAAAAAAAAAAAAAAAAAAAAAAAAAAAAAAAAAAAAAAAAAAAAAAAAAAAAAAAAAAAAAAAAAAAAAAAAAAAAAAAAAAAAAAAAAAAAAAAAAAAAAAAAAAAAAAAAAAAAAAAAAAAAAAAAAAAAAAAAAAAAAAAAAAAAAAAAAAAAAAAAAAAAAAAAAAAAAAAAAAAAAAAAAAAAAAAAAAAAAAAAAAAAAAAAAAAAAAAAAAAAAAAAAAAAAAAAAAAAAAAAAAAAAAAAAAAAAAAAAAAAAAAAAAAAAAAAAAAAAAAAAAAAAAAAAAAAAAAAAAAAAAAAAAAAAAAAAAAAAAAAAAAAAAAAAAAAAAAAAAAAAAAAAAAAAAAAAAAAAAAAAAAAAAAAAAAAAAAAAAAAAAAAAAAAAAAAAAAAAAAAAAAAAAAAAAAAAAAAAAAAAAAAAAAAAAAAAAAAAAAAAAAAAAAAAAAAAAAAAAAAAAAAAAAAAAAAAAAAAAAAAAAAAAAAAAAAAAAAAAAAAAAAAAAAAAAAAAAAAAAAAAAAAAAAAAAAAAAAAAAAAAAAAAAAAAAAAAAAAAAAAAAAAAAAAAAAAAAAAAAAAAAAAAAAAAAAAAAAAAAAAAAAAAAAAAAAAAAAAAAAAAAAAAAAAAAAAAAAAAAAAAAAAAAAAAAAAAAAAAAAAAAAAAAAAAAAAAAAAAAAAAAAAAAAAAAAAAAAAAAAAAAAAAAAAAAAAAAAAAAAAAAAAAAAAAAAAAAAAAAAAAAAAAAAAAAAAAAAAAAAAAAAAAAAAAAAAAAAAAAAAAAAAAAAAAAAAAAAAAAAAAAAAAAAAAAAAAAAAAAAAAAAAAAAAAAAAAAAAAAAAAAAAAAAAAAAAAAAAAAAAAAAAAAAAAAAAAAAAAAAAAAAAAAAAAAAAAAAAAAAAAAAAAAAAAAAAAAAAAAAAAAAAAAAAAAAAAAAAAAAAAAAAAAAAAAAAAAAAAAAAAAAAAAAAAAAAAAAAAAAAAAAAAAAAAAAAAAAAAAAAAAAAAAAAAAAAAAAAAAAAAAAAAAAAAAAAAAAAAAAAAAAAAAAAAAAAAAAAAAAAAAAAAAAAAAAAAAAAAAAAAAAAAAAAAAAAAAAAAAAAAAAAAAAAAAAAAAAAAAAAAAAAAAAAAAAAAAAAAAAAAAAAAAAAAAAAAAAAAAAAAAAAAAAAAAAAAAAAAAAAAAAAAAAAAAAAAAAAAAAAAAAAAAAAAAAAAAAAAAAAAAAAAAAAAAAAAAAAAAAAAAAAAAAAAAAAAAAAAAAAAAAAAAAAAAAAAAAAAAAAAAAAAAAAAAAAAAAAAAAAAAAAAAAAAAAAAAAAAAAAAAAAAAAAAAAAAAAAAAAAAAAAAAAAAAAAAAAAAAAAAAAAAAAAAAAAAAAAAAAAAAAAAAAAAAAAAAAAAAAAAAAAAAAAAAAAAAAAAAAAAAAAAAAAAAAAAAAAAAAAAAAAAAAAAAAAAAAAAAAAAAAAAAAAAAAAAAAAAAAAAAAAAAAAAAAAAAAAAAAAAAAAAAAAAAAAAAAAAAAAAAAAAAAAAAAAAAAAAAAAAAAAAAAAAAAAAAAAAAAAAAAAAAAAAAAAAAAAAAAAAAAAAAAAAAAAAAAAAAAAAAAAAAAAAAAAAAAAAAAAAAAAAAAAAAAAAAAAAAAAAAAAAAAAAAAAAAAAAAAAAAAAAAAAAAAAAAAAAAAAAAAAAAAAAAAAAAAAAAAAAAAAAAAAAAAAAMjAyMzowMjoxNCAxODoxNDoxNwAyMDIzOjAyOjE0IDE4OjE0OjE3AAAAYQBkAG0AaQBuAAAA/+ELGGh0dHA6Ly9ucy5hZG9iZS5jb20veGFwLzEuMC8APD94cGFja2V0IGJlZ2luPSfvu78nIGlkPSdXNU0wTXBDZWhpSHpyZVN6TlRjemtjOWQnPz4NCjx4OnhtcG1ldGEgeG1sbnM6eD0iYWRvYmU6bnM6bWV0YS8iPjxyZGY6UkRGIHhtbG5zOnJkZj0iaHR0cDovL3d3dy53My5vcmcvMTk5OS8wMi8yMi1yZGYtc3ludGF4LW5zIyI+PHJkZjpEZXNjcmlwdGlvbiByZGY6YWJvdXQ9InV1aWQ6ZmFmNWJkZDUtYmEzZC0xMWRhLWFkMzEtZDMzZDc1MTgyZjFiIiB4bWxuczpkYz0iaHR0cDovL3B1cmwub3JnL2RjL2VsZW1lbnRzLzEuMS8iLz48cmRmOkRlc2NyaXB0aW9uIHJkZjphYm91dD0idXVpZDpmYWY1YmRkNS1iYTNkLTExZGEtYWQzMS1kMzNkNzUxODJmMWIiIHhtbG5zOnhtcD0iaHR0cDovL25zLmFkb2JlLmNvbS94YXAvMS4wLyI+PHhtcDpDcmVhdGVEYXRlPjIwMjMtMDItMTRUMTg6MTQ6MTcuMDc5PC94bXA6Q3JlYXRlRGF0ZT48L3JkZjpEZXNjcmlwdGlvbj48cmRmOkRlc2NyaXB0aW9uIHJkZjphYm91dD0idXVpZDpmYWY1YmRkNS1iYTNkLTExZGEtYWQzMS1kMzNkNzUxODJmMWIiIHhtbG5zOmRjPSJodHRwOi8vcHVybC5vcmcvZGMvZWxlbWVudHMvMS4xLyI+PGRjOmNyZWF0b3I+PHJkZjpTZXEgeG1sbnM6cmRmPSJodHRwOi8vd3d3LnczLm9yZy8xOTk5LzAyLzIyLXJkZi1zeW50YXgtbnMjIj48cmRmOmxpPmFkbWluPC9yZGY6bGk+PC9yZGY6U2VxPg0KCQkJPC9kYzpjcmVhdG9yPjwvcmRmOkRlc2NyaXB0aW9uPjwvcmRmOlJERj48L3g6eG1wbWV0YT4NCiAgICAgICAgICAgICAgICAgICAgICAgICAgICAgICAgICAgICAgICAgICAgICAgICAgICAgICAgICAgICAgICAgICAgICAgICAgICAgICAgICAgICAgICAgICAgICAgICAgICAKICAgICAgICAgICAgICAgICAgICAgICAgICAgICAgICAgICAgICAgICAgICAgICAgICAgICAgICAgICAgICAgICAgICAgICAgICAgICAgICAgICAgICAgICAgICAgICAgICAgIAogICAgICAgICAgICAgICAgICAgICAgICAgICAgICAgICAgICAgICAgICAgICAgICAgICAgICAgICAgICAgICAgICAgICAgICAgICAgICAgICAgICAgICAgICAgICAgICAgICAgCiAgICAgICAgICAgICAgICAgICAgICAgICAgICAgICAgICAgICAgICAgICAgICAgICAgICAgICAgICAgICAgICAgICAgICAgICAgICAgICAgICAgICAgICAgICAgICAgICAgICAKICAgICAgICAgICAgICAgICAgICAgICAgICAgICAgICAgICAgICAgICAgICAgICAgICAgICAgICAgICAgICAgICAgICAgICAgICAgICAgICAgICAgICAgICAgICAgICAgICAgIAogICAgICAgICAgICAgICAgICAgICAgICAgICAgICAgICAgICAgICAgICAgICAgICAgICAgICAgICAgICAgICAgICAgICAgICAgICAgICAgICAgICAgICAgICAgICAgICAgICAgCiAgICAgICAgICAgICAgICAgICAgICAgICAgICAgICAgICAgICAgICAgICAgICAgICAgICAgICAgICAgICAgICAgICAgICAgICAgICAgICAgICAgICAgICAgICAgICAgICAgICAKICAgICAgICAgICAgICAgICAgICAgICAgICAgICAgICAgICAgICAgICAgICAgICAgICAgICAgICAgICAgICAgICAgICAgICAgICAgICAgICAgICAgICAgICAgICAgICAgICAgIAogICAgICAgICAgICAgICAgICAgICAgICAgICAgICAgICAgICAgICAgICAgICAgICAgICAgICAgICAgICAgICAgICAgICAgICAgICAgICAgICAgICAgICAgICAgICAgICAgICAgCiAgICAgICAgICAgICAgICAgICAgICAgICAgICAgICAgICAgICAgICAgICAgICAgICAgICAgICAgICAgICAgICAgICAgICAgICAgICAgICAgICAgICAgICAgICAgICAgICAgICAKICAgICAgICAgICAgICAgICAgICAgICAgICAgICAgICAgICAgICAgICAgICAgICAgICAgICAgICAgICAgICAgICAgICAgICAgICAgICAgICAgICAgICAgICAgICAgICAgICAgIAogICAgICAgICAgICAgICAgICAgICAgICAgICAgICAgICAgICAgICAgICAgICAgICAgICAgICAgICAgICAgICAgICAgICAgICAgICAgICAgICAgICAgICAgICAgICAgICAgICAgCiAgICAgICAgICAgICAgICAgICAgICAgICAgICAgICAgICAgICAgICAgICAgICAgICAgICAgICAgICAgICAgICAgICAgICAgICAgICAgICAgICAgICAgICAgICAgICAgICAgICAKICAgICAgICAgICAgICAgICAgICAgICAgICAgICAgICAgICAgICAgICAgICAgICAgICAgICAgICAgICAgICAgICAgICAgICAgICAgICAgICAgICAgICAgICAgICAgICAgICAgIAogICAgICAgICAgICAgICAgICAgICAgICAgICAgICAgICAgICAgICAgICAgICAgICAgICAgICAgICAgICAgICAgICAgICAgICAgICAgICAgICAgICAgICAgICAgICAgICAgICAgCiAgICAgICAgICAgICAgICAgICAgICAgICAgICAgICAgICAgICAgICAgICAgICAgICAgICAgICAgICAgICAgICAgICAgICAgICAgICAgICAgICAgICAgICAgICAgICAgICAgICAKICAgICAgICAgICAgICAgICAgICAgICAgICAgICAgICAgICAgICAgICAgICAgICAgICAgICAgICAgICAgICAgICAgICAgICAgICAgICAgICAgICAgICAgICAgICAgICAgICAgIAogICAgICAgICAgICAgICAgICAgICAgICAgICAgICAgICAgICAgICAgICAgICAgICAgICAgICAgICAgICAgICAgICAgICAgICAgICAgICAgICAgICAgICAgICAgICAgICAgICAgCiAgICAgICAgICAgICAgICAgICAgICAgICAgICAgICAgICAgICAgICAgICAgICAgICAgICAgICAgICAgICAgICAgICAgICAgICAgICAgICAgICAgICAgICAgICAgICAgICAgICAKICAgICAgICAgICAgICAgICAgICAgICAgICAgICAgICAgICAgICAgICAgICAgICAgICAgICAgICAgICAgICAgICAgICAgICAgICAgICAgICAgICAgICAgICAgICAgICAgICAgIAogICAgICAgICAgICAgICAgICAgICAgICAgICAgPD94cGFja2V0IGVuZD0ndyc/Pv/bAEMABwUFBgUEBwYFBggHBwgKEQsKCQkKFQ8QDBEYFRoZGBUYFxseJyEbHSUdFxgiLiIlKCkrLCsaIC8zLyoyJyorKv/bAEMBBwgICgkKFAsLFCocGBwqKioqKioqKioqKioqKioqKioqKioqKioqKioqKioqKioqKioqKioqKioqKioqKioqKv/AABEIAtwFiwMBIgACEQEDEQH/xAAfAAABBQEBAQEBAQAAAAAAAAAAAQIDBAUGBwgJCgv/xAC1EAACAQMDAgQDBQUEBAAAAX0BAgMABBEFEiExQQYTUWEHInEUMoGRoQgjQrHBFVLR8CQzYnKCCQoWFxgZGiUmJygpKjQ1Njc4OTpDREVGR0hJSlNUVVZXWFlaY2RlZmdoaWpzdHV2d3h5eoOEhYaHiImKkpOUlZaXmJmaoqOkpaanqKmqsrO0tba3uLm6wsPExcbHyMnK0tPU1dbX2Nna4eLj5OXm5+jp6vHy8/T19vf4+fr/xAAfAQADAQEBAQEBAQEBAAAAAAAAAQIDBAUGBwgJCgv/xAC1EQACAQIEBAMEBwUEBAABAncAAQIDEQQFITEGEkFRB2FxEyIygQgUQpGhscEJIzNS8BVictEKFiQ04SXxFxgZGiYnKCkqNTY3ODk6Q0RFRkdISUpTVFVWV1hZWmNkZWZnaGlqc3R1dnd4eXqCg4SFhoeIiYqSk5SVlpeYmZqio6Slpqeoqaqys7S1tre4ubrCw8TFxsfIycrS09TV1tfY2dri4+Tl5ufo6ery8/T19vf4+fr/2gAMAwEAAhEDEQA/AMfx4u745eMP+3L/ANJlrN8utnxom745eMv+3H/0mWqflUAUvLo8urvlUeVQBS8ujy6u+VR5VAFLy6PLq75VHlUAUvLo8urvlUeVQBS8ujy6u+VR5VAFLy6PLq75VHlUAUvLo8urvlUeVQBS8ujy6u+VR5VAFLy6PLq75VHlUAUvLo8urvlUeVQBS8ujy6u+VR5VAFLy6PLq75VHlUAUvLo8urvlUeVQBS8ujy6u+VR5VAFLy6PLq75VHlUAUvLo8urvlUeVQBS8ujy6u+VR5VAFLy6PLq75VHlUAUvLo8urvlUeVQBS8ujy6u+VR5VAFLy6PLq75VHlUAUvLo8urvlUeVQBS8ujy6u+VR5VAFLy6PLq75VHlUAUvLo8urvlUeVQBS8ujy6u+VR5VAFLy6PLq75VHlUAUvLo8urvlUeVQBS8ujy6u+VR5VAFLy6PLq75VHlUAUvLo8urvlUeVQBS8ujy6u+VR5VAFLy6PLq75VHlUAUvLo8urvlUeVQBS8ujy6u+VR5VAFLy6PLq75VHlUAUvLo8urvlUeVQBS8ujy6u+VR5VAFLy6PLq75VHlUAUvLo8urvlUeVQBS8ujy6u+VR5VAFLy6PLq75VHlUAUvLo8urvlUeVQBS8ujy6u+VR5VAFLy6PLq75VHlUAUvLo8urvlUeVQBS8ujy6u+VR5VAFLy6PLq75VHlUAUvLo8urvlUeVQBS8ujy6u+VR5VAFLy6PLq75VHlUAUvLo8urvlUeVQBS8ujy6u+VR5VAFLy6PLq75VHlUAUvLo8urvlUeVQBS8ujy6u+VR5VAFLy6PLq75VHlUAUvLo8urvlUeVQBS8uqxj+Y1reVVQx/MaAKeyjZWNqnhuG71szXN7cQpcL8pVgFDAAY59sH86teHtGj0+S6lguJZ4nIRGkIOcdSMe/H4UAaGyjZ7Vb8qjyqAKeyjZXLS+H9OheWO91SaO7VmAhEgzJn7pUfiK6ywtGttOt4JCS0cYVjnPOKAGeXRsq35VUNWt5FtxdQzNE0BycKCCp60ne2gyTZR5dZ8374xwWmrea8z7SAinC45PStlINkaoMnaAMnvUxcn8QO3QrbKPLq35VVbqcRSx28RU3EpwgboPc/4d6sQnl0bKLfzI7xrSV/Pwu7zMYI9mH8qt+VQBU2UeXVvyqyLy5N40sNrKI7aIZuLjOP+Aqf6+vFAFzy6jZP36fQ1JpsEqW7eYGWMt+5WQ5dV7Amp2j/ANIj+hoAg8ujy6kvIZ2tWFqcSZHQ4OM84P0rHMJvdQP2KSS5jSPbJuk2tg54BxjrQBqeXRsqW1Int1ZVZdpKFWOSCODz3qbyqAKnl0m0DGSOenvVzy6zItIitI5nvpVmi5IMi8oM5wD+NAFjy6NlPsIpfsEX2jPmbec9cds++KseVQBU2UeXVvyqqalHiBC+RB5g87HXb/hnGfagBAob7pB+lL5dRjSAL+K4gkEUK8mJFwH4xmr/AJdAFTZRsq35VHlUAVNlHl1RMM0ep3ccd1M8reXsRVXnKk5PoB61b0q3kFtI9zIZZ/NdHkxjO04HHagBxTg0yFP3CfSr5i4NRwR/6On0oAg8uk2gsQCMjqKkv42GnzlGZGCEhlOCK5/y4luZfKEqTKCTKJTk8jOaAN3ZRsq35WOKPKoAqbKPLq35VYt7H/xO2eYPJBGigqJNoBIP+FAF/wAujZVCzh/4ncckKPHBIjqFMm7JCjNbXlUAVNlGyrflVHcRf6JN/wBc2/lQBXAVvusp+hzS+XWdDp8k282biCWGGMx7FADMyZ+b1Ga1LBpbi0D3CBJVZkcKcjKnBxQAzZRsq35VHlUAVPLo8uor68e1lkRU3HamwBScsxx27VWt1mOqfuxceeSv2gTJtQJjjAHf0/WgC9srF11cTQ/7h/nXS+VWF4gTE8H+4f51lW+E6cNrURh7aTbUxXNX4LKO6gE20p5fDIv/AC1x/d9/WuNanpzfKrsyttG2rDgM5YKEBPCjtTdtK5Vj1PxWm/45eNfb7D/6TLUXk1c8Qpv+OXjf2+wf+kwp/ke1ekeCUPJpk5itoHmuJFjjQZZmOAK0jCACTgAdSa8s8U+IG1e+MUDEWcLYQD+M/wB4/wBKqMeZiZc1XxnI7NHpSeWnTzXGWP0HauduL+7umJuLmWTP95zj8qhMUghWYxuImbaJCp2lh1Gemfam10qKWxI5JHRsozKfUHFadl4k1OyYYuGmQdUm+Yfn1rKoALMFUEsTgADqabSe4HpOh6/a6yPLH7m5AyYmPX3B71s+TXkQ860ueRJBPC3IIKsjD26g16h4V1ka7px83AuocLKB39G/GsJwtqiky75NHk1f8j2o8j2rIZQ8mjyav+R7UeR7UAUPJo8mr/ke1Hke1AFDyaPJq/5HtR5HtQBQ8mjyav8Ake1Hke1AFDyaPJq/5HtR5HtQBQ8mjyav+R7UeR7UAUPJo8mr/ke1Hke1AFDyaPJq/wCR7UeR7UAUPJo8mr/ke1Hke1AFDyaPJq/5HtR5HtQBQ8mjyav+R7UeR7UAUPJo8mr/AJHtR5HtQBQ8mjyav+R7UeR7UAUPJo8mr/ke1Hke1AFDyaPJq/5HtR5HtQBQ8mjyav8Ake1Hke1AFDyaPJq/5HtR5HtQBQ8mjyav+R7UeR7UAUPJo8mr/ke1Hke1AFDyaPJq/wCR7UeR7UAUPJo8mr/ke1Hke1AFDyaPJq/5HtR5HtQBQ8mjyav+R7UeR7UAUPJo8mr/AJHtR5HtQBQ8mjyav+R7UeR7UAUPJo8mr/ke1Hke1AFDyaPJq/5HtR5HtQBQ8mjyav8Ake1Hke1AFDyaPJq/5HtR5HtQBQ8mjyav+R7UeR7UAUPJo8mr/ke1Hke1AFDyaPJq/wCR7UeR7UAUPJo8mr/ke1Hke1AFDyaPJq/5HtR5HtQBQ8mjyav+R7UeR7UAUPJo8mr/AJHtR5HtQBQ8mjyav+R7UeR7UAUPJo8mr/ke1Hke1AFDyaPJq/5HtR5HtQBQ8mjyav8Ake1Hke1AFDyaPJq/5HtR5HtQBQ8mjyav+R7UeR7UAUPJo8mr/ke1Hke1AFDyaPJq/wCR7UeR7UAUPJo8mr/ke1Hke1AFDyaPJq/5HtR5HtQBQ8mjyav+R7UeR7UAUPJo8mr/AJHtR5HtQBQ8mjyav+R7UeR7UAUPJo8mr/ke1Hke1AFDyaPJq/5HtR5HtQBQ8mjyav8Ake1Hke1AFDyaPJq/5HtR5HtQBQ8mqbQ/MfrW35HtWM8WqeY22G1xnjLt/hSbsVFXM3WdIi1fTXsJJFjaU5jYjOCParNpbRw2cUUJDJGoQEdDjipJ7PULmIxzW9oVP+2wx+lPS31KNAiQWgUDAAdv8KnmL5FbcPKo8qpIor/zB9oitxH3KMxP6irPkn0qkZtWZhXWg213rFrqMi/vbYEAY+96Z+nNX/Jq75PtS+T7UxFHyaDBuUjpnir3k+1Hk+1AGJYaR9jwzzNNIIxGCQAAoPQCrvk1e8n2pPJ9qSSSsgKXk1RudIaeSV1nMfm43DYD06H2I9a2/J9qPJ9qYGPbabLbNgXRePJJVkGWPqT3NW/Jq75PtR5PtQBSMAYEEZBGDWfbaItvIqtJvt4jmCErwh9T647Vu+T7UeT7fpQBS8qoni/0mP6NWn5J9KieE/aouOzdqAK3k1UOnTQzNJYypGJDl0kTcufUYPBrZ8n2P5Unk+x/KgDNtrIW0AjBLHksx/iJ5JqXyau+T7H8qPJ9j+VAFLyahksBNOkkrFlj5WPtu/vH1rT8n2P5UeT7H8qAKXlUeVV7yfb9KPJ9v0oAo+TQYcggjIPUVd8n2P5UeT7H8qAMy2sfswdEYmInKIf4PYe1TeTV3yfY/lR5Pt+lAFLyaPJq75Pt+lHk+x/KgClZeFW17WVhsbRpr2ZQCVcrhR3Y9gM16NoHwMsrC2f+09VuHlkcuVtsKq5OcZbdn64FdT8ONDj0zwxHeMg+1X48129E/gX6Y5+pNQfFO9vLDwvbS6fdT2shvFUvBIUYjY/GR24H5UAY2pfBy3+zsdG1SZZQDhLtQysewyoBH1wfpXm95o17ot0bDU4DBcRjlTyGGeGB7g+tfS2K5D4jaFHqfhiS8RP9KsB5qMOpT+NT7Y5+oFAHhtxafaLaSInbvUrkdqzv7ClY/NJCC33mWIhiPzro/IPpR5B9D+VAFHyqPJq95B9P0o8g+n6UAUfJqhfaHHfSLJ5rxMCCdoBDEDA4PsTW75B9P0o8g+n6UAYdro32a4EpuGk2s7BdgUAv16fSr3k1e8g+lHkH0/SgCj5NI0G5SrDIYYIq/wCQfT9KPIPp+lAGDFpElnNI2nypGkgXKOhfGBjg5q1aWT28BWRw7s7OxC4GWOelankH0oMOBk8CgCj5NSNp91DZ291PCywXO7yZf4X2sQR9QR0rp9G8Da3rkazW1stvbt0nuSUDfQdT9cY969O03wdbReC4/D+rFbpF3MXUbdrFiwK+hGetAHz7NpaTXHn+ZNHJt2kxvjIpbfTUt5WkEkrswwfMfOBXV+IvC934b1L7PcgyQvkwXAHEg9PZh3FZXkH0/SgCj5Nc/wCJY8XFv/uH+ddd5B9D+Vc34ohYXFt8pPyHoPesa/wHXhLe1Vzm9lPaSRmRtxBjGExxtqTy2/uN/wB8mjym/ut/3ya8/U9n3SKQtJIXbG5jk4GKbsqfym/uN/3yaPKb+43/AHyaNR+73PVdWTf8cvHXt/Z//pMKueR7VHeJv+OXjz2/s7/0mrU8n2r1j5o4rx3fHTPC8ojO2S5YQqR2B5P6Aj8a4LwL4Vk8Z+MbPSFl8iFsy3M3/PKFBl2/Lge5FdX8XC0cOlR/ws0rH6gJ/iaPhQBbeFfiHqcQxeW2gtHDIOqBw+4j8UU/hW8dIXJ6mH4/8YQeILuHSdBhWz8NaSTFptsi43DoZWzyWbrk84PPJJPKW1nc6hdw2dhEZrq4dYoYx/E7HAH5moq9v/Z7+H4v9Rbxjq0a/ZbJmSxVj96XGGkI9FBwPck/wirdoxFuZ/xm+E1v4OsLLXNE4sn2W93F2SXbw49FYjp2JGOvHkUcjwzJLE7RyRsGR1OCrA5BB9QRX1L4m1ST4vfDXXdN8L23mj+2IbKCbI2lEkidpj/s/e+ox61806/ol34b8Q32jajt+02Upik2nIbuGHsQQR7GppyurMbO+1p4fiZ8PrnxQY44/E+ghF1Uom0XtseFmwONy85Pop7bQOO8HaidP8UWpJxHO3kyD2Y4H5HBrr/gSFuvF2saZcrvs77Q7mK4jP3SuU6/gSPxrzS2kaJopFPzKVYH36011iB9A+R7UhhwK0PJ9qpalqOn6VbtJqN5BbLjrK4XNcxRYu9D1Cws4Lu8tGit7jHlyb1YNkZHQnH40yx0m71O6+zafB5020vt3qvA6nJIHevRxfabf6DoukXjK0GqWQaGT0YBSpH5/wAvWsXwhYTaZ44ltLpcSw28gJxwwyuCPY0AcWYCCQwwQcEehpPJrpdH0e2vDqF/qrumn2O5pAn3nOT8tT2FnoXiO2vItIsZdPvbeMyx5uGlWRR2Oen/ANegDk/Io8iuim061XwVp2oxw4up7l45JNx5Ub8DGcdh2qQaVaHwJcakYc3iXIjWTe3C5HbOO/pQBzPk0eTXbS6d4c03Q9Kvb+wuLie7gBaOKVgGbAJY/Nx9B61monh2w0lbq8jOpXU7nbaJcGMQr23Ec5x9aAOaaLapPpWrrnh06J9izdfaPtcPm/6vZs6cdTnrWhrem6adBstY0ZJIYLpmjaB3L7GGehPPY1oeNE3No3tZ/wCFAHJWmmXOoXaWtjD50752puC5x7kgU25sJ7K6ktryFoZ4zh0JBx+XBrpfCEe3xdZH/f8A/QTWr4ltYvENrc6hZoBfabK0NxGo5eME4P5c/mKAOJOkXi6WuotBizd/LWXevLdMYznt6VW8mtPxtq15ofwFXUNNiSWWG9yQ4JAUuQTgVcs4dO0rwrpV54nsGutV1GBZ2tEnaNIQQDjI5zzQBgeT7ZqSaxntpfLureWCTG4JKhQkeuD2rqL2w0i0i07WbSye6068G37LJOyGOT/eGSeh4rQ8azaf/wAJBbx3OmCR/KiZ7k3DjEe45XaOOmeevNAHB+RR5FdhdeG7ceOodNgjK2UoWbG4nEeOeSc9R+tJfeHbZfGlpY2aH7Bd7JEAYn5MZYZ69v1oA5HyKTya6+30Gw1DxJqQTNtpOn5L7GJJx2yc9waXT7Tw7rt01hbadcaZPICbac3DSbyBnDKTgfQZ+tAHH+TWpoHh7+3r6W2Fz9m8uIy7vL35wenUVuaHoemyaXq82vQOXsJNrNE7AjHUAAgHPv61d8KNYSeJrmTSbOS0t/sJHlyOWO7PJySfagDgI498YbHUU7ya6m20Wy0fw+l5r8BmvLlf9Fs97LtH95sEH/PrS2Oladb+F5db1S0lvv3pjS2ikZFTnGWYcj60Acr5NL5FdHf2+h3Okw3uj7rSfdtlsnlMhx6gnmqul29q+sWkeoReZbSSBJFyV68DkEHrigDF8ijyK6+08O2x8bXdhdofsFrulcFiPkxkDPXv+lLB4ctz48fTJY82Sbptu48x445znqR+VAHO2mg3V9pt5fQGEQ2YzIHfDHjPAxVQWU5tTci3mNuDtMwjOwH03dM10cen6NN4f8Q6lLAkYs2JtnMrYjXsevP45rZgutMPw6mk/sUG2Fyoa2+1v87ZHzb+o9cUAccNCuToB1jfD9lEvlbdx35zjpjGPxqj5NdXfaxo/h74Q3Wp6/DO9hBebvs9ufndi2FTJ6ckZPpWZoN/4d8b/D+XxH4bsptOktZvKntpZjJg8ZGTnsQRjFAGXBYy3VxHb20fmSyNtRcgZP1PFa3/AAg3iX/oEn/wIi/+KqqYAy4IyPpXQ+ArZIdcuyihc2jZwPcUAYV34T1zT7V7m+04wwJ95/OjbH4Biay/Jq9pOkfbbm1tbdVWSdgoYjp6n8s1vzDwnZa0ukS2FxcFXEMt79pYEOeOEHBGf8mgDk/IpPJrttM8LWi+K77S9SUzwwwGSJ9xU4OME7SOaZpFl4a1m9Om2+n3ULtGfJvHnJLkdyucD16UAcb5FJ5NdRoOhW11/aM+pLLPFpynMEBw0pGfTnt2pu3w5qWk3EtnA2k3sA3JG9w0ize3zd6AOZ8mjya6uHStM03w/BqWtW8l9Nef8e9qkpjUL6kjn/8AX0pt/pOnXfh9tY0OKW2ED7Lm1kcvs9wTz3H/ANagDlvJrRsfC+s6pai506wM8JYqH86NeR14LA10suneHNO0PSr2/wBPuLie7gBaOKVgGbAJY/Nx9B60Cze8+F7w2lrLNm9LLFGhdgu/0HPFAHPXPg/X7O1lubrTDHDChd38+M4A5JwGzTdQ8PnT9H03UPtPmi/TcI/L2+XwD1yc9fQUyXRbi2hMs+m3Nug43y27IM/Uiui16FpfCvhmKMZd0CKPcgAUAcb5NHkV2GoWPh/QJo7G90+fVLpVDXEonaMJnsoB5+h/Om3OhadY65pco3XOkagRtDsQy57ZBB7igDkfIo8iuvtPDtsfG13YXaH7Ba7pXBYj5MZAz17/AKUsHhy3Pjx9MljzZJum27jzHjjnOepH5UAch5FaFj4X1nVLUXOnWBnhLFQ/nRryOvBYGn3EcL3U5tYwkHmN5Sgk4XPHJ5rprTSrrVfhj9ksbfz5TdlvL3KuQG55JAoA5a+8L6zpluZ9Q06SKIdXDq4H12k4rO8mu+0jTb3wz4f1SbXEZLaWLy47UP5nzcjPGQOorkEhxGM+lAFHyPaprPTLnULpLaxh86d87U3Bc49yQKl3Rltu4Zp7W4dcMMj6UAW/+EG8S/8AQIP/AIERf/FVWvvDGsaXbC41KwMERYLu81G5PspJre8I26Rad4jCqAGtFzx7PWNouh/2nqdvZw4j8zl3A+6o6mgDJ8mjyK66EeErjXBpEdhcfM5hW++0tkv0zs6Yz3/SpNF8N2cmrazY6upkFlHlZFZgV6/NgEZ4xwaAON8mjyK7PSrDw7r0k9jZ6dcWc6xGSG4edmL47lc4HXpVTRdJsm0O+1fVYJrtLVvLFrCxXJ45JHIHP86AOX8mjya6S5i0C90M3mmIdOvImw1o85kEg9QTz/KrL6VpWi6Pa3GsWcuoXt4u9LdZjEsa+5HPf3oA5LyKPJrp9X0mwbQY9a0NZIYC/lzW0rbjG3sTz1/nWnqmm+GdHhs2uNOuJ5rmAMEjmYKDjlid3v0oA5iz8J65qNol1YacZoJPuv50a57dCwNLd+EdesLOW6vNNMUMS7nfzozgfQNmuiurGe8+GOmww2s1yyz5KRRlyBlucCuYn0ee1hMlxp1xbL0DSwMgz6ZIoAk1nw8dGi09zc+f9th83Hl7dnTjqc9faszya7bxTayXh8N20AzJLbbFz2ztqG/tvDWi3wsLjTbjUJIsC4uRcMm0kZ4UHBoA4/yKPIrsj4esLHxZY21wDdaZfruhLOVIyOMkEdDj86Zovh22m8U39pqSA2dlu3jeV6n5ORz0oA5DyKPIrr9M8O27eML2xv4i9nZq8jDcV+X+HkHPQ/pWA0ayM7RJsjZiUXrtGeBzQA3T/Duq6tG0mmWEk8anBfcqLn2LEZqO/wBGv9KmWLU7R7d2GV3EEN9CMg1rapqz32j2enJCbW1tU2siybhMfU8D34561qaqJrfwJptlqZL3jymSIOctHHzjP4ED8aAOL8nFaVl4V1vUrZbix02SWFvuuzom73G4jIpBbCSSONujuFP4nFb/AI6Mp16O1jkdILW3TykQkBTzyPfpQBylzp9xZ3L295A8EyfeRxz/APXHvUTRBRk9K7PxQrXmj6Dfzc3Etvtkb+9wD/j+dVfCOnxXfim3WdAyRK02COCR0/U0AZkHg7xBcwLNBpUhjYZBeREOPoxBrNnsZ7S4e3u4XhmT7yOMEVsateXmpavPczXEoZZWEQVyBGAcDHpV3U75vEi6Xb+Q/wDaKYhedsYkz3/r+dAHLeTS+RXX39t4a0W+FhcabcahJFgXFyLhk2kjPCg4NNn8OW1n4q0613G506+IePcSCV7gkY9uaAOR8ijya37/AE+3g8VSWUUWLYXaxBNxPykgEZznvW3H4d0xviDLpZtv9CWDeI/Mfg4BznOf1oA4XyaPJrqJrLRb7ULXTNHtp7eQ3HlS3Uzk71GQcAnA59qtXNv4WstebSLvS7iIJhDfPcsDnH3tvTHv+lAHHeR7Unk10+meH7a91i7je736bZKZJJ06unYD9fyqbTLfw54juJ7DTbCbT7nYXt5jcNJvx/eUnA+n60Acn5HtR5HtV/yGBKuMMpKsPcUvk+1AGf5HtR5HtWh5PtR5PtQBn+R7UeR7VoeT7UeT7UAZ/ke1Hke1aHk+1Hk+1AGf5HtR5HtWh5PtR5PtQBn+R7UeR7VoeT7UeT7UAZ/ke1Hke1aHk+1Hk+1AGf5HtR5HtWh5PtR5PtQBn+R7Un2celaPk+1Hk+1AGd9nHpR9nHpWj5PtR5PtQBnfZx6UeR7Vo+T7UeT7UAZ3ke1Hke1aPk+1Hk+1AGd5HtR5HtWj5PtR5PtQBneR7UeR7Vo+T7UeT7UAZ3ke1Hke1aPk+1Hk+1AGd5HtR5HtWj5PtR5PtQBneR7UeR7Vo+T7UeT7UAZ3ke1Hke1aPk+1Hk+1AGd5HtR5HtWj5PtR5PtQBneR7UeR7Vo+T7UeT7UAZ3ke1Hke1aPk+1Hk+1AGd5HtR5HtWj5PtR5PtQBneR7UeR7Vo+T7UeT7UAZ3ke1Hke1aPk+1Hk+1AGd5HtQbfKkY7Vo+T7UeT7UAem+F5Um8KaY0ZyFtkjOPVRtP6g1B4t8PN4k0UWkc4hkjlEqFhkEgEYPp97rXNeFdfGjO1pe5+xytuV8Z8lj1z/sn9D9a9AiljniWWF1kjYZVkOQR7GgDk9O8T6jY6hFpfiixeOeVgkV1CuUlPToP6evQVseKJUh8Kak0hwGtnjH1YbR+pFaczxRRGW4ZEjj+Yu5AC++T0rz/AMVa+NakW0ss/Yom3M/TzmHT/gI/U/SgDjhb4UDHajyPatHyfajyfagDO8j2o8j2rR8n2o8n2oAzvI9qPI9q0fJ9qPJ9qAM7yPajyPatHyfajyfagDO8j2o8j2rR8n2o8n2oAzvI9q6rwV4Wj1KY6lqCb7WF8QxkcSOOrH1A/U/SsOSMpEzAcgela97rE8tjDpmmu9vp8CCMFPlac92J7AnJx3zz6UAd9d67pNg5S61C3jdeqbwWH4DmrNneW1/arc2colhbO1x0ODg/yryJbZUGFUD6CtFNZuT4bi0i2DQxBn8+TvJlido9Bg8+vT6gFzxp4ij1jOmWIV7WNwZJ8Z3sOynsB69/p15PyPatAQYGAOPpS+T7UAZ3ke1H2YHqK0fJ9qPJ9qAM37Mv90flR9nX+6PyrS8n2o8n2oAzfs6/3R+VH2df7o/KtLyfajyfagCm0e/45eP/AG/s7/0mrc8isy2Tf8cviF7f2b/6TV0nk0AeV/GDTmfQbK9UZFvOUb2Djr+aj86wfgzewf8ACXXug38witPEWmz6awY4UyMMofrwwHu1ew6/oUWvaDd6bPwtxGVVsfdbqp/AgGvma7tLvRtVktrgNBd2kuDg4Ksp4IP6g1vDWNiXuGp6Zd6Lq11pmpQtDd2krRSo3ZgcfiD1B7gg17G/jNdL/ZU0+y0kKlxdXMmmXO1uY8tJI5+rrj/v57V594y8aW/jSw065vtMEXiGBRFe6jEwC3sYGFLJ/f8Afpj2wF5hbmZLaW3WQiGVld4+xZc7T9RuYZ/2j6mrtzJXEev/AAW+LGm+DtLfw9qenXkz3l8rwTWoVuXCphgzAjGB0z1rkvjJqlrq/wAXNbubDY0KPHB5iHPmNHGqsfzBH/ARXG2t1NZXKXFs/lzRnKOACUPqM9COx6g8jBANNgMKXEXnozQh1LpG20sueQD2OOho5bO4HpPw8il8M/D3xd4ynJtzNZNpOmyHgvNIRuKjvtwpz7N6GvOrKyub+8itNPjMlxKwWJB3PbrXS+NvG/8AwlLWdhpliulaBpqbLHTkOdnq7n+Jz3P8yST03wd8LPcX0viC6QiGAGK2yPvORhmHsBx+PtS2TbGcNrWp+P8AStUg0nWdTubaa62hMyKFIY4zuHTmujsvgnrF/N9o8S6woPJYIzSuf+BNV/8AaBsPLGiagG+YGSLb+TZr1rRJW1DQLC7kwWuLaORsdMsoJ/nXMUaet6ZHbeH/AA3DFuzbWgiRyeQAq/rwK6Lw9NDrEsV/NhdStImgmx/y0U9D+n865pllkVVlmlkVBhFdywUewPShFlhk3280sLkYLROVJHpxQBf8LyzrYatY6fMsF/Ixlt2YA5PTHOR2/WmRXPjOaOcz3MlvHChMjXEEaKfYHbz+HHvVDyOQwLBlOQwOCD65rzv4nfFGfwxNHpFhJNqGpOA7LcSs6Qg9OM8sfSgD05NPmvfh/Zx2UTTva3TM8aDLYJbt/wACFS3Gn3Nl8OZ4ruEwyPcq4RjyBuGM+nSvF/h18WdRvvEH9h+Iy9heTHbFNAWhy39xxn8jXrjLM6MklzPIjnc6vKxDH1IJ5NAHE/HrW7jRvhf4chspDFLeR+SXU4ZU2Atj9B+NdB8OLe4074QeHZfBsaytdwmS+uY8SyCb+Jec4wcjHbFeR/tA3U51XQrOaeZ7aKF3WNpCVXLAcA8DgVa/Z/j1QS6xc293d22nnaixxTMiGTOc4BxkDAz70Ae7eJotSbwbYf2w/mXYuSZCAOAQ2AdvGcECmeK49zaT7Wn+FUykrRGJ55njJ3FGkJXPrj1pXWWUr500ku0YXzHLbR6DPSgB3hiLb4psz/vf+gmkS+k0jxZd3kY3RtO6zJ/fTP8AOvKfjb4j1PQLTSYdEv7mwuJpXkaa1maKTCjAAZSCB8xr0jSbZ49HtFnllml8lPMlmcu7tgZLE8k570AWPivY2dr8F9TSzINpIHmjx0AYFsfmau2PiPU9f8H6NrfhC7aWyktVSaGCJJGjkAwQQQTkHgj2rw/4paB4p0PSr/ULbxReXGhTuRLp09w5SPe3RUJK4yewBrk/BPiXx54X0Rm8L2F0+nzyGQyRwyYZsAH5lI9KAPpPWv7deytTr9wGRn8xImVFdSO5CgHoat+MrGabVkuxCzWzWqKJgPlzk8Z/EV4APjP4ptZjNrmgCVOjtJ5iMf8AgTZr0fwT8RdP8b27WltcXMFxCu5rCaUkADuozgigD0lZkPhmPWyR9qis2swSP4iwH9KbobRf2Bb6nMQZtJglg9+QNv6fzrF8uTyvK82Tys7vL3nbn1x0zQI5FjaNJZFjfl0VyFb6jvQBP4aQXFrqmmSyBZr+EmNm/ibByP1pfD2iX0GuQ3N9bSWkNll5JJRhTwRgHv16jiqxtwcdiOQR2p0n2idNlxd3MyddkkzMv5E0AX7SQXeheJ7hRhZ5Cy/TtUfgpPK1qZgOlsf5iqipIkbxxyyJG/30VyFb6jvRGssLboJZIWIwTG5UkenFAF12PjHRzO0apq9mC21RxKh7D/PX61X0u31ez0k6joN00uZNs9msW4qR3IPXt0wahjieFw9vJJC4GA8bFSB9RSqs0cjSxXE0crfekSQqzfUjrQBc1e1Fz4di1DUrCKx1NptoEa7DKvqV+nrXPvAduV4Ycg+hrTeOSVw9xLLO4GA0rliPxNHk0AbWtNEfD0+qRHE+qW0VuR6dd36E/lTvOT/hG21zI+1NZC0J/wBvdisMxyNGsbSyNGhykbOSq/QdBR5cnleV5snlZ3eXvO3PrjpmgDI1yAQ/BnxsQOTZEfkP/r1a8CfaNZ+Btn5EbT3D+Uzogyei54/CuC+OV7e6d4Fijsr24to7q7EU8cUzIsybGyrAHDDgcGul+GvnRfDrRGgnmgZrRcmKQrn64oA2/EemQX/wV1K0voRJH5zMUbsy8g/UEVwv7PgLfCHxQvb7ev8A6Aldn4ieS38J6rmeXyktZZChkO0tsJzjpmvMv2fEuToetYnnW2e4RfKEhCM23klehPSgDuPElhqV14ZvItDn+z35jzC/uDnHtnGM+9L8BNV1nVIL5fEVvNHd2qPCZJU2mQcfqOldL5PtSossTboJZIWIwTG5UkenFAFXw5Kmn6tYXMxCxq2HY/wgjGf1rf1KXxfDrEkNlcTS28jloHS3jKhT0Bbbxj3rCu4AunzjkARt07cV5T8Bta1e+i1izn1jUJLe28ryomu3KoDvzgZwM4oA900IX3/CWXv9qTpcXK2pRpE246jjgD+VZHgyPZ4isj/sP/6DRFHJAxa3lkhYjBaNypI/CvJPiZql/o/xM8KDTr+6sgWUE28zR5DSgMDg9CODQB69pdhfSXeo3Wj3phvIJHIgVQTKu4+vH5ir7RXGr6HqE/iTTY7aSCPMF0YvLkZueMdTzj2OazBCyyCRHdJAc71Yhs/XrTpBPPj7Tc3E4U5AllZ8fmaALV9aS6z4Z0q5sY2nkskMM8MYyy8DnH4frQtrJpHgq+S9QxT6hIBHC3DADHJH51USOSFy9vNLA5GC0TlSfypHieWTzJ5JJnxjfI5Y4+poAta3Fnw74eHpbf8Asq1LE09v8Oc208sEn2vG+JyjY3eoqkySOqLJLI6RjCK7khB6AdqNsvk+T50vk5z5W87M+uOlAFGaS8nhMdzfXU6ddks7MPyJra1Jvs+ieF5yMiDa5GOwxmqPk+1OZJHREklkdEGERnJC/QdqALHiPR7u61l77T7eS8t71VZHiG4A4AwfTp1NJ4ki+y6XpWlBwbizj3yFTnY3YVBH9ogXbbXVxAmclYpWUfkDTRb4yeSWOSSckmgDb1poj4en1SI4n1S2ityPTru/Qn8qd5yf8I22uZH2prIWhP8At7sVhmORo1jaWRo0OUjZyVX6DoKPLk8ryvNk8rO7y95259cdM0AZiW21APQVvizkufhsYIbeS4b7XnZGhY43egqn5NOQ3USbLe8uoUznbFMyj8gaAL3hWwudOjvpdQgltdOMBDRzjaGb/dP+ea5tLfMIBGOO9asgnnAFzdXE4ByBLKzgfmaTyfagBX13XJITC+okxMu0p5MfTGMZ25rNFvgVo+TR5NAFnw1Htste97Vf5PVfwrNHYa/byzkIkiGLcegJxj+VMdzaQyyG4e3i2ZlIkKqVH97269a8e8S/GyP7Q+n+EdPN7JuKLcSglWP+yg5P6UAe7TyeNU1V7SO4mZS58uUW8fl7c8Ett447dag8NXX2vV/EQmvYLy7SDZO0LqwDDI/h4HT9K8Q0bR/iz4otZptS8SX+j2k0LLHbvOyBgR08tfuj3PNc34h0DxD8HLqwv9E1u4Ed4As5hdo1kdeSjqD8ynJxn3oA+jPBcW3X1P8A06v/AEpujWepxWNxf6FeN58cm2W0VASwz1wev5VneH9RGq6HY6tYySQC6t1kBjcqQCMlcj34/Cuf8R+PrDwp4m03SSLlr29ZQWt32mIM20EnOeT29qAO81G2fUvC1xfa3p0dlfo4WGRY/LeUcdVPPr1o1u1m1nTdN1HT4XuBFD5MscY3Mh47CqMiSzMGuZ5pyvQyyF8fnVK51ey0e9gt5tVFhc3jbYkFwY2lPoADzQAvi/U7fwN8KbmbWldZbm4Vxbry/UY47dB+daniRhd2+iTICFexDDPuAa8v+OkjJ8PyZJHlkmu4kZ3Ys3AY9T9K6P4ez3WofDvRJ7+6nupfs2A88rOQMkYyT7UAdpO9xB8P9P8AstxNbsZyC0MhQkZbjIrnr65n+xsdQ1GeSFef9IuGZQfXk4rTKymMRNNKYlOVjLkqD7DpXhXxa1O+8TeO7PwdpLZWN0VkDYDyvzlvZR/WgD6G1adLW/8ADF2/McUIZiPT5eap69oN/Nrk8tnayXMN4weKWMZXkdz2/GvEvhj4s1u08Yz+DvFd7cXTRborf7TMZDCyfwKST8pA4A9BXtMZuYU2QXdzFH/cjmZV/IGgCXxPtgn0u1gcSS6ZCNxBzhvlOM/8BrS8S+XDos91aHbNq7REsvUBVB/pWILcAEAdevvTikjKiySyOkYwis5IQew7UAbeoSR/8I9caxGcT6jbRW5APIIJDfz/AErkhbhVHsK0vLcxrEZJDEp3LGXO0H1A6VgeM/EcXg/w1Lq09s9yEdUEaHGSxx17CgDqNJ0f7NZ/21eWc12FObW1ijLl27MwA4H+fSs6+i1S8uJb/U7O7Vj953gZVQdgMjgUzQ9Zl1nQbLUbC+vYre5hWSONbhl2AjpgHt0q873ciFJr67lRuqSTswP4E0AULjTrqxWCe5tmjVyJIySDuAwe3T8a2fFGm3Wo6jDqOnW8l3BdQKqmJd20j19OvWqbJJIFEsskioMIHcsFHoM9KI/tEClba6uIFJyVilZQfwBoAs+I4vItNJ0xmDS2kH73B+6SAMfoaq+H7mPTNfguJztiYGN2/ug9/wA8UnkfMWJLMxyWY5JP1oMAIwRQAuoeG9St9RmS3s5bmOSQtFLGMqQTkZPb8asz2ll4f1LSSctdxMJLshshe3T8f0qBDdRII4by6ijHRI5mVR+ANRi3HOckscknkmgCxr2g382uTy2drJcw3jB4pYxleR3Pb8au6i0Nt4i0C18wN/ZyqkrZyATgYz+H61nR/aYU2QXdzFH/AHI5mVfyBqP7Mu0jGc9c96ALt/oWoy+Mnkjs5DE1ykwmPCbQQSc/h0rUiT/i6Mzf9O//ALKKwibpoxGb26MY6J57bR+GaAbgT+eLmfziMGXzW3kemc5oAow2S3WqeS84tvMnYCYj7hycHqO9dJB/wkB1VNL1ayXU7PftaaaAY2f3g3TP1yaxjbhgQ3zZ6570/ddCPyxe3Xl4x5fnttx6YzQBp6GIbHXta03TZ1gMy4tJOGwwB45yDgnv6VFBP42lmeKS4kh8oEvJNBGsfHo23n8Kzfsq7QAMY6Y7VI5uZk2T3dzLH/ckmZl/ImgDM8ouzO5yzMSx45J69KPIrQ8nHal8mgDO8ijyK0fJo8mgDO8ijyK0fJo8mgDO8ijyK0fJo8mgDO8ijyK0fJo8mgDO8ijyK0fJo8mgDO8ijyK0fJo8mgDO8ijyK0fJo8mgDO8ijyK0fJo8mgDO8ijyK0fJo8mgDO8ijyK0fJo8mgDO8ijyK0fJo8mgDO8ijyK0fJo8mgDO8ijyK0fJo8mgDO8ijyK0fJo8mgDO8ijyK0fJo8mgDO8ijyK0fJo8mgDO8ijyK0fJo8mgDO8ijyK0fJo8mgDO8ijyK0fJo8mgDO8ijyK0fJo8mgDO8ijyK0fJo8mgDO8ijyK0fJo8mgDO8ijyK0fJo8mgDO8ijyK0fJo8mgDO8ilhSW2JNrNNbluvkyFM/ka0PJo8qgDPmSW5IN1NNcFeR50hfH5mk8itHyaPKoAzvIo8itHyaPJoAzvIo8itHyaPJoAzvIo8itHyaPJoAzvIo8itHyaPJoAzvIo8itHyaPJoAzvIo8itHyaPKoAzvIo8itHyaPJoAzvIo8itHyaPJoAzvIo8itHyaPJoAzvIo8itHyaPJoAzvIo8itHyaPJoAwtMTf8AHL4ie39mf+kxrrPJrmtETd8cviN/3DP/AEmNdn5VAFHya4X4ifDaPxXb/btN2Q6rCuATws6j+Fj2PofwPHT0jyqPKpptO6A+N9Q0680q+ktNRtpLa4jOGjkXBH+I96rV9e634W0jxHbeRrVhFdKPuswwyfRhyPwNefaj8AdHnkLaZql5Zg/wSKsoH06H8zW6qLqTY8Dor26H9nmJZMz+I5HT0SzCn8y5rq9C+D3hbRJFme2k1GdeQ94wYA/7oAX8wabqRCzPHvAfw11DxXcJdXaSWmkqctMwwZfZM9fr0Hv0r6EstMttOsYbOyhWG3hUJGijgAVqLAEUKqgKBgADpXNeIfH/AIW8LzPBrGrQxXCLuMC5dx/wEc1hKTkPY82/aKhRfDGkOfvi8YD6bDn+Qrvvh8jyfDvQnl+8bKPP5V438Z/iFoHjPS9MttAmlla3meSQyRFAAVwOtdj4W+N/g+w8O6fp14Ly2e1to4mJg3KSqgHG0nuKkZ6t5NHk1X8PeItH8Vaf9t0K9ju4QcNt+8h9GB5BrW8qgDE1i9g0XRbzUrs4htYWlb3wM4/HpXg/wk0Obxz8Qb/xTrI82K1kMuGGQ0zfdH0Uc/gK9B/aA1NtN+HItY9wbULpISQf4Rlz/wCgitX4M+HF0T4Z6ezJtnvgbqU45O77v/joFAHmfx70A6Tr2meJrAeVJOfLlZf+eiYKt9cf+g17N4Y1Fde8L6dqi8/ardJG4/ixz+uay/i14Ru/FngG4stLiEt7FKk8KE43FeoBPfBNW/hloWpaD8O9M07Wl2XcSMWjznYCxIUn1AIoA8j/AGhbVR4j0BnyEkidCR6Bxn+dezeHPDun+HtCt9P0mDyrdF3DPJYnqxPcmvL/ANpSwxYaDfAnKSyw4+oB/wDZa9qsELadbM3UxKT+QoAh8n2rifB3xAh8TeI9W0O7szp9/YSsEid8mRAcE9ByPT3r0Tyq8Z+Lvg3U9K1u28e+EUYXlqQbxIlySBwHx3GOG9se9AHP/tDgDWNAQdfLkP8A48te5WkOLKDj/lmv8q+crnWb74y/EzQo0sWt4oURJ0B3Kqht0jZ7A9B+FfUHk4wAKAPH/wBoCf7N8P7eAHH2i+QfUBWP9BXV/DbTfsXw20OJl2s1oshH+9839a5/9oXTHuPh1FdRrkWl6jv7KQy5/Miu28Byx3nw90CaLlTp8K/iEAP6igC/LaRzRlJo1kQ9VdQQfwrFsfA2gaZ4gk1rT9Oitr2RCjPHwuCefl6An2rq/Ko8qgCj5NHk1e8qjyqAKPk0eTV7yqPKoAo+TR5NXvKo8qgCj5NHk1e8qjyqAKPk0eTV7yqPKoAo+TR5NXvKo8qgDw79oqRY/DukW/8AE90zj/gKY/8AZqPCXxf8JaJ4N0vTruS6+0WtqkcgWAkbgOcH61W/aTfM/h60UfM3nOPzQV6NbfCrwhPpdqLrQLUy+Sm9lBUlsDJ4NAHkPjz402/iLw7daRoenTwpcgJLcTsAQueQAM9frXoHwP0V9P8AhtBNMm176Z7ge6nCj9Fqh8Z/DOjeHPhbP/Y2lWtmZbuFXaGIAkZJ69e1dp8LI8/Czw+f+nQfzNAG1dEW1nNOV3CKNnIHfAzXKfDnxvF490e5u1tPskttN5bxbtwwRlTn6V2erRf8SW9wM/6PJ/6Ca8b/AGardzpOvSnOwzwqPqFbP8xQB6zfwZ025wOfKbH5GvDv2c1Y6lrynp5UORjvlq6zw34z1S6+OWv+GNWuN1mwdLWEqAE2gEY78qSayP2e7Xy9a8WL/wA85Y4x+DSUAeyeT7V4J8emMHjrw+6cMkIYH/trXpPxd8Z6h4F0CwvNKjheW4uxG/nLkbQpJx78V5x8ej9r1vwnfRr8t1bbhj3ZTj/x6gD3dYcqD6jNeL+NPi7qr+JZPD/gOzFzNE5jecRGRnccEIo7A9/avc5IWNmwTO4xkDHrivnL4GFofFniOKKOJtZFlJ9kSfjLhuRntztzQBBF8QPiF4R8SWUPioNKlyVY2kyIGZC2MjbyD9a+ili3KGwRkZwR0ryzwb8J9Zv/ABW3iz4jzLNfLL5kVoGDAMPukkcADso9K9h8r2oA4H4keN7fwJ4fFwFWW/uCUtYG7nux9hXji+P/AIk6NDa+I9SEkml3b/u1mgURSewwMj2/rWr4sgk+JH7QUehqzGysZBA/+yifNKfqTkflXp3xh0eCT4R6nEiiGKzSKSJEXAXawAH0waANvwxrVt4o8N2esWQ2x3Me4oTkow4ZT9CCK1vJrzn9np3n+GsqOSVhv5EQHsNqH+ZP516p5VAFHyaPJq95VHlUAUfJo8mr3lUeVQBR8mjyaveVR5VAFHyaPJq95VHlUAUfJo8n2q95VHlUAeG/HvxPNZ2ln4a09mEt8PMuAvUpnCr+Jz+Vdb8N/hxZeENChlnhSTVp0D3EzDJQn+BfQDp715r8Wl/4v9pK3X+pzZ9em3zOf619H+VQBQ8mvMfj7aofhykrKC0d7HtOOmQ2a9d8qvH/ANoy+W28F2Fjkb7q8DYzzhFPP5kUAbfwe3TfCvSC38KyKPpvavMvD8f/AAnv7QtxeyfPaWMzSqD02RfKn/j2DXsnws017H4X6FFKmx2thKR/vksP0IrxvRn/AOFf/tHXFpcHZaXlw0W5sgbJvmQ/gxA/OgD6E8mvAPFmdZ/aT0+wvGYwW88CRqDjACh/1Y19G+VXzh4lmFl+1FbSvwPtluOfdFX+tAFf44+FL3R9XbWkvpJtP1SUZgkkJMcgB4A6bcdPSq/hyf4sDw/YDw/b3H9mxRj7Pthjw65z35Nd7+0dDt8F6W+Pu3+P/HGr0bwVbLF4D0JV6f2fAfzjBoA5X4ZeKdW8UaXeR+IdOezv7CURyMYiiyZyeh6EY5H09a8UsfF1hovxm1LxDqEM15AlxcGJUALZOVU8nsK+sfJ9q+cPgdptnqnxC12LUbWG6RYHYLMgYA+aOcGgCPwPb6n8QPjKfFcVibSxgl82RiMquE2qme7H/Gvdk1XTJNbfR0vITqEcYla23DeF9cVsQWUNrEIraFIYx0SNQoH4CvD9Vl/sD9qq1nnI8rUEjQEnGA8Xlj/x5aAPZmiCqS2AAMkntXm3gHx7qPjPx3rdtHFENFs0/csF+fO7AJPfIBOK7fx5dPpfw/1y8iHzxWUu3BxglcZ/WvOP2bbFR4Z1i7HLy3axn2Crkf8AoRoA9Wm8u3headljjQFmZjgKB3Nef/FK6sNa+D2qXmmXUN5APLZZIXDDIkUdR9a9Mu7CC+s5bW7iWWCZCkkbDhlIwRXzr8RvhLe+CdD1DU9C1l/7FkZRNZyOytgsABxw+Djk4NAHovwWlN38K9O3f8sXliH4OT/Wu98mvmjwZ4V+Jmo+GILrwnezwaZIzeWiXgjGc4J259a3W0z41eFwb8y3V6igl4zMtwMDnlck/lQB715NHk1zXwz8bHx34ce6uLU2t5ayeTcoAdpbGcrn+Xauz8qgCj5NHk1e8qjyqAKPk0eTV7yqPKoAo+TR5NXvKo8qgCj5NHk1e8qjyqAKPk0eTV7yqPKoAo+TR5NXvKo8qgCj5NHk1e8qjyqAKPk0eTV7yqPKoAo+TR5NXvKo8qgCj5NHk1e8qjyqAKPk0eTV7yqPKoAo+TR5NXvKo8qgCj5NHk1e8qjyqAKPk0eTV7yqPKoAo+TR5NXvKo8qgCj5NHk1e8qjyqAKPk0eTV7yqPKoAo+TR5NXvKo8qgCj5NHk1e8qjyqAKPk0eTV7yqPKoAo+TR5NXvKo8qgCj5NHk1e8qjyqAKPk0eTV7yqPKoAo+TR5NXvKo8qgCj5NHk1e8qjyqAKPk0eTV7yqPKoAo+TR5NXvKo8qgCj5NHk1e8qjyqAKPk0ptUNnPOGYPCRleNpHFXfKohh3yz256TwkfiP/ANdAFJ7MJpKXu5izEErxgKTwabNbpBDbMWcyzLuKnBA+nHvV94/OuZ7AHCG2ES+zDn+tOdHl1pUhcJ5Me0NtzjjnHvzQBmMjIMyQypngF4yM1JJZSw28U7hyJPvL5ZHl/WrUTrNpuobJLuTaT81wQcH/AGcdKbdF20uxDyyENw5LH5vrQBTCFl3LDIyf3whI/OnrbxvpMlwkbPMJQqlckkZHYVfupbiPVkjt3YAIPKiH3WHem5mj0i5KnyZTPz5fGMkZxQBQEfzbXRkbH3XUg/rUlvaxyrdmVcmKMMnJGDz6fSrkoaSysmkJd+QWPU0kKbVv/wDriP60AZ0aM6ApFJIO5RCR+lS2to17KyxlkVQSW8vIz6fWrLFrddPSae63OQUS2AVe3DetWowV165CswUx52g8E4HOPWgDGRScK0Ugk7x7DuH4dadsIYI0UiueiFCGP4VcsONJuZXa4MpwHeIgyAYHQmnQTxzmxVRdPsl+Wa4AJYYPGR1oAprEx6xSIOmWQil8mr8pllvJxJIWRXwq44FJ5VAFHyaPJq95VHlUAUfJpYbM3NysKtsGCzNjoBV3yqasMxnBtSFlUZGe49KAKcVtZ3PmLZ3MwkUEjzgNrfTApZLVV0+zligdpZc79mWP5VZhWHU5JI5rURTKpYyxjHPuKJ3mTQ7MQytGcHJQ4zigCltA4KsGzjaV5/KhkKcyxSRjsXQrn861ZY3k1iExv5bGDczbcn8Peqyuk2i6gUe6lAJ5uSDg/wCzjpQBUMbDOYZQAMkmM4A9aQIWXckMjJ/eVCR+daOotKUt4hIViaIb1HfpTryZLXU4QDfAKo2RQ7fLf2x3oAzljDLkcil8mrioHkkdUZFZiQrDBFO8qgCj5NHk1e8qjyqAKPk0eTV7yqPKoA5Lw4u745fEj/uF/wDpMa7ny/auL8LLn45fEr/uF/8ApM1d9soAq+X7UeX7Va2UbKAKvl+1Hl+1WtlGygCr5ftR5ftVrZRsoAqeX7Vxes/B/wAHa/rFxqmp6W0l3ctuldZ3UMcYzgHHau/2UbKAPmD4z+BdC0G90DRPCOkPHf3zsTsZnLgkKo5J75r1VPgl4KfTbaC60dGliiVHlSR1MjAYLHB7mvRntIZJUleJGkj+45UEr9D2p/ligDifCHw00HwRqF7d6Es6NeKqskku5VAOcD/6+a6zy6teXRsoA8/+Jnw6/wCFg6fp9qL77GLS581yV3b1IwR9feuytbOO0tIbaBcRQosaD0AGBV4x5NLsoAqeV7UeV7Vb2UbKAOc8R+ENH8WWcNrr1mt1DDKJYwWIww+n8q11hCIFVQFUYAHYVc2UbKAKvl+1IYgRgjIq3so2UAZVro9hYu72NjbWzP8AfaGJULfXA5q15dW9lGygDL1HSrPVrCWy1K2jubaYbZIpBkMKfZ6fbafZRWllAkFvCoSONBhVA7CtHZRsoAq+X7UeX7Va2UbKAKvl+1Hl+1WtlGygCr5ftR5ftVrZRsoAq+X7UeX7Va2UbKAKvl+1Hl+1WtlGygCr5ftR5ftVrZRsoAq+X7UeX7Va2UbKAPn/AOPemTX/AI28HQxxOyzSmHKqSMmRK91WIBcAYA6VYe2jkZGkjVihypZQdp9R6U7y8UAcB8XfDk/iP4ZanaWcZkuYlW4iRRksUOSB74zWP8BNei1n4bQ2PIuNKc28in+6SWU/kcfga9Y2VUsNH0/SxKNNsre0EzmSUQRBN7HucdTQAGIMpDAEEYIPes/SPD+maDbvb6NYw2UUjmR1iXAZj3rb2UbKAPEfiV8Idb1fxjH4o8FXkdtfMF81Wk8tlYDG9W+mARXX/DDwA/gXw7LBezrdajeS+ddTKOC390E8kD19zXf7KNlAHnPxe8D3XjbwSbTTNpvrWYXECM2A+AQVz7gn8RXkWj/Cr4h+KbrSpvEGLW10pooIo7t9rLEpBO1QOfqevFfUXl0eXQBV8uvm34oeFdY+HPxCTxr4bjb7FNN5xZVysUh++jj+63P54r6d2VHPaxXMDw3ESSxOMOjqGVh6EHrQB8yeKPjhq/jLTbTRPCWnXOn31zIqyvFJudj2VMdAT3r6G0O2voPD9hFq8gmvkt0W4cfxSBRuP50mleDPDuh3kl1pGjWdncSElpYoQG59D2HsK2fLoA8e+GHw61nw/wCPPEeueIY0LXUjLbShwxkDPuZsdR2H51u/GWy1G8+F2pW2j2sl1PIYw0cS7m2bwSQO/SvRdlJsoA4D4SeFrjwt8N7Cyv4vKvJS1xOhGCrMcgH3C4H4V23l1a2UbKAKvl+1Hl+1WtlGygCr5ftR5ftVrZRsoAq+X7UeX7Va2UbKAKvl+1Hl+1WtlGygCr5ftR5ftVrZRsoA8A/aO8LTtBpvimxRibX9xcMg+4M5RvzyPxFegfDDxxZ+OPClvMJV/tK3RY7yEn5g4GN2PQ9a7e/0621PT57G/gSe2uEMcsTjIZT1FfPfiD4FeKfC2utq3w11CRo85SITeXNGD/Dk8MPr+VAHvd5c22n2ct3fTR29vEpaSSRsKoHcmvmDxLql38bviraado0brpsB8uJyPuxZy8remew+laR+HPxd8bzR2Pie6nhslbLPdzrsHvtXlj6cV7d8PfhrpXw90loLDNxeTYNzeOoDSH0Hoo9KAOgtbKOztIbaBdsUMaxoPQAYFeLftD+C5rvT7XxXpkbGaxHlXXljkR5yr/gf5+1e8bKZPaxXNvJBcRrLFIpR0cZDA8EEUAeXfDb4q6N4i8JQnWdRtrLUrOMJdLPIE34H3xnqD+hrym2uYviH+0lDe6UjTWKXSSB8f8s4lHzewJXj6iu91/8AZn0i+1NrjQ9Vm0+CRstbvH5gT12nIOPY/nXe+Afhjovw+tJF0wST3c4xPdzfecf3QBwB7UAcR+0fCW+HdmwXkagn/oD16T4Xs2tfCGj28n34rGFG+ojArVv9KsdVthb6nZw3cIYOI54w6hh0OD3qyIwoAAwB0AoAq+XXz38C7NrL4veKbNx80EcqflOBX0fsrzTwP8NdQ8M/E7xL4iu7iB7XUmf7Oked2HkDkt6YxigD0Hy/avC/2jNBuLf+xvFdguHs5PJlcD7vO6Nj+II/EV79srP13QrLxDod3pWqReba3UZjkXoR7j0IPIoA8z8T+LLPxP8As86jrULpuuLMRyoD/q5SQGU/j+mKpfs3W7L8PbyVlIEl++D64Ra8+1z4L/EDQ5bvRNC8zUdFvZVbMMoCPg5UupPykevT3r6C+HXhD/hC/Atho8jB541MlwynIMjHLY9u34UAb3l+1eZfH8mP4S3e3jdcwqf++s/0r1fZXl37Q0bH4SXG1ScXcOcDp81AF34N2vkfCPQlZcFonc++6RiP0IruRH7Vg/Diza0+GXh2F1KMNPiLKRgglQf611ATigCjDZw26stvDHEGYuwRQuWPUnHepfL9qtbKNlAFXy/ajy/arWyjZQBV8v2o8v2q1so2UAVfL9qPL9qtbKNlAFXy/ajy/arWyjZQBV8v2o8v2q1so2UAVfL9qPL9qtbKNlAFXy/ajy/arWyjZQBV8v2o8v2q1so2UAVfL9qPL9qtbKNlAFXy/ajy/arWyjZQBV8v2o8v2q1so2UAVfL9qPL9qtbKNlAFXy/ajy/arWyjZQBV8v2o8v2q1so2UAVfL9qPL9qtbKNlAFXy/ajy/arWyjZQBV8v2o8v2q1so2UAVfL9qPL9qtbKNlAFXy/ajy/arWyjZQBV8v2o8v2q1so2UAVfL9qPL9qtbKNlAFXy/ajy/arWyjZQBV8v2o8v2q1so2UAVfL9qPL9qtbKNlAFXy/ajy/arWyjZQBV8v2o8v2q1so2UAVfL9qPL9qtbKNlAFXy/ajy/arWyjZQBV8v2ppiO4Oh2uvQirmyjZQBRFuwberESZzvx3o+zndvDkSZzvHXNXtlGygCkUuHBElwzqwwVKjBH5UnkOIjEJCIj1TAq9so2UAUljnRQiXDhBxjg/r1potiIzGGPlk7ivqfXNX9lGygCkIDhVLZRPurgcUGBstsbaHGGGOoq7so2UAUVimSMRxTuiDoABx+NHkyeb5vmHzem/A/wq9so2UAUfJkEhlWVhKerDHP4dKUxSuyvJMzOpypwOPw6Vd2UbKAKawkEsx3MxyT607y/arWyjZQBV8v2o8v2q1so2UAVfL9qY0GSCpKsOjA8iruyjZQBSZLiRSstwzKeowB/IU02xMaxs2Y0+6uBxV/ZRsoAomB2kWQyNvUYVhgYFDxTyKyyzs6sMMpUYI/Kr2yjZQBSMDPjzW34G0ZA4FCpOihY7hlQdsA/qRV3ZRsoAprDtHqe5J607y/arWyjZQBV8v2o8v2q1so2UAVfL9qPL9qtbKNlAHC+ERn45fEv/uFf+kzV6FsrgPBoz8cviZ/3Cv/AEmavRdtAEOyjZU22jbQBDso2VNto20AQ7KNlTbaNtAEOyjZU22jbQBDso2VNto20AQ7KNlTbaNtAEOyjZU22jbQBDso2VNto20AQ7KNlTbaNtAEOyjZU22jbQBDso2VNto20AQ7KNlTbaNtAEOyjZU22jbQBDso2VNto20AQ7KNlTbaNtAEOyjZU22jbQBDso2VNto20AQ7KNlTbaNtAEOyjZU22jbQBDso2VNto20AQ7KNlTbaNtAEOyjZU22jbQBDso2VNto20AQ7KNlTbaNtAEOyjZU22jbQBDso2VNto20AQ7KNlTbaNtAEOyjZU22jbQBDso2VNto20AQ7KNlTbaNtAEOyjZU22jbQBDso2VNto20AQ7KNlTbaNtAEOyjZU22jbQBDso2VNto20AQ7KNlTbaNtAEOyjZU22jbQBDso2VNto20AQ7KNlTbaNtAEOyjZU22jbQBXEeD14p2ypttG2gCHZUU9pDdQmK5ijmjbqkihlP4Gre2jbQBWEQVQFAAAwAB0pwTip9tG2gCHZRsqbbRtoAh2UbKm20baAIdlGypttG2gCHZRsqbbRtoAh2UbKm20baAIdlGypttG2gCHZRsqbbRtoAh2UbKm20baAIdlGypttG2gCHZRsqbbRtoAh2UbKm20baAIdlGypttG2gCHZRsqbbRtoAh2UbKm20baAIdlGypttG2gCHZRsqbbRtoAh2UbKm20baAIdlGypttG2gCHZRsqbbRtoAh2UbKm20baAIdlGypttG2gCHZRsqbbRtoAh2UbKm20baAIdlGypttG2gCHZRsqbbRtoAh2UbKm20baAIdlGypttG2gCHZRsqbbRtoAh2UbKm20baAIdlGypttG2gCHZRsqbbRtoAh2UbKm20baAIdlGypttG2gCHZRsqbbRtoAh2UbKm20baAIdlGypttG2gCHZRsqbbRtoAh2UbKm20baAIdlGypttG2gCHZRsqbbRtoAh2UbKm20baAIdlGypttG2gCHZRsqbbRtoAh2UbKm20baAIdlGypttG2gDz3wUM/HL4m/9wr/ANJmr0fFec+Bxn45fE3/ALhX/pM1elYoAjxRipMUYoAjxRipMUYoAjxRipMUYoAjxRipMUYoAjxRipMUYoAjxRipMUYoAjxRipMUYoAjxRin4oOFUliAAMkntQAzFGK468+LvgOxvJbW58SWSyxNtdQ+cH6itjS/GfhrWlQ6XrljclxlVSdcn8OtAGzijFPGCMggj1FLigCPFGKkxRigCPFGKkxTXjDoynIDDGQeaAIkdJM+W6ttODtOcGn4r5W1+XxJ8Aviklzb3lzqGh6gxl2TOSJ1z86nPAdc9fpX05pet6fq/h+31qzuEawnhE6zE4AXGTn0x3oAq+KfENn4T8L3+t6icQWcRfbnBduyj3JwPxrg/gj8QPEHxC07Vr3XbOGK3guAttLCCAcgkpg9do28+9eVfEnxnqXxp8c2vg/wWHl0uKbhwSFmYfelb/YUZx+fevo/wb4TsfBfhOy0PTRmK3T55D1lc8s5+p/woA2cUYqTFGKAI8UYqTFGKAI8UYqTFGKAI8UYqTFGKAI8UYqTFGKAI8UYqTFGKAI8UYqTFGKAI8UYqTFGKAI8UYqTFGKAI8UYqTFGKAI8UYqTFGKAI8UYqTFGKAI8UYqTFGKAI8UYqTFGKAI8UYqTFGKAI8UYqTFGKAI8UYqTFGKAI8UYqTFGKAI8UYqTFGKAI8UYqTFGKAI8UYqTFGKAI8UYqTFGKAI8UYqTFGKAI8UYqTFGKAI8UYqTFGKAI8UYqTFGKAI8UYqTFGKAI8UYqTFGKAI8UYqTFGKAI8UYqTFGKAI8UYqTFGKAI8UYqTFGKAI8UYqTFGKAI8UYqTFGKAI8UYqTFGKAI8UYqTFGKAI8UYqTFGKAI8UYqTFGKAI8UYqTFGKAI8UYqTFGKAI8UYqTFGKAI8UYqTFGKAI8UYqTFGKAI8UYqTFGKAI8UYqTFGKAI8UYqTFGKAI8UYqTFGKAI8UYqTFGKAI8UYqTFGKAI8UYqTFGKAI8UYqTFGKAI8UYqTFGKAI8UYqTFGKAI8UYqTFGKAI8UYqTFGKAI8UYqTFGKAI8UYqTFGKAI8UYqTFGKAI8UYqTFGKAI8UYqTFGKAI8UYqTFGKAI8UYqTFGKAI8UYqTFGKAI8UYqTFGKAI8UYqTFGKAI8UYqTFGKAI8UYqTFGKAI8UYqTFGKAI8UYqTFGKAI8UYqTFGKAI8UYqTFGKAI8UYqTFGKAI8UYqTFGKAI8UYqTFGKAPNvA3/ACXL4nf9wr/0mavSsV5t4F/5Ll8Tv+4V/wCkzV6XQA3FGKdRQA3FGKdRQA3FGKdRQA3FGKdRQA3FGKdRQA3FGKdRQA3FFVtT1Oy0bTZr/U7iO2tYELySyNgKBXzX4v8AjR4n+I+tf8Iz8MLS4ht5TsM6L++lHds/8s19+v0oA9U+Ifxs8N+A1e2En9p6qBxZ27D5D/tt0X+ftXlOj3Xxa+M95cXNtfNoWiSRumVBSIgj7o43OTnBNdd8PP2cdN0h49T8buuraifnNtnMKMf7x6uf0+te3w28VtAkNvGkUUY2oiLhVHoBQB8/6R+yrp39ixDXNbn/ALRYZkNqoMan0GeT9eKoat+ynNEpk8PeIw0qjKpcxFMn/eUnFfSdFAHyRM3xj+ELeZLJc3Wmo2SWP2mAge/Vf0r1D4fftE6F4nli0/xEg0bUWwqs7Zhkb2b+H8a9mdFdCjqGVhggjIIrx34k/s+aJ4rjn1Dw2sek6sQW2quIZm68gfdPuPyoA9gVg6hkIZSMgg9aXFfKfgj4o+JvhB4h/wCEV8f29xJpsZAxJlpLdezIf4k9vy9K+o9M1Oz1nTLfUNMuI7m0uEDxSxnIYGgCzijFOooA4j4r+Cbfx14BvLCQxx3UANxaTPgCORR3PYEZBr5Q8O+JPGOt6Db/AAz0ObdBeXTYRWwxHVkLZ+5wWNe+fGu48Z+JdcsvAfhKxmitb6ISXd/ghGXJypYdFGOfXIFeY/Eb4U6j8H20LxP4YuprkWpT7TcFf9XODndjsjdMH6d6APefhX8LtP8AhxofloUudUuADdXe3r/sr6KP1613uK4/4ZfEPT/iL4XTULTEV5FhLy2zzFJjt/snsa7KgBuKMU6igBuKMU6igBuKMU6igBuKMU6igBuKMU6igBuKMU6igBuKMU6igBuKMU6igBuKMU6igBuKMU6igBuKMU6igBuKMU6igBuKMU6igBuKMU6igBuKMU6igBuKMU6igBuKMU6igBuKMU6igBuKMU6igBuKMU6igBuKMU6igBuKMU6igBuKMU6igBuKMU6igBuKMU6igBuKMU6igBuKMU6igBuKMU6igBuKMU6igBuKMU6igBuKMU6igBuKMU6igBuKMU6igBuKMU6igBuKMU6igBuKMU6igBuKMU6igBuKMU6igBuKMU6igBuKMU6igBuKMU6igBuKMU6igBuKMU6igBuKMU6igBuKMU6igBuKMU6igBuKMU6igBuKMU6igBuKMU6igBuKMU6igBuKMU6igBuKMU6igBuKMU6igBuKMU6igBuKMU6igBuKMU6igBuKMU6igBuKMU6igBuKMU6igBuKMU6igBuKMU6igBuKMU6igBuKMU6igBuKMU6igBuKMU6igBuKMU6igBuKMU6igBuKMU6igBuKMU6igBuKMU6igBuKMU6igBuKMU6igBuKMU6igBuKMU6igDzTwL/yXL4nf9wr/wBJmr0uvNPAv/Jcvid/3Cv/AEmavSs0ALRSZozQAtFJmjNAC0UmaM0ALRSZozQAtFJmjNAC1W1HUbTStOnvtRnS3tbdDJLK5wFUd6sZr5e+M3ju/wDiR40tvh/4NYy2q3HlSsh4uJgecn+4vP5E9qAM/wATeJfEn7QfjhNA8MRvb6FbPuAbIUKOPNl9/Rf619DeAvh3onw90UWejw7rhwPtF24/eTN7nsPam/Dj4f6d8O/C8Wm2IWW6cBru624aZ/8AAdhXW5oAWikzRmgBaKTNGaAFopM0ZoA434l/DbS/iP4eazvFWC/iBNpeBfmib0Pqp7ivn34feN9e+CPjWXwp4yikXSZJf3iHkQ56TRnup7gfzr60zXnXxk+GkHxC8KObaNF1myUvZzY5buYyfQ/oaAPQra4hu7aO4tpFlhlUPHIhyGUjIINSV86fs4/EiZJX8BeIGZJoSxsGlJ3DH3oTn06j8RX0VmgBaq6lp1pq+l3Gn6jAlxa3MZjljcZDKas5ozQB558NfhDpvw01XVbzT76e6F+FRI5FA8pASce5yeteiZpM0ZoAWikzRmgBaKTNGaAFopM0ZoAWikzRmgBaKTNGaAFopM0ZoAWikzRmgBaKTNGaAFopM0ZoAWikzRmgBaKTNGaAFopM0ZoAWikzRmgBaKTNGaAFopM0ZoAWikzRmgBaKTNGaAFopM0ZoAWikzRmgBaKTNGaAFopM0ZoAWikzRmgBaKTNGaAFopM0ZoAWikzRmgBaKTNGaAFopM0ZoAWikzRmgBaKTNGaAFopM0ZoAWikzRmgBaKTNGaAFopM0ZoAWikzRmgBaKTNGaAFopM0ZoAWikzRmgBaKTNGaAFopM0ZoAWikzRmgBaKTNGaAFopM0ZoAWikzRmgBaKTNGaAFopM0ZoAWikzRmgBaKTNGaAFopM0ZoAWikzRmgBaKTNGaAFopM0ZoAWikzRmgBaKTNGaAFopM0ZoAWikzRmgBaKTNGaAFopM0ZoAWikzRmgBaKTNGaAFopM0ZoAWikzRmgBaKTNGaAFopM0ZoAWikzRmgBaKTNGaAFopM0ZoAWikzRmgBaKTNGaAFopM0ZoAWikzRmgBaKTNGaAFopM0ZoAWikzRmgBaKTNGaAPNfAoz8cvid/3Cv8A0mavS9orzXwJ/wAly+J3/cK/9Jmr0ugBNoo2ilooATaKNopaKAE2ijaKWigBNoo2ilooATaKNopaRmCqSxwAMkntQB5d8d/iF/wg3glrawk26rqu6G3IPMS4+eT8AcD3Nc/+zn8Nf7D0M+K9YizqGpJ/oocfNDCe/wBW6/THrXn1yZPjl+0V5O5n0WxcqOeBbRNyf+Bt/wChe1fWEMSQQpFCgSNFCoqjAUDgCgB20UbRS0UAJtFG0UtFACbRRtFLRQAm0UbRS0UAJtFGwUtFAHy3+0F4Qn8F+N7Dx34dBgW5nDyFBxHcrzu+jAfnmvoTwR4ntvGfg3TtdtCALqIGRAf9XIOGX8Dmq3xJ8Kx+Mvh7qujsoMskJktzj7sq8qfzGPxrxr9lXxG6jWvC1y2PLIvIUY8g8I4x+C0AfRu0UbRS0UAJtFG0UtFACbRRtFLRQAm0UbRS0UAJtFG0UtFACbRRtFLRQAm0UbRS0UAJtFG0UtFACbRRtFLRQAm0UbRS0UAJtFG0UtFACbRRtFLRQAm0UbRS0UAJtFG0UtFACbRRtFLRQAm0UbRS0UAJtFG0UtFACbRRtFLRQAm0UbRS0UAJtFG0UtFACbRRtFLRQAm0UbRS0UAJtFG0UtFACbRRtFLRQAm0UbRS0UAJtFG0UtFACbRRtFLRQAm0UbRS0UAJtFG0UtFACbRRtFLRQAm0UbRS0UAJtFG0UtFACbRRtFLRQAm0UbRS0UAJtFG0UtFACbRRtFLRQAm0UbRS0UAJtFG0UtFACbRRtFLRQAm0UbRS0UAJtFG0UtFACbRRtFLRQAm0UbRS0UAJtFG0UtFACbRRtFLRQAm0UbRS0UAJtFG0UtFACbRRtFLRQAm0UbRS0UAJtFG0UtFACbRRtFLRQAm0UbRS0UAJtFG0UtFACbRRtFLRQAm0UbRS0UAJtFG0UtFACbRRtFLRQAm0UbRS0UAJtFG0UtFACbRRtFLRQAm0UbRS0UAJtFG0UtFACbRRtFLRQAm0UbRS0UAJtFG0UtFACbRRtFLRQAm0UbRS0UAJtFG0UtFACbRRtFLRQAm0UbRS0UAJtFG0UtFACbRRtFLRQAm0UbRS0UAJtFG0UtFACbRRtFLRQAm0UbRS0UAeaeBP+S5fE7/uFf8ApM1el15p4E/5Ll8Tv+4V/wCkzV6XQA13WNC7sFUckk4ArIl8XeHoZCkut2CODgg3CjH61y/xg8GeIfHHhu00vw1qa2A+0hrvc5USR49Rzwecd68oT9k67YZm8Txbu+Lcn+tAH0JD4n0O4H7nV7KT/dnU/wBasLq+nPyl9bMPaVa+cX/ZPv1/1HiaD/gULD+VMP7KutgfJ4ntf++XoA+lhfWjdLmE/SQU8XELfdmjP0YV8wN+zH4tgH+i+I7YntiSRagb9nn4kwPi11+Ij1W9kWgD0v4/+I/Fvh3QtKvPB07xRfaGF28MYdhgApnrheGz+FP+Efxv0/xtZppuvSQ2OuRDBDNtS5H95c9/UV5j/wAKO+LaRlF1wsjDBU6ixBH4mvP0+GOqwfFKy8EX11bw6hcOoeWJ96xZUtzjvgdPegD7qByMjkVwHxr8Vnwl8K9TuoH2XV0v2S3IOCGfgkfQZP4V2WjaedJ0Oy08zvcG1gSEzSfefaoGT+VfOv7VesyXOreH/Dlt87BWuWRepZjsT+TUAdL+y94UXTfBN34hnjxcapMUjYjkQpx+rbvyFe5Vj+EtGTw94N0nSIlCiztI4iMYywUbj+Jya2KACiiigAoooPFABRSK6t91gfoaWgAooooAKKKKACvlDwqP+EM/a3n0+DiC5vpocYx8kq7wPwOPyr6vr5X8c/6P+19prW/DG8syfqQuaAPqiijuaKACiiigAooooAKKKKACiiigAooooAKKKKACiiigAooooAKKKKACiiigAooooAKKKKACiiigAooooAKKKKACiiigAooooAKKKKACiiigAooooAKKKKACiiigAooooAKKKKACiiigAooooAKKKKACiiigAooooAKKKKACiiigAooooAKKKKACiiigAooooAKKKKACiiigAooooAKKKKACiiigAooooAKKKKACiiigAooooAKKKKACiiigAooooAKKKKACiiigAooooAKKKKACiiigAooooAKKKKACiiigAooooAKKKKACiiigAooooAKKKKACiiigAooooAKKKKACiiigAooooAKKKKACiiigAooooAKKKKACiiigAooooAKKKKACiiigAooooAKKKKAPNPAn/Jcvid/3Cv8A0mavS6808Cf8ly+J3/cK/wDSZq9LoAKKKKACiiigAooooAyvE2v2vhbwxqGt35xBZQtKw/vHsPxOB+NfPn7POkX3jD4ja18QNaUybGdY3boZpOuPZU4/EV7H8WPB2oeO/AM+h6TdR208s0blpCQrKpyQcfh+VavgfwnaeCfB9jodgAVt0zJJjBlkPLMfqf6UAdBXyt8TYv7f/aw0zTriQ+SlxZQgr/CvDkfmxr6pr5R1jzG/bJg+0qVH9qwbc9xsXb/SgD6uooooAKKKKACvnH4zfEnxHrHjtPAHgKSaOVGEdxJbnEkshGdoPZQOp+vpX0dXkPw2+F+q+H/il4o8VeIRFI95NILFlfcdjvuLe3G0fnQB5JrPgT4t/DvS5PEI1q4aG2G+dor0ybB6lWOCK91+C3xBufiH4G+26iirf2cxtrlkGFdgAQwHbIIrz79pH4kxx2H/AAg+iyebdXJU35TnYuQVj+pOD9PrXonwV8ESeBvhxa2d4my/u2N1dD+6zAYX8AAPzoA9BooooAKKKKACvlTUpW139smBIxkW+oxp+ESZP8jX1Je3cdhYXF3OdsVvE0jk9goyf5V8ufs/W83iz426x4ouBlYVmuCT2eV8KPyLUAfVXeiiigAooooAKKKKACiiigAooooAKKKKACiiigAooooAKKKKACiiigAooooAKKKKACiiigAooooAKKKKACiiigAooooAKKKKACiiigAooooAKKKKACiiigAooooAKKKKACiiigAooooAKKKKACiiigAooooAKKKKACiiigAooooAKKKKACiiigAooooAKKKKACiiigAooooAKKKKACiiigAooooAKKKKACiiigAooooAKKKKACiiigAooooAKKKKACiiigAooooAKKKKACiiigAooooAKKKKACiiigAooooAKKKKACiiigAooooAKKKKACiiigAooooAKKKKACiiigAooooAKKKKACiiigAooooAKKKKACiiigAooooAKKKKACiiigAooooAKKKKACiiigDzTwJ/yXL4nf8AcK/9Jmr0uvNPAn/Jcvid/wBwr/0mavS6ACiiigAooooAKKKKACiiigAr5U+LcsvhX9p/TNcmCmGSS0uV3cDauEbJ/wCAk19V14L+1H4SfUPDFh4ltVLSaY5hnx/zzcjB/Bv50Ae8qwZQynIIyD60tcF8GfGK+M/hnp11JKr3tqn2W7APIdOAT9VwfxrvaACiiigArzT4z/FOP4d+HBFYlZNavgVtYzz5Y7yEeg7epr0uvjX4oalGv7RF5c+NYLq40y0ulUQRgAtAoBULnjBPJ+poA7n4D/Cq41a/Xx94zV7iSVzNZRz8mRyf9a2f0/OvpGvCE/am8KRRLHFouoIiLtRFVAAB0AGaxNV/apuZgU8PeGmLdmuHz+i0AfSVFfPXwT1D4l6/4+n1jxA12mhTrI0qXC7Y9x5QRg88H07V9C0AFFFIzKiFnIVVGSSeAKAPEP2lPHWq+G/D9voenQRi31qGSOe4Y/MoGMqo9wetZ37MF94csPC15CdSt11u8uN0sDsFYRqMIBnr3P41wviy+n+OHx5t9K0xnfSreXyEcdFhQ/vJPx5x+Fdt4v8A2YLeSVr3wPqTWko+Zba4JwD/ALLjkfjQB9Cg5GRRXybp3xJ+JPwh1WPTvGNpPe2IOAtyc5X/AGJO/wCNfQvgj4l+G/Htis2i3qi4AzJaSkLLGfcd/qKAOtooooAKKKKACiiigAooooAKKKKACiiigAooooAKKKKACiiigAoriPiD8VvD3w8s86lN9ov5BmGyhIMje59B7mvD4v2nPFt3PcCx0C1mDNmJVDMY19DjqaAPqeivlqP9pfxnYv8A8TLw5blcjI2OnFdfoX7Uvhy7YR67pt3pzY5dB5i5/Dn9KAPdqK5XQfiZ4P8AEpC6TrtpJIeBEzhW/I11KsHUMpDA9CD1oAWiiigAooooAKKKKACiiigAooooAKKKKACiiigAooooAKKKKACiiigAooooAKKKKACiiigAooooAKKKKACiiigAooooAKKKKACiiigAooooAKKKKACiiigAooooAKKKKACiiigAooooAKKKKACiiigAooooAKKKKACiiigAooooAKKKKACiiigAooooAKKKKACiiigAooooAKKKKACiiigAooooAKKKKACiiigAooooAKKKKACiiigAooooAKKKKACiiigAooooAKKKKACiiigAooooAKKKKACiiigAooooAKKKKACiiigAooooAKKKKACiiigAooooAKKKKAPNPAn/ACXL4nf9wr/0mavS6808Cf8AJcvid/3Cv/SZq9LoAKKKKACiiigAooooAKKKKACqeraVaa3o91pmpRCa1u4milQ91IxVyigD5D0PUtU/Z7+Llzp+pLJNot0wWQgcSwk/JKv+0ueR9RX1lp2pWmradBf6dOlxa3CB4pUOQwNcz8SPh1pnxG8Nvp98BDdx5a0uwMtC/wDVT3FfO/hHxt4p+BHip/Dviy2ll0gycx9QB/z0iPce1AH1xRWV4e8TaR4q0pNR0G9iu7dx95Dyp9COoNatABWPrfhLQPETK2uaRa3zqMK00YLAfXrWxRQBxi/CPwGr7x4Zss/7p/xrb07wl4e0lQNN0Wxt8dCkC5H44zWxRQAgAAwBgelLRRQAV4Z+0N8Ul0HR38J6HNu1O/TFy8bcwRHjHHRm6fStT4v/ABvsPBdnNpOgSx3mvSLtG35kts929/QV842q6z4X8VaD4x8Y6dJdW9/c/a/9KGTOFb5jz35yPwoA+j/2fvhqfBvhQ6vqsO3VtVUOVYfNBF1VPqep/D0r16oLG9t9R0+3vbKRZbe4jWSJ16MpGQanoAz9a0PS/EOmvYa3ZQ3ts45jlXP4g9j7ivnjxp+zpquh3zaz8Nb6UmM71tTJtlTvhW7/AEr6XxSYoA+X/Cv7QniXwjeDR/iLps1wsR2mYpsnT6g8NXvPhT4jeGPGdssmh6pDLIRloHbbIvsVPNW/Evgzw/4utfI8QaXBdjGFkZcOv0Yc14b4q/ZjurK4bUPAGrvHInzJbzvsdT/syD+uKAPo+ivk2z+JfxX+F9ytp4osZ721Q4xeITkf7Mg/+vXpnhb9pfwnrASLXEl0e4PUyDdH/wB9D+tAHs1FUNL13S9agE2lahb3cbdGikDVfoAKKKKACiiigAooooAKKKKACiiigAryz4zfF2D4f6X/AGfpZSfX7pP3MZ5EKn+Nh/Id66/x74xtPAvg291y9wxhXbBFnmWU/dUfj+ma8A+C3gm8+JfjG78e+My91bxT7olkGVnl9P8AcTjj6CgDf+E3wZuNZuf+E1+JYkvLy7Pm29pcc9ejyD+S17ZovhXQvDkciaJpVtZiRiz+XHySffrWwBjgcCigCrc2FneIVu7OCdT2liDD9RXH658HPAviDJu9BghkI/1lt+6I/Lj9K7rFGKAPnfxF+yvaMrTeFdakhlAJWG7XIJ7DcP8ACuQ0/wAZ/Ef4H61Fp3ieGa90snAimberr6xydvpX1tisnxL4Y0rxbok+l65apcW8y4yR8yHsynsRQBB4O8ZaT448PRavoc/mRPxJGfvxP3Vh2Nb1fIvhe/1P4DfGuTRNSmLaRdyLHKT92SFj8ko917/iK+qta1ux0HQLrWdRmEdlawmaSQc/Ljt657UAXZZY4IWlmdY40GWZjgAepNZuieKNF8Sfaf7C1K3vhav5c3kOG2N718u+JfH/AI0+OHiA+H/CNrNbaUxwYUbG5f70r9h7fzr3T4S/Cq1+Gug3Ebzm71K/Cm7lHCjbnCL7Dcee9AEj/GvwUnjIeGzqg+1mUQmUKfKEnTbv6dePrXfivkr4/fDPQ/AFvo994dE0ZvJ5hKJJNxyMMCD7ZIr6g8K3L3vg/R7qYlpJrGGRye5KAmgDVrwj42/EDxOnjPTfAfgR3iv7uNXlkjxvJYnaoJ6DAyT717vWRN4V0W48UQ+IptPibVoIjFHckfMqn/J596APnPQvH3j74U/ECz0b4izS3en3rDcZXD7VY48xHHoeor6iUhlBU5BGQR3rwb9q3TY5vBejaiIwZra9MW/0R0OR+arXq/w+1I6v8OPD9+4IafT4S2fXYAf5UAdHRRRQAUUUUAFFFFABRRRQAUUUUAFFFFABRRRQAUUUUAFFFFABRRRQAUUUUAFFFFABRRRQAUUUUAFFFFABRRRQAUUUUAFFFFABRRRQAUUUUAFFFFABRRRQAUUUUAFFFFABRRRQAUUUUAFFFFABRRRQAUUUUAFFFFABRRRQAUUUUAFFFFABRRRQAUUUUAFFFFABRRRQAUUUUAFFFFABRRRQAUUUUAFFFFABRRRQAUUUUAFFFFABRRRQAUUUUAFFFFABRRRQAUUUUAFFFFABRRRQAUUUUAFFFFABRRRQAUUUUAFFFFABRRRQB5p4E/5Ll8Tv+4V/6TNXpdeaeBP+S5fE7/uFf+kzV6XQAUUUUAFFFFABRRRQAUUUUAFFFFABXO+MvA2h+OtIOn6/aCVRkxTLxJCfVTXRUUAfJ2t/DT4g/BzVZdX8F3k95pucl4Bk7fSSP+v612Pg79qDT51jtPGthJY3A+VrmBSyE+pXqK+gCARg8g9q4bxZ8HvBvjAM9/paW9y2T9ptf3b5Pc44NAG3onjjw14ijD6PrVnc5GdqyjI/CtxJEkXKMrD1BzXzdrH7K9zbzGbwv4i24zhLhSrfTctYjfCb4y6EqppmqTyoOAIL84H4E0AfV1RTXMFuCZ5o4wBn52Ar5Wfwb8epVCPeX+3p/wAfij+VTRfAX4m6/MjeINcESEYLTXjSED6CgD2zxL8ZvBPhiOT7VrMVzOgJEFqfMYn046V4l4k+OPjP4iXraH4A02ezimO0NCN07j3botdh4b/Za0KyZJfEepz6g45MUI8tPz6mvY9C8L6J4ZtBb6FptvZRgYPlIAzfU9TQB418Mf2eE0u7j1zx66X99nzEsid6I3XLn+I+3Su3+NPgVfG3w2ube1iH27Tx9pswB3UcoPquR9cV6JRigDwz9mXxydX8Lz+Fr6Qm70n5oNx5aAnp/wABPH0Ir3OvkvxTBN8E/wBoWLWbSJk0m9kM6qo4aFz+8Qf7pz+lfV1ndwX9lDd2kiywToJI3U5DKRkGgCaiiigAooooAhurS2voGgvLeK4ibqkqBlP4GvNfE/7P3gjxEXlgsm0u4YfftGwufUqeP5V6hRQB8uap+zn4z8MzNd+Ctd+0FDuVY5TBIfTvg1Tj+J/xg8ASCDxHYS3cKHBN5bk5Hs6/zr6vpksMU8ZjnjSRD1V1BB/A0AeE+H/2pdDu2WLxFpVxpzkgGSI+YgP8/wBK9Q0D4k+EfEyKdI1y1ldiAI2fa/0waoeIPg94I8SA/bdDhhkJz5tr+6bP4cfpXluv/srRBjN4V114ZAcrHdL0/wCBD/CgD6JVldQyMGB6EHNLXyWdB+Nvw4cNYyX13ax5x5T/AGiPGO45IFbGj/tO6/pUi2/i/wAPCUqcPJEDE/8A3yeP1oA+nKK8u8PftB+BddKJPftpszfw3a7QDj+90r0LT9d0rVYxJpuo21yjDIMUobNAF+iiigAoorO8Q6vFoHhvUNWuCPLsrd5jk4ztUnH49KAPmv4669eeP/itpvgTRHLxWsywlR0M7feY/wC6v9a+kPDPh+y8K+GrHRdMQJb2cQQYH3j3Y+5OTXzl+zZosviT4h614y1IeY9tu2s3P76Ykk/guR+NfUVABRXB+IPjD4V8NeNoPDGpXLreSlA8irmOEt0DHt2/Ou8BB6UAFFFFABRRRQB4F+1R4aiufC+meIo0Ans7j7NIwHLI4yPyK/rWj9vuvHP7JE0kL/ab5dNKSgdS0LjP47Uz+NdP8e7f7R8E9e+UMY0icZ7YlTn8s1zH7L16Lz4X3llIgK21/IpyMhg6qcfzoAyf2Vtc01/DmqaJ+6j1KO48/phpYyAOvfBB/OvoKvmnx/8AAfXtA8RP4j+F8siKWMn2WF9skB7hf7y+1YzeOPjq0J0/7BfCQps3ix+fpjOfWgDS/ai15NW8SaH4W07E9xbhpJETkiSQhVX64Gce4r6L8O2L6X4X0uwmOZLW0ihb6qgB/lXh3wk+B+qweJk8YfEJvNvVczQ2srb3MnaRz7dQPXFe3+Jl1V/C+pL4eKLqht3+yF+gkxxQBqUVwfwitvGlr4Rlj+Icpkv/ALS3kliCwjwOpHHXP4V3lAHl3x68F69448F2lh4ajjmlhvBLLE7hdy7SOCeOCa8x+G/xF8W/D7xtpngHxvblbNmjtYUdRuh3nCEEfeXJxXpfxO8XfEbw9rsMXg3w2upac8IJnCGRvMycggdMcVxfw++F3i7xN8SI/HPxLUwtbuJobd/vMy/cG3+FVPOPagD6IooooAKKKKACiiigAooooAKKKKACiiigAooooAKKKKACiiigAooooAKKKKACiiigAooooAKKKKACiiigAooooAKKKKACiiigAooooAKKKKACiiigAooooAKKKKACiiigAooooAKKKKACiiigAooooAKKKKACiiigAooooAKKKKACiiigAooooAKKKKACiiigAooooAKKKKACiiigAooooAKKKKACiiigAooooAKKKKACiiigAooooAKKKKACiiigAooooAKKKKACiiigAooooAKKKKACiiigAooooAKKKKACiiigAooooA808Cf8ly+J3/cK/wDSZq9LrzTwJ/yXL4nf9wr/ANJmr0ugAooooAKKKKACiiigAooooAKKKKACiiigAooooAKKKKACiiigAooooAKKKKAPOvjV8Px498CTR2kYOqWGbizPdiB8yf8AAh+uK4P9mz4htcWcvgnW5GW7s9zWRkOCUH3o/qp5+n0r6BxXzD8efAd54M8V2/xB8KBoI3nDz+Uv+on67+P4W7++fWgD6eorjfhj8QbL4ieEodRt2VL2MCO8tweYpP8AA9Qa7KgAooooAKKKKACiiigAooooAKytX8L6Hr8Rj1nSrS8Ug8yxAnn361q0UAePa/8As1eC9VJk037TpcnPET7kz9D/AI159qP7M/ivR5fP8Ka/HKQQQvmNC+fr0r6iooA+Tluvjt4KUqy6hcwrnG9BOv1z1q1a/tIeOdK8qLXNAil2nDs0Txs1fU9V7mws7wAXlrBOB082MNj86APBtI/ar0uSYR65oVzbAtgvCwcKPp1qn8W/jt4Z8R/Du/0Tw7NcS3V8salmiKqq7gWGT3wMV2fxd0z4c+F/Csupa94es5p5H2wQwARySufQjsPWvke/tJWifU4bGS106eZlgLAlfXaG74FAH1x+zboy6Z8Ire6KAS6jcyXDH1AOxf0WvVrmdba1lnf7sSFz9AM1yHwi0xNJ+Evh63jJO6zWUknPL/Mf510PiTP/AAimrY6/Ypsf98GgD4XvrHVPGD+J/F2TItrcLPcnqQJZCFx7D+WK+tPg/wCNT4m+ENrqFw/m3mnwtBc88loxwT9Vwa8p/Zv0SDX/AAF44025jDreLFCQfdHx+uDVX9m3VXsX8YaBckqz2RuEjJ6Mm5X/APQh+VADvgh8U9e1j4wy2etalNc2msCXbFIcrG4BZdo7cAivqSvln9lKytZ/FOuXE8Eck9tbRmGRlyY8swOPTIrrNT+I3iOD9qW28MxX2NHaWOBrXaMENEGJz1zmgD3qiiigDz747S+V8E/ER/vRRrz7yoP61yP7LFk0Hw3v7pvu3Gott/4Ciirn7Tmq/YfhUlkH2yX97HHj+8q5c/yFbH7PulNpfwY0kuSWu2kuSCOgZyB+gFAHpdFFFABRRRQAUGiigBKWiigAooooAKKKKACiiigAooooAKKKKACiiigAooooAKKKKACiiigAooooAKKKKACiiigAooooAKKKKACiiigAooooAKKKKACiiigAooooAKKKKACiiigAooooAKKKKACiiigAooooAKKKKACiiigAooooAKKKKACiiigAooooAKKKKACiiigAooooAKKKKACiiigAooooAKKKKACiiigAooooAKKKKACiiigAooooAKKKKACiiigAooooAKKKKACiiigAooooAKKKKACiiigAooooAKKKKACiiigAooooAKKKKACiiigAooooA808Cf8AJcvid/3Cv/SZq9LrzTwJ/wAly+J3/cK/9Jmr0ugAooooAKKKKACiiigAooooAKKKKACiiigAooooAKKKKACiiigAooooAKKKKACqup6baaxplxp+owrPa3MZjljYcMpq1RQB8hanZ65+zt8U1u7EyXOjXR+TP3biHPKN/tr/AJ619T+GfEmm+LfD9trGizia2uFyPVD3UjsR6VW8Z+DtK8c+G59H1qLdFIMxyr9+F+zKfWvmPQtZ8Sfs8fECTS9ZR7jRbl8uF+5KnaRPRgOo/CgD67oqlo+sWOvaRb6npNwlzaXKB45EOQQf6+1XaACiiigAooooAKKKKACiiigAorJ17xRovhm0NzrupW9lGBn964BP0HevFfFv7UFhA72ngvTZL+bJC3E4Kpn1C9TQB71d3lvY2z3F7PHBCgy0kjBQB9TXifj79pPR9GMun+EIf7VvuU888Qo3T6t+FedweFfiv8ZbpZ9bmms9Ndus+YolH+ynVq9n8B/Afwt4NWO4uoRq2pLg/aLlcqp/2V6D8aAPHfDfwz8bfGLXU13xxdXFrppIO+UYLLn7sadh710v7TOi2ehfD3wvp+k2629laXTxoijp8n8+DX0WAFUADAHQDtXkv7SejvqfwimuIU3Np93Fct7Lyh/9CFAHY/DCdbn4V+GpU6HToR+Sgf0rf1aL7Rot7DjPmW8i4+qkV83/ALNvi/xbqviGLQnm87w/p1o29Sg/dZ+4M+uc/hmvpsjIIPINAHz1+yghi07xPGeq3MI/INXFXbJ8M/2mNR+0/urC6acn0Mc8bEfk5H5V9BfDj4aWvw6/tj7JeSXX9pXPnfOuPLUZwvv1PNcH+0Z8M73xNY2viTQLdri+sVMVxDGMtJFnIIHcqc/gfagDlP2TFP8AwkHiQ44FtCCffe1R6yP+M0rX/r8hP/kAV137Mfg/U9A0TWNT1i0ktHvpUjiSVdrFUBycemW/Su9ufhXo1z8V4fHbyS/bYowPI/gaQLtD/gvagDuKKBUF9ewadYT3t5IsVvbxtJI7HhVAyTQB8w/tR69/aXjHRvDUDgfY4vNkJbC75SAM+mAv/j1fSHhjT7fSfCml6fZOrwWtrHEjKQQwVQM5FfI2jeG7347/ABW1+8jnNrC4knE7LlUA+WJD6ZAH5Gtrwh8QvFnwS8R/8I14ytpptJD8xsdxjU/xxN3HtQB9aUVl6D4l0fxNp0d9od/DdwSLkFGGR7EdQa1KACiiigAooooAbJIkSF5XVFHVmOAKVHWRA8bB1PIZTkGuB+NHhW/8WfDe8t9KvpbWe1ButkZIE4RSfLOPX+eK4T9l7xhNqnh/UfDmoXDSzae4mt97Et5TcEc9gw/8eoA96qIXdubo2wnjM4G4xbhuA9cVDqmpW2jaRdalfyCO2tImllc9lUZNfM/wPk1bx38c9U8X3M0q28AkkkG44/eZWOP6AdvagD6jooooAKKKKACiiigAooooAKKKKACiiigAooooAKKKKACiiigAooooAKKKKACiiigAooooAKKKKACiiigAooooAKKKKACiiigAooooAKKKKACiiigAooooAKKKKACiiigAooooAKKKKACiiigAooooAKKKKACiiigAooooAKKKKACisKy1i5fWdXiuQptbS6SFCo5QGFXJP4tW4CGAIOQehFAC0UUUAFFFFABRRRQAUUUUAFFFFABRRRQAUUUUAFFFFABRRRQAUUUUAFFFFABRRRQAUUUUAFFFFABRRRQAUUUUAFFFFABRRRQAUUUUAFFFFABRRRQAUUUUAFFFFABRRRQB5p4E/wCS5fE7/uFf+kzV6XXmngT/AJLl8Tv+4V/6TNXpdABRRRQAUUUUAFFFFABRRRQAUUUUAFFFFABRRRQAUUUUAFFFFABRRRQAUUUUAFFFFABXK/EHwDpfxC8MyaXqaBZVy1tcgfNC+OCPb1FdVRQB8jeEvFniT4BeNpfD/iaGSXR5ZMyIMlSv/PWI/wAx/WvqzR9Xsde0m31PSblLm0uEDxyIcgj/AB9qwPiB8PdI+IegNYarGEnjy1tdKPnhb19x6ivnPw94l8Ufs++NpNF1+KS50SZ8sgyVZf8AnpEfX1FAH1xRWZ4f8Q6Z4n0aHVNEukurWYZVlPI9iOx9q06ACiiigAoorL8QeI9K8L6RJqWu3kdpaxjlnPLH0A7n2oA0Zpo7eB5p5FjijUs7scBQO5NfP3xH/aLMd2+ifDuL7ZdFthvtu5c+iL/F9a5Dxf8AEXxX8a/EK+G/BdrcW+lliCiHBkXP35W7DHavZ/hb8F9H+H1ol1cql/rbj57p1yIv9lB2+vWgDyLw58CvGfxBvE1rx9qU1nFKQ2JzvmZfQL0WvcvCPwi8IeDURtO0uOe6Uc3VyN7k+vPArtxRQAYwMDgUUUUAISFBJOAOST2r5n+PXxTj8USQeCPBkxvBLOEu3g5Er5wsS+vPJ/CvYfjFrepeH/hZq99o9uJpvK8p2Jx5SP8AKz++M/rXhv7LvhW31PxNqev3tv5o02NEtnYcLK+cn6gD9aAMz4YeJL74J/Eu60PxejW1leKqXXGQjYykgPcDJB+p9K+rrzXNL0/RG1i9voIdOVBIblnGzaehzXG/FL4Vab8SdJUSFbXVbcf6NeAdB/db1X+VfJXibUfFHh60u/AWq6m0tlZ3IZrdZN6BgOMH05zj1oA+77K9ttSsYbywnS4tp1DxyxnKuD3BqevAPhN8bfBWheAdL0DU7m4s7iygKyNLGSrMWJOCPc/lXp8PxX8DTRLIniaw2sMjMuDQB2FFcRffGLwFYQiSXxJZuD0ETbj+Qrg/Ef7UXhuwR4/D1lc6nMCQHceWn155NAHt89xFawPNcypFEgyzu2AB9a+ZPjV8XZPGdyvgnwL5lzBLL5dxNCM/aWzwi+q56nvWJcX/AMUvjneCCGGW00ksAyoDHAvux6tXuPwv+DWjfDu3FzJtv9YcfPduvEf+yg7fXrQBZ+D/AMOk+HXgxLWfa+p3rCa9kA6NjhB7KP1Jrc8a+BNE8eaI+n65bByAfJuFH7yFvVT/AErpMUUAfK2sfATx34Ju31DwJqkl3GuWAt5DHLj0K9GqTR/2hvGfhSZLHxtorXXlna7OhilH9Ca+paoanoel61D5WrafbXiek0Qb9TQB514d/aG8Da4FW6vH0qYjlbtcKDj+8OK9IsNX07VYlk02+t7pG6GKQNn8q8s8S/s3eDda3SaWs2kTYOPIbcme3ymvN9R/Z48deF5WufCGt/aQmSohmaF/y6GgD6nor5Ot/ir8Wfh/ceT4nsJ7yFTt/wBMhPPPZxXoXhf9p3w1qjLD4htZtJlJxv8Avx/mORQB7cwDAggEHgg96+Qby5uPgT8frm78iSXTpRI6Rrx50EmSAO3ysB/3zX1Zo/iPR/EFus+i6lbXkbDIMUgP6Vn+LfAXh3xvFAniPTkujbnMcmdrL6jI7e1AHy14y+P2v+N/CN14emsYbb7ZMuXgJy0YOdmPc4r6D+CHgdvBHw5toruLZqN+ftV0D1UkfKp+i4/HNacHwl8D22p2V/B4ftUuLFVEJAOBjoSO5Hqa7KgAooooAKKKKACiiigAooooAKKKKACiiigAooooAKKKKACiiigAooooAKKKKACiiigAooooAKKKKACiiigAooooAKKKKACiiigAooooAKKKKACiiigAooooAKKKKACiiigAooooAKKKKACiiigAooooAKKKKACiiigAooooAKKKKAOTt7yfTtb8Qu9lI0L3kbea3CbTboM+4yuD6V0GmBTaLLEx8mVQ6If4M9RVmWGOaMpMgdGGCrDINOVQqhVAAHQCgBaKKKACiiigAooooAKKKKACiiigAooooAKKKKACiiigAooooAKKKKACiiigAooooAKKKKACiiigAooooAKKKKACiiigAooooAKKKKACiiigAooooAKKKKACiiigAooooA808Cf8ly+J3/cK/wDSZq9LrzTwJ/yXL4nf9wr/ANJmr0ugAooooAKKKKACiiigAooooAKKKKACiiigAooooAKKKKACiiigAooooAKKKq6nqEOlaVdahdbvItYmmk2jJ2qMnA/CgC1RXLeCPiJ4f8f6c9zoF1ueM4lt5Btkj+o9PerPjbxnpngTw1LrWslvJRlRI0+9Ix6KP1P4UAdBRVPR9Ug1vRbPVLPd5F5Cs0e4YO1hkZH41coAK53xr4I0fx3oEul63AGBBMU6j54W7Mp/p3roqKAPkG1uvF37OvjlobpHu9EuX5A/1Vyn95f7rgV9ReE/F+j+NNCi1XQrpZoXHzpn5om/usOxqTxR4X0rxfoc2la5bLPbyjgkfMh7Mp7GvlvUtJ8Wfs7eN1v9Pd7vRbh8B8Hy50/uOP4XHrQB9eUVy3gL4gaN8QdBXUNHmAkXAuLZj88LehHp71538XPj3a+GPO0Pwi6XusnKSTD5ktj0/wCBN7UAdj8SfizoXw708i7kF1qcinybKM/Mfdv7orwHSfD3jn9oHxF/aOtXElposbZEhBEUY/uxr/Efeug+GvwL1LxZejxT8S5Z2SdhKlrKx8yfPOX9F9q+k7OzttPs47Wygjt4IlCpHGoVVHsKAMTwb4H0TwLoyadoNqsYwPNmYZkmb1Y/0roqKKACiiigAoorlPiR44tfAHgu61i5w84Hl2sJPMsp6D6dz7CgDx/9pbx88zW3gXRHaSeZ1kvRGck5PyR/Unkj6V6p8JfBA8B/D2y0yUD7bKPtF4wHWRuo/AYH4V4t8AfA134w8W3Xj/xQGnSOdngMg/1055LfRc/n9K9z+I/jyx+HvhGfVbwh7hsx2kGeZZCOB9B1JoA5H44/FmPwLox0nR5FbXb2PCYP/Hsh/jPv6VyXwL+DqzWr+LfG9sLqa9Um2trld3yt1kcHue1c58H/AAJqHxS8bXPjfxkGuLCOcyASdLiXsoH9xeP5V9VKoVQqgAAYAA4FAHl+vfs+eBNad5IrCTT5WyS1q+Bn1wa5ef8AZV8PMv8Ao+tXyH/aRTXvNAoA8Mtv2WfC0RjNzql/MVILgYUN7e1dpoHwU8CeH5PNt9FjuJQeJLo+YR+B4rv6KAIoYIraJYreJIo14CIoUD8BUtFFABRRRQAUUUUAFFFFAEVxbQXcJiuoY5oz1SRQwP4GvPvFHwL8EeJt0jaaNPuW/wCW1mdn5r0r0aigD5b1r9nbxh4WunvvAustc7PmCJIYZevT0NQ6d8b/AIi+ArhbHxtpUl5GhwTcxmOTHThhwa+qcdfeqmpaRp+sWrW+q2UF3EwwUmjDD9aAPOfCn7QfgvxH5cV1dNpV0wGY7sYXPs3SvS7S+tb+3WeyuIriJhkPG4YH8q8j8Vfs2eEdbZ5tGaXR7hsnER3R5/3T0rzS6+EXxU+HtwbjwjqM15bpkr9jlPTrzGaAPq6ivlvTv2ivGvhmf7J4y0MXGzhmeMwuOPyNeleHP2jfBOtbI76abSpm423K/Ln/AHhxQB61RVDTdd0rWYRLpWo212h6GKQNV+gAooooAKKKKACiiigAooooAKKKKACiqGs65pvh7TZNQ1m8is7WIEtJK2Py9a4vwx8bPCXiq41RLGeWGLTLc3M006bVMYOCR+JH50Aeh0VxGk/GHwLrMrR2niC2V1/hlOzP0zXWw6nY3ChoLy3kB7rKD/WgC1RVeXULOEfvruBP96QCiK/s7jHkXUMn+5IDQBYooooAKKKKACiiigAooooAKKKKACiiigAooooAKKKKACiiigAooooAKKKKACiiigAooooAKKKKACiiigAooooAKKKKACiiigAooooAKKKKACiiigAooooAKKKKACiiigAooooAKKKKACiiigAooooAKKKKACiiigAooooAKKKKACiiigAooooAKKKKACiiigAooooAKKKKACiiigAooooAKKKKACiiigAooooAKKKKACiiigAooooAKKKKAPNPAn/Jcvid/wBwr/0mavS6808Cf8ly+J3/AHCv/SZq9LoAKKKKACiiigAooooAKKKKACiiigAooooAKKKKACivNfiZ8adD+H9vJaxOuoawV+S0jbhD6uew9uteP+Ef2nNW059QfxVavqhuJA9ukJCCAc5X6dPyoA+qqK+eP+GsbD/oWrn/AL/LW9pn7T/g678tb63vbJmHzEx7gv5UAe00VyOg/FPwZ4kcR6Xr1q0rdIpG2N+RrrVYMoZSCCMgg9aAFpHRZEZHUMrDBUjIIpaKAPmz4j/C7XvAHioeNPhgsqQbt89pByYj1Py/xIfTtXH+KPHusfGnXPC3hi7sDYyrchbhBkB3YgF8HoAoP5mvsOvCdN8KX037W19q0+nSR2FtamaOfy8RkmMIMHpnk/lQB7fZ2sVjZQ2tuuyGCNY0UdlUYA/Sp6BRQAUUUUAFZniHS9K1jQLuz8QRRS6fIh84TYCqP72exHrUPifxXo/g/R5NS1+8jtoEHAJ+Zz6KO5r5k8WfELxf8bteHh3wdaT2+lM2GjU43rn70rdhjtQBwWu38fgfx3qkXw7164eyw0K3MZI3KR8y++Ox/GvW/wBnLwH4W1m3fxHqV1HqWrwynFnJz9nPZyD94n16V6F8PvgX4d8JaE8Wr28Oq6jdRFLmaVcqAeqoOw9+teP+O/h94i+CvihfFXgueVtJ38OuT5IJ/wBXIO6+9AH1pRXBfC74qaZ8R9FDxlbbVYFH2qzLcj/aX1U13tABRRRQAUUUUAIzBVLMQABkk9q+S/HusX3xw+MVr4c0FydLtJDDE45XaD+8mP5ce2K9Y/aE+If/AAiPgs6Tp023VdXUxLtPzRQ/xv8Aj0H19qq/s6fDz/hGfCJ8QalFt1HVlDIGHMUP8I+p6/lQB6jpun6Z4O8KwWdvstdO023wWbgBVHLH37mvlnWb/U/2gvjHFYWHmRaNakrGe0UAPzSH/ab/AAFdd+0V8SJbu6j8A+G3aWaR1+3GLksT92EfoT+Fel/Bv4cxfD7wbHHcIp1a9AlvZMcqccRj2X+eaAO00TRrLw/otrpWlwrDa2sYjjRR2Hf6nrV+iigAooooAKKKKACiiigAooooAKKKKACiiigAooooAKKKKACiiigCjqeiaXrNu0Oq6fbXcbDBE0Qb9a808Rfs5eCdb3vYwzaVM5zut2yo/wCAmvWaKAPl3Uf2bvGHh+c3Pg7XlmKHcqiUwv1/KqMfj34zfD1hHrdnc3duh5N1BvBGezCvrCmvGkiFJFV1PVWGQaAPAPD/AO1RpspWLxPo01m/RpLc71B+h5r1Lw78VPB3ihUGl63b+Y3/ACylby3Htg03xB8KPBfiXLaloVuJCc+ZCvlt+leU+Iv2V7R8zeFdakt5BkiK6GR+DDmgD6FV1dQyMGU9CDkGnV8lNoXxp+GbFrGS7u7OPgGJvPjx9DyK6Tw9+1Dc2swtfGuhNGwOGmtwVI+qH+lAH0jRXIeF/il4Q8XIo0jWIPOI5gmbY4/A114IIBHIPcUAFFFFABXGfEj4l6T8OND+1X5868lBFrZqfmlPr7KO5rofEGu2XhrQLzV9UlEVtaRmRyT19APcnivljwjoWq/H74qXOu+IA6aNbODMAeEQfchX3Pf8TQAun6F49/aD14ajqszWWiRuQrkERRj+6i/xH3r3OH4L+G7H4e6h4V0tWtf7QiVLi+wGmkKsGyfbI6V3un6faaXp8Njp1vHbW0CBI4o1wqgVYoA8D1P9lTRJbNBpWtXUFwqAM0qBldu5x2+lcvL+zP4zs7grpniODyuzCV0P5CvqSigD5Xf9mzx3cMPtPiG3cerzyNimyfs5/EHTFMula7C7pyqR3Dxk/wBK+qqKAPktPHfxc+FlyI/ENvPd2atyLtd6N9JB0r2v4c/Gvw74/K2gf+z9VxzaTH7/APuHv/OvQ7uztr61e2vYI7iCQYeORQykfQ186/Fn4CNpol8UfD0SQyW586WyjJ3LjktGfb0oA+kKK8T+B3xnHiuCPw34ml2a3Cu2KV+PtQH/ALMP1r2ygAooooAKKKKACiiigAooooAKKKKACiiigAooooAKKKKACiiigAooooAKKKKACiiigAooooAKKKKACiiigAooooAKKKKACiiigAooooAKKKKACiiigAooooAKKKKACiiigAooooAKKKKACiiigAooooAKKKKACiiigAooooAKKKKACiiigAooooAKKKKACiiigAooooAKKKKACiiigAooooAKKKKACiiigAooooAKKKKACiiigDzTwJ/yXL4nf9wr/wBJmr0uvNPAn/Jcvid/3Cv/AEmavS6ACiiigAooooAKKKKACiiigAooooAKKKKAAnFfP3xg+OVxFfnwp8PXM+oO/lT3cI3FW6bI/U+9Xvj38WpNCh/4RHwxKW1e7XbcyxctAjcBR/tHP4CrvwQ+DUXhGxTxB4jhWXXLhd0aOM/ZFP8A7Me57UAY3w1/Z5jR1174hsb2+l/eCyZshSe7nufavVtP+Gvg3TIylp4esQCSSWiDH9a6migDnbjwB4SuojHN4e09lPYQAfyrntT+Bnw/1NAG0NLcjo1u5U16HQaAPnvxH+yzZOhm8KaxLbTKCViuRkE/7w5Fcbpvjf4i/BHWk03xPBNe6ZnAjmYurr6xyf0r62rM1/w9pfifSZdN1yzju7aUEFXHK+4PY0AZngfx7onj7RRqGhT7ivE0D8SQt6Ef1rpq+RPFXhfxH+z/AON4Nc8PXEk2jzyYjc/ddepikHrjoa+mfA/jTTfHnhe31nSX+VxtmiJ+aF+6mgDoqKKKACiiqeq6tY6Jp0t/qt1Fa20Qy8srYAoAuV5f8TfjfofgOGWzs2TUdZ2/JbRt8sZ9XPb6da808f8Ax71jxXqD+HPhnbzhJWMf2qNMyzf7g/hHvW38NP2doraSPW/iCxvL1mEi2RbKqeuXP8R9qAOK8O+BPGvxz14a94supbTSd3EjAgbf7sSf1r6X8JeDtE8F6OunaBZJbxj78mMvKfVj3rbiijghWKCNY40GFRBgKPQCnigAxUN3aQXtpLbXcKTwSqVkikXKsD2IqaigD5U+JPwv1v4U+JF8Y+AZJl06N/MxHy1rnqrD+JDXsXwp+MOl/ETT0tpylnrcafvrUnh8fxJ6j27V6LPBFc27wXEayxSKVdHGQwPYivmf4qfBfUfB2p/8Jj8OWmSGF/NktoSd9ueu5fVfagD6coryD4P/ABvs/G0KaP4gaOz12MYGThLnHdfRvavX6ACq9/e2+m6fcXt7IIre3jaWR2PCqBkmrFeA/tM+PTZaTB4N0uUm61DEl2EPKxZ+VP8AgRH5D3oA4Pw9aXXx3+O0upagrf2Rav5si9kgQ/JH9WP8zX0D8UvHtp8OfA8t3GUF7IvkWEH958cHHoBzWd8HfBUHw3+Gol1UpBeXCfbL+RzjyxjIUn0UfrmvDdXutR/aB+M8dpY+YmjWrbUbtDbg/M5/2m/qKAOl/Z3+H1xresT/ABA8Sq0x81jZ+aMmWUn5pfw6D3+lfS4qppem2uj6Xbadp0Kw2ttGI4o17KBVugAooooAKKKKACiiigAooooAKKKKACiiigAooooAKKKKACiiigAooooAKKKKACiiigAooooAQiud8ReAfDHiqFo9b0e2nZhjzQgVx/wIc10dFAHzv4o/Zbh3tdeDNXe3lHKQXJ4Bz2YciuUTUPjN8KZNtyl1e2KEgeYDcRkD36ivrOkZQ6lWAIIwQR1oA+e/D/7VFmxWHxTos1tIq/PJbncM/wC6ea9G0b43eA9baOODW44JX6JcAof1rQ1/4WeDfEu5tU0K2MjdZYl2N+Yry7xx+zr4O0vQL3WLfUrzTIbSIyvkeaAB7daAMf8AaT8b/wBt3uleDvD84uUkK3E/kNuEjscRpx19fxFe2fDXwZB4E8CWGjxqv2gIJLuRR9+VuWP4dB7CviXwtqVxo3jTTtTsLc3z2V0kkcbIW3gHgYr9BI23xqxBXcAcHtQA6iiigAooooAKKKKACgjPWiigD5g+Pvw8n8I+ILbx34SRraEzBrgQjHkTZyHGOgb+f1r234W+OofiB4GtdVG1btP3N5GP4JQOfwPUfWuh8QaLa+I/Dt9o9+oaC8haJ89sjg/gcH8K+Z/2fdVuvBnxd1XwZqLbUujJCVbj99ESVI+q7v0oA+qaKKKACiiigAooooAKKKKACiiigAooooAKKKKACiiigAooooAKKKKACiiigAooooAKKKKACiiigAooooAKKKKACiiigAooooAKKKKACiiigAooooAKKKKACiiigAooooAKKKKACiiigAooooAKKKKACiiigAooooAKKKKACiiigAooooAKKKKACiiigAooooAKKKKACiiigAooooAKKKKACiiigAooooAKKKKACiiigAooooA808Cf8ly+J3/cK/8ASZq9LrzTwJ/yXL4nf9wr/wBJmr0ugAooooAKKKKACiiigAooooAKKKKACuK+KvxAt/h54Ln1ElXv5v3VlC38chHX6Dqa7N3WONnkYKqjLMTwBXyXrtzd/Hv46R6ZaSONEs3KIy9EgU/PJ9WPT8KAOh+AXw6uPEesS/ELxaDcF5me0WYZMsmeZT7DoP8A61fStVtO0+10nTbewsIlhtraMRxRr0VQMCrIoAKKKKACiiigAooooAy/Enh7T/FXh+60fWIRLa3KFWBHKnsw9CK+WvBGr6h8DPjFcaBrrt/ZV04ilb+EoT+7mH07/jX1zXiP7S3gZdb8HJ4ks4x9t0n/AFpA5eAnn8jz+dAHtqkMoKkEEZBHelrzD4DeNv8AhKvhjAL+YG80n/Rbh2bqoHyMT/u/yrl/ib+0HDYzPoXw/A1DU3YxtdKu5Iz0wg/ib9KAO/8AiJ8VdB+HdgTqEouNQdcw2UTDex9T6D3NfP8AHbfED9oTXBLOTZaHG/BIKwRD2/vtXSfD/wCAep+JL8eJfifPM7T/ALwWbvmST/fPYe1fRdjp9rpllFaWEEdvbwrtSONdqqKAOV8AfDHw/wDD7TxHpVuJbxh++vJRmRz7eg9hXZ0gGKWgAooooAKKKKACkIDAgjIIwQe9LRQB89/F/wCBEj3EvinwAhgvI282ayhO0seu+PHQ98VZ+Dnx2GqvH4Z8byC31ND5cF3J8omPTa/o38697rxT4wfAm38VLNr3hREtdaUb5IV+VLkj+Te/egD1nX9cs/Dnh681jUZAltaRGVyT1x0A9yeK+YfhLod18WfjFfeL9eQvZ2c32l1blS+f3Uf0AGfw964vxB8RPFup+D4fAmvM4NpdASNMSJTjhY3z2B5/KvoJbvTvgJ8C4ADFLqk6ZUKc+fcuM591UfoPegDmf2jviSxVfAmgOz3E5X7c0R5wT8sX1Jxn8BXoXwX+HUfw/wDBsa3SA6tfAS3j45TjiPPoP55ryj9n/wCH9z4n8RT+P/FANwizM1t5oz502eZPovb3+lfTY96AHUUUUAFFFFABRRRQAUUUUAFFFFABRRRQAUUUUAFFFFABRRRQAUUUUAFFFFABRRRQAUUUUAFFFFABRRRQAUUUUAFcT8YtVXR/hD4huWK5a1MKBhkFnIQf+hV21eP/ALTd+LX4RG373l9DH+WX/wDZaAOf/Za8PWp8J6rrNzbQyyzXohiZ0BKBFB4J92/SvoCvMf2ebX7L8FdJ3JtMzzSn3zI2D+QFenCgAooooAKKKKACiiigAooooAK+UviHH/wjv7WWnXlv+7+0XlnOx/3yEb+Rr6tr4o+Jl74gv/j3ftHi/wBSsb0LaRxJuAWM70XHfA6/jQB9r0V8x2H7TPibSZPK8U+G1baMFlVomz9DxXoGg/tI+CNWCrfyz6ZKRyJ0yv8A30KAPXKK53TfiB4U1YD7Br9jKSM484A/rWxHqdhN/qr23f8A3ZVP9aALVFRieJukqH6MKXzY/wDnov50APopvmJ/fX86UMD0IP0oAWiigHPSgAooooAKKM0ZFAHlV9+0J4Q0zxjd6BqAuoDazmB7opmPcDg++Ae9em2N/a6nZRXmn3EdzbyruSWNsqw+tcH49+DvhXxvaXTvbxWOqTEut9Dw2/8A2h3BxXhXhTxj4m+A3jF9B8TRSXGjyN80Ybcu3OBLEf6UAfXNFZeg+JdI8S6dFfaJfw3cEq5BRhkexHUGtSgAooooAKKKKACiiigAooooAKKKKACiiigAooooAKKKKACiiigAooooAKKKKACiiigAooooAKKKKACiiigAooooAKKKKACiiigAooooAKKKKACiiigAooooAKKKKACiiigAooooAKKKKACiiigAooooAKKKKACiiigAooooAKKKKACiiigAooooAKKKKACiiigDzTwJ/wAly+J3/cK/9Jmr0uvNPAn/ACXL4nf9wr/0mavS6ACiiigAooooAKKKKACiiigAooooA8o/aF8bHwr8OZLG0k2X+sE20eDyseP3jflx/wACqn+zj4GHhvwH/bd5Dtv9ZxICw5SEfcH48t+IrzX4hSP8Vf2krTw9bMZLCxlW0bHIVUO6ZvzyPwFfVMEEdtbxwQIEiiUIiqOFAGAKAJOlFFFABRRXz18S/GXjTxp4+uvAXw/imt4rM+XeXC/KWPclv4VH60Ae3z+KtBtbv7LcaxZRz5x5bTqDn861VZXUMpDKwyCDkGvme5/ZdvE8O3N7deIWm1ZImlCBMozAZxuPP410n7MfjG/1rw/qWhapNJO2lsjQPIckRtkbSfYr+tAHutFFFABVXU9Pg1bSrrT7xd8F1C0MikdVYYP86tUUAfC+kaX4psfGWqfDzQrxrebULv7JcLv2CQRsSCT2GMn3r6e+GXwW0P4f26XUqrqGsEfPdSLwh9EHb69a8Y+LC/8ACH/tOWGsW48tZpra8J7HJ2P/AOgn86+sAdwBHQ0AIadRiigAooooAKKKKACiiigAooooAK5/xx4stPBPg++1y9IIt4z5UZP+skP3VH1NdBXyv8cPE158RviZY+BfDjedBaziE7Dw854Yn2UcfnQBzHhb4c6t8V7HxP4w1K+W0KM0qzTcJLLyzAnsoH8xXI2GqXPirWNB0bxTrUiaXayCBZZW3C3jLfMR/jXr/wAY/EEHgjwfpnwq8JOTJ5Sfb3i+8+edv1ZuT7YFbFl+zXa3fwot4Z3+z+J2U3BmJ+UEjiJvYDHPrQB7tomn6fpeh2djoyRpYwRKkAjOQVxwc9/rWhXyv8Lvilq/wz8Rt4M8frMllHL5atLy1qc8EHuhr6khnjuIUmgdZIpFDI6nIYHoQaAJKKKKACiiigAooooAKKKKACiiigAooooAKKKKACiiigAooooAKKKKACiiigAooooAKKKKACiiigAooooAKKhu7y3sLWS5vZ44IIxueSRgqqPrXzf8Tfjzfa/fHwx8NVlfzj5TXkSkySk8YjHYe9AHpfxD+OHhvwHIbNW/tPUsZNtbsCE/3j2+lfM3xH+IXif4jSHUNRt5bfR4ZB5ECIfKjJzglu7HnmvZPhj+ztDaNFrfj8/a71iJFsS25VPX5z/Efauv+O3h+CX4I6tDptrDAtoYrgJGgUBVcZ6exNAF74ETx3HwW0ExHISN0b2Idga9Drx39mTVUvvhObIEeZp97LGwHXDYcH/x4/lXsVABRRRQAUUUUAFFFFABRRUF7e22m2M15fTJBbQIXklc4CqOpNAGN458W2fgnwffa3fMAIExEhPMkh4VR+NfP37OXh+88S+PtV8c6tufyGcI7Dh55PvEfRSfzFY3jjxTrHx4+I1t4d8Mo40mCUiHIIG3o0z/AIdK+n/CHhaw8GeFrPRNLTEVumGfHMj/AMTH3JoAt6hoel6tEYtT062ukbr5sQavO9e/Z48C605kgtJdOkJJJtnwDn2NeqYooA+db79lKAS7tK8RyRr6TRf4VjT/ALM3jC1mP9m+I4Sg6HzHQ19R0UAfK6/s/fEuPiLxCuP+vxx/Wg/Aj4pxg7NfB+l69fVFFAHys3wP+LEf3Nc3fS+ao1+FHxnsh/o2qTEei3x/rX1bRQB8o/8ACH/Hiy5ju75+/wAtyGqVP+Ggoh8qakcDuFNfVNFAHywZv2hH48vUf++Vqu+m/H25PznU1/4Gor6vooA+UP8AhEvjzc/eur9e3NyBS/8ACtfjdc/63UbkZ67r7FfV1FAHyuvwP+LMy5l13afQ3zVXuv2cPiDqbodS1W2nKjCma4Z9o9s19YV4r8afi7PokyeEfBh+0a/dkRyPENxg3cBR/tnP4UAcR8LvhffeH/ixa26+L7E3OnN593YWkrMzIOCpHTnIB9M19Q15b8GvhQPAunvq2tt9o8Q365uJGbd5IPJQHuc9TXqVABRRRQAUUUUAFFFFABRRRQAUUUUAFFFFABRRRQAUUUUAFFFFABRRRQAUUUUAFFFFABRRRQAUUUUAFFFFABRRRQAUUUUAFFFFABRRRQAUUUUAFFFFABRRRQAUUUUAFFFFABRRRQAUUUUAFFFFABRRRQAUUUUAFFFFABRRRQAUUUUAFFFFABRRRQAUUUUAFFFFAHmngT/kuXxO/wC4V/6TNXpdeaeBP+S5fE7/ALhX/pM1el0AFFZXifUNQ0rwxf32jWJ1C+giLQ2oOPMb0rwq++L3xcjyV8EmAdsws2KAPoqivlqb4sfGeUny9Ckjye1kTUA+I/xykY7dNnHt9hoA+rKK+V/+E/8AjuOTpk+B/wBOQoX4rfGi3yZtHlf62JoA+qK8q+PXjHxP4K8M6dqPhYKsbXJS7mKbtgxlR7AnPPsK8vX47/FKFQs3h4MR3Nm4zUF78cviBqVlLZ6j4UgubaVdskUlm5Vh+VAHt3w5+LWg+PdKg2XUdrqgQCezlYK27HJX1FdX4k1iPw/4Y1LVpjhLK1kmOf8AZUkfrXwPqFrqljeHUk0640lDJmParIIz6AmvQz8S/Gd78H9Y0vxDHcXGnXCRRW2oOhBBL5Klv4gQp/KgDsP2XNHk1PxH4g8V3o3yKPISRu8kh3ufyA/OvpivKP2b9K/s34O2k7R7Hv7iW4Y/3hnaD+SivV6ACiiigAqCKxtYLqa5ht4o558ebIqAM+OmT3qeq1/qFrpenzX2oTJb20CF5JHOAoFAGL4/8QweFvAWsatcuFENs4jGfvOw2qB+JFeQfspaLLDoOua3MGC3k6QREj7wQEsfzbH4VyfivxLrv7QHjqLw54ZR4dCtZNxcjC4HBlf+gr6X8LeHLHwl4ZstE0tNtvaRhAT1c92PuTk0Aa9FFFABRRRQB8v/ALWFuY/E3h27VcFrWRC3+64I/wDQq+kNAuTe+G9Num+9PaRSH6lAa+e/2tHXzvDUf8e2dvw+Wve/B3HgbQs/9A63/wDRa0AbNFFFABRRRQAUUUUAFFFFABRRTJpo7eB5p3WOKNSzuxwFAGSTQBwfxj+ICfD/AMCz3MDr/ad3mCyTPIYjl8eijn64rxX4UWVv4A8Dap8U/Ey+ZdTq0WlxyH5pXbOW/wCBNxn0BNZ2qzXnx/8AjglpaM66LaEorDpHbqfmf6sf5infEfVJfib8SNK8B+DVC6RpjC0t1j+5kcPIfZQMZ9vegDV+A/gu68eeNL3x94pBuIobgvHvHE1wec/RRj8celfUVZXhjw7ZeFPDNloumRhLe0iCDA+8e7H3Jya1qAPNfi98JrP4i6QZrYJb61bIfs9xj/WD+43t79q8q+EPxV1DwNrn/CD+PhJb28cnkwyz9bVs/dJ/uH17V9P15R8avhBB4+0ltS0iNY9etU/dnoLhR/A3v6GgD1ZHV0DIQysMgg5BFLXzl8Cvi5PY3a+BvGsjxTxP5NnNPwVIOPKfP6H8K+jaACiiigAooooAKKKhnu7a1AN1cRQg9DI4XP50ATUVVXVLB+Evbdj7Sr/jVkMCAQcg9CKAFooooAKKKKACiiigAooooAKKKKACiiigAooooAKKKKACiiuD8b/GHwr4HjdL28F1egcWlsQzZ9+woA7tmCqWYgADJJ7V5j48+PHhfwb5lrbTDVdRUcQW7ZVT/tN0FeOan8QPiR8Zr99M8K2ctlprHDLASoC/7cn+Fd94D/Zs0nSGjv8AxjMNVvchvs68RKffu1AHnU0/xL+PeoeXHG9nowbpykCD1J/jNe7/AA2+D2hfDyATQqL3VWXEl7KvI9lHYV3lrawWVslvaQRwQxjakcahQo+lTUAJiqWtaXDrWhX2l3QzDeQPC/0YEf1q9RQB8p/ALXZfAvxU1PwhrreT9sc2/wA5wBPGTt/76GR+VfVlfPH7Rfw1uGmXx54dRluLYKb5Y+CAv3ZR9Oh/Cuu+D/xn0/xtpcOm61cR22vQptdXO0XGP4l9z3FAHrNFFFABRRRQAUVQ1bXdL0K1a41i/t7OJRktM4WvGPGf7Tejaeslr4Ptn1O7ztWeQbYgfUdzQB7Hr/iLSvDGlyahrd7FaW8YJzI2C3sB3NfL3jT4g+Jfjf4jTwv4OtZotKL8oOPMGfvynso9KTS/h/8AET406qmreKrmWz01mysk4KgL6Rx/1r6P8E+AtD8A6QLHQrYKzAedcOMyTH1J/pQBmfDD4Y6Z8ONBEFuFn1KZQbu7I5c/3R6KPSu5oooAKKKKACiiigAooooAKKKKACiiigAooooAKKKRiQpKjJxwKAPNvjN8Uovh74dEFgyya5fKVtYuvljoZCPbt6muY+Bvwmn0w/8ACZ+MVabW73MsCTctCG53t/tnP4VD4N+FuveJ/iVe+NfidEA8ExFnYk7l+X7p/wB1e3qea92HTpQAtFFFABRRRQAUUUUAFFFFABRRRQAUUUUAFFFFABRRRQAUUUUAFFFFABRRRQAUUUUAFFFFABRRRQAUUUUAFFFFABRRRQAUUUUAFFFFABRRRQAUUUUAFFFFABRRRQAUUUUAFFFFABRRRQAUUUUAFFFFABRRRQAUUUUAFFFFABRRRQAUUUUAFFFFABRRRQAUUUUAFFFFAHmngT/kuXxO/wC4V/6TNXpdeaeBP+S5fE7/ALhX/pM1el0AFFFFABRRRQAUUUUANMaN95FP1FJ5EX/PJP8AvkU+muCyMoO0kYBHagD5g+I9/efF/wCM1r4I0NtulabMVneMcZX/AFkh+n3R/wDXrof2l47bQPhb4f0HTYhDaC7VY0HZY4yB/Ou3+FXwmT4dz6re3V4uo6hqEh/0grgrHknH1JOT9K5b9qmxWb4d6Zdn71tqAUH/AHkb/CgDvfg9avZ/B3w1FJ977Er/APfRLf1rta4j4M3LXXwb8NySNvb7JsJ/3WKj9BXb0AFFFFABXzH8YPFmr/Er4jRfDnwm5FpDN5U5BwJZRyxY/wB1OfxBr6cr5u8efAnxPp3i+88UfD6/YvcTPceV5myWNnOWAPcZJoA9n+H3gDSvh74cj03TEDzMAbm5K/NM/qfb0FdVXytF8UfjJ4QLQ65pU14kZwWuLYt/48tWX/aP8c322PTPDEYfGGIhd+fyoA+oM0V82aD42+OPiDWrcwaV5Ns0i7/NtgiBc85J56V9Jj3oAKKKQnAyTgDrmgD5Y/afuf7S+I+h6PHkvFbAfjI+B/Kvp/TbQWGk2lmnC28KRD/gKgf0r5UsyPih+1YZ1KzWNrd7wf4TDAMD8yB+dfWlABRRRQAUUUUAFFFFABRRRQAV4b+0l8Qv7G8Op4U0qX/T9TGbkofmjh9Pqx4+ma9c8T+IrLwp4avda1R9lvaR7yM8seyj3JwK+YPhfo1z8UvilqHjjxYf+JXp0hu52k+5uXlI/ooGT7D3oA1Sg+CHwOJOIvFvidcf7dvER+m1T/303tXWfs2fDs6L4ffxXqkWL7UlxbBxzHB6/Vjz9MV5wv2n4+/Hjnf/AGLbNn2jtUP83P8AP2r63ggjtreOCBFjijUIiKMBQBgCgCSiiigAooooA8N+O/wdPiC3fxV4Xh2avbLvuIYxg3CjncP9sfrT/gP8X/8AhJbNPC/iabbrNqu2CWU4Nyo7H/bH617fXzX8dfhTdaLqQ8eeCkeExyCW8it+GhcHPmrjt60AfSlFeY/Br4sW/wAQtBFtfOkWuWaAXEeceaP+ei/XuO1enUAFFFFABXkXxN+Ct98QPE39qQ+JZrKLyVRbUglEI6kY9a9dooA+Y7j9mPxNDGzWfiuJmUcBi6/rmrH7PPjHxD/wn1/4P1O/bUrGCKVg7PvEbRsFyrf3T/hXQ/Hn4uHRLZ/CPheXzNXvF2XEkRyYFPG0Y/jP6VsfAX4YP4H8Ovqurx41nU1BdWHMEfUJ9T1P/wBagD1uiiigAooooAKKKKACiiigAooooAKKKKACijNcd4z+KPhfwPbs2ragj3IHy2sJ3SMfp2/GgDsa4rxr8V/CvgaJl1S/WW7x8tpbndIfr6fjXhOu/Gjx18Sr5tI8CadPZwSHYfs43SEHj5n6LW/4N/Znkubgap8QtQe4mc72tYXJJPB+Z/z6UAc5rPxb+IPxU1BtJ8EWE9laOdpFt94j/bfoK6vwN+zRFHKuo+PL03k7Hc1rExxn/abvXuWi+H9K8O6elloljDZwKMbYlxn6nvWkBigClpWj6dodilnpFnDaW6DAjiQAVdoooAKKKKACiisnxL4n0nwlo0up67dpbW8Y43H5nPoo7mgDm/jHpqar8M9Rt59aXRbcbXnuG6MgPKe+fSvkjwb4C1nxxr19F4OVtlihmWaRtnAOFGezH0rtPEfiXxX+0F4xj0jQbeSDR4HykZ+5Guf9ZIe5x2r6V8AeA9M+H3hmLSdKXe2d9xcMPmmfuT/QdqAPne2+JPxb+HDfY9f0+e9hjG1TdRFx+Dit2D9qy5jTF74YHmd9spH86+j5YI50KTRpIp/hdQR+tZc/hLw/dPuuNFsZG9TAv+FAHgFz+1VqEykab4ZTdjgvIW5/Csmb4q/GDxgwi0LS57VGH/LtbEf+PNX0va+FtCsv+PTR7KL/AHYF/wAK1EjSJdsSKgHZRgUAfLWnfAHx74wuVuvG+sm2RuWEsplk/wC+egr2Hwj8EPBnhIxzR2H2+8TkXF38xz6gdBXouKMCgAUBVCqAABgADpS0UUAFFFFABRRRQAUUUUAFFFFABRRRQAUUUUAFFFFABRRRQAUUUUAFFFFABRRRQAUUUUAFFFFABRRRQAUUUUAFFFFABRRRQAUUUUAFFFFABRRRQAUUUUAFFFFABRRRQAUUUUAFFFFABRRRQAUUUUAFFFFABRRRQAUUUUAFFFFABRRRQAUUUUAFFFFABRRRQAUUUUAFFFFABRRRQAUUUUAFFFFABRRRQAUUUUAFFFFABRRRQAUUUUAFFFFAHmngT/kuXxO/7hX/AKTNXpdeaeBP+S5fE7/uFf8ApM1el0AFFFFABRRRQAUUUUAFFFFABXA/G3w83iT4R6zbQoXnt4xdRADJLRncQPqMj8a76myIssbJIoZGBVge4NAHiP7LviSPUPAN3oUj/wCkaZcllXPJik5B/wC+tw/KvcK+SZHuvgB8dnk8t20O+JwB0e2ds8e6H+XvX1bp2oWuq6bb3+nzLPbXCCSKRDkMpoAs0UUUAFFFFADWRXUq6hgezDNRRWVrASYbaGMk5O2MCp6KADFFFFABXmHx0+IkXgnwPPaW0uNW1SNobZVPKKRhpPwHT3rZ+InxR0P4eaS8l9MtxqDL+4sY2+dz2z6D3rwDwV4S8RfHXx03ibxYzjR4ZPnYjCsoORDGPT1NADfAHwW8VX3gqDxh4d1STTNXZ2a1gbKeZEOhz7n1rrdD+PfiLwdqI0X4qaNMjodv2uNNrHtkjow9xX0LBBFbW8cFuixxRKERFGAoAwAKy/EfhPRPFuntZ6/p8N5EehdfmX3B6igBvhzxhoPiyzW50DU4LtSMlVb5l+q9RW3Xzb4m/Z41zw3ePq/wy1eZXQ7ltmk2SD2DdD+NVfD/AO0J4q8I3g0r4jaPLMY/lMpTy5R/RqAPpyiuT8J/Ezwr4ziX+xdViac9beU7JB+BrrKACiiigAoorhfi58QYfh74JmvEZTqN1mGyjJ5L4+99F6/lQB418f8AxhdeNPGlj8P/AAyTOsM6rMIzkS3B6L9FHX3z6VZ+LF5afCr4Tab8PNBl/wBP1BN9/KnDMn8RP+83A9gaT4A+E49O0/Ufif4sYiOJJGtZJep6+ZL9ScqPxrA8A6fdfGv46XPiHWYy2m2kguZIzyqopxFF+nP0NAHs/wACPAA8FeA4ri9i26pqgWe43D5kXHyJ+A5Pua9PoAx0ooAKKKKACiiigApssSTQvFMivG6lWVhkMD1Bp1FAHyp8UfAGq/CLxfB418Es8emtNuKp0tmPVG9UP/1q96+GvxE074i+GI9Qsysd3HhLu1z80T/4Hsa6bVNMtNY0u40/UoEuLW4QpLG4yGBr5O8QaNrf7PXxNt9U0l5J9FuX/d5PE0f8UT/7QHQ/jQB9eUVkeGvE+l+LNFg1PRbqOeGZFcqGG6MkfdYdjWvQAV5H8ZvjLB4Ism0bQHW51+4XaAvzC2B/iP8Ategr1qVDJE6BihZSAw6j3ryfwd8A9I8P+J5df1y+l12+Mhkia5Hyo2fvEd2oA574I/B2a3nXxr43Rp9UuD5ttBPyY88+Y+f4j2Have6PpRQAUUUUAFFFFABRRRQAUUUUAFFFc14u8f8Ah3wRZGfX9QjhcglIFO6R/otAHS1yfjL4l+GPA9qz61qCefj5bWI7pGPpgdPxrwbxJ8e/F3jm/fRvh7ps1rFLlQ8a75mHrnotaPg/9my/1W6Gq/EXUZC7nc1rHJuduf4nPT8KAMjxB8bPHHxFvm0jwDp09nA7EZgXdKw6ct0Wt3wX+zRNdzpqfxC1F5pHO9rSJyWJ/wBp/wDCvd/D/hbRfC2nrZ6Dp8NnEowfLXlvqeprWFAGZofhvSPDVilnoWnw2UKjpEmCfqeprUoooAKKKKACiiigAopCQqkk4A6k14p8VP2gLHw15ukeEjHqGrco8w+aOA/+zN7UAdr8Rvinofw601nv5Bcag65gso2+dz2J9B71896T4e8a/tBeKP7U1mZ7TRonx5hBEcS/3Y17n3ra+HvwV1zx9qw8V/EmacW8zeYIJSfNuO4z/dX2r6ZsNPtNLsIrLTreO3toVCxxRrgKKAMjwj4N0bwTosemaBaLDGo/eSEZeVv7zHua36KKACiiigAooooAKKKKACiiigAooooAKKKKACiiigAooooAKKKKACiiigAooooAKKKKACiiigAooooAKKKKACiiigAooooAKKKKACiiigAooooAKKKKACiiigAooooAKKKKACiiigAooooAKKKKACiiigAooooAKKKKACiiigAooooAKKKKACiiigAooooAKKKKACiiigAooooAKKKKACiiigAooooAKKKKACiiigAooooAKKKKACiiigAooooAKKKKACiiigAooooA808Cf8ly+J3/AHCv/SZq9LrzTwJ/yXL4nf8AcK/9Jmr0ugAooooAKKKKACiiigAooooAKKKKAON+Jnw60/4jeGHsLsLFeRZe0uccxPjp9D3FfPvg/wAfeJ/gZ4hfwz4wtJptJ35Cddg/vxHuD6V9aVgeLfBWh+NtLNj4gskuEx8knR4z6q3agCTwz4w0Lxhpy3nh/UIrqMj5lBw6exXqK26+XvEHwA8YeDtTfUvh1qkk8QOVjWTy5V9vRqqw/GX4seEj5HiHSJLkI2C1zakE/wDAhQB9V0V80p+1VqEYxdeF4w2O0jD+dI/7Veoy5Fn4YjJxxmRjz+FAH0vSMwRSzEKo5JJ6V8rT/Hv4ma4Hj0TQxDu4DRWrOV/E1GPBnxs8etu1a7ubSBxz9on8pcf7ooA978TfFjwb4UV11PWYWnX/AJYQHzHJ+grxXxT+0Zr/AImuTpPw70uWAynas2zfM30A4FbPhn9lqzR1uPF+ry3ch5aG3+UZ92PJr2Xw34I8O+ErcRaBpUFrjq4XLn6t1oA8G8Dfs9axr+pLrnxLupcO282hfdLJ/vN2HsK+jdO0200jT4bHTLaO2tYV2xxRrhVFWhS0AFFFFABWL4j8IaF4tsmtdf06G7QjAZl+ZfoeoraooA+cPFn7MlxaXDah4A1VopFO5badypB6/K4/rXN6f8U/id8LbtbDxZZTXlpGcbbxScjP8Mgr6zqrf6ZY6ratb6laQ3ULDBSVAw/WgDzTwh+0H4O8TbIb2dtIu2H3Lr7pPoGr1GC4huoVmtpUljblXRgwP4ivHPF37NXhfWw82gyPo9y3OE+aM/8AAe34V5jN4L+L3wqlM+iXFxd2adTauZUI90PSgD6ymmjt4JJp3WOKNSzuxwFA5JNfI2tXV/8AH/42R2Ni7LpFqxSNu0dup+Z/q39R6UzxV+0F4j8QeB7vw5qFilne3DCOe5jyhMf8S7exP8q9D+A9z4O8G/DO91mTV7SXU5I2ub5Q2JIkUcRgHk/h3NAFD9ovxPb6B4a0v4d+HFESyRoZoo/4Yl4jT8SM/h716d8HfAieA/AFraSoP7QugLi8fHO8jhfoo4/OvDPhVpF18XPjVfeLdbjL2NlN9pdW5Xd0ij+gAz/wH3r6woAKKKKACiiigAooooAKKK5rx/41sfAXhG61q/w5QbIIc4M0h6KP5n2FAGrq2vaVoUKy6zqFvZIxwpmkC5+leFfHz4oeFtU8Mv4X0+NNZvLkLJFPEcrbtngg929h61y/gXwNrvx08Q3XifxpeTx6QrlY1Q4Dt/cQdlHc16b8LPgPp/gm+uNS1ww6nf8AmEWpKZSFM8HB/iNAHgvgWw+Kfh5Li48HaZqUKXKKJCIuGA5HB+tdW3jn46aXKsl3Z3rKp5V7UMD+VfVwUKoCgADoAKUgHqM0AfL9h+034n0uYJ4n8PRuucEhWib9eK73Qv2l/BmplE1JbrTJGxnzF3KD9RXqd9oOk6mmzUNNtbhfSSIGuB179n/wHrYZo9NbT5WOd9q5X9OlAHZ6J4x8PeIkVtF1e0u93RUkG78jzW2K+ZNf/Zi1nSd154M1wyyIdyxSkxvx6MKqeFfjR4v+HGtx6B8RrSe4tUIUtKP3sa9Nyn+IUAfU1FUtI1ex17SbfUtKuEubS4QPHIh4I/xq7QAUUUUAFFFMmmit4XlnkWKNBuZ3OAo9SaAH1m654g0rw3p0l9rd9DZ26DJeRsZ9gO5ryT4hftG6NoPm2HhJRq2oAlfO/wCWMZ+v8Vec6L8OPiD8ZtSGs+Lryay09iCrzgjK+kcf9aAN/wAaftHajrN2dH+G1hKXkOxbpo90j8/wL2+pqr4R/Z88ReLL1dZ+JGoTQrJ8xgZ98z9+T/DXt/gr4ZeGvAdqF0WxU3JHz3Uo3SMfr2/CutwaAMbw34P0HwjYra6Bp0NogHLKvzN9W6mtqge9LQAYooooAKKKKACiiigAqlq+safoOmTahq91Ha2sK5eSRsAf4muX+IfxS0H4d6eX1GUT37rmGyjYb39z6D3r52hg8e/tC+JBJMzWmjRPgtysEC+w/iagDY8ffGfX/iPq3/CLfDi2uEtJyYy8YxLcDvz/AArXe/Cr4A2HhXytX8VCPUNY++sZG6OA/j95veu68A/DbQfh9pgt9Itw9yw/fXcgzJIfr2HtXX0AIBjp07UtFFABRRRQAUUUUAFFFFABRRRQAUUUUAFFFFABRRRQAUUUUAFFFFABRRRQAUUUUAFFFFABRRRQAUUUUAFFFFABRRRQAUUUUAFFFFABRRRQAUUUUAFFFFABRRRQAUUUUAFFFFABRRRQAUUUUAFFFFABRRRQAUUUUAFFFFABRRRQAUUUUAFFFFABRRRQAUUUUAFFFFABRRRQAUUUUAFFFFABRRRQAUUUUAFFFFABRRRQAUUUUAFFFFABRRRQAUUUUAFFFFABRRRQAUUUUAFFFFAHmngT/kuXxO/7hX/pM1el15p4E/5Ll8Tv+4V/6TNXpdABRRRQAUUUUAFFFFABRRRQAUUUUAFFFFABTJYIp12zxJIvo6gj9afRQBlXHhjQrt91zpFlI3q0C/4Utv4Y0O0bNtpFlGf9mBf8K1KKAIoraCAYggjjH+wgH8qloooAKKKKACiiigAooooAKKKKACiiigArG8W+JbLwh4Wvtb1NgILWMsFzzI38Kj3JwK2a+Wfjn4vvPiF8QLPwF4ZJmht7kRPsPEtweCT/ALKgn9aAMz4XeCZfjL8QNW8SeKIT/ZYdnlEfyB5G+6i47KOfwHrWD8Zfh/o/w98T2ul+H7+4uZbqLzJIH5MQJwoyOucHj6V9VeG9E0r4W/DZbcsqW2m2zT3U2MGRwMu34np+FfPXwq0m5+LfxtvvFetIXsrOX7U6tyuc4ij+gAz/AMB96AM7w3r/AMRvglG9vPojDT5nE0iyw7lJIH8Y6ccV634V/aX8KawI4dcim0i4I5Zhvjzn1HSvY5reG6haK5iSVGGCrqGB/A15x4q+AvgnxMryJYf2bdNz51p8vPuvQ0Ad/pms6brVsLjSb63vIj0aGQNV2vlrU/gJ488F3DX3gbWWukjOVWKQxyfl0NJpP7QHjnwdcrYeOdHa6CEAmaMxS4+vQ0AfU1Fea+Efjv4M8VlITe/2bdt/yxu/l/JunevSI5UmjEkLrIjchlOQfxoAdRRRQAV8lfHfxWvjX4sWfheK9SDS9PnS2eZm+RZWIEjn/dzj8DXuHxS+KugeDNBvrOS+EurzW7xwW1u2XRiuASf4cE5r5a+G/wANtY+JXiNVjWRLBZN15fP0UZyQD3Y0Afa3hzRbHw74dstJ0pFS0tYlSPb/ABcct+J5/GtSorW3S0s4beLOyGNY1z6AYFU/EGs2/h3w7f6xe/6iygeZx64Gcfj0oA0aK+ffg98c9Y8Y/ESfRvEPkrb3qO9kqIF8pl52Z7/Ln8q+gqACiiigArkPiL8O9J+IXh2Wx1CJUu0Um1uwPmiftz3HqK6+igD5e+AfirUPBnxDvPh94hZkjmleOJGPEU6+nswH8q+oa+U/2h7N/Cvxk0nxLZJ5ZuI47jcnG6SJsH8cba+p7acXNrDOvAlQOB9RmgCWiuH8c/Fzwt4DjaPUrz7RfY+Wztzuf8f7v414Rq3xQ+I/xavn0vwbZTWNg52MLbI4/wBuTt+FAHtfj/40+GPAsTwvcDUNSAO20t2BwcfxHoK8Km1b4m/HfUGtrFHtNI3cqmY4EHu38RrvvAv7NNjZTR6l45ujqd0TvNshPlg/7R6tXullY2unWqW1hbx28EYwscShQB9BQB5f8PfgJ4c8GrFeamg1bVF582ZfkjP+yv8AU16qqhVCqMAdAO1OooAKKKKACiiigAooooAKKKq6lqVnpGny32p3MdrawqWkllbAUUAWiQOvArxH4r/H+z8Oefovg9kvtX/1b3C/NHAfb+836Vw/xA+NOu/EPVP+EW+HUFwlrO3lmSIYluP/AIla734VfAKw8LGLWPFQj1DV/vLERujtz/7M3vQBw/w6+B+s+ONSHin4kzXAgmbzBbysfNuP97+6vtX0tpumWWj6fFZaZbR2ttENqRRLgAVbAwOKKAEpaKKACiiigAooooAKKKKACiiigAooooAKKKKACiiigAooooAKKKKACiiigAooooAKKKKACiiigAooooAKKKKACiiigAooooAKKKKACiiigAooooAKKKKACiiigAooooAKKKKACiiigAooooAKKKKACiiigAooooAKKKKACiiigAooooAKKKKACiiigAooooAKKKKACiiigAooooAKKKKACiiigAooooAKKKKACiiigAooooAKKKKACiiigAooooAKKKKACiiigAooooAKKKKACiiigDzTwJ/yXL4nf9wr/wBJmr0uvNPAn/Jcvid/3Cv/AEmavS6ACiiigAooooAKKKKACiiigAooooAKKKKACiiigAooooAKKKKACiiigAooooAKKKKACiiigAooqtqF/baXptxf38qw21tG0ssjHhVAyTQBwHxr+IqeAvBMotZANX1AGG0XPKf3pPoB+pFcJ+zX8O3t7eXxvrUbNdXYZLISDkKT80n1boPbPrXDWUV9+0D8b2uLgSJotqQWB6RW6nhf95z/ADPpX1fLJZaBobyNstrGwgLEAYCRov8AgKAPD/2nfHH2HRbXwhYSf6Rf4mugp5EQPyr+LD9K7z4MeCP+EH+HFnbTpt1C9AurvjkOw4X/AICMD65rwrwBZXHxk+P1z4h1SMtp9pL9qdG5UIpxFH+g/I19aHrQAoooHSloASs/VtB0rXbY2+safb3kTdVmjDVo0UAeHeLf2Y/D2p7p/DF1JpNx2jPzxn+orz06R8YPg+5exee905Dk+UTPER7qeRX1nXB/Ej4r6B8PbBlvXW81GRf3VjGQWb3b+6KAPN/DH7Ulo2228YaRJazA4ea25XPup5FYfxB/aL1DXpzovw/je1imbyvtj8SyZ4wv9361yWmeFPFfx28YSawbODTrJiFkuUi2RRqOyj+Jq9JvP2UtO8lDpniG4imHVpYwRn2xQB4v448Bah4T0XTdU8QajHcanq0kjGBJfMKIuPmZu5JP6V9Y/Brw2PDHwp0a0ZNs88P2qb13SfN/IgfhXyv4s8C3Phr4p6f4QutSOpAy26q4z8okYZGD0619wQxJBBHDGMJGoVR6ADFAD/wryv8AaN1JtP8Ag1fRxthryeGA/QtuP/oNeqV4X+1XdGL4f6VAOk2ojP4IxoA8D0SC88Ca74O8UO2IbxxdRn/YWUo4/IH869m+HfjrWvE37S+qwtqU0mk4ufKti3yeWuAhA9eh/Oub+KPh8p+zn8P9QRObWMK7Y6CZd/8ANayP2apifjLFvO5pLKcEk+wP9KAPsWioL2+tdNspby/njt7eFd0ksjYVR6k159pHx18Ga54wh8PaddTSTXD+XDOY8RyP2APvQB6RRRRQB80/taD/AE3wtjr5dz/OOo9V+L/i7xfaWnhX4baXdRvHbRw3F4EO/dsAOD0Qe/Wof2r75ZfEvh3T4+ZIbaWQgdfnYAf+gV9G6Dp1rp+j2otraOB2gTzCqBSx2gc/lQB4j4J/ZsiFwuqfEK8bULp/na1RyVz/ALTdWr3TS9H0/RbJbTSbOG0gUYCQoFFXaKACiiigAooooAKKKKACiiigAooJry/4pfGvSPANvJZWJj1DW2U7bdWysJ9XI/lQB1njXx3ofgPR2v8AXbpUOP3VupzJMfRR/Wvmi/1Xxx+0L4oNlp0bWmiwNnZkiGFc/ec/xN7VP4P+G3iv4068fEvjS6mg0x3z5jjDSr/djXsvvX1DoPh7S/DGkxabodpHaWsQwEQdfcnufegDnvh38L9C+HelrFp0QnvnUefeyD55D7eg9q7SjNFABRRRQAUUUUAFFFFABRRRQAUUUUAFFFFABRRRQAUUUUAFFFFABRRRQAUUUUAFFFFABRRRQAUUUUAFFFFABRRRQAUUUUAFFFFABRRRQAUUUUAFFFFABRRRQAUUUUAFFFFABRRRQAUUUUAFFFFABRRRQAUUUUAFFFFABRRRQAUUUUAFFFFABRRRQAUUUUAFFFFABRRRQAUUUUAFFFFABRRRQAUUUUAFFFFABRRRQAUUUUAFFFFABRRRQAUUUUAFFFFABRRRQAUUUUAFFFFABRRRQAUUUUAFFFFAHmfgY/8AF8vid/3Cv/SZq9KzXmfgg4+OXxN/7hX/AKTNXpOaAH5ozTM0ZoAfmjNMzRmgB+aM0zNGaAH5ozTM0ZoAfmjNMzRmgB+aM0zNGaAH5ozTM0ZoAfmjNMzRmgB+aM0zNGaAH5ozTM0ZoAfmjNMzRmgB+aM0zNGaAH5ozTM0ZoAfmvnL9o/4gz3d5D4B0BmklkZGvfK5LMfuRcfUE/hXrfxL8dW3gHwXdarKVa6YeXZwk/6yU9PwHU/SvGP2ffA1z4k8Q3XxB8TBp8TMbUyjPmzE/NJ+HQe/0oA9e+EfgCH4feCoLJ1U6jc4mvZQOS5H3foo4/OuN/aY8aHRfBcHh6zk23WsMfNweVgUgn8zgfTNeztIsUbSSMFRQWZieAPWvk6z8341ftGGaQGXSLSXcQei20R4H/Amx/31QB7T8BPBn/CI/DW2luY9l/qmLqfIwVBHyL+C/qTXpuaYoCKFUAKBgAdqXNAD80ZpmaM0APzTJp44IWlnkWONBlnc4Cj1JrkvHHxK8PeArBptYu1a5IzHZxEGSQ/TsPc1866p4r+IHx21g6ZodvJaaSG5ijJWJB6yP3PtQB2/xP8A2iBbyyaH8Pv9Ju2by3vgu4A9MRjufesr4dfAPUvEl6viP4lzTETMJBaSOTLL7yHsPavR/hr8E9D8CRpe3gXU9X2jNxKvyxH0Qdvr1r07NAEVjY2umWcdpp9vHbW8QwkUS7VUfSrGaZmjNAHy34uAn/bGs0mG5Be2gAP/AFzQ/wA6+p818pfGN28NftKaZrTjbFI1pcbj0wpCN+i19UJIJEV0IKsMgg9RQBLmvA/2r/8AkUdBP/T8/wD6Lr3nNeP/ALSHhvUfEXgGzbSLWS7ms71ZGjiG5tpUrnH1IoAtaz4bPiz9mCx0+CPzLhdFtp7dR3dI1YD8eR+NeCfs+TtbfGrSlwQZEmjI9P3bf4V9a+DLCbSvAmhafeJsntdPghlQ9mWMAj86wdI+EnhfQvHk3ivTbd4ryTeREG/dozfeIHbPP50AZP7Qi2U/wsnjv9WOnqsyusajJuiM4jx9SD+FeRfs5fDibWvEsfi3UEKafpr5t8/8tpu2PZev1xXtXxW+GEPxM0u1h+3PZXNkzNC+NyncOQw/Ac15X4X+Hvxd+HuvQQaFdQ3OmiVTJH537llJ5yp6cUAfTWaM0zPrWN4s8T2XhDwve61qThYbaMkLnl2/hUe5NAHzd8VJT4u/ae07SbY7xbT2toeOmDvf8txr6sB/Cvlv9nzRLvxd8TtT8caqrMtszurno08ueB9FJ/MV9RZoAfmjNMzRmgB+aM0zNGaAH5ozTM0ZoAfmjNMzRmgB+aZLNHBC8s8ixxoNzO5wFHqTWT4k8UaT4T0eTUtdvEtreMdz8zn0UdzXzH4o+IPi/wCN2v8A/CPeEbWa20vdzEhI3Ln78rdh7UAdT8T/ANoKe5u5fDnw5DTTSN5TX8aksx7iMf1qX4WfAB2uY/EfxFDXF07ealhI27n1kPc+1d18Mfg1ovw/t0uplS/1kr89268JnqEHYe/WvSQT3oAWKOOCJY4UWONBhVUYAHpin5pmaM0AOzS5pmaM0APzRmmZozQA/NGaZmjNAD80ZpmaM0APzRmmZozQA/NGaZmjNAD80ZpmaM0APzRmmZozQA/NGaZmjdQA/NGaZmjNAD80ZpmaM0APzRmmZozQA/NGaZmjNAD80ZpmaM0APzRmmbqM0APzRmmZozQA/NGaZmjNAD80ZpmaM0APzRmmZozQA/NGaZmjNAD80ZpmaM0APzRmmZozQA/NGaZmjNAD80ZpmaM0APzRmmZozQA/NGaZmjNAD80ZpmaM0APzRmmZozQA/NGaZmjNAD80ZpmaM0APzRmmZozQA/NGaZmjNAD80ZpmaM0APzRmmZozQA/NGaZmjNAD80ZpmaM0APzRmmZozQA/NGaZmjNAD80ZpmaM0APzRmmZozQA/NGaZmjNAD80ZpmaM0APzRmmZozQA/NGaZmjNAD80ZpmaM0APzRmmZozQA/NGaZmjNAD80ZpmaM0APzRmmZozQA/NGaZmjNAD80ZpmaM0APzRmmZozQA/NGaZmjNAD80ZpmaM0APzRmmZozQB5r4J/5Ll8Tf+4V/6TNXo+a838FnHxy+Jn/cK/8ASZq9GzQA7NGabmjNADs0ZpuaM0AOzRmm5ozQA7NGabmjNADs0ZpuaM0AOzRmm5ozQA7NGabmjNADs0ZpuaM0AOzRmm5ozQA7NGabmjNAHknxa+InjfwNrcLaJocV5o8kSnz/AC2ch+dwOOnFcRH+1FrKpibwvEz9yGcV9A65rWlaHpr3muXcFtar1acjB9gO59q8P8YftB+FbS2uLfwnpEd5dkFY7maBVjVv72OpoAs+Gf2m7bU9ZtdP1vRHtDczLEJYXyELHAJB56mvehnua+DPDPiSHTPHkPiPxFpzamI5jcNF9wGTOQ30B5xX1l4B+MXhzx/L9ksnez1HBP2Sf7zAd1PegD0HNNkkWKNnkZURQSzMcAAdTRmvD/2hviSdH0geEtGlP9o6gn+lFOscR/h+rfy+tAHnvivVL/47fGO30bSHYaRauY4nxwkQPzyn3OOPwFfUui6TZ6BotppWmxiK1tIliiQegHX6nrXnfwO+HC+B/CYvdQixrGpKsk+RzEnVY/1yfevTycmgDzX49+MP+EW+GdzBby7L3VT9kh2nBCn77f8AfPH41jfs1+EP7E8Cy65dR4udYcMhI5EK8L+Zyfyrzr4qX8/xQ+O1j4V0599pZyizBU8A53TP+GCP+A19Q6dYwaXpttY2aCOC2iWKNR2VRgUAW80Zpua85+IXxo8PeBY3thINR1XHy2kDAhD/ALbdvp1oA9Av9QtNMspLvUbmK1t4xl5ZWCqtfPvj/wDaLmvJm0b4dW8ksshMf20plm/65r/WuTisviL8e9UE1y7Wmjo/DMCkEY/2R/Ga948A/CTw34ChWSzg+16hj57ycAtn/Z/uj6UAeS+CfgBrPii9XXfiTeTosp3m2Z900uf7zfw/SvojRtD03w/p0dho1pFaW0YwqRrj8/WruaM0APzRmm5ozQA7NGabmjNAHin7SvguXXPCdr4hsIjJcaSSJgoyTC3U/wDASM/ia2/gV8Rbfxh4Lt9Nu51Gr6ZGIZY2PzSoBhXHrxgH3FO+OvjWx8M/Dy9095yNR1WFoLeJD82DwzH0GK+ePDXw/wDHVl4ZtfHXhZJl2yMY1gJEuwfxbf4lPIx7UAfa+aM183eHf2nbqyVbTxlorNNH8rzQfI31KHvXc237RngO4b57i8g95Lf/AANAHrGaK80X4+/D5lz/AGww9jC1U5/2jPAUJwt1dy+8dv8A/XoA9Vxg9aXPpXhmo/tR+HIDIunaTe3JAOxnIQE/SuQ1D4/+OvFUn2Twfo32bzPlDQxGV849egoA+ifEvi7RfCOmSX2vX0VtGoJVCcvJ7KvUmvmLxP4n8SfH3xvBonh+CSDSYnzHG33UXvLIfX0Fa2h/A3xl451JdV+IWpy2sTncVkffMwz0A6L1r6A8JeDdE8FaSthoNmsCAfPIeXlPqzd6AH+C/CVh4I8K2uiaWv7uFcySEcyufvMfqa3s03NGaAHZozTc0ZoAdmjNNzRmgB2aM03NIzhVLMQABkknGKAH5rgfiT8WtF+HliUldbzVJFPk2cbcj0L+g/WuE+KXx/i02SXQvAxF5qDfu5LxRuWNumEH8Te9Ynw4+BN/4gvh4l+JDzN5zeatnIxMkpPOZD2HtQBz+ieGPGvx68Q/2tr9zJbaQjY80ghEX+7Evf619LeEfBui+CtGTTtBtFhQAb5CMvKfVj3rWtbaCytY7azhSCGNQqRxqAFA7AVNmgB2aM03NGaAHZozTc0ZoAdmjNNzRmgB2aM03NGaAHZozTc0ZoAdmjNNzRmgB2aM03NGaAHZozTc0ZoAdmjNNzRmgB2aM03NGaAOA+KPxZ0/4bWduskH23UboExWyvjaB/E3oP5144/7RPj/AFITHSdCi8ts7Gjtnk2Z6c9KreKIIvFv7WS6ZrCebaC8jgMeeCixBsfietfUUFjaWsey2toYlHZIwKAPmKLVPjx4juUkgF/bB0yu1VhTH0qy/h74+SYLX13x/wBPQr6cBx0rkvGnxM8PeArmxg8QzTRvfE+X5ce4KBjLH25oA8OuNL+PtrHua7vnA7RzqTVez8S/HiwGxbXUJv8ArtAr/wA69U/4aK8A/bBB9sutu7HnfZ/k+vXNej6Vq9jremxahpV1HdWswyksZyDQB8y3HxG+OFopNxYXCAdT9gU/yFQp8a/i0ihW06RiOpOnHn9K+qzg9eR703y0/uL+VAHyufjZ8WT00yQf9w5v8KZH8W/jJdufs9nP16DTun5ivqvy0/uL+VKEQdFA+goA+YIviB8dJv8AV6dcH62Kiibxj8eZf+XG6T/ctEFfUGaKAPlKXXvjvL1j1Vf92MCmR3fx4lPH9sD6kCvrDNLmgD5Qe9+PFuwLf2u30wasQ+JfjxFjFtqD4/vwKc19T5ozQB8sTfFT4z6TOp1DT5iP7jWGQfyFWE/aN8dWM6HVPD0Xl5+ZXt3Qn8a+nWVW+8oP1FQy2VrOMT20Mn+9GDQB4Jpn7VVsSRrHh6RDuxm3l6D6GutsP2jvAt4D5891aY/56w9fyrsNT+HXhHWI3S/0Cyk8w5ZhEFJP1Fclffs8eArx3aOxntiw4EUxAX6CgDobH4v+Bb+3WaLxFaoG/hlJVh+FddaXttqFqlzY3EdxBIMpJEwZW/EV80fE74D6F4M8A3+vabf3kktqY8RS4Knc6r/WvQ/2bnZvg/BuYnF5MBk9BkUAetZozTc0ZoAdmjNNzRmgB2aM03NGaAHZozTc0ZoAdmjNNzRmgB2aM03NGaAHZozTc0ZoAdmjNNzRmgB2aM03NGaAHZozTc0ZoAdmjNNzRmgB2aM03NGaAHZozTc0ZoAdmjNNzRmgB2aM03NGaAHZozTc0ZoAdmjNNzRmgB2aM03NGaAHZozTc0ZoAdmjNNzRmgB2aM03NGaAHZozTc0ZoAdmjNNzRmgB2aM03NGaAHZozTc0ZoAdmjNNzRmgB2aM03NGaAHZozTc0ZoAdmjNNzRmgB2aM03NGaAHZozTc0ZoAdmjNNzRmgB2aM03NGaAHZozTc0ZoAdmjNNzRmgB2aM03NGaAPN/Bv8AyXL4mf8AcK/9Jmr0XNec+Djj45fEv/uFf+kzV6HmgB+aM0zNGaAH5ozTM0ZoAfmjNMzRmgB+aM0zNGaAH5ozTM0ZoAfmjNMzWX4k8RWHhbw9d6xqsvl21qm4+rHso9yeKANbNLmvCfhNceJ/iH4+ufH2sXElrpUAe3s7RGOx8jGMdwvc9zWz8R/jtYeEdSfRdCtf7V1ZDtlUE7Im/unHJPsKAPXc0Zr5ePxa+MF5Gs1posixP8y7NPJBH4ikHxx+J2kzJ/bGiB1xyklkyZ/ECgD6izRmvm62/aluoo9mo+G0MwPPlylf0NdDZftPeHJfLF7pd7blsbypDhaAPcM0ZrhtD+L3grxBII7PW4YpWOBHc/uyfz4rs0kSWMPG6urDhlOQaAPE/wBqC108+DtNu7mSX7atyYrZFb5WBGXJHtgfnWZ8DvgxYSaTaeK/FEIuZbgCWztXHyIvZ2HcnqBXSftGeF7zxB4AgvtPjaWTSZzNJGoyTGVwxH04P0zUPwZ+Luian4VsdC1i6isNSsYlgUSttWZVAAIJ4z7UAervoOkSKVfTLRlYYIMK8/pWPY/DrwppniOPXdP0a3tr+IEJJENoGRgnHTOK6CK6hnz5E0coHXYwOPyp7yKilnIVVGSxOABQBheOPGNn4H8JXetX2G8pdsMWcGWQ/dUf56ZrwL4MeErz4i+PLvx14pBnt4JzIgfpLP1AH+yox+lU/HuuX/xq+Klp4a8POTpVrIUjkXlcfxzH27D/AOvX0r4c0Gx8MeH7TR9LjEdtaxhF9WPdj7k80Aaua53x74mTwh4G1TWXK77eE+SCcbpDwo/MiugzXzr+014mkubzSfCFgxZ2IuZ0X+Jj8sa/zP4igA/Zk8Mveajq3jHUAXk3G2gdv4nb5pG+v3R+Jr6A1bWdP0LTZb/V7uK0tYhlpJGwPp7n2ryeXxpoHwO+Hem6CzLeaxHBue0iYZ81uWZz2GTj14rzCx0fx38eteF9qcz2mjxvgOQRFGueiL/EfegDc8dfHTWvGF+3h34cW1wkcxKGeNf30w74H8I962/h7+zvFGyat4/c3d0x3/Yg2VB/2z/EfavTvA/w60DwFp4h0i2DXLD97dyDMkh+vYewrrM0AMtreGzt0t7WKOGFBhI41wFH0qbNMzRmgB+aM0zNGaAH5ozTM0ZoAfmsPxf4s07wZ4budY1aULFCvyRg/NK/ZR7k1pXl7b6fZTXd7MkFvCheSRzgKo6k18qeJta1j48/E2DSNFDx6RbsRFkfLHGD80z+57fgKAJPBnhvV/jn8RbjxB4kLjSYJAZcH5cD7sKfh1/+vX1Va20FlaxW1pEkMEKBI40GAqjgACszwx4c0/wl4dtdG0mLy7e3XGf4nPdie5JrWBoAwtc8C+GfEit/bGjWlwzdXMYDfmK5C/8A2e/AV7KHWxmt8D7sM7AGvTc0ZoA8n/4Zu8Cf88r3/wACWqe1/Z38BW0wka0uJgP4ZLhiK9RzRmgDj9O+EvgfTHZ7bw9aFm6mRd/866iy0yx06MR2FnBbqOAIowv8qsZozQA/NGaZmjNAD80ZpmaM0APzRmmZozQA/NGaZmuV8dfEPRfAOkm61aYNcOD5Foh/eSn6dh70AdBq2sWGhaZNqGrXUdrawrueSQ4A/wAT7V80eOfix4i+KGsHwv4BtriOxkYofL4kuB6sf4V9qzB/wm37QHijndaaPC/J5EFuvp/tPX0V4F+H2ieAdJW00iANOwHn3TjMkp9Sew9qAOT+FnwR03wXFHqetiPUNab5gzDKW/so7n3r1gE96bmjNAD80ZpmaM0APzRmmZozQA/NGaZmjNAD80ZpmaM0APzRmmZozQA/NGaZmvnLxH8edY0P4y3VrvR/D9nc/ZJbfYMkDh3z6g5/KgD6QzRmq9rdRXlrFc20gkhmQPG6nIZSMg0stzFAFM8qRBjtUuwGT6DNAE+aM0zNGaAH5ozTM0ZoAfmjNMzRmgB+aM0zNGaAPl4f8nkH/sJf+0a+oya+Wh/yeN/3Ev8A2hX1HmgB2a8h/aC8Dap4y0DSX0CxN3e2t0VYKQCI3Xk89sha9czRmgDzC8+A3g298Nm0j0xbW+a3Ci4jY5STHX35rgv2ZdZvrLxDrnhW8djFEhmWMn/VyI+xsfXI/KvovNeV+A/hpqHhj4u+JvEM7Rf2ffb/ALKFPzNvcOcjtjGKAPWM0ZpmaM0APzRmmZozQA/NGaZmjNAD80ZpmaM0APzRmmZozQA/NGaZmjNAD80ZpmaM0Aed/Hw/8WV1v6wf+jkrO/ZuP/FoIf8Ar9m/mK0fjxz8Fdd+kP8A6OSsv9m8/wDFoYv+v2b+YoA9azzS5qMGlzQA/NGaZmjNAD80ZpmaM0APzRmmZozQA/NGaZmjNAD80ZpmaM0APzRmmZozQA/NGaZmjNAD80ZpmaM0APzRmmZozQA/NGaZmjNAD80ZpmaM0APzRmmZozQA/NGaZmjNAD80ZpmaM0APzRmmZozQA/NGaZmjNAD80ZpmaM0APzRmmZozQA/NGaZmjNAD80ZpmaM0APzRmmZozQA/NGaZmjNAD80ZpmaM0APzRmmZozQA/NGaZmjNAD80ZpmaM0APzRmmZozQA/NGaZmjNAD80ZpmaM0APzRmmZozQA/NGaZmjNAD80ZpmaM0APzRmmZozQA/NGaZmjNAD80ZpmaM0AedeEP+S5fEv/uFf+kzV6FmvPPCRx8cviX/ANwr/wBJmr0HNADs0ZpuaM0AOzRmm5ozQA7NGabmjNADs0ZpuaM0AOzRmm5ozQA7NfOXxb1u6+JfxM074faBITa20+LqRDlS+PnY+yLn8c17L8QvFSeDfAuo6wSPOjj2W4P8UrcKPz5/CvLv2bvCzrYaj4v1JS9zfyGK3kcc7Qcu34tx/wABoA9p0TR7Pw/odrpWmRiK2tYxHGo9u/1rK0/wB4Z03xBea1baVD/aF5IZJZnG47j1xnpk10OaXNACqAoAUAAdAO1JJDFL/rYkf/eUGjNLmgDKuvCfh++3fa9Gspd3XdAvNc/f/B7wJqEe2Xw7ax85zCNh/MV2uaM0AeIeIP2ZtEukaTw7qM9hNyVSX94mf51wk0XxR+DFx5qyy3WlqclgTLAw9x1WvqnNMmhiuIWinjWSNhhkcZBH0oA87+HPxj0Xx/GLC7RLHVGXDWsjZWb12k9fpWN4x/Z30HXbqS+0KdtHunO4oi5iJz129vwrmviz8Fjpm/xT4DR4Htz5s9nCTlcc74/THpXWfBT4r/8ACaacdG1yQf21aJnef+XmMfxf7w7/AJ0Aef3/AMGPiF4NH9qeGNaa9lhYMI4JGRz+BOD9K6f41fEm+0jwdYeGIW2eIdTtYzqCw8mEMo3KMd2bI+n1r1Dxx4wsvBHhO61m+IYxrtgizgyyH7qj/PSvD/gz4Ru/HnjC78feKwZ4o5y0AfpLN6gf3VGMe/0oA9H+Cnw5TwP4WW81CFf7Z1BQ85I5hTqsf9T7/SvTs1FnP51V1XV7HRNMlv8AVbmO2tYRl5JDgD/69AFyaZLeB5pmCRxqWZmOAAOpr4d8S+K9Q8RfE278QWO6S5lu91oFXcQFOIwB7ACut+Kfxr1DxnPLpmiPJZaIpKkA4e4929B7V6N+zv4DsLbwqnijULRJL+7kb7M8i58qNTtyPQkg8+mKAMv4c/Am51a7HiL4kNJNJM3mrZSNlnJOcyH+lfQFrawWVqlvaQxwQxjakca4Cj6U/NLmgB1GabmjNADs0ZpuaM0AOzRmm5ozQA7NIzhFLOQqqMkk4AFNLYrwD44/FWWaZ/BXhKRpZ5WEd5NAcnJ/5ZKR39fyoAxPiz8RNQ+IviaPwX4KLz2RlEbGL/l6kHU5/uD+ma9o+GPw6svh74bS2jCzajOA15cgcu390f7I7VgfBr4VxeB9IXUdVjV9culzIxGfs6n+Ae/qa9SzQA7NFNzRmgB2aM03Ncx4w+IXh7wRZmXW71RMVzHbR/NI/wCHb6mgDqc0Zr5rvv2iPFWuai0Pg7QQIx0BjMz/AFOOBXqvwl8d3/jrwzcXWsWQtL20uDBIFUqr8ZyAfrj8KAO/zRmm5ozQA7NGabmjNADs0ZpuaM0AOzRmo2dUUszBVUZJJwAK8F+KPx1YTt4d8AO0907eXJexDdgnjbH6n3/KgDrvil8Z9O8DwSWGlmO+1sjAiBykHu/v7V5d4I+FviH4o6x/wk3j25uEsZCGHmHElwOuFH8K/wCRXR/C/wCBeJE8ReP1NxdyN5sdlId209d0h7n2r3lUVI1SMBVUYVQMACgCvpOkWGh6ZFp+k2sdraxLtSONcAVdpmaXNADs0ZpuaM0AOzRmm5ozQA7NGabmjNADs0ZpuaM0AOzRmm5ozQA7NGabmjNADs18SDw5d+NfHfiiK2bN1D9qvET/AJ6FJPu/kTX2xmvmP4QxNZ/tIa1bNjg3qEY9JKAO0/Zw8bPq/hm48NX8mbrS/mg3HloSen/ATx+Iqj+1DdXFtpfhw280kX+kSt8jEcgLg1yOP+FYftOARjybC7ugAM8eTP8A0DH/AMdrp/2pv+QT4d/67zf+grQB7f4fu5L7wzpd3Ocy3FnFK59SyAn+daOa57wNP9o+H+gyf3tPg/8AQAK380AOzRmm5ozQA7NGaZmsE+OvC66jJYtr1itzGcPG0wGD6UAdDmjNV7a8t7yISWk8c6H+KNww/Sps0AfMVt8/7Yb55xqDfpDX0/mvl/ST537X07el/N+kRFfTuaAH5ozWH4q8WaT4O0WTU9cuRDCvCqOWkb+6o7mvnvWvi744+JGpPpXgaxns7Vjt/wBHGZCvqz9FoA9v8ZfFHwz4Kgf+0r5ZrsD5bSAhpCff0/Gsv4UfE+4+I41R5dJNlFaSKIpAxIcHPBPqMfrXn/hL9nJppk1Dx7qDTSudzWkLk5P+0/U/hXumjaPp2g6ZFYaPaRWltGMLHGuB9T6mgDRzRmm5rzX48nVI/hbc3OjXEsD208ckzRMQ3l5weR7kGgD0zNGa8/8Ag943HjXwDbTXEm7UbPFvdgnksBw//Ahz9c132aAHZozTc0ZoAdmoru6jsrOa6nJEUMbSOQMnAGT/ACp+aa4V0KuAysMEHuKAMXwh4y0jxvov9paFMZIlcxujDDIw7EfrW9mvmn7TN8DPjZLHhh4a1lg2P4VQnqPdGJ/Cvom71O2s9Im1OWVRawwmdpAeNgGc/lQBdzRmuK+G/wAR7X4jabe3dnZS2gtJ/KKyMG3AjIP5dq7LNAD80ZpuaM0AcB8dRu+C2veywn/yMlY/7N7Z+Eqj0vpv/Za2Pjgf+LM6/wD9c4v/AEclc/8As1yZ+F8q/wB2/k/9BWgD2AGlzTAaXNADs0ZpuaM0AOzRmm5ozQA7NGabmjNAFTWNVt9D0W71S+JFvaRNLJtGTgDNZfgnxlp/jrw4ms6UsiQtI0bJKPmVl6j+Rpvj21a++Hmv2yAlpNPmwB3OwmvL/wBl/UvO8Iavp7MM214JAvs6/wCK0Ae55ozTM0uaAHZozTc0ZoAdmjNNzRmgB2aM03NGaAHZozTc0ZoAdmjNNzRmgB2aM03NGaAHZozTc0ZoAdmjNNzRmgB2aM03NGaAHZozTc0ZoAdmjNNzRmgB2aM03NGaAHZozTc0ZoAdmjNNzRmgB2aM03NGaAHZozTc0ZoAdmjNNzRmgB2aM03NGaAHZozTc0ZoAdmjNNzRmgB2aM03NGaAHZozTc0ZoAdmjNNzRmgB2aM03NGaAHZozTc0ZoAdmjNNzRmgB2aM03NGaAHZozTc0ZoAdmjNNzRmgB2aM03NGaAPPfCh/wCL5fEr/uF/+kzV3+a8+8LHHxy+JX/cL/8ASZq77NAD80ZpmaM0APzRmmZozQA/NGaZmjNAD80ZpmaM0APzRmmZozQB8/ftI6zNqetaF4P0875ZGE8iA9Xc7Iwf/Hj+Ir3Dw3o0Ph3wzp2kWyhY7O3WLjuQOT+Jya+fPDC/8J3+1Hfak+ZLXTppJUP3l2xfu05+uCK+kwaAJM0ZpmaM0APzVa71GzsFDX13BbKehmlCZ/OsLx/rl14c8Aaxq2nKGurW3LRZGcEkDOPbOfwrwbwr8IfEnxI0yPxF4k8QSwx3mXjD5d2GeuM4A60AfSdnrGnagxWw1C1umXqIZlcj8jVzNfJvjzwJf/Bq80jWtF1ySWSWYgZG0hlweR3Br6j0m9OoaLZXjLta4t45SMdCyg/1oAv5ozTM0ZoAceQQRkHqK+XPipoFx8LPilY+KPDqGG0upfPjVRhUkz88f0IPT3NfUOa84+O+iprHwp1CXZumsGW6jPpg4b/x0mgDyfX9W1D49/Emy0rSBLBoloAzFv8AlmpxvkPbPYV9K6TpVnoekW2mabCsNrbRiONFHQD+teQ/szrYnwLfyQwIt6t6Unlx8zrtBX8Bk16f4p8VaZ4Q0GbVdYmEcMYwqD70jdlUdzQA/wATeJ9L8I6JLqmtXAhgjHyjPzSN2VR3NfNt9qPiz4/eLfstirWei2zfdJPlwL/eY/xOfSmW1t4m+P3jcz3TPaaNbtgsP9Xbp/dX1c19F6TpGieAfCbwafCttY2ULSyt3faMlmPc8UAfMvxH8Nadpvi3SPAfhaPzZoAiXExALzXEhHJ+i447V9X6JpkOh6FZaXajENnAkKY44UYzXzd8FbCXxt8YtR8VX43Jau918w/5aSEhB+Az+VfTmaAH5ozTM0ZoAfmjNMzRmgB+aM0zNGaAH5ozTM1wHxV+J1r4A0MpAVm1e5Ui2hPO3/bb2H60AYvxq+LCeE9NfQ9EmDa1dJhnU5+zIe/+8R0/Osf4G/CltPSPxb4miLX84LWkEoyYgf4zn+I/oKwvg98NrrxbrDeN/Goe4jeTzbdJ+TcPnO8j+6Ow719GjAAA4A6CgCTNGaZmjNAD80Zpma87+MvxBPgfwgVsZFGq3+Yrb1jGPmk/Dt7mgDn/AIufGn/hHZn8P+EmWfV2+SWdRuEBP8IHd/5Vy/gz4E6t4nuhr3xEvJ184iT7MWzLIP8AbP8AD9Kv/An4ZCVV8aeJojNcTMZLKOXn6yn3Pb8699zQB47e/FbwB8NNUfw9pGlOTav5c72sa4UjqMnliO9dl4P+JPhDxSDFod7FBcOdzW0qiJyT7dz9Ky9M+CnhCyk1GS+szqkl9MZGe7+Ypk5wp+veuC8Z/s7GDdqHgO7eOaM7hazOf/HW6g/WgD6EzRmvmfwd8a/EPgrUf7B+IVrcTRRkKZJVxNEOn/Ah/nNfQmia9pviPS4tR0a7juraUZDIensR2PtQBqZozTM0ZoAfmq2oajaaVYTXuo3CW9tCpaSWRsBRWZ4n8V6V4Q0aTUtbuVhiUfKnV5G/uqO5r5t1TXPF/wAd/FA0/SonttIif/V5IiiX+9Ie7e1AGl49+K+ufEnVx4X8BQXC2UzbCYxiS492P8Kf5NelfC34Oaf4HhXUNUEd9rTr/rCMrB7J7+9dB4C+HWj+AdKEGnRiW7kH7+8dfnkP9B7V11ADwfWjNNzRmgB+aM0zNGaAH5ozTM0ZoAfmjNMzRmgB+aM0zNGaAH5ozTM0ZoAfmjNMzRmgB+aM0zNGaAHZ5r5k8KyPpf7Wl7Cetxe3SH6MrPX0znmvmmEqf2w8r/z+v0/69zQBr/tOaAyjRvEluNrRsbWVlHI/iQ/o1UvjPqy+Kvgv4Q15SGd5QsvOcOYyGH/fS1698UfDn/CU/DjVtORd04hM0A9ZE+YD8cY/GvmK01ddR+B+paFO+2fSdTivYVbqY3BjZR9GIP40AfUPwskZ/hT4cZjk/YI/5V1ua88+CF9Je/B/Rml6xK8I+iuQP0FbvjDx3onge2tZ9fmeNbqTy4xGm48dT9BmgDps0Zqvb3Ed1bRzwMHilQOjD+IEZBqXNAD814v4q/Zz0jWdSuNQ0jUp7Ce4kaR42G9NxOeO45r2XNGaAPmmP4PfEzwdeLdeF9WWfa4x5M5TP1U8EV9IWBuv7Ntvt+03flL55T7u/A3Y9s5qbNITQB8x+E83P7WF3IP4b+6J/BWFfUGa+XvAoz+1Nfe15dn9Gr6ezQB4r+0P4L1/xLa6ZqGiRSXkFkrrNax8sCSPnA79MV5/4O+MmofD3S49Jm8KW8SRgB28topXPqxPUmvqrNcH4v8AHngDRZJLbxBPZ3Mw4eBIhK4PofT8TQBh+Hf2hfCWsOkWprPpU7cZlG6PP+8P8K9RsdQtdSs0utPuYrm3kGVkicMp/EV8leO/Evw31mKQ+HPDNxaXjE7Z0cRJz3KDg1037NzeIY/E1zGiXH9htbsZjID5e/jaVz369KAPpnNVtQsoNT064sbyMSW9xG0UiHupGDU2aM0AfLPhi6u/gl8apNK1J2/su7YRO56NCx+ST6g9fxr6oDBlBU5BGQQeteL/ALR/hYap4Pt9etos3OmSASso5MLcH8mwfzqX4e/Gfw7F8N9PPibVVgv7UfZZUYFnfaPlbj1XHPrQB2XxU8Z3XgXwNNrFhDHNciZIkWX7oLHqfwFPs9e1rxF8Jota0OKFNYvLATQRt9wSEdOfxrzf49eKdM8Q/CaxudBvoru1n1FAzIeRhHOCOoP1ruvhvqMWnfBHRr+5DGK100yuFGSVQEnH4CgDR+G934ou/CEb+OIFh1MSsuAACyDGCQOAc5rrM1yfgTx/pXxA0mW+0gSRmCTy5oZRhkPUfgRXU5oA4D4zeCR408Bzi2j3ajYZuLU92wPmT8R+oFfP4+JXiTX/AIe2Hw/sYJJbhpPIMiEmSWLPyx/h3PoBXuPxr8Sa9puh2Wi+FrW4kvdZkaEzwoT5S8ZGR0Jz19Aa8WGj6l8EPiboN7qTrPHLGrzOq/KVb5ZFHuuc/lQB9EfC7wQngLwVBprlXvJT593IO8h7fQDAqT4k6H4h8Q+EzZeE9T/s+985XL7iu9RnK7hyOcH8K6iKVJokliYMjqGVh3BHBpLi5htbd57mVIooxueRzhVHqTQBkeCrPXNO8I2Vr4qvFvdUjDCaZDkH5jt574GBmt7NQQXEV1bpPbSpLFINyOhyrD1BqTNAHEfGiIz/AAd8QKO0CP8A98yKf6Vx/wCzHcF/AWpQ/wDPLUDj8UU13fxRTzfhV4jU/wDPhIfyGf6V53+zA/8AxSOtJ6Xyn84x/hQB7kDS5pmaQsAMk4AoAkzVSTVbGLU4tOku4UvJkLxwFwHdR1IFcPrnxt8E6HPJBLqRu5ozhktU38/XpXhnxA+Ktjrvj7RfE/hm3uLa600AOZiP3oDZAwPYsD9aAPrbNGa8V8D/AB8l8W+MLLRZdCMCXZZRLG5bYQpOSPTivZ80APzRmmZozQAk8az28kL/AHZFKn6EYr5u/Z8mOg/FTxB4elyC8TqM8ZaKTH8mNfSWa+XdR1e2+H/7Tt/qd4rG0855JBGMnbLFngfVqAPqXNGa880X42+CNakWNNU+ySMcBbpCn69K7u3uoLuBZrWaOaJxlXjYMp/EUAWM0ZpmaM0APzRmmZozQA/NGaZmjNAD80ZpmaM0APzRmmZozQA/NGaZmjNAD80ZpmaM0APzRmmZozQA/NGaZmjNAD80ZpmaM0APzRmmZozQA/NGaZmjNAD80ZpmaM0APzRmmZozQA/NGaZmjNAD80ZpmaM0APzRmmZozQA/NGaZmjNAD80ZpmaM0APzRmmZozQA/NGaZmjNAD80ZpmaM0APzRmmZozQA/NGaZmjNAD80ZpmaM0APzRmmZozQA/NGaZmjNAD80ZpmaM0APzRmmZozQA/NGaZmjNAHAeF/wDkuXxJ/wC4X/6TNXeZrgfDJx8cviT/ANwv/wBJjXeZoAdmjNY+qeKdD0W4WDVtVtbOZl3BJpQpI9cUtp4o0K/XNnrFjMP9m4X/ABoA180ZqKOeOZA0TrIp7q2RTs0APzRmmbqM0APzRmvLPjfZeLJdCstS8IXdxENPdpLmK3ch2HGGAHXGDx70z4P/ABaHjS0Ola2yR61brnI+UXCj+ID+8O4/GgD1bNZPinVRonhHVdTYkfZbSSUEDPIU4/WtPdXnHx51NtO+EuoLG5R7uSO3GO4LZI/IGgDkP2Y9KzYa7rkuDJNMtsrd+Bvb/wBCX8q95zXm/wACdNGnfCTTW+XddvJcMQOuWIGfwAr0bNADs0ZpuaM0AEkaTRtHKodGGGVhkEUkUUcEaxwoqIowqqMAClzXknxk+K3/AAjNqdA8POJdauhtdk+Y26njt/GewoA4j4n3zfE74y6Z4V0pvMtbKTyJHU5Gc5lbPsBj8K+kYIkt7eOGIYSNAij0AGBXlHwU+Gr+FNNfXNcjP9s3652vyYIzzj/ePU16xmgB2aM03NGaAHZrA8eRrN8Pdfjk+6dPmz/3wa3c1yPxT1Aaf8LNfnLhSbRo1z3LfKB+tAHlH7PniCx8N+CfE+paxcCCzt54mJPUkq3AHcnjiufZvEXx+8fbRvtdFtW/4Bbx5/Vz/niuR8BeDdc8dXw0jTmki03zVlupjny48DGfdsdBX114W8L6Z4P0GHStHhEcMYyzH70jd2Y9yaAJ/Dvh3TfC2hwaVo8CwW8I7dWPdie5NefftBeJxofw7bToX23OrSCAAHkRjlz/ACH416nmvmL4m3UnxH+Oll4bs3LW1rKtnkHgc7pW/Dn/AL5oA9S+Anhv+wfhpb3UqbbjVWN0+f7nRP8Ax0Z/GvTc1XtoIrO0htrdQkUKCNFHZQMAVNmgB2aM03NGaAHZozTc0ZoAdmjNNzWL4r8Vad4P8Pz6tq0u2KMYRAfmlbso9zQBQ+IPj3T/AAF4ckv7wiS6cFbW2zzK/wDgO5rwz4e+CdV+LfiyXxX4xd301ZctngTsOkajsg7/AJVU0LR9c+O3j6XU9ZeSDSYG+dl+7EnaJPc9z+NfTmmafaaRpsGn6dAkFtboEjjQYCgUAWoYYreBIbdFjijUKiKMBQOgFPpuaM0AOzRmm5ozQA4sACScAdSa+Wr4yfGT4+fZtzvpVtIU46Lbxn5j/wACP/oVe7fE/wAQnw38N9Yv42xN5JhiP+2/yj+efwrzn9mnQBb6FqfiCVf3l1MLaIn+4nLfmT+lAHuFvBFaW0dvboI4olCIo6KAMAVLmmA1598WviY/w70uyaytY7q9vXYIspO1VUDJOPqKAPRM0Zr52tP2mr2NlXU/D0WeN3lSMvH0Ne6eHdfs/E/h+01jTWJt7qPeu7gr2IPuCCKAM/xj4D0PxvprW2s2qmUDEVygxJGfUH+lfPM8Xij4BeN43ike60i4bgnIjuU7gjs4r6pzXN+PPC9l4w8HXul3+1coXhmY48qQDIbPb39qANTw9r1l4m0C01fS5fMt7qMOvqp7qfcHiub+IfxQ0fwBYlbhxc6nImYLNDyfQt6CvnLwT8U9c8C6DqWhaZCs81zMPs7NlvJfo20d88fjXceAPg5qXijUj4m+IzTMsr+YtrKx8yY+r+g9qAMXQfC3i344eIv7Z8Qzvb6SrY8zBChf7kS/1r6O8NeGdL8JaLFpmiWywQRjkj7znuzHuavWlvBZ2yW9pCkEMa7UjjGFUewqfNADs0ZpuaM0AOzRmm5ozQA7NGabmjNADs0ZpuaM0AOzRmm5ozQA7NGabmjNADs0ZpuaM0AOzRmm5ozQA7NGabmjNADs18y+Anj8QftQ31+rb447m6mjbHUAFB+hr6XzXg/wY8Ba1o3xJ1rV9bsJLWKJZIoXcjEjO+cj1GB+tAHvdfIXxo8GS+D/ABxcS2iMmmaqTPCVHygk5ZPwPNfXeawvF3hLSvGmhvpmtRb4ydyOpw0bDup7UAcN+zldPN8LTE54gvpUX6EK38ya579qGHOk6BNnpPKmP+Ag/wBK9b8I+FdO8GeHo9I0hW8lGLsznLOx6kmvPP2hvDuqa/4Y0ltItZLpre8IeOIZYB1wDj0yP1oA9F8Fbh4D0IPnd/Z8Gc/9cxW5ms/RoGs9CsLZ12mG2jjI9MKBV7NADs15L4/1H4raV4qnm8JwRXekSIghRY1ZkIUbs55znP4V6xmjNAHzg+q/HTULgskF1D/sqiItet/DHU/F9/oc6eOrH7Nd28oSKXgGZcckgcceveu0zSZoA+Z/ApEf7U19v4Ju7wDPrhq+m818yaOPs/7Ws6+t/N+sZP8AWvpjNAHPfEO41G2+HetzaJu+3JaMYin3h6ke+M184/B7wn4R8ZahdL4s1CX7erhorZpNgmXqTu6k57V9XsQVIIyD1HrXivjb9n201TUpNT8J3g0yeRtzW7f6vcepUjlfpQB6HpXw28HaQAbHQrMHqHeMMfzNdNDBDbxiO3jSJB0VFwK+Z3+EXxSspQLPVg6qMBlvWX+lbngDXPiT4f8AiPZeGPFC3F3a3ILO037wImD86v8AUdKAPoDNGaZmlzQBHe2lvqFjNZ3kay286GOSNhkMpGCK8hf9mvwu2ptOL++W2JJFuGHHtuxmvYs0ZoA+W/EHwA8WWGpfYtCdb/TZZAyu0mzZ2y49QO4r6C0rwyNH+G8PhxZPN8nTzbM2PvsUIJ/MmuhzRmgDxL9mjTLyw0jX5byCWFZLmONd6kZKBt35ZFe4ZqNFSMYjVVBOcKMc07NAClVYgsASOQSOleT/ALRPh9NU+HP9qKv7/Sp1kDf7DkIw/Mqfwr1fNUNb0ey8QaNcaXqkXnWlyu2RM4yM56/UUAc38H9Rn1P4T6HPdtukWExbj3CMVB/ICpviuf8Ai0/iL/rzb+YroNI0qz0LSbbTNMiENrbJsijB6CjWNMt9b0W80u9BNvdwtDJjrgjGaAPNP2cbue4+GcqXEryLDfSJGGOdq7VOB7ZJ/OvWs1yngDwTa+AfDZ0mzuJLkNM0zyyYBJOB0HsBXU5oA574hxtN8NvEMcYyzafNgf8AATXlP7L1wp0jxBb/AMSzxP8AgVYf0r2bxAgl8NanGRkNaSjHr8hrwX9mC6C6p4gtDwzQxSD8GYf1oA+jc0jAMpVuQRgim5pc0AeeyfA3wNJfvdNphy7binmtt/KqHj34ReH5fh3qNv4b0aC31CFPPt2iT52ZeSufcZH416jmkzQB47+ztrtnqnhGTS5oohqWkuVDbAHMTnIOevByPyr2XNcfoHw60Xw14y1HxDpQkimv0KvAG/drk5JA9yK67NADs0ZpuaM0AOzXztr1quoftcWkKRrIqGJpVYZBAgyc/hX0PmvDvE3wN1vXfGes+IINfS2luJfMtQqnIBGNpPbA44oA6jxR8DPCPiHzJbe2bS7puRJa8Ln3XpXk+o6Z45+Bmqx31leNe6O7hSwJMT/7Lr/Cfep2l+Mfw8lK7rrULRO4/wBIjI/mKz/EnxG8dfEPRh4afQivnuvmCC3cNIQcjOeByKAPpHwf4otfGHhWz1qxBVLhfmjJ5jcHDL+BrbzXHfC7wtP4O+H1hpV6c3Q3SzAHIVmOSo+ldfmgB2aM03NGaAHZozTc0ZoAdmjNNzRmgB2aM03NGaAHZozTc0ZoAdmjNNzRmgB2aM03NGaAHZozTc0ZoAdmjNNzRmgB2aM03NGaAHZozTc0ZoAdmjNNzRmgB2aM03NGaAHZozTc0ZoAdmjNNzRmgB2aM03NGaAHZozTc0ZoAdmjNNzRmgB2aM03NGaAHZozTc0ZoAdmjNNzRmgB2aM03NGaAHZozTc0ZoAdmjNNzRmgB2aM03NGaAHZozTc0ZoAdmjNNzRmgB2aM03NGaAHZozTc0ZoA4Lw2f8Ai+XxI/7hf/pMa7rNcJ4dOPjl8SP+4X/6TGu4zQBwfjr4Q6F461L+0b2W4t70RiPzIm4IHTg8VwF3+zQ6ZOl+JHU9hLF/UEV73mjNAHzZJ8H/AIl+H2B0PV/OVTkeTcsh/I006v8AG7QRslivpkXu0azZ/ma+lc0maAPm0fGv4k6e2NQ0bdjr5lky/wAqtr+0prUAxd+H7bPf5nX+dfQrRRv9+NW+oBqrJo+mzZ82wtnz/eiBoA8Rh/acRkP2nw4T67Lj/EV5L4h8T2c/jP8A4SHwlaTaLIZBN5Yk3bJc5JXgYB9K+vZPCfh+YESaNYtnrmBf8K8w+LOteEfBFh9g07QdPn1u5T92nkKRCp/jPv6CgDW+FHxh/wCE6uv7I1Kz8jUorcytLH9yUAgE47Hmsj9pi+ki8I6TZqR5dxeM7evyLx/6FWt8DfA0/hfw3NqerRBNS1Mh9pX5oo+y+xOckfSuL/aankbVPD9ru/deVK+33LKM0Ae0+A7JdO+Hug2qps8uwh3L6MUBP6k10GaqWACabbKowFiUADtwKsZoAfmjNMzRmgDC8c6pqej+CtSvtBtmub+KLMKKu4g9N2O+OuK+Y/hx4o0DRfG1zrXjyG6u77fuidk3eXIT8zsD39PSvrgnNc1rvw88K+I5DLquj28sx/5aqu1vzFAGdZ/GfwLeLka4kJ9JY2U/yrVg+I3hC4/1XiKwP+9KF/nXFXH7PPg2WQtEb2AH+FZsgfnUI/Zz8JZybrUD/wBtB/hQB61aXtvfWy3FlPHcQv8AdkiYMp/EVNmsTwt4asPCOgQ6RpQcW8RZgZH3EknJOa2M0APzXj37SGs/ZPAVrpiMN9/djcuediDcf12169mvmf4v3r+OPjLYeHLFi0dsyWeR2dmy5/AY/KgD1/4L6QNH+FOkKUCy3KNcucYJ3sSM/hiu8zVa0t4rKygtbddsMEaxoo7KBgfyqbNAGN4y8RR+FfB+o6zKRm2hJjB/ic8KPzIrxT9nTQZNS17VvFl+pdkzDE7D70jnc7flx/wKrX7R/id3/s3wpZMWeVhc3CL1PaNfzyfyr1P4d+G18JeBNN0raBMsYknI7yNy3+H4UAdVmjNMzRmgB+aM0zNGaAH5ozTM1Fc3cFnay3N3KkMEKl5JHbAUDqSaAIdZ1mx0DSLjU9VnWC1t03O5/kPUn0r5nu7zXvj18QRbW2+10i2OQpPy28WfvH1c/wCelS+NPFOr/GbxpD4e8Mq40uKQ+WDwGx1mf29B/jXvXgrwbp3gjw9FpmmIC2A085HzTP3J/oO1AGl4c8Paf4X0K30rSIRDbwLgerHuxPcmtTNNzRmgB+aM0zNGaAH5ozTM0ZoA8e/aU1FrfwLp9ih/4+r0Fh6hFJ/mRXW/B6wTTvhPocartMsJnb3LsW/rXn37ThJ0vw8B08+b/wBBWvVfAmB8PtB29P7Ph6f7goA6LNfPn7T6k3Ph1+2ycfqlfQOa8G/achY2fh+fHyiSZM++FP8ASgDU+MelWo+CFpd21nEJl+yl5UjG4LtxnPpkirPwM8ZaAngXTNAk1OJNUDyj7NJkE5ckYPToa2oPG3gq60e28La7qVq0r2cUNxBNnZnYMqW6A14d8V/DGheCfEml/wDCHXbtJIpnZVm8zyiGGzB/OgD62zXn/wAWvC/iXxdotnpvhq9S2haU/bAzld68Y5HUdeK7TT5ZJdMtXnz5rQoXz64GamlmWGJ5ZWCoilmJ7AdaAPln4caGPDv7QUGi3LR3ZtJpYi5ThiEJyAa+q6+aPg+ZfFPx11LxAFJhTz7gt6bztQfkf0r6VzQA4HilzTM0ZoAfmjNMzRmgB+aM0zNGaAH5ozTM0ZoAfmjNMzRmgB+aM0zNGaAH5ozTM0ZoAfmjNMzRmgB+aM0zNGaAH5ozTM0ZoAdmlzTM0ZoAfmjNMzRmgB+aM0zNGaAH5ozTM0ZoAfmjNMzRmgB+aM0zNGaAPmh5Ps/7Wu48btSA/wC+osf1r6azXzP4pjW3/aqsinG+/tXOPcLmvpXNADbibyLWWbaz+WhbaoyTgZwK4T4cfFOL4gX2oWZ0uawmsgGw5yGUnHPHB9q73NQQWltbyPJbwRxPIcuyKAW+tAFmk2qWDEDcBgHHNJuxXnk3xy8DwXUkD6jKTGxUsISRkUAejZozWP4f8T6R4o083mhXqXUKnaxXqh9CO1ackixxs7sFVRliT0FAEWpapZaPp8t9qdzHbW0Qy8shwF7VT0jxVoevNt0fVbW8cDJSKQFgPp1rybR/GGp/F3xffaL/AGbbzeD4iVuPMGHI52Nu67iwyMdq5r4mfC3/AIV3bQ+KfBt9cQRQShZYy53REnhlPp2IPrQB9J5pc1yfw48Vt4x8CWGrTAC4ZTFcAf8APRTgn8eD+NdTmgB+aM0zNGaAH5ozTM0ZoAfmjNMzRmgB+aM0zNGaACVFlidH5VlKkeoNfN/7O7LbfEvXLdjg/ZHAH+7KtfSGa+aPh0q+Hf2k77T3yiyTXUCg985Zf5CgD6ZzS5pmaM0APzRmmZozQA/NGaZmjNAD80ZpmaM0APzRmmZozQA44IweRTViiRtyRop9QoFGaM0APzRmmZozQA/NGaZmjNAD80ZpmaM0APzRmmZozQA/NGaZmjNAD80ZpmaM0APzRmmZozQA/NGaZmjNAD80ZpmaM0APzRmmZozQA/NGaZmjNAD80ZpmaM0APzRmmZozQA/NGaZmjNAD80ZqPdRmgCTNGaZmjNAD80ZpmaM0APzRmmZozQA/NGaZmjNAD80ZpmaM0APzRmmZozQA/NGaZmjNAD80ZpmaM0APzRmmZozQA/NGaZmjNAD80ZpmaM0APzRmmZozQA/NGaZmjNAD80ZpmaM0APzRmmZozQBwvh7/AJLl8R/+4X/6TGu3zXD6AcfHL4j/APcL/wDSY122aAHZozTc0ZoAdmjNNzRmgB2aM03NGaAHZr5/+H3hW68YfGDXfEPiu1k26fcsY4pkIVpNxCjnqFUZ/Kvfs00BVJKgAk5OB1oAk6dK+ff2mbWUX+gXu39z5csW7P8AFlTj8q+gM1578aPCreKPh9cG1jMl7p7faYQBywH3l/Fc/lQB3GkXMd5otjc27bopreORG9QVBBq5mvJfgL41j1vwiuhXUo+36WNqqx5eHPykfTp+VesZoAdmjNNzRmgB2aM03NGaAHZoBpuaM0AOzRmm5qK4uobS2kuLmVYoYlLPI5wFA6kmgDI8a+J4PCPhG+1e4ZQ0MZEKH+OQ8Kv5/pXi37P/AIam1jxJf+MdTzJ5TMkTN/HM/LN+AP61j+OfEl/8YfH1n4f8OBv7OhkKxE9G/vTN7Y6f/Xr6I8NaDZeF/D9rpGmx7ILdNue7t3Y+5NAGvmmTTJbwSTSsFjjUuzHsAMk0Zrzf45eKP+Ef+HsttCxW61Rvs0eDghcZc/lx+NAHl/gyKT4n/HqfWrlTJZW0puSG6BE+WJfz2n8DX03mvKfgD4a/sbwGdTmj23OqyeZkjny1yE/qfxr1TNADs0ZpuaM0AOzRmm5pM0AOZwqlmIVQMkk9K+cfip8Qb3x54gj8H+DS89oZBHI0X/Ly+fX+4P8A69a3xk+J8t3cv4N8Js0s0reVdTQnJZj/AMslx+v5V1vwl+GMPgrSxf6kiy61dIPMbr5C/wBxf6mgDW+Gvw9tPAPh8RDbNqVwA13cY6n+6P8AZH/167QE0maXNADs0ZpuaM0AOzRmm5ozQA7NGabmjNAHkf7R2mtd+ArO+RSTZXg3EdldSP54rpfg3qkeqfCnRyj7ntozbyZ7MpPH5Yrf8V6FF4n8Laho852rdwlA391uqn8CBXhPwV8Vv4L8WX/hDxC/2aOecqnmcCOcfLj6MMc+woA+kM1R1XRdN1y3jg1ezhu4o5BIiSoGCsOhq3mlzQB5X4t+Auga9Nd3umzzWGoXErTF87kLHkjb2GfSsjwh+z8ula/DqPiPU0v0tnDxQRoQGYdNxJ6A9q9rzSZoAcDXlnx08dJ4d8Jvo1nLjUtUUphTzHF/E349B+NdB8QPiTpPgXTHaeRbjUWX9xZq3zMexb0WvHPAHg/Vfin4xl8V+LQ7acsu/DDAnYdI1H9wd/yoA9F+A/hFvDvgk6jdxlLzVWEpDDBWIfcH8z+NepZqNAEQKgCqowAB0FOzQA7NGabmjNADs0ZpuaM0AOzRmm5ozQA7NGabmjNADs0ZpuaM0AOzRmm5ozQA7NGabmjNADs0ZpuaM0AOzRmm5ozQA7NGabmjNADs0ZpuaM0AOzRmm5ozQA7NGabmjNADs0ZpuaM0AOzRmm5ozQA7NGabmjNAHzj4vGf2qdP9Ptln/wCgrX0hmvnDxaf+MqNP/wCvu0/9BWvo3NAFPW719O8P6hexYMltbSSqD0yqkj+VeffBHxrrHjPQtSl12ZZpbW5Co4UL8rDOOPSvSZ4Y7m3kgnUPFKhR1PcEYIrH8LeEtI8G6bJY6FbmGKWUyvlixZj7n24oA3s159rXwr8AareSPd2VvbXMjFm8mfyySe+Aa77NeQ+J/gNb63rF5qVnr13bTXUrSlH+dQSckDvigD0Dwf4N0XwXp0troEZWOd/Mkdn3ljjA5rQ8Qh28M6osX3zZyhceuw1yHw0+Ht/4F+1/bdcl1FJ1VVhIISPB6gEnmu9JzwRkHrQB4h+zLLF/YuvRAr5wuImI77dpx+ua3v2gfEFtp3w9bTDIpu9RlVUjzzsU7mb6cAfjXFan4R8a/DLxte6l4EtWu7C/3BVRA+1Sc7WX2PQ07w/8LvEnjfxKNf8AiXM8MAIbyJGAeQDouBwi0Aei/A/Sp9J+FVgLkFXune5CkYwrH5f0AP416FmqC3+m2kSxC6tYY41CqvmqoUDoOtV5PFGhQ583WLFcetwv+NAGvmjNc3L8QPCcJxJ4gsB/22B/lVSb4peC4Fy/iC1P+6Sf6UAdfmjNcJL8ZfA0X3tbRv8AdjY/0qA/HDwIP+Ys3/fhv8KAPQs0Zrzz/heHgX/oLN/34b/Cj/heHgX/AKCzf9+G/wAKAPQ80Zrzz/heHgX/AKCzf9+G/wAKY3x08DLnGpSt9IGoA9GzXzb42VdF/ae0+6gbb511ayt/wLCt+ld/dftA+DYEJha9nOOAsIGfzNeZ6LPe/Fr45W+tQ2jW9layxyvnkRxx8qCfUkfr7UAfT+aM0zdS5oAdmjNNzRmgB2aM03NGaAHZozTc0ZoAdmjNNzRmgB2aM03NGaAHZozTc0ZoAdmjNNzRmgB2aM03NGaAHZozTc0ZoAdmjNNzRmgB2aM03NGaAHZozTc0ZoAdmjNNzRmgB2aM03NGaAHZozTc0ZoAdmjNNzRmgB2aM03NGaAGXV1HZ2slxO22ONdzH0FZA8ZaKRkXX/jhqXxMf+KY1D/ria8mT7g+lNID1T/hMdG/5+v/ABw0f8Jho3/P1/44a8tzzTgafKM9Q/4TDRv+fr/xw1F/wnOgfavs/wBuHm4zt2nOPyrx/XNbj0u3KqQ1ww+VfT3NcN9uuTd/ajI3nZzuzXPOqoOx6eGwEq0eaTsfT/8Awl+j5/4+f/HDS/8ACXaP/wA/P/jhrxjQddj1WARyEJcr1X+97itodea2i1JXRwVaM6UuWR6b/wAJbpH/AD8n/vg0v/CWaT/z8/8AjprzPNOHWr5TI9LHivST/wAvP/jpo/4SrSf+fn/x015sKd2o5RHo/wDwlWlf8/P/AI6aX/hKNKPP2n/x015tXM+JvEYtkaysX/eniRx/D7fWs6jVNXZ04ehKvPlie1QeMdEuN3k3qvsOGwp4PpUn/CU6T/z8/wDjpr5q0nWLjSbvzoiWVj86Howr0iw1C31K0W4tWyD95e6n0NZ06qmdGMwMsPqtUenf8JTpP/Pz/wCOmj/hKdJ/5+f/AB0151RmujlPPPRf+Ep0n/n5/wDHTR/wlOlf8/P/AI6a86op8gHov/CU6T/z8/8Ajpo/4SnSf+fn/wAdNecHpTc+tLlsB6QfFekj/l5/8dNIPFmkHpdZHqFNeFeJvEvD2OnP7SSr/IVU8L+IPskgsr1swufkcn7h/wAK5vbRcuU9JZdV9l7T8D6A/wCEr0n/AJ+f/HTR/wAJZpP/AD8/+OmvNSQeQcg9xTSa6LHm7Hpn/CWaT/z8/wDjppjeMdGU83X/AI6a81zmoLg4eiwj1D/hM9Fzj7V/46alHivSWUEXGQf9k15JurSh/wBQv0qlG4XPSD4r0lRk3HH+6ap3vxA8PafD5l3elFzjPlk1wMp+WuV8XZbST7MDVezRPMew2vxN8L3r7be/LHOMeWRWrD4m0ycZjuMjGfumvmzwz8tyD/tV6lpYzGa2hQiyJVGj0ca7YmRkEuWUZPymoG8VaUrFWuMEdflNcxaN/pVzzz/9asW5hb7TJgHGa0+rQ7ke1Zv6F/yXL4j/APcM/wDSY12ua4nRDj45fEb/ALhn/pMa7PNeedI/NGaZmjNAD80ZpmaM0APzRmmZozQA/NGaZmjNAD80h5BB5B603NGaAPnr4ieCNW+HfipfGXgwMtn5nmSJGufs7HqCO6H9K9L8AfFfRvGttHBJIllqoHz2shwGPqh7/TrXbyok0TRyoro4wysMgj0rxnxt8B4bm4bUvBU4sLjO/wCyscIT/snqtAHteaXNfNtl8RviH8O3Wz8UWEt3ax/KDcqTkD0kHX8a7jSf2hPDF5Gv9pW91YyHqNokUfiP8KAPWs0ZrjbT4q+CrxQYtftl9pAyH9RVo/EbwgoJPiGxwP8AppQB1GaTNef6l8avBOnqdmqNduONtvEx/U4Fef65+0JqOoObPwhpBSR/lSWUeY5+ij/69AHuGta9pnh7T3vdZvIrWBBnLty3sB1J+lfPfjb4i618UtVTw14PtJlsJHwVHDTf7Tn+FR6UaZ8L/HHxBv01DxjeTWluxyWuDmTHoqdF/H8q9x8J+C9F8Gaf9l0W1CM3+snfmSQ+5/pQBl/DX4c2XgPR+ds+qTqPtNzj/wAdX0UfrXb5pmaXNADs182fE27m+IPxos/Ddi263tJFteDwGzmVvw6f8Br3bxj4ii8L+EdQ1eUgG3hPlg/xOeFH54rxv9nzQJb/AFrU/Fd/l2UmGN2/ikb5nb8sfnQB73Z2sNhYwWlsoSGCNY0UdgBgVPmmZozQA/NGaZmjNAD815L8ZPiiPDlk+g6FNnV7hcSyIf8Aj3Q/+zHt6VvfE/4iW/gXQT5JWTVbpStrEf4f9s+w/U15v8Ifh3ceIdU/4TPxYHmRpPNtkl5M75z5jew7UAb/AMGPhedIiTxP4ij3ajcLutoZBkwqf4j/ALR/SvZM0zPYdKXNAD80ZpmaM0APzRmmZozQA/NGaZmjNAD80ZpmaM0APzXlXxZ+Ew8Xf8TnQdkOsRr86ngXAHTJ7MOxr1LNGaAPnLw58ZPEvgd10Xxjp010kB2hpsrMoHoTww/zmvRLX49+C54wZprq3bHKvDnH5Gu41fQNJ162MGr2EF3GRjEiAkfQ1xl38DvBN1JvXT5IP9mKZgKAK998f/BtrEWt2u7t+ypDjP4k1w+tfHjxD4hdtP8ABmktbvIdqyKpll/DsK9Csvgl4Is23NprXHtNKzD8s12OlaBpOiQiPSdPt7RQMfuowDQB4p4O+CWp63qX9tfEKdyJDvNsZC0kh/227D2Fe8Wdpb2FnFa2cKQwQqEjjQYCgdsVJmjNAD80ZpmaM0APzRmmZozQA/NGaZmjNAD80ZpmaM0APzRmmZozQA/NGaZmjNAD80ZpmaM0APzRmmZozQA/NGaZmjNAD80ZpmaM0APzRmmZozQA/NGaZmjNAD80ZpmaM0APzRmmZozQA/NGaZmjNAD80ZpmaM0APzRmmZozQB82+PNRt9K/aUt9QvZBFb209tJK+M4UKpNb+r/tH5uXh8PaIZhnCSXDHLf8BH+NR/Er4SeIfFXxMfUNOEP2C8WMNO7/AOp2qAcjv0yMV6j4X8B6F4T0qG0sLKJ5EGXuJEBkkbuSaAPGn+M/xGuzmz0QIDyNlk7D9aYfip8VR8x0yQD0/s8/4V9FBFAwqKPwFLgH+EflQB86j4xfEuPiTRi31sH/AKCpB8b/AB+ow+goT72cgr6FKA9UX8qQRp/zzX/vkUAfPLfGP4k3eEtNE8tj0K2Ln+dB1341auf3NveQhv7sKRfzxX0OEUdEA/Cnbj6UAfOv/CF/GPV23XV/cQ57S3u0fkuaP+FK/EG9IF/rMQX/AGrl3/pX0Vk0bjQB8+J+ztrz8z+IYAe+FY/1q5D+zbMy/wCkeJMHvtgz/Wvd8mlyfWgDxKL9muwDZm164Yf7MSir8X7OPhtf9ZqWoP8A8CUf0r1/NGaAPKE/Z38Jg/Nc37f9tR/hVgfs/eDR1F4f+25r0/NGaAPMP+GfvBn928/7/mj/AIZ+8Gf3bz/v+a9PzRmgDzD/AIZ+8Gf3bz/v+akX4BeCV+9BdN9bhq9LzRmgDgLf4JeBoG3f2W0ntJMx/rXY6RoemaDZi10aygs4epWJAuT6n1q9mjNADqXNMzRmgB+aM0zNGaAH5ozTM0ZoAfmjNMzRmgB+aM0zNGaAH5ozTM0ZoAfmjNMzRmgB+aM0zNGaAH5ozTM0ZoAfmjNMzRmgB+aM0zNGaAH5ozTM0ZoAfmjNMzRmgB+aM0zNGaAH5ozTM0ZoAfmjNMzRmgB+aM0zNGaAH5ozTM0ZoAoeIY3m8O30cSl3aIgKo5NeUGKSEBZkZGx0YYr16/vYtP0+a7ud3lQqXfaMnFcndeLfDmrwiKK5QyMOEkjIP8quIHF55rN1nW4tKtzyGnYfKmf1rpb22s30qW4ssCWNwu4NuU5GRXh2vx6npeuPLqE4uPNJKv0DD0x2pVE+V2NqLhGac9i/cXMt3cNNOxZ2OSTUeagt7hbiPch/Cpa8iSd9T66EoyinHYmgmkt5llhYq6nIIrvtC8QR6pGIpiEuVHIP8XuK88kkWKMu5wBWDc6tO10sls5j8s5VlOCDXRh+bm8jzsylSVO0t+h72KeDXIeDvGMetwLaXrBL+MYx2lHqPf2rrQa9JHzZKKKaDXF+N/Gq6VG+naa+b1h87j/lkP8AGhgaXiXxGLFDaWTZuGHzsP4P/r1w7MWYsxJJOST3rnrDV5Em23TF1Y53Mcmt5WV0DKcg15eIUubU+qy2VL2dob9R2av6RrE+kXYlhOUP30J4YVnVDc3UdrFuc8noPWsIX5tD0KrhyPn2PYLC/g1K0Se1bKsOR3U+hqzXgVl4lvtN1NLu1lKlTymflYehFezeHvEVp4i01bi2YLKBiWInlD/hXtQemp8RU5ed8uxsUYpuaR2CqSxwB1NWSIx456Vx3iTxPy1lpzZHSSQfyFYPjjx0Z3fS9HlxGOJZ1P3vYe1c7pmoidPKmI3jofWuTEOXLoejl/sva/vN+hpFs0A80Yory7H1p13hnxEMixvn68ROx6exrq2rxm/v0tIyAf3v8I9K6Lwb44aZ107WJDuY4hmY/wDjpr08O5OOp8pmUaSq+5v1PQqr3B+ep6qXbYk610HljM8itaMf6Ov0rFDZrZQ/6On+6K0iJjJj8tcx4p50mT8K6Sc/LXM+KDjSZfoKvqQYfhwfvFP+1XqGluAoUnnFeY+FMSsPZq9H08qHBc42iuiDSM5K5t2T4kuiOSD1qvndzxzVZLvYz46sTTDO5Oc4q/aRJ5Te0X/kuXxG/wC4Z/6TGuxzXGaOcfHL4i/9wz/0mNdhmvKOsfmjNMzRmgB+aM0zNGaAH5ozTM0ZoAfmjNMzRmgB+aM0zNGaAH5opmaM0ANuLaC7iMd1DHMh6q6giuN1b4Q+DNXLNJpEdvIxyXtiY/5V2maM0AeR3n7O3h6Zs2eoX1uPTKt/MVVH7N+k551u9/74T/CvZs0ZoA8x074BeErNka6+1XjKeRJJgH8Biu50bwpoegR7NH0u2tf9pIxuP49a1c0ZoAdzS0zNGaAH5ozTM0jyLHGzyMFVRliewoA8P/aI8RNJ/Zvhm0Ys8jfaJ0U9eyD88mvUfAPh0eFfA+naZtCzJEHn95G5b9ePwrwzwwjfEv48TapMGeygmNxyMgRpxGv44H619J5oAfmjNMzRmgB+awfGHi2w8GeHptU1JxwNsMIPzTP2Uf1PatDVNUtNG0ufUNSmWG2t0LyO3Yf4184TSav8cfiJti322lW54zyLeLPX/fbH+QKALPgrwzqfxc8bT+I/E25tMiky+ThXI6RJ7Dv/APXr6QhijghSGBFjjjUKiKMBQOgFUtG0iz0HR7fTdMhENtboFRR/M+pNXs0APozTM0ZoAfmjNMzRmgB+aM0zNGaAH5ozTM0ZoAfmjNMzRmgB+aKZmjNAD80ZpmaM0APzRmmZozQA/NGaZmjNAD80ZpmaM0APzRmmZozQA/NGaZmjNAD80ZpmaM0APzRmmZozQA/NGaZmjNAD80ZpmaM0APzRmmZozQA/NGaZmjNAD80ZpmaM0APzRmmZozQA/NGaZmjNAD80ZpmaM0APzRmmZozQA/NGaZmjNAD80ZpmaM0APzRmmZozQA/NFMzRmgB9GaZmjNAD80ZpmaM0APzRmmZozQA/NGaZmjNAD80ZpmaM0APzRmmZozQA/NGaZmjNAD80ZpmaM0APzRmmZozQA/NGaZmjNAD80ZpmaM0APzRmmZozQA/NGaZmjNAD80ZpmaM0APzRmmZozQA/NGaZmjNAD80ZpmaM0APzRmmZozQA/NGaZmjNAD80ZpmaM0APzRmmZozQA/NGaZmjNAD80ZpmaM0APzRmmZozQA/NGaZmjNAD80ZpmaM0APzRmmZozQA/NGaZmjNAGd4kTzvDV+m/Zuhb5s4x+NeSaFJDd6rPBfWURjjhJE07lFXb15Hc16l4vTzfB+poDjMB5FfPevWWs29i82mXTvCf9ZDjJA9RVRdgNLXruCx1Rjo11I0DDIXOQp/u57/WuN8Xal9vNru2+Ygbdj3rEl1C7mXbJO5HoTVViSeTmqbAltbl7abch47iughu4pbfzdwGByK5gBiwCjJPQVsQaUTaHzHw7dvSuSsoOzZ6mAqVldQV0VdQv3u32rxGP1qlT5YngkMcowR+tMreKSWhwVZTnNue5JDPJbTpNA5jkQ7lZTgg1634O8YR65CtpeER3yL07S+49/avIK6Twf4cu9Z1JLhHe2t7dgxnXgk+in1rQyO48aeM10WE2OnMHvnGGP8AzxHr9a8mkd5XaSVizscszHJJro/GHhm70S+a5Znntp3yszHJBPZq5omhgIea1NL1HyD5UpJQ9PasupIYnnlCRjk1lOKaszow85wqJw3OouLyKCHex4IyMd6zF0+91SXzZcpH/Dx2rb0vQkMaz3WZTEMIp5yTW/LbGKIRqoBxyMVhTpqOp3YvFVKr5Gcta6DaRqDIpdu+ela2moNKuPP05jbydCR3HoamaLacYqJ4j2rbmOHkR0dv4uuYx+/jSXnkgYrE8Z+LL66svs2mRPFA6/vpB976e1VURweelJJAXyBxn2q1Ml0zg8dzSK7IwZTgj0re1bRism+LuOQBWG6FCVbgjrRozKzTOh07UFuYgjnEg6570uoX62seFIMh6D0rH06zluJQ6EooPWm6hbyw3TGbJDHIb1rk9nD2h7jxVdYa7XzK8jvLIXkYsx7mgdOODTfpTu1di02PDbvqz0rwN4x+1Iml6o+JlGIZW/j9j711l2/7014lp1ndX+oRQWCsZmYbSv8AD7167FHcQRRRXkxnmRQGkP8AEfWmSWlNbaH9xH/uisMdKum7Z0VegAxVJ2FYsTtWNq2lNq1sbcS+WrEZOM1Pfanbafavc3kuyNepxXMXfxGtI1ZdOtZJWHRpPlFVcLHSaP4ftNJgCQ7nbqWY1rSTw20ZeeWOJR1LsBXmUHiXX/EWoJZ2lxHZK+eUXoAK1ovAyzyB9W1C5u27jdgUtSTdvvHWh2JwLk3D5xthGf1rJf4kSlyYNGuGjz8p9a19O8MaTYhTDZRBl/iYZP61uBYwMCNQPYVWoaHUaSf+L5fEX/uGf+kxrr81x+lnHxy+In/cM/8ASY11ua5zQfmjNMzRmgB+aM0zNGaAH5ozTM0ZoAfmjNMzRmgB+aM0zNGaAH5ozTM0ZoAfmjNMzRmgB+aM0zNGaAH5ozTM0ZoAfmjNMzRmgB+a4X4v+I/+Ee+HV6Yn2XN7i1h55+b7x/Bc12+a+ffjjqk3iHx1pnhfTyZGg2qUHOZZCMfkMfnQB1vwA8Pf2b4Nm1eZMTalL8hI58tOB+Z3GvWM1naNpsOi6JZabbACK0hWJeOuBjNXs0APzTZJVijaSRgiICzMxwAB1NJmvC/i78Q5dXvP+EO8Ks87SSCO6eDkytn/AFSn0z1oAyPHvizUfin4wg8MeFwzafHJtXHAlI6yN/sjt/8AXr2zwV4QsfBXh6LTbAbpPvTzEfNK/cn+g9Kw/hf8PYfBOieZdKkmrXSg3Eg52D+4D6D9TXd5oAdmjNNzRmgB+aM0zNGaAH5ozTM0ZoAfmjNMzRmgB+aM0zNGaAH5ozTM0ZoAfmjNMzRmgB+aM0zNGaAH5ozTM0ZoAfmjNMzRmgB+aM0zNGaAH5ozTM0ZoAfmjNMzRmgB+aM0zNGaAH5ozTM0ZoAfmjNMzRmgB+aM0zNGaAH5ozTM0ZoAfmjNMzRmgB+aM0zNGaAH5ozTM0ZoAfmjNMzRmgB+aM0zNGaAH5ozTM0ZoAfmjNMzRmgB+aM0zNGaAH5ozTM0ZoAfmjNMzRmgB+aM0zNGaAH5ozTM0ZoAfmjNMzRmgB+aM0zNGaAH5ozTM0ZoAfmjNMzRmgB+aM0zNGaAH5ozTM0ZoAfmjNMzRmgB+aM0zNGaAH5ozTM0ZoAfmjNMzRmgB+aM0zNGaAH5ozTM0ZoAfmjNMzRmgB+aM0zNGaAH5ozTM0ZoAfmjNMzRmgB+aM0zNGaAH5ozTM0ZoAfmjNMzRmgB+aM0zNGaAH5ozTM0ZoAfmjNMzRmgB+aM0zNGaAH5ozTM0ZoAfmjNMzRmgB+aM0zNGaAMzxPz4X1D/ria8phQeSBjNeq+JT/xTN//ANcTXl0H+rqkBwvizwbv332kph+rwj+L3FcCUbfs2ndnGK96YZrlPEHhWKe4bULFAJx99AOG9/rSk2ldGlOKlJKTscTp+niFRJKMue3pWjQQQSGGCOo9KK8ucm3qfWUacKcFGBXvLNLuM5GHHQ1z88D28myQV1ANXtM8O/2/cASgrAh+dx1+grehOV7HDj8PCUfabMxvC3hWfxBdBpAY7ND+8k9fYe9ewWdnBY2qW9rGI4oxhVA6U2ys7ewtY7a0jWOKMYVVFWa9BHzhHdWkN7avb3UayRSLtZWFeP8Ai3wlNoFwZoA0lk5+V/7nsa9lzUVzbw3ls8FwiyRyLhlYdadgPn+GF5pAkYyT1rprDTo7eOJAN0rnBb1Jrb1bwcuiE3FiGkgY855Kf/Wp3h+1NxdQSFdyoRnPqTgVx1HNysj2MPGlTpe0vqdZpPhy4ubWPyI/lXgk961f+ELuZASzY3Cu40e1SCxSMAcAdK0J0RYTjjihJnHzXldnkt14Ju1ORID+FZMnhy9jlKuh49q9SuJeprOldXPaqubKJw0HhyXqwrUh8KrLHlsKe1dENvoKuRruUUyuVHnHiPwpJb2LTQfNtGSAK5PTvCx8RadezWvzXVkA7Qgcuvc/hXtt7Er2kiMMhlweK898ByPpvj29tdv7ueFwfwYY/nWtPXc5a/utNHFRxrEgWMYA4plzbpdRFJB+PpXR+M9KXR/FM8UabYpv3sYHQA9R+dYe2vOqJxmfTYdxrUUjlrm1e0k2v07GnWNjcajeR2tpGZJJDgAD9a6mPSW1lxbIhLZ644X3zXb+HfDdroFtiPEk7j55SOfoPau6lJyjqfOYyhGjUaiN8M+GoNAs8DD3Mg/eS46+w9qvXS/vjV7NU7jmVq2OIhAz0pwT1JoAp1AznPHAA8N7R3mWvPwMdK7/AMdHGiwqf4px/I1wVMDovA6g+Ixx92JiK9JBHrXnPgRc69IfSE/zFejRqGbJHIpozZKh9ialyfSm07NWSdNpn/JcviJ/3DP/AEmNdZmuS044+OXxE/7hn/pMa6rNcxsPzRmmZozQA/NGaZmjNAD80ZpmaM0APzRmmZozQA/NGaZmjNAD80ZpmaM0APzRmmZozQA/NGaZmmvMiffdV+pxQBLmjNVP7Rss4+2QZ9PNWpUnil/1UiP/ALrA0ATZozTM0bqAEuLiO1tZbidtkUSF3Y9gBk189fCy3fxj8Y77xDdDdHbtJdcjozHag/AHP4V6b8Ydd/sX4b3wRts16Rax88/N97/x0Gsj4D6J/ZvgeTUZEKy6jMWBI/gX5V/XJoA9TzRmmZrifiZ8QYPBOibbcrJqt0pFvET9wf3z7D9TQBhfF/4l/wBg2jaBoUu7VLhcTSIebdT2/wB4/pTPhB8NDoVuPEGvR51O4XMMTjJgU9z/ALR/SsT4S/D6fV77/hMfFQaZpHMltHNyZG/56Nnt6fn6V7jmgBwNLmmZozQA/NGaZmjNAD80ZpmaM0APzRmmZozQA/NGaZmjNAD80ZpmaM0APzRmmZozQA/NGaZmjNAD80ZpmaM0APzRmmZozQA/NGaZmjNAD80ZpmaM0APzRmmZozQA/NGaZmjNAD80ZpmaM0APzRmmZozQA/NGaZmjNAD80ZpmaM0APzRmmZozQA/NGaZmjNAD80ZpmaM0APzRmmZozQA/NGaZmjNAD80ZpmaM0APzRmmZozQA/NGaZmjNAD80ZpmaM0APzRmmZozQA/NGaZmjNAD80ZpmaM0APzRmmZozQA/NGaZmjNAD80ZpmaM0APzRmmZozQA/NGaZmjNAD80ZpmaM0APzRmmZozQA/NGaZmjNAD80ZpmaM0APzRmmZozQA/NGaZmjNAD80ZpmaM0APzRmmZozQA/NGaZmjNAD80ZpmaM0APzRmmZozQA/NGaZmjNAD80ZpmaM0APzRmmZozQA/NGaZmjNAD80ZpmaM0APzRmmZozQA/NGaZmjNAD80ZpmaM0APzRmmZozQA/NGaZmjNAD80ZpmaM0AZ3iQ/8AFNX/AP1xNeYQfcr0/wAQjf4dvVHUxEV5msLwriQYNUgFNNxzkUuaSqGc/rvh4XQNzZjbKOWQfxf/AF65BlKMVcYZTgg9q9PrG1bw9FqMqzRERSZ+cgfeH+NctWgpao9PC472fuz2OZ0jSZdUuQBlYVPzv/SvQbW3is7dYYFCIoxgVHZWsVlbLDAoAUfnU+a1p01BHNicTKvK/QkBp4NRA04GtkcY+lpmaXNMBZQjQusv+rKndn0qlYWFvYeEbe/SIILzUN6g9oxkL+Hf8a39F0yHVbpoLob4dhLKf4h6UnjbTZLbTf8AR/ltIXQpGvRFHGKzkawdzq9OfdChHTaKnu2Jj9qztOuIobaMyMACgIyfapLnU7byyBMh4/vVijbqZ10MA4rPVNzGp7i7Q9COfeqy3CjmkdMdiUx8Vctj8mDWY94ueSMVYi1G3QYdwPxqii1PgofpXnllMtp8RUGOXSRB+h/pXctf28rbY5VJPbNcZb2a3PiW8uSMyQylEY/w+taQ3OasuZFr4j2outOt7+MEvC21sDOFI6/mBXA2FpNf3IhhUknqfSva9OtVMLNdAPGAchhnNctZ2FjZPM2nqPLkclTnPGaVSipO5ph8a6NNxRHpWlQ6ZbBUGZD958daukYoLU0nNaKKirI4Jzc5czHVSn/1hq1mqcx+c0iRopaYDTs0DOa8eH/iVW3/AF3/AKGuFrtfHrYs7NfWUn9K4qmB1fgEZ1ac+kP9RXoSZxXA+A02307BslohxjpzXdLu9apGUtywue5p+ajBp2aoR09gf+L5fEP/ALhv/pMa6rNcpZHHxy+If/cN/wDSauozXObD80ZpmaM0APzRmmZozQA/NGaZmjNAD80ZpmaM0APzRmmZozQA/NJmm5qOaeO3gkmncJHGpd3Y4CgDJJoAg1jVrXRNJuNQv5kihgQsS5wCew+pr5suPiF448Za4ttpt7cRNPKBDb2h2BMngZHOPc1ra5q+q/GHx0mjaQ7RaTAxKkj5VQcGVvc9h9BXt3hrwtpXhXS4rLSrdUCj55SAXkPqxoA8Xm+HfxR1Dat7qMjrn/lpfsQKnPwQ8XTIPO123ORyDK5x+le95ozQB4B/woLxD1/tm0z35eiT4JeMLOFnstZt3cchFldc/pXv+aM0AfPLaZ8WvCOJopb24iVeRHL56gDttP8AhW94X+PDrdLZeMrLyG3bWuoUIKf7yf4flXtGa5Lxp8PdG8X2Mnn26Q34U+VdRjDA9s+o+tAHl/xf1seMvF+jeHtCnjuYsKVeNsq0kh/oMfma9z0jTodH0Wz062GIrWFYl/AYr5o+HbReF/itZxeIrZ4mV2gXzVK+W7fKrYPb396+ldV1W00XS59Q1GZYbaBdzuT+g9TQBQ8YeLLLwd4fl1K+YFvuwQ55lfHAH9T2rxnwL4W1D4n+K5vE/iotJYRyZ2nhZWB4jUf3B3/L1qK2t9U+Nfjxrm58y20OzbGM8Rp/dH+23c9vyr33T7C10rT4bLT4Vgt4FCRxoMAAUAWkVY41SNQqKMKoGABTs0zNGaAH5ozTM0ZoAfmjNMzRmgB+aM0zNGaAH5ozTM0ZoAfmjNMzRmgB+aM0zNGaAH5ozTM0ZoAfmjNMzRmgB+aM0zNGaAH5ozTM0ZoAfmjNMzRmgB+aM0zNGaAH5ozTM0ZoAfmjNMzRmgB+aM0zNGaAH5ozTM0ZoAfmjNMzRmgB+aM0zNGaAH5ozTM0ZoAfmjNMzRmgB+aM0zNGaAH5ozTM0ZoAfmjNMzRmgB+aM0zNGaAH5ozTM0ZoAfmjNMzRmgB+aM0zNGaAH5ozTM0ZoAfmjNMzRmgB+aM0zNGaAH5ozTM0ZoAfmjNMzRmgB+aM0zNGaAH5ozTM0ZoAfmjNMzRmgB+aM0zNGaAH5ozTM0ZoAfmjNMzRmgB+aM0zNGaAH5ozTM0ZoAfmjNMzRmgB+aM0zNGaAH5ozTM0ZoAfmjNMzRmgB+aM0zNGaAH5ozTM0ZoAfmjNMzRmgB+aM0zNGaAH5ozTM0ZoAfmjNMzRmgB+aM0zNGaAH5ozTM0ZoAfmjNMzRmgB+aM0zNGaAH5ozTM0ZoAfmjNMzRmgB+aM0zNGaAKWvTeRoN3MBny4y+Mdcc15t/wks2vW+ySxW2SI5Vtu0sfSvRPER/4p2+/65GvMofuZqogS0maTdSZqgH5pQajzS5oESilpgNLmmA8Gng1EDTg1AEuaM0wGjPBpgTaLdzjxciW8rJHa2rzXAA4YE4VfzzXTa4630T2spfy54mZWA4yoB5ryBvFV/pPiO5vbbd9nuQIcMvDxqccfjnmvTNZuJrTRori1BLs6oWHZWIyf6VlI0pK5W1+GRYUCuyAINuD04ri9U0XVY7Q3Iu5Uj5+Y8CvWptPivbNVlAJwBXmvjDwpdSoVS5uHUNkASED6YrM6FqcVaazqtvdmNb3zef4z1r0bTReXWmmSYbCV+U+9cHYeEbq41FIgr/L1INeuQWX2PRIoh/yzxUmy0PNPEmoavbSmFCIkxkOTVLR7K+1Rt8upSy7eoQ113ivw9/aq+ZGx3pzjNc3pfg6U3u8zMnPRHKimWdHpOnKkoKSMZAejda2DbLY3ayLGGF3c4kJH3cjjFTaNoq2EXDM57s7ZJqMNcPrV4kozaoEeMnoGAprcVlZ3NS5nIiWCPgNgHmuM0R2W0ntmbf8AZbmSHf8A3gG6/rUvjDUZ7TQLm5tn8twQNw6gE1w2l6xP4WsJJby0lkW8xJEC2N3OC2fxroPMlueiFj2oDetcKvxMt84fTpR7rKD/AEqT/hZGn/8APpc/pSuI7Vm4qhK/7w/WuZ/4WRp//PpcfpUK+PNPlkJeKaME9wDQB1QepVNUILhJ4w8ZyCMirSNmgDlvHhJFivu5/lXH13Hi3Sb3U1tn09FcxFgylsdcf4Vykmga1FnNhI3+6QaAOk8BSeZqF1wAFhUD867oGvMtAv7zw3dTPeaVdOJVC/KvTBrfXx/ZI37+xvI/qlVexNrnZA0ua5NPiFoZYBpJV+qdKuDxvoBGftyj6qaLisekWf8AyXL4hf8AcN/9Jq6bNcvanHxy+IX/AHDf/SaulzWJoPzRmmZozQA/NGaZmjNAD80ZpmaM0APzRmmZozQA/NGaZmjNAD815J8b/GDWWmxeGtOcm5vgGuNnVY88L9WP6D3r0rWtYtdC0a61O/fZBbRl29T6Ae5PFeH/AA50u58f/Ei78Uawm+3tpfN2sMgyf8s0HsoGfwFAHpPwt8Fr4R8MK1ygGpXoElwT1Ufwp+H8813GaZmjNAD80ZrnvF/jDT/Buj/b9S3uXbZFCn3pG9Pb615Hc/GTxfrtwY/DWlLEmQAIoTM34np+lAHvuaM15N8Mvidqmv6/LoPiOFRdqjMkqpsOV6qw/wA9K9WzQA/NGaZmjNAHivx/0cRSaVrkC7ZCTbyOvt8y/wDs1Y2p6/rPxd1PS/D2lK8NnDEjXbsON4GGkY+noPU13/xwg8/4bySDH7m6ifn6lf8A2amfA6ztIfh+t1BCq3E88gmkxy+04H4AUAdr4c0Cx8MaHBpemIFiiHzN3du7H3NauaZmjNAD80ZpmaM0APzRmmZozQA/NGaZmjNAD80ZpmaM0APzRmmZozQA/NGaZmjNAD80ZpmaM0APzRmmZozQA/NGaZmjNAD80ZpmaM0APzRmmZozQA/NGaZmjNAD80ZpmaM0APzRmmZozQA/NGaZmjNAD80ZpmaM0APzRmmZozQA/NGaZmjNAD80ZpmaM0APzRmmZozQA/NGaZmjNAD80ZpmaM0APzRmmZozQA/NGaZmjNAD80ZpmaM0APzRmmZozQA/NGaZmjNAD80ZpmaM0APzRmmZozQA/NGaZmjNAD80ZpmaM0APzRmmZozQA/NGaZmjNAD80ZpmaM0APzRmmZozQA/NGaZmjNAD80ZpmaM0APzRmmZozQA/NGaZmjNAD80ZpmaM0APzRmmZozQA/NGaZmjNAD80ZpmaM0APzRmmZozQA/NGaZmjNAD80ZpmaM0APzRmmZozQA/NGaZmjNAD80ZpmaM0APzRmmZozQA/NGaZmjNAD80ZpmaM0APzRmmZozQA/NGaZmjNAD80ZpmaM0APzRmmZozQA/NGaZmjNAD80ZpmaM0AUPER/wCKdvv+uRrzKJvlxXpXiI/8U5ff9cTXlK3kUQLSPgVSAvk0mazF1u3c9HAzjJFX1kBUEd6oRKDSg1HmlzTAlzTqiBp4NAD80oNMzQDQBKDVPVXcwx2dsf8ASbxxDGB1Gep/AVO8qxRs8jbVQbifQU3wXbvqmrXPiK5B8i3Bjs0Pr0JxTJZF44s7UaVbabGg2WEYVWA5B6nn3xXZaZJ52mxG4HEkKtz0BxmsDULFb0yLKM+YCD+NbMBWwsIrYnKxRqmT7DFKSCEuVmoLh1QBDkAVkX0Mt058w4XOas2twskW5emaq6neCGNjnGBwa5pHowsySxuLLTE2kKZpDgHua0Llx9ikYjg1w2nQ3d/qv21/kjhz5e7uat6nruo21l5d2ithuDEeDSLNOWbyY/OcfJ3+lVDskkEkWADyMVDDd3F9Zoj4VCpUgjnBqCxjltJvJk+ZB91vamao6GGZkhwfSq883ylUPLHnFI0ny8ViWerx3jNJFt2rNJH9SrYrSC1OatJpWQviC2il0d0uF3Rs67hWL4z0z+0vBEdxAoM1k23aP7h/wrptRiF7pzx+uDUWnwKFkglUNFMmxwfQ10dDiZ4EY23EYOaZg+hrqPEGiNousz2r5IByjf3l7Gsho89v0qGIzhQatYMbYI4ps5+Q4pCPRNDlEmnW7jgFBW3GciuW8KtnRYPbI/WulhbimBcTlhUuagQ1NmkA4Lk84pWgif78aN9VpVNOB5oArPpFhNnzbOFs9coKrN4V0VmJNhFk+1aymlzTEdVb/wDJcviD/wBw3/0mro81zcJx8cviD/3Df/SauizWRY7NGabmjNADs0ZpuaM0AOzRmm5ozQA7NGabmjNADs0ZpuaTNAHi/wActflvNS0/wtYEsxKyzKp+87HCL/M/iK9O8HeHIfCvhe10yEDei7pn/vyH7x/p+FeP+H4z4o/aCu7m6I22lzLKBnIIiOxR/I171mgB+aM03NGaAPIf2ggTpWit2E8g/wDHR/hXc+GpItO+Gdld2VqhaLTRKI0XBdhHnt3JH61xPx/50HSP+vp//Qa73wSf+KE0X/rzj/8AQaAPnPw34j1nSPFU/iCwsftd05k37omZQXOT0r2LwF8XIvFGqLpOq2i2d84PlMjHZIQMkYPIPWtzV/HvhPw9aTyNf2skiMQbe1Ku7N6YH8zXlfgGzu/GnxXk8SLa/ZrO3nM7lBhVOMKnuTxn8aAPoLNGabmjNAHCfGiQJ8MrsE8vNEo9/nB/pTfgopX4aWxIxuuJSPf5sf0rH+PWoLF4X0+xDfPcXXmY/wBlVP8AVhXW/Diy/s/4d6PCyFGaASMCO7Et/WgDqs0ZpuaM0AOzRmm5ozQA7NGabmjNADs0ZpuaM0AOzRmm5ozQA7NGabmjNADs0ZpuaM0AOzRmm5ozQA7NGabmjNADs0ZpuaM0AOzRmm5ozQA7NGabmjNADs0ZpuaM0AOzRmm5ozQA7NGabmjNADs0ZpuaM0AOzRmm5ozQA7NGabmjNADs0ZpuaM0AOzRmm5ozQA7NGabmjNADs0ZpuaM0AOzRmm5ozQA7NGabmjNADs0ZpuaM0AOzRmm5ozQA7NGabmjNADs0ZpuaM0AOzRmm5ozQA7NGabmjNADs0ZpuaM0AOzRmm5ozQA7NGabmjNADs0ZpuaM0AOzRmm5ozQA7NGabmjNADs0ZpuaM0AOzRmm5ozQA7NGabmjNADs0ZpuaM0AOzRmm5ozQA7NGabmjNADs0ZpuaM0AOzRmm5ozQA7NGabmjNADs0ZpuaM0AOzRmm5ozQA7NGabmjNADs0ZpuaM0AOzRmm5ozQA7NGabmjNADs0ZpuaM0AOzRmm5ozQA7NGabmjNADs0ZpuaM0AOzRmm5ozQA7NGabmjNADs0ZpuaM0AOzRmm5ozQBQ8QOE8PXrMNwERJHqK8GeXNyWP3d2Quele6+Iz/xTd/8A9cGr59kuACcZJ9B1q47CNhvLcqy4x3FbMEq+QuT2rmLC3v7hgSv2ePg7nGSfoK3oY9o2sSQOlUBdFx2AqYSAjrVLPpTC7A8GgDTDZp4NQQuHQGpQaAJKZLPHbwtLO6xxqMlmOMVDcXfkskUUbT3MvEcEf3m9/Ye5q7a6OkG28150nuFOY7Ycxx/h3PuaYjOh0278Syp5m+y0sNksww8/0HYV2M5gsbeGzs1EcMSDYBWW2oNI/XavZRVfUNShSENNKqMvI3HrQSy6Z0WQM3IzkisXxH4qhtyQQY17buM1XPiHS5P+XsE9xtNcf411K0v5reGDLiMEnI4JNAjqfCHjFNQ1+aweQCOWINB7MM5H1rp9RZWX5j8o614nYCeK8hmtnEckbBkwMYxXsN+HMRVjncoP14rnkdlOQkOv6dbo0U1zFEsY5ywB/Ksy48VaJdSEifcq8ZxwadDoumNbO11bpI7E5LCsKfRtAglIVI/XDg8VmdkbG/B4j0qWQRw3Ko2OA3GauwX0F237p1fHUqciuZ07QtKMyyxwqdvT0roIIIoP9QioPRRTRUtEHifWV0bw9cXWf3gTbEPVj0/xrzbw34gSzs0gmmw+9nbcfU10fxLheTTdP5x+9bP5V5o8W3g9a2icNVntOm6sLmEbWDqR1BrThmUnjqa57w/axR6DZuiAF4VJI7nFasXyt7Vqc9x3iTQbfxBYFiVjuox+7k9PY+orybUdPudMvDb3kZRx0PZh6g17D5oCgCqeoWFnq9v5F7GH9Ceq+4NAHjrbSSDiqk4Cg4PSum8Q+EbjTHaSAtJD2b0+v+NcuysrFZAQfekB3XhdDHo0AfgkE/rXQxHjiuK0PXBhLWcBAoCoR3rrYZcqKBGkjVOpzVJHqwjUgLSmnA1Epp4NAEoNOzUYNOzTA6uL/kuXxA/7hv8A6TV0Oa51P+S5fED/ALhv/pNXQZrIodmjNcr4y8QXuh/YvsJjHnb9+9c9NuP5muY/4T7WvW3/AO/X/wBeuWpioU5OLTPfweQ4nF0I16copPu3fR27HqOaM15d/wAJ9rXrb/8Afr/69H/Cfa162/8A36/+vWf16n2f9fM6v9V8b/NH73/8ieo5ozXl3/Cfa162/wD36/8Ar0f8J9rXrb/9+v8A69H16n2f9fMP9V8b/NH73/8AInqOaM15d/wn2tetv/36/wDr0f8ACfa162//AH6/+vR9ep9n/XzD/VfG/wA0fvf/AMieo5ozXl3/AAn2tetv/wB+v/r0f8J9rXrb/wDfr/69H16n2f8AXzD/AFXxv80fvf8A8icv8Nwth8btTt5m2uTcxKG/iO/P8ga94BzXhTFG8Vf8JEsSx6j5gl8xCwBbGPu5xyOtdL/wn2tetv8A9+v/AK9H16n2f9fMP9V8b/NH73/8ieo5ozXl3/Cfa162/wD36/8Ar0f8J9rXrb/9+v8A69H16n2f9fMP9V8b/NH73/8AImv8VfCeoeLvD9rBpKxtcW9x5m1225UqQefyrptJ0r7H4UtNJuDzHZrBIUPfbg4P51wX/Cfa162//fr/AOvR/wAJ9rXrb/8Afr/69H16n2f9fMP9V8b/ADR+9/8AyJHbfAfRkvPMutTu54d2fKAVcj0Jr0nStKsdE0+Oy0u2jt7ePoiDH4n1PvXnX/Cfa162/wD36/8Ar0f8J9rXrb/9+v8A69H16n2f9fMP9V8b/NH73/8AInqOaM15d/wn2tetv/36/wDr01/HmtPGy74V3DGVjwR9OaPr1Ps/6+Yf6r43+aP3v/5E5X4iXTeNfixZ6HYtvit3W1yOm7OZD+H/ALLXvUMawQRxRjCRqFUegAxXhWhxw+H9YbVNPt0+2MGHmSlnxu6nk9feun/4T7WvW3/79f8A16Pr1Ps/6+Yf6r43+aP3v/5E9RzRmvLv+E+1r1t/+/X/ANej/hPta9bf/v1/9ej69T7P+vmH+q+N/mj97/8AkT1HNGa8u/4T7WvW3/79f/Xo/wCE+1r1t/8Av1/9ej69T7P+vmH+q+N/mj97/wDkT1HNGa8u/wCE+1r1t/8Av1/9ej/hPta9bf8A79f/AF6Pr1Ps/wCvmH+q+N/mj97/APkT1HNGayPh1qM/iaG/fVNpMDIE8sbeobP8hXaf2Ra/3W/76rrpzVSKkjwMXhZ4SvKhUauu221zCzRmt3+yLX+63/fVH9kWv91v++qs5TCzRmt3+yLX+63/AH1R/ZFr/db/AL6oAws0Zrd/si1/ut/31R/ZFr/db/vqgDCzRmt3+yLX+63/AH1R/ZFr/db/AL6oAws0Zrd/si1/ut/31R/ZFr/db/vqgDCzRmt3+yLX+63/AH1R/ZFr/db/AL6oAws0Zrd/si1/ut/31R/ZFr/db/vqgDCzRmrRtowx4PX1pPs8fv8AnQBWzRmrP2eP3/Oj7PH7/nQBWzRmrP2eP3/Oj7PH7/nQBWzRmrP2eP3/ADo+zx+/50AVs0Zqz9nj9/zo+zx+/wCdAFbNGas/Z4/f86Ps8fv+dAFbNGas/Z4/f86Ps8fv+dAFbNGas/Z4/f8AOj7PH7/nQBWzRmrP2eP3/Oj7PH7/AJ0AVs0Zqz9nj9/zo+zx+/50AVs0Zqz9nj9/zo+zx+/50AVs0Zqz9nj9/wA6Ps8fv+dAFbNGas/Z4/f86Ps8fv8AnQBWzRmrP2eP3/Oj7PH7/nQBWzRmrP2eP3/Oj7PH7/nQBWzRmrP2eP3/ADo+zx+/50AVs0Zqz9nj9/zo+zx+/wCdAFbNGas/Z4/f86Ps8fv+dAFbNGas/Z4/f86Ps8fv+dAFbNGas/Z4/f8AOj7PH7/nQBWzRmrP2eP3/Oj7PH7/AJ0AVs0Zqz9nj9/zo+zx+/50AVs0Zqz9nj9/zo+zx+/50AVs0Zqz9nj9/wA6Ps8fv+dAFbNGas/Z4/f86Ps8fv8AnQBWzRmrP2eP3/Oj7PH7/nQBWzRmrP2eP3/Oj7PH7/nQBWzRmrP2eP3/ADo+zx+/50AVs0Zqz9nj9/zo+zx+/wCdAFbNGas/Z4/f86Ps8fv+dAFbNGas/Z4/f86Ps8fv+dAFbNGas/Z4/f8AOj7PH7/nQBWzRmrP2eP3/Oj7PH7/AJ0AVs0Zqz9nj9/zo+zx+/50AVs0Zqz9nj9/zo+zx+/50AVs0Zqz9nj9/wA6Ps8fv+dAFbNGas/Z4/f86Ps8fv8AnQBWzRmrP2eP3/Oj7PH7/nQBWzRmrP2eP3/Oj7PH7/nQBWzRmrP2eP3/ADo+zx+/50AVs0Zqz9nj9/zo+zx+/wCdAFbNGas/Z4/f86Ps8fv+dAFbNGas/Z4/f86Ps8fv+dAFbNGas/Z4/f8AOj7PH7/nQBWzRmrP2eP3/Oj7PH7/AJ0AVs0Zqz9nj9/zo+zx+/50AVs0Zqz9nj9/zo+zx+/50AVs0Zqz9nj9/wA6Ps8fv+dAGF4kbHhm/JOB5Lc143YaXartuI8ux7noPwr2nxbaxt4R1IHPMB715vpOnW5sFBDcdOauIigRjGRwKTvntW7/AGZb+jfnUbaZbg9G/wC+qu4GPTWGCDWz/Ztv6N+dD6Zb7Ojf99UgKNtgZFTvI7TJa2aCW6l+6vZB3ZvYU5NPhW44L/TdW94f0y2g0qW8VWNxOSzuxyeDgAe3tSEU7eG28OQE7hc30w/e3DDkn09gOwrG1DV1hUyXMnJ6D1rWubSOaUtIWJJ/vVy+r6fDJcOH3nacD5ulUhGXeeJ7iVisBMadvWufu55bli8kjOfc1uHSLU5JD/8AfVRf2Ra88P8A99UCsYME5EuKqXkzm4Jxk+prpf7FtFnRgHyf9qnXWh2RRm2vnH96gLGLpyPcmKMEb5ZAin0ya9yubZXtkjYZZFAz74rzXw/o1ouqabgN/wAfKHlvevY7ixhBbg9T3rnmdEDkWjRGMUvGR+FYl5oemNP5ryMWzyM128+m28yFZFJH1rl73w9ZrP8AK04BPTzDiosdMZEdra2kUYETfQZ5rTht+QW4HYVNp2i2cKjarE+rNmtNLGHI4b86qxTkcx4usUv/AAzdBly8KmVD3BX/AOtXjsyBiD6jNfQ99p8DabcqQcGF88+xrx3+w7MouQ/T+9W0TlqGPZ69qdhGI4LuQRqMKp5ArpdN8dtwmow5H/PSMc/lWedDs/7r/wDfVKuiWeej/wDfVUYncWupW99CJbSZZF747fWpGlPUHmuO0+zTTrwSWryIScEbuD9RXfW1nFLbK7A5I5wadxlNbpJF8m4AYNxkiuP8TeCzHG15py74cZZB1T3Ht7V3cmm257N19au2FpH/AKs7mQjoTSA+fXjaJuuD2IrqfDusllW3uWyRwDXQeLvC2l22ouIImQMofAbgE9cVzsWj2sMgaPzAR0+akI6+KTcKtxHNYGmF5NVhR5XZG4Kk8dK7O30+BkyQ350CKanpUuea0V0239G/OqVzGsV0yJ0GMZ+lMBop1NFGaAP/2Q==)"
      ],
      "metadata": {
        "id": "kL0a5GKXEzpD"
      }
    },
    {
      "cell_type": "markdown",
      "source": [
        "Optimizer functions help us perform the gradient descent.\n",
        "\n",
        "\n",
        "*   Gradient Descent\n",
        "*   Stochastic Gradient Descent (SGD)\n",
        "*   Mini Batch Stochastic Gradient Descent (MB-SGD)\n",
        "*   SGD with momentum\n",
        "*   Nesterov Accelerated Gradient (NAG)\n",
        "*   Adaptive Gradient (AdaGrad)\n",
        "\n",
        "\n",
        "\n",
        "\n",
        "\n"
      ],
      "metadata": {
        "id": "Km5f-G4-GSpM"
      }
    },
    {
      "cell_type": "code",
      "source": [
        " import tensorflow as tf\n",
        " from tensorflow import keras\n",
        " import pandas as pd\n",
        " import numpy as np\n",
        " import matplotlib.pyplot as plt"
      ],
      "metadata": {
        "id": "ynTUTtYuaqYN"
      },
      "execution_count": null,
      "outputs": []
    },
    {
      "cell_type": "markdown",
      "source": [
        "Fashion Dataset. 60000 images for train and 10000 for testing"
      ],
      "metadata": {
        "id": "Fc6UHluMIRqw"
      }
    },
    {
      "cell_type": "code",
      "source": [
        "fashion_mnist=keras.datasets.fashion_mnist\n",
        "(train_images, train_labels), (test_images, test_labels) = fashion_mnist.load_data()"
      ],
      "metadata": {
        "colab": {
          "base_uri": "https://localhost:8080/"
        },
        "id": "a37cTXUDIC42",
        "outputId": "516993f8-2800-4548-f819-69591408d586"
      },
      "execution_count": null,
      "outputs": [
        {
          "output_type": "stream",
          "name": "stdout",
          "text": [
            "Downloading data from https://storage.googleapis.com/tensorflow/tf-keras-datasets/train-labels-idx1-ubyte.gz\n",
            "29515/29515 [==============================] - 0s 0us/step\n",
            "Downloading data from https://storage.googleapis.com/tensorflow/tf-keras-datasets/train-images-idx3-ubyte.gz\n",
            "26421880/26421880 [==============================] - 0s 0us/step\n",
            "Downloading data from https://storage.googleapis.com/tensorflow/tf-keras-datasets/t10k-labels-idx1-ubyte.gz\n",
            "5148/5148 [==============================] - 0s 0us/step\n",
            "Downloading data from https://storage.googleapis.com/tensorflow/tf-keras-datasets/t10k-images-idx3-ubyte.gz\n",
            "4422102/4422102 [==============================] - 0s 0us/step\n"
          ]
        }
      ]
    },
    {
      "cell_type": "code",
      "source": [
        "train_images.shape\n",
        "type(train_images)"
      ],
      "metadata": {
        "colab": {
          "base_uri": "https://localhost:8080/"
        },
        "id": "AVoMb0aZJxzg",
        "outputId": "53e1ffbb-8323-408f-ea7d-87cc93296161"
      },
      "execution_count": null,
      "outputs": [
        {
          "output_type": "execute_result",
          "data": {
            "text/plain": [
              "numpy.ndarray"
            ]
          },
          "metadata": {},
          "execution_count": 3
        }
      ]
    },
    {
      "cell_type": "code",
      "source": [
        "train_images[0, 23, 23]"
      ],
      "metadata": {
        "colab": {
          "base_uri": "https://localhost:8080/"
        },
        "id": "wQUxOwXzJ3sX",
        "outputId": "d22385e7-f101-44e4-d943-b86b6a98f062"
      },
      "execution_count": null,
      "outputs": [
        {
          "output_type": "execute_result",
          "data": {
            "text/plain": [
              "194"
            ]
          },
          "metadata": {},
          "execution_count": 4
        }
      ]
    },
    {
      "cell_type": "markdown",
      "source": [
        "So 255 being white and 0 being black. So these are grayscale Images"
      ],
      "metadata": {
        "id": "R7wL0QRaKIob"
      }
    },
    {
      "cell_type": "code",
      "source": [
        "print(train_images)"
      ],
      "metadata": {
        "colab": {
          "base_uri": "https://localhost:8080/"
        },
        "id": "ZCNaU8wyKCd-",
        "outputId": "407e58dd-02c8-4323-83a4-a5a92df931ca"
      },
      "execution_count": null,
      "outputs": [
        {
          "output_type": "stream",
          "name": "stdout",
          "text": [
            "[[[0 0 0 ... 0 0 0]\n",
            "  [0 0 0 ... 0 0 0]\n",
            "  [0 0 0 ... 0 0 0]\n",
            "  ...\n",
            "  [0 0 0 ... 0 0 0]\n",
            "  [0 0 0 ... 0 0 0]\n",
            "  [0 0 0 ... 0 0 0]]\n",
            "\n",
            " [[0 0 0 ... 0 0 0]\n",
            "  [0 0 0 ... 0 0 0]\n",
            "  [0 0 0 ... 0 0 0]\n",
            "  ...\n",
            "  [0 0 0 ... 0 0 0]\n",
            "  [0 0 0 ... 0 0 0]\n",
            "  [0 0 0 ... 0 0 0]]\n",
            "\n",
            " [[0 0 0 ... 0 0 0]\n",
            "  [0 0 0 ... 0 0 0]\n",
            "  [0 0 0 ... 0 0 0]\n",
            "  ...\n",
            "  [0 0 0 ... 0 0 0]\n",
            "  [0 0 0 ... 0 0 0]\n",
            "  [0 0 0 ... 0 0 0]]\n",
            "\n",
            " ...\n",
            "\n",
            " [[0 0 0 ... 0 0 0]\n",
            "  [0 0 0 ... 0 0 0]\n",
            "  [0 0 0 ... 0 0 0]\n",
            "  ...\n",
            "  [0 0 0 ... 0 0 0]\n",
            "  [0 0 0 ... 0 0 0]\n",
            "  [0 0 0 ... 0 0 0]]\n",
            "\n",
            " [[0 0 0 ... 0 0 0]\n",
            "  [0 0 0 ... 0 0 0]\n",
            "  [0 0 0 ... 0 0 0]\n",
            "  ...\n",
            "  [0 0 0 ... 0 0 0]\n",
            "  [0 0 0 ... 0 0 0]\n",
            "  [0 0 0 ... 0 0 0]]\n",
            "\n",
            " [[0 0 0 ... 0 0 0]\n",
            "  [0 0 0 ... 0 0 0]\n",
            "  [0 0 0 ... 0 0 0]\n",
            "  ...\n",
            "  [0 0 0 ... 0 0 0]\n",
            "  [0 0 0 ... 0 0 0]\n",
            "  [0 0 0 ... 0 0 0]]]\n"
          ]
        }
      ]
    },
    {
      "cell_type": "code",
      "source": [
        "train_labels[:10]"
      ],
      "metadata": {
        "colab": {
          "base_uri": "https://localhost:8080/"
        },
        "id": "2sjYSGPbKlTu",
        "outputId": "65ce0879-d3a8-458f-dac6-35248c763da7"
      },
      "execution_count": null,
      "outputs": [
        {
          "output_type": "execute_result",
          "data": {
            "text/plain": [
              "array([9, 0, 0, 3, 0, 2, 7, 2, 5, 5], dtype=uint8)"
            ]
          },
          "metadata": {},
          "execution_count": 6
        }
      ]
    },
    {
      "cell_type": "markdown",
      "source": [
        "So these are from 0 to 9. This means there are 10 different classes for the outputs"
      ],
      "metadata": {
        "id": "li7xNx5KK-gp"
      }
    },
    {
      "cell_type": "code",
      "source": [
        "class_names = ['T-shirt/top',\n",
        "'Trouser',\n",
        "'Pullover',\n",
        "'Dress',\n",
        "'Coat',\n",
        "'Sandal',\n",
        "'Shirt',\n",
        "'Sneaker',\n",
        "'Bag',\n",
        "'Ankle boot']"
      ],
      "metadata": {
        "id": "KO2z0UQqK3M2"
      },
      "execution_count": null,
      "outputs": []
    },
    {
      "cell_type": "code",
      "source": [
        "plt.figure()\n",
        "plt.imshow(train_images[10])\n",
        "plt.colorbar()\n",
        "plt.show()"
      ],
      "metadata": {
        "colab": {
          "base_uri": "https://localhost:8080/",
          "height": 265
        },
        "id": "tLKlVObdLzrK",
        "outputId": "5f1087d0-ac5b-4937-9c13-2ab99543fc4e"
      },
      "execution_count": null,
      "outputs": [
        {
          "output_type": "display_data",
          "data": {
            "text/plain": [
              "<Figure size 432x288 with 2 Axes>"
            ],
            "image/png": "[encoded data removed]"
          },
          "metadata": {
            "needs_background": "light"
          }
        }
      ]
    },
    {
      "cell_type": "markdown",
      "source": [
        "Now Data Processing. Make the number you feed in to the NN as small as possible. So here we divide the gray scale numbers of the images by 255. So either 0 or 1"
      ],
      "metadata": {
        "id": "6CEx4hLnNQz5"
      }
    },
    {
      "cell_type": "code",
      "source": [
        "train_images = train_images/255.0\n",
        "test_images = test_images/255.0"
      ],
      "metadata": {
        "id": "o58K2khqMP6n"
      },
      "execution_count": null,
      "outputs": []
    },
    {
      "cell_type": "code",
      "source": [
        "print(train_images[1])"
      ],
      "metadata": {
        "colab": {
          "base_uri": "https://localhost:8080/"
        },
        "id": "4CXLV0MoMU2j",
        "outputId": "d317181f-5e43-433a-eb8c-d5e6768f3620"
      },
      "execution_count": null,
      "outputs": [
        {
          "output_type": "stream",
          "name": "stdout",
          "text": [
            "[[0.         0.         0.         0.         0.         0.00392157\n",
            "  0.         0.         0.         0.         0.16078431 0.7372549\n",
            "  0.40392157 0.21176471 0.18823529 0.16862745 0.34117647 0.65882353\n",
            "  0.52156863 0.0627451  0.         0.         0.         0.\n",
            "  0.         0.         0.         0.        ]\n",
            " [0.         0.         0.         0.00392157 0.         0.\n",
            "  0.         0.19215686 0.53333333 0.85882353 0.84705882 0.89411765\n",
            "  0.9254902  1.         1.         1.         1.         0.85098039\n",
            "  0.84313725 0.99607843 0.90588235 0.62745098 0.17647059 0.\n",
            "  0.         0.         0.         0.        ]\n",
            " [0.         0.         0.         0.         0.         0.05490196\n",
            "  0.69019608 0.87058824 0.87843137 0.83137255 0.79607843 0.77647059\n",
            "  0.76862745 0.78431373 0.84313725 0.8        0.79215686 0.78823529\n",
            "  0.78823529 0.78823529 0.81960784 0.85490196 0.87843137 0.64313725\n",
            "  0.         0.         0.         0.        ]\n",
            " [0.         0.         0.         0.         0.         0.7372549\n",
            "  0.85882353 0.78431373 0.77647059 0.79215686 0.77647059 0.78039216\n",
            "  0.78039216 0.78823529 0.76862745 0.77647059 0.77647059 0.78431373\n",
            "  0.78431373 0.78431373 0.78431373 0.78823529 0.78431373 0.88235294\n",
            "  0.16078431 0.         0.         0.        ]\n",
            " [0.         0.         0.         0.         0.2        0.85882353\n",
            "  0.78039216 0.79607843 0.79607843 0.83137255 0.93333333 0.97254902\n",
            "  0.98039216 0.96078431 0.97647059 0.96470588 0.96862745 0.98823529\n",
            "  0.97254902 0.92156863 0.81176471 0.79607843 0.79607843 0.87058824\n",
            "  0.54901961 0.         0.         0.        ]\n",
            " [0.         0.         0.         0.         0.45490196 0.88627451\n",
            "  0.80784314 0.8        0.81176471 0.8        0.39607843 0.29411765\n",
            "  0.18431373 0.28627451 0.18823529 0.19607843 0.17647059 0.2\n",
            "  0.24705882 0.44313725 0.87058824 0.79215686 0.80784314 0.8627451\n",
            "  0.87843137 0.         0.         0.        ]\n",
            " [0.         0.         0.         0.         0.78431373 0.87058824\n",
            "  0.81960784 0.79607843 0.84313725 0.78431373 0.         0.2745098\n",
            "  0.38431373 0.         0.40392157 0.23137255 0.26666667 0.27843137\n",
            "  0.19215686 0.         0.85882353 0.80784314 0.83921569 0.82352941\n",
            "  0.98039216 0.14901961 0.         0.        ]\n",
            " [0.         0.         0.         0.         0.96862745 0.85490196\n",
            "  0.83137255 0.82352941 0.84313725 0.83921569 0.         0.99607843\n",
            "  0.95294118 0.54509804 1.         0.68235294 0.98431373 1.\n",
            "  0.80392157 0.         0.84313725 0.85098039 0.83921569 0.81568627\n",
            "  0.8627451  0.37254902 0.         0.        ]\n",
            " [0.         0.         0.         0.17647059 0.88627451 0.83921569\n",
            "  0.83921569 0.84313725 0.87843137 0.80392157 0.         0.16470588\n",
            "  0.1372549  0.23529412 0.0627451  0.06666667 0.04705882 0.05098039\n",
            "  0.2745098  0.         0.74117647 0.84705882 0.83137255 0.80784314\n",
            "  0.83137255 0.61176471 0.         0.        ]\n",
            " [0.         0.         0.         0.64313725 0.92156863 0.83921569\n",
            "  0.82745098 0.8627451  0.84705882 0.78823529 0.20392157 0.27843137\n",
            "  0.34901961 0.36862745 0.3254902  0.30588235 0.2745098  0.29803922\n",
            "  0.36078431 0.34117647 0.80784314 0.81176471 0.87058824 0.83529412\n",
            "  0.85882353 0.81568627 0.         0.        ]\n",
            " [0.         0.         0.         0.41568627 0.73333333 0.8745098\n",
            "  0.92941176 0.97254902 0.82745098 0.77647059 0.98823529 0.98039216\n",
            "  0.97254902 0.96078431 0.97254902 0.98823529 0.99215686 0.98039216\n",
            "  0.98823529 0.9372549  0.78823529 0.83137255 0.88235294 0.84313725\n",
            "  0.75686275 0.44313725 0.         0.        ]\n",
            " [0.         0.         0.         0.         0.         0.06666667\n",
            "  0.21176471 0.62352941 0.87058824 0.75686275 0.81568627 0.75294118\n",
            "  0.77254902 0.78431373 0.78431373 0.78431373 0.78431373 0.78823529\n",
            "  0.79607843 0.76470588 0.82352941 0.64705882 0.         0.\n",
            "  0.         0.         0.         0.        ]\n",
            " [0.         0.         0.         0.         0.         0.\n",
            "  0.         0.18431373 0.88235294 0.75294118 0.83921569 0.79607843\n",
            "  0.80784314 0.8        0.8        0.80392157 0.80784314 0.8\n",
            "  0.83137255 0.77254902 0.85490196 0.41960784 0.         0.\n",
            "  0.         0.         0.         0.        ]\n",
            " [0.         0.         0.         0.         0.00392157 0.02352941\n",
            "  0.         0.18039216 0.83137255 0.76470588 0.83137255 0.79215686\n",
            "  0.80784314 0.80392157 0.8        0.80392157 0.80784314 0.8\n",
            "  0.83137255 0.78431373 0.85490196 0.35686275 0.         0.01176471\n",
            "  0.00392157 0.         0.         0.        ]\n",
            " [0.         0.         0.         0.         0.         0.00392157\n",
            "  0.         0.04313725 0.77254902 0.78039216 0.80392157 0.79215686\n",
            "  0.80392157 0.80784314 0.8        0.80392157 0.81176471 0.8\n",
            "  0.80392157 0.80392157 0.85490196 0.30196078 0.         0.01960784\n",
            "  0.         0.         0.         0.        ]\n",
            " [0.         0.         0.         0.         0.         0.01176471\n",
            "  0.         0.00784314 0.74901961 0.77647059 0.78823529 0.80392157\n",
            "  0.80784314 0.80392157 0.80392157 0.80784314 0.81960784 0.80784314\n",
            "  0.78039216 0.81960784 0.85882353 0.29019608 0.         0.01960784\n",
            "  0.         0.         0.         0.        ]\n",
            " [0.         0.         0.         0.         0.         0.00784314\n",
            "  0.         0.         0.7372549  0.77254902 0.78431373 0.81176471\n",
            "  0.81176471 0.8        0.81176471 0.81176471 0.82352941 0.81568627\n",
            "  0.77647059 0.81176471 0.86666667 0.28235294 0.         0.01568627\n",
            "  0.         0.         0.         0.        ]\n",
            " [0.         0.         0.         0.         0.         0.00784314\n",
            "  0.         0.         0.84313725 0.77647059 0.79607843 0.80784314\n",
            "  0.81568627 0.80392157 0.81176471 0.81176471 0.82352941 0.81568627\n",
            "  0.78431373 0.79215686 0.87058824 0.29411765 0.         0.01568627\n",
            "  0.         0.         0.         0.        ]\n",
            " [0.         0.         0.         0.         0.         0.00392157\n",
            "  0.         0.         0.83137255 0.77647059 0.81960784 0.80784314\n",
            "  0.81960784 0.80784314 0.81568627 0.81176471 0.82745098 0.80784314\n",
            "  0.80392157 0.77647059 0.86666667 0.31372549 0.         0.01176471\n",
            "  0.         0.         0.         0.        ]\n",
            " [0.         0.         0.         0.         0.         0.00392157\n",
            "  0.         0.         0.8        0.78823529 0.80392157 0.81568627\n",
            "  0.81176471 0.80392157 0.82745098 0.80392157 0.82352941 0.82352941\n",
            "  0.81960784 0.76470588 0.86666667 0.37647059 0.         0.01176471\n",
            "  0.         0.         0.         0.        ]\n",
            " [0.         0.         0.         0.         0.         0.00392157\n",
            "  0.         0.         0.79215686 0.78823529 0.80392157 0.81960784\n",
            "  0.81176471 0.80392157 0.83529412 0.80784314 0.82352941 0.81960784\n",
            "  0.82352941 0.76078431 0.85098039 0.41176471 0.         0.00784314\n",
            "  0.         0.         0.         0.        ]\n",
            " [0.         0.         0.         0.         0.         0.00392157\n",
            "  0.         0.         0.8        0.8        0.80392157 0.81568627\n",
            "  0.81176471 0.80392157 0.84313725 0.81176471 0.82352941 0.81568627\n",
            "  0.82745098 0.75686275 0.83529412 0.45098039 0.         0.00784314\n",
            "  0.         0.         0.         0.        ]\n",
            " [0.         0.         0.         0.         0.         0.\n",
            "  0.         0.         0.8        0.81176471 0.81176471 0.81568627\n",
            "  0.80784314 0.80784314 0.84313725 0.82352941 0.82352941 0.81176471\n",
            "  0.83137255 0.76470588 0.82352941 0.4627451  0.         0.00784314\n",
            "  0.         0.         0.         0.        ]\n",
            " [0.         0.         0.         0.         0.         0.00392157\n",
            "  0.         0.         0.77647059 0.81568627 0.81568627 0.81568627\n",
            "  0.8        0.81176471 0.83137255 0.83137255 0.82352941 0.81176471\n",
            "  0.82745098 0.76862745 0.81176471 0.4745098  0.         0.00392157\n",
            "  0.         0.         0.         0.        ]\n",
            " [0.         0.         0.         0.         0.         0.00392157\n",
            "  0.         0.         0.77647059 0.82352941 0.81176471 0.81568627\n",
            "  0.80784314 0.81960784 0.83529412 0.83137255 0.82745098 0.81176471\n",
            "  0.82352941 0.77254902 0.81176471 0.48627451 0.         0.00392157\n",
            "  0.         0.         0.         0.        ]\n",
            " [0.         0.         0.         0.         0.         0.\n",
            "  0.         0.         0.6745098  0.82352941 0.79607843 0.78823529\n",
            "  0.78039216 0.8        0.81176471 0.80392157 0.8        0.78823529\n",
            "  0.80392157 0.77254902 0.80784314 0.49803922 0.         0.\n",
            "  0.         0.         0.         0.        ]\n",
            " [0.         0.         0.         0.         0.         0.\n",
            "  0.         0.         0.7372549  0.86666667 0.83921569 0.91764706\n",
            "  0.9254902  0.93333333 0.95686275 0.95686275 0.95686275 0.94117647\n",
            "  0.95294118 0.83921569 0.87843137 0.63529412 0.         0.00784314\n",
            "  0.         0.         0.         0.        ]\n",
            " [0.         0.         0.         0.         0.         0.00392157\n",
            "  0.         0.         0.54509804 0.57254902 0.50980392 0.52941176\n",
            "  0.52941176 0.5372549  0.49019608 0.48627451 0.49019608 0.4745098\n",
            "  0.46666667 0.44705882 0.50980392 0.29803922 0.         0.\n",
            "  0.         0.         0.         0.        ]]\n"
          ]
        }
      ]
    },
    {
      "cell_type": "markdown",
      "source": [
        "Build Model: Keras Sequential Model. Feed forward NN."
      ],
      "metadata": {
        "id": "FBuFqaK8N8s-"
      }
    },
    {
      "cell_type": "code",
      "source": [
        "model = keras.Sequential(\n",
        "    [\n",
        "        keras.layers.Flatten(input_shape=(28,28)),# 28x28 matrix is flattened\n",
        "        keras.layers.Dense(128, activation=\"relu\"),\n",
        "        keras.layers.Dense(10, activation=\"softmax\")#10 classes so 10 neurons. Softmax is for like probability Distribution function. So values will add up to 1!\n",
        "        #Input, hidden and output layer respectively\n",
        "    ]\n",
        ")"
      ],
      "metadata": {
        "id": "zuU2nU-TNsn_"
      },
      "execution_count": null,
      "outputs": []
    },
    {
      "cell_type": "markdown",
      "source": [
        "As of now e have defined the architechture of the model. So now compiling which is the gradient descent part"
      ],
      "metadata": {
        "id": "kRjMsa-GTUik"
      }
    },
    {
      "cell_type": "code",
      "source": [
        "model.compile(optimizer='adam',\n",
        "              loss='sparse_categorical_crossentropy',\n",
        "              metrics=['accuracy'])"
      ],
      "metadata": {
        "id": "qpPBje6ZO6Uc"
      },
      "execution_count": null,
      "outputs": []
    },
    {
      "cell_type": "code",
      "source": [
        "model.fit(train_images, train_labels, epochs=2)"
      ],
      "metadata": {
        "colab": {
          "base_uri": "https://localhost:8080/"
        },
        "id": "IqGhHA_FUB9Q",
        "outputId": "1dabd31f-f23e-47d4-ad72-5d7e468e6e22"
      },
      "execution_count": null,
      "outputs": [
        {
          "output_type": "stream",
          "name": "stdout",
          "text": [
            "Epoch 1/2\n",
            "1875/1875 [==============================] - 8s 4ms/step - loss: 0.1834 - accuracy: 0.9319\n",
            "Epoch 2/2\n",
            "1875/1875 [==============================] - 8s 4ms/step - loss: 0.1779 - accuracy: 0.9317\n"
          ]
        },
        {
          "output_type": "execute_result",
          "data": {
            "text/plain": [
              "<keras.callbacks.History at 0x7f8c4c4723d0>"
            ]
          },
          "metadata": {},
          "execution_count": 21
        }
      ]
    },
    {
      "cell_type": "markdown",
      "source": [
        "Now evaluate using test data"
      ],
      "metadata": {
        "id": "ETSEfidRVE_W"
      }
    },
    {
      "cell_type": "code",
      "source": [
        "test_loss, test_acc = model.evaluate(test_images, test_labels, verbose=1)\n",
        "print('Test accuracy: ', test_acc)"
      ],
      "metadata": {
        "colab": {
          "base_uri": "https://localhost:8080/"
        },
        "id": "C2YopeY5UsPC",
        "outputId": "37059b9f-8901-4de4-c8a2-f5811608e435"
      },
      "execution_count": null,
      "outputs": [
        {
          "output_type": "stream",
          "name": "stdout",
          "text": [
            "313/313 [==============================] - 1s 2ms/step - loss: 0.3590 - accuracy: 0.8873\n",
            "Test accuracy:  0.8873000144958496\n"
          ]
        }
      ]
    },
    {
      "cell_type": "markdown",
      "source": [
        "So Now the accuracy is less than the previous step. THIS IS CALLED OVER-FITTING. This is because we sent a lot of data in train. So the model is used to that data and hence shows a higher accuracy. But it must show higher accuracy for new data that is fed to the model.\n",
        "\n",
        "---\n",
        "\n"
      ],
      "metadata": {
        "id": "Q1MAQuu8XPRP"
      }
    },
    {
      "cell_type": "code",
      "source": [
        "predictions = model.predict(test_images)"
      ],
      "metadata": {
        "colab": {
          "base_uri": "https://localhost:8080/"
        },
        "id": "DqpyupAIA4LJ",
        "outputId": "5baad256-7d26-4a30-9085-fcefd216d13f"
      },
      "execution_count": null,
      "outputs": [
        {
          "output_type": "stream",
          "name": "stdout",
          "text": [
            "313/313 [==============================] - 1s 4ms/step\n"
          ]
        }
      ]
    },
    {
      "cell_type": "code",
      "source": [
        "print(predictions)"
      ],
      "metadata": {
        "colab": {
          "base_uri": "https://localhost:8080/"
        },
        "id": "jm_qEzKwVxXc",
        "outputId": "75864bd4-1367-4a02-b520-149c85ead2df"
      },
      "execution_count": null,
      "outputs": [
        {
          "output_type": "stream",
          "name": "stdout",
          "text": [
            "[[2.2832412e-08 1.5634962e-08 1.6502056e-09 ... 4.2407196e-03\n",
            "  1.5218299e-10 9.9519783e-01]\n",
            " [1.2431851e-04 2.1780350e-13 9.9941146e-01 ... 2.4093036e-19\n",
            "  2.5922946e-16 2.5910562e-18]\n",
            " [7.3949805e-14 9.9999994e-01 2.1024160e-16 ... 1.0507036e-25\n",
            "  1.7873397e-19 2.8182811e-26]\n",
            " ...\n",
            " [1.6257953e-09 1.2049376e-15 3.3461591e-11 ... 1.5665558e-14\n",
            "  9.9999970e-01 1.2840727e-17]\n",
            " [6.3282787e-14 9.9999994e-01 1.7317200e-13 ... 8.5188664e-17\n",
            "  3.4212069e-12 1.0404022e-16]\n",
            " [7.9299474e-07 2.1428875e-10 1.5321137e-09 ... 4.7931603e-06\n",
            "  7.3252480e-08 9.6618562e-09]]\n"
          ]
        }
      ]
    },
    {
      "cell_type": "code",
      "source": [
        "print(predictions[0])"
      ],
      "metadata": {
        "colab": {
          "base_uri": "https://localhost:8080/"
        },
        "id": "cs4uEV-oC-Hq",
        "outputId": "849d64f1-71d0-4656-ca53-94a8a24693c4"
      },
      "execution_count": null,
      "outputs": [
        {
          "output_type": "stream",
          "name": "stdout",
          "text": [
            "[2.2832412e-08 1.5634962e-08 1.6502056e-09 5.9193678e-14 6.0377708e-08\n",
            " 5.6132046e-04 7.2486799e-09 4.2407196e-03 1.5218299e-10 9.9519783e-01]\n"
          ]
        }
      ]
    },
    {
      "cell_type": "code",
      "source": [
        "print(class_names[np.argmax(predictions[0])])\n",
        "\n",
        "#returns index of max value"
      ],
      "metadata": {
        "colab": {
          "base_uri": "https://localhost:8080/"
        },
        "id": "SXkVSYp8DlUt",
        "outputId": "36426b93-74ae-405e-b437-b7ea81eaaf00"
      },
      "execution_count": null,
      "outputs": [
        {
          "output_type": "stream",
          "name": "stdout",
          "text": [
            "9\n"
          ]
        }
      ]
    },
    {
      "cell_type": "markdown",
      "source": [
        "So according to the prediction, it is 9th class which is Ankle Boot. Let us check\n"
      ],
      "metadata": {
        "id": "xNKzRSYlEBYI"
      }
    },
    {
      "cell_type": "code",
      "source": [
        "plt.figure()\n",
        "plt.imshow(test_images[0])\n",
        "plt.colorbar()\n",
        "plt.show()"
      ],
      "metadata": {
        "colab": {
          "base_uri": "https://localhost:8080/",
          "height": 269
        },
        "id": "8vFhttYXDy1f",
        "outputId": "bbc1ef3e-c91a-4e72-dbf0-7cfb4c5d14fb"
      },
      "execution_count": null,
      "outputs": [
        {
          "output_type": "display_data",
          "data": {
            "text/plain": [
              "<Figure size 432x288 with 2 Axes>"
            ],
            "image/png": "[encoded data removed]"
          },
          "metadata": {
            "needs_background": "light"
          }
        }
      ]
    },
    {
      "cell_type": "markdown",
      "source": [
        "So prediction was CORRECT!"
      ],
      "metadata": {
        "id": "1OMDD8vlEim4"
      }
    },
    {
      "cell_type": "code",
      "metadata": {
        "id": "-HJV4JF789aC",
        "colab": {
          "base_uri": "https://localhost:8080/",
          "height": 330
        },
        "outputId": "30e4dbda-deef-4a3a-8a00-352ebcd22cc1"
      },
      "source": [
        "COLOR = 'white'\n",
        "plt.rcParams['text.color'] = COLOR\n",
        "plt.rcParams['axes.labelcolor'] = COLOR\n",
        "\n",
        "def predict(model, image, correct_label):\n",
        "  class_names = ['T-shirt/top', 'Trouser', 'Pullover', 'Dress', 'Coat',\n",
        "               'Sandal', 'Shirt', 'Sneaker', 'Bag', 'Ankle boot']\n",
        "  prediction = model.predict(np.array([image]))\n",
        "  predicted_class = class_names[np.argmax(prediction)]\n",
        "\n",
        "  show_image(image, class_names[correct_label], predicted_class)\n",
        "\n",
        "\n",
        "def show_image(img, label, guess):\n",
        "  plt.figure()\n",
        "  plt.imshow(img, cmap=plt.cm.binary)\n",
        "  plt.title(\"Excpected: \" + label)\n",
        "  plt.xlabel(\"Guess: \" + guess)\n",
        "  plt.colorbar()\n",
        "  plt.grid(False)\n",
        "  plt.show()\n",
        "\n",
        "\n",
        "def get_number():\n",
        "  while True:\n",
        "    num = input(\"Pick a number: \")\n",
        "    if num.isdigit():\n",
        "      num = int(num)\n",
        "      if 0 <= num <= 1000:\n",
        "        return int(num)\n",
        "    else:\n",
        "      print(\"Try again...\")\n",
        "\n",
        "num = get_number()\n",
        "image = test_images[num]\n",
        "label = test_labels[num]\n",
        "predict(model, image, label)\n"
      ],
      "execution_count": null,
      "outputs": [
        {
          "output_type": "stream",
          "name": "stdout",
          "text": [
            "Pick a number: 1\n",
            "1/1 [==============================] - 0s 24ms/step\n"
          ]
        },
        {
          "output_type": "display_data",
          "data": {
            "text/plain": [
              "<Figure size 432x288 with 2 Axes>"
            ],
            "image/png": "[encoded data removed]"
          },
          "metadata": {
            "needs_background": "light"
          }
        }
      ]
    },
    {
      "cell_type": "code",
      "source": [],
      "metadata": {
        "id": "5a1O2wRKFTcs"
      },
      "execution_count": null,
      "outputs": []
    }
  ],
  "metadata": {
    "colab": {
      "provenance": []
    },
    "kernelspec": {
      "display_name": "Python 3",
      "name": "python3"
    },
    "language_info": {
      "name": "python"
    }
  },
  "nbformat": 4,
  "nbformat_minor": 0
}